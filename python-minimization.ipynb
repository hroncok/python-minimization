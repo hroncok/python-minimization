{
 "cells": [
  {
   "cell_type": "markdown",
   "metadata": {},
   "source": [
    "# Analyzing the filesystem footprint of Python 3 on Fedora"
   ]
  },
  {
   "cell_type": "code",
   "execution_count": 1,
   "metadata": {},
   "outputs": [],
   "source": [
    "import collections\n",
    "import pathlib\n",
    "\n",
    "import humanize\n",
    "import tabulate\n",
    "\n",
    "from IPython.display import HTML, display"
   ]
  },
  {
   "cell_type": "markdown",
   "metadata": {},
   "source": [
    "The list of Python 3 packages, `python-unversioned-command` is ommited here, as we will query Python 3.8 on Fedora 31."
   ]
  },
  {
   "cell_type": "code",
   "execution_count": 2,
   "metadata": {},
   "outputs": [],
   "source": [
    "python_pkgs = [\n",
    "    'python3',\n",
    "    'python3-libs',\n",
    "    'python3-tkinter',\n",
    "    'python3-idle',\n",
    "    'python3-test',\n",
    "    'python3-devel',\n",
    "]"
   ]
  },
  {
   "cell_type": "markdown",
   "metadata": {},
   "source": [
    "What version of Python 3.8 is installed?"
   ]
  },
  {
   "cell_type": "code",
   "execution_count": 3,
   "metadata": {},
   "outputs": [
    {
     "name": "stdout",
     "output_type": "stream",
     "text": [
      "python38-3.8.1-1.fc31.x86_64\r\n"
     ]
    }
   ],
   "source": [
    "!rpm -q python38"
   ]
  },
  {
   "cell_type": "markdown",
   "metadata": {},
   "source": [
    "We do care about all files in the `python38` package. The differences between `python38` on Fedora 31 and `python3` subpackages on Fedora 32 are not relevant in this context. The standard library is the same."
   ]
  },
  {
   "cell_type": "code",
   "execution_count": 4,
   "metadata": {},
   "outputs": [
    {
     "data": {
      "text/plain": [
       "['/usr/bin/idle3.8',\n",
       " '/usr/bin/msgfmt3.8.py',\n",
       " '/usr/bin/pydoc3.8',\n",
       " '/usr/bin/pygettext3.8.py',\n",
       " '/usr/bin/python3.8']"
      ]
     },
     "execution_count": 4,
     "metadata": {},
     "output_type": "execute_result"
    }
   ],
   "source": [
    "python38_files = !rpm -ql python38\n",
    "python38_files = [f for f in python38_files if not f.startswith('/usr/lib/.build-id')]  # avoid noise\n",
    "python38_files[:5]"
   ]
  },
  {
   "cell_type": "markdown",
   "metadata": {},
   "source": [
    "For each Fedora 32 `python3` subpackage, we get the relevant files installed from `python38` on Fedora 31:"
   ]
  },
  {
   "cell_type": "code",
   "execution_count": 5,
   "metadata": {},
   "outputs": [
    {
     "data": {
      "text/plain": [
       "['/usr/include/python3.8',\n",
       " '/usr/lib/python3.8',\n",
       " '/usr/lib/python3.8/site-packages',\n",
       " '/usr/lib/python3.8/site-packages/__pycache__',\n",
       " '/usr/include/python3.8']"
      ]
     },
     "execution_count": 5,
     "metadata": {},
     "output_type": "execute_result"
    }
   ],
   "source": [
    "pkg_files = {}\n",
    "for pkg in python_pkgs:\n",
    "    pkg_files[pkg] = !repoquery --repo=rawhide -l {pkg} 2>/dev/null\n",
    "    pkg_files[pkg] = [f for f in pkg_files[pkg] if f in python38_files]\n",
    "pkg_files['python3-libs'][:5]"
   ]
  },
  {
   "cell_type": "code",
   "execution_count": 6,
   "metadata": {},
   "outputs": [
    {
     "data": {
      "text/plain": [
       "'python3-tkinter'"
      ]
     },
     "execution_count": 6,
     "metadata": {},
     "output_type": "execute_result"
    }
   ],
   "source": [
    "file_pkgs = {path: pkg for pkg in pkg_files for path in pkg_files[pkg]}\n",
    "file_pkgs['/usr/lib64/python3.8/tkinter']"
   ]
  },
  {
   "cell_type": "markdown",
   "metadata": {},
   "source": [
    "Finally, we get the size of every file. On different archtectures or different Python versions, or even different compiler version in different Fedora release, the sizes might be different. But we don't care for little differences, we are after the big stuff and we will assume what's big here will be big everywhere. We are aiming for  along term solution, so considering the differeneces here would not be helpful anyway.\n",
    "\n",
    "Note that the `Counter.most_common()` method gives us the largest files, but we will care about directories and file types more."
   ]
  },
  {
   "cell_type": "code",
   "execution_count": 7,
   "metadata": {},
   "outputs": [
    {
     "data": {
      "text/plain": [
       "[('/usr/lib64/libpython3.8.so', 3851336),\n",
       " ('/usr/lib64/libpython3.8.so.1.0', 3851336),\n",
       " ('/usr/lib64/python3.8/lib-dynload/unicodedata.cpython-38-x86_64-linux-gnu.so',\n",
       "  1096688),\n",
       " ('/usr/lib64/python3.8/pydoc_data/topics.py', 671801),\n",
       " ('/usr/lib64/python3.8/test/testtar.tar', 435200),\n",
       " ('/usr/lib64/python3.8/pydoc_data/__pycache__/topics.cpython-38.opt-1.pyc',\n",
       "  417962),\n",
       " ('/usr/lib64/python3.8/pydoc_data/__pycache__/topics.cpython-38.opt-2.pyc',\n",
       "  417962),\n",
       " ('/usr/lib64/python3.8/pydoc_data/__pycache__/topics.cpython-38.pyc', 417962)]"
      ]
     },
     "execution_count": 7,
     "metadata": {},
     "output_type": "execute_result"
    }
   ],
   "source": [
    "file_sizes = collections.Counter({p: pathlib.Path(p).stat().st_size for p in python38_files})\n",
    "file_sizes.most_common()[:8]"
   ]
  },
  {
   "cell_type": "markdown",
   "metadata": {},
   "source": [
    "A quick check, how are directories sized:"
   ]
  },
  {
   "cell_type": "code",
   "execution_count": 8,
   "metadata": {},
   "outputs": [
    {
     "data": {
      "text/plain": [
       "'12.0 KiB'"
      ]
     },
     "execution_count": 8,
     "metadata": {},
     "output_type": "execute_result"
    }
   ],
   "source": [
    "humanize.naturalsize(file_sizes['/usr/lib64/python3.8'], binary=True)"
   ]
  },
  {
   "cell_type": "markdown",
   "metadata": {},
   "source": [
    "Clearly, not recursively."
   ]
  },
  {
   "cell_type": "markdown",
   "metadata": {},
   "source": [
    "## Filesystem footprint by subpackages"
   ]
  },
  {
   "cell_type": "markdown",
   "metadata": {},
   "source": [
    "In total, this has a large footprint, although large chunks of this are already split out:"
   ]
  },
  {
   "cell_type": "code",
   "execution_count": 9,
   "metadata": {},
   "outputs": [
    {
     "data": {
      "text/plain": [
       "'111.0 MiB'"
      ]
     },
     "execution_count": 9,
     "metadata": {},
     "output_type": "execute_result"
    }
   ],
   "source": [
    "humanize.naturalsize(sum(file_sizes.values()), binary=True)"
   ]
  },
  {
   "cell_type": "code",
   "execution_count": 10,
   "metadata": {},
   "outputs": [
    {
     "data": {
      "text/plain": [
       "{'python3': '21.0 KiB',\n",
       " 'python3-libs': '37.5 MiB',\n",
       " 'python3-tkinter': '2.0 MiB',\n",
       " 'python3-idle': '4.2 MiB',\n",
       " 'python3-test': '62.8 MiB',\n",
       " 'python3-devel': '4.5 MiB'}"
      ]
     },
     "execution_count": 10,
     "metadata": {},
     "output_type": "execute_result"
    }
   ],
   "source": [
    "{pkg: humanize.naturalsize(sum(s for p, s in file_sizes.items() if p in pkg_files[pkg]), binary=True) for pkg in pkg_files}"
   ]
  },
  {
   "cell_type": "markdown",
   "metadata": {},
   "source": [
    "It can be seen that the \"main\" `python3` package is not very relevant here. The `python3-test` package is optional and pretty much only usefull to test Python itself. It contains a lot of test data and we will not try to optimize its size. The `python3-idle` packag contains an application and while we can aim to minimize anything, we will not focus on this package either.\n",
    "\n",
    "**The main problem is in the `python3-libs` package** – it is always installed when Python is installed.\n",
    "\n",
    "The `python3-tkinter` package is less problematic. It is optional and only recommended if *Tk* is installed.\n",
    "\n",
    "The `python3-devel` package is quite big as well and it is used both for builidng Python extension modules and Python RPM packages. Getting it slimmed won might be nice, but we would also consider moving stuff from `python3-libs` into it."
   ]
  },
  {
   "cell_type": "markdown",
   "metadata": {},
   "source": [
    "## Filesystem footprint by filetype"
   ]
  },
  {
   "cell_type": "markdown",
   "metadata": {},
   "source": [
    "The standrad library (`/usr/lib64/python3.8/`, mostly in `python3-libs` and `python3-test`) contains several file types:"
   ]
  },
  {
   "cell_type": "code",
   "execution_count": 11,
   "metadata": {},
   "outputs": [],
   "source": [
    "def ext(path):\n",
    "    \"\"\"Get a file extenstion, but treat .opt-?.pyc as special case\"\"\"\n",
    "    suffixes = pathlib.Path(path).suffixes\n",
    "    if not suffixes:\n",
    "        return None\n",
    "    if suffixes[-1] == '.pyc' and suffixes[-2].startswith('.opt-'):\n",
    "        return suffixes[-2] + suffixes[-1]\n",
    "    return suffixes[-1]"
   ]
  },
  {
   "cell_type": "code",
   "execution_count": 12,
   "metadata": {},
   "outputs": [],
   "source": [
    "stdlib_files = [p for p in python38_files if p.startswith('/usr/lib64/python3.8/')]\n",
    "extensions = {path: ext(path) for path in stdlib_files}"
   ]
  },
  {
   "cell_type": "code",
   "execution_count": 13,
   "metadata": {
    "scrolled": true
   },
   "outputs": [
    {
     "data": {
      "text/plain": [
       "[('.py', 1640),\n",
       " ('.opt-1.pyc', 1623),\n",
       " ('.opt-2.pyc', 1623),\n",
       " ('.pyc', 1623),\n",
       " (None, 242),\n",
       " ('.decTest', 143),\n",
       " ('.txt', 109),\n",
       " ('.so', 75),\n",
       " ('.xml', 56),\n",
       " ('.pem', 22)]"
      ]
     },
     "execution_count": 13,
     "metadata": {},
     "output_type": "execute_result"
    }
   ],
   "source": [
    "exts = collections.Counter(extensions.values())\n",
    "exts.most_common()[:10]"
   ]
  },
  {
   "cell_type": "code",
   "execution_count": 14,
   "metadata": {},
   "outputs": [
    {
     "data": {
      "text/plain": [
       "{'.py': '26.4 MiB',\n",
       " '.pyc': '22.0 MiB',\n",
       " '.opt-1.pyc': '22.0 MiB',\n",
       " '.opt-2.pyc': '19.8 MiB',\n",
       " '.so': '5.3 MiB'}"
      ]
     },
     "execution_count": 14,
     "metadata": {},
     "output_type": "execute_result"
    }
   ],
   "source": [
    "extsizes = collections.Counter({ext: sum(s for p, s in file_sizes.items()\n",
    "                                         if p in stdlib_files and extensions[p] == ext)\n",
    "                                for ext in exts})\n",
    "\n",
    "{ext: humanize.naturalsize(size, binary=True) for ext, size in extsizes.most_common()[:5]}"
   ]
  },
  {
   "cell_type": "markdown",
   "metadata": {},
   "source": [
    "Only from `python3-libs`:"
   ]
  },
  {
   "cell_type": "code",
   "execution_count": 15,
   "metadata": {
    "scrolled": true
   },
   "outputs": [
    {
     "data": {
      "text/plain": [
       "[('.py', 607),\n",
       " ('.opt-1.pyc', 607),\n",
       " ('.opt-2.pyc', 607),\n",
       " ('.pyc', 607),\n",
       " (None, 84),\n",
       " ('.so', 67)]"
      ]
     },
     "execution_count": 15,
     "metadata": {},
     "output_type": "execute_result"
    }
   ],
   "source": [
    "extensions_libs = {p: e for p, e in extensions.items() if p in pkg_files['python3-libs']}\n",
    "exts_libs = collections.Counter(extensions_libs.values())\n",
    "exts_libs.most_common()[:6]"
   ]
  },
  {
   "cell_type": "code",
   "execution_count": 16,
   "metadata": {},
   "outputs": [
    {
     "data": {
      "text/plain": [
       "{'.py': '9.8 MiB',\n",
       " '.pyc': '6.7 MiB',\n",
       " '.opt-1.pyc': '6.7 MiB',\n",
       " '.opt-2.pyc': '5.2 MiB',\n",
       " '.so': '4.9 MiB'}"
      ]
     },
     "execution_count": 16,
     "metadata": {},
     "output_type": "execute_result"
    }
   ],
   "source": [
    "extsizes_libs = collections.Counter({ext: sum(s for p, s in file_sizes.items()\n",
    "                                         if p in stdlib_files and p in pkg_files['python3-libs'] and extensions[p] == ext)\n",
    "                                for ext in exts})\n",
    "\n",
    "{ext: humanize.naturalsize(size, binary=True) for ext, size in extsizes_libs.most_common()[:5]}"
   ]
  },
  {
   "cell_type": "markdown",
   "metadata": {},
   "source": [
    "## Filesystem footprint by module (and package)"
   ]
  },
  {
   "cell_type": "code",
   "execution_count": 17,
   "metadata": {},
   "outputs": [],
   "source": [
    "module_sizes_by_extension = collections.defaultdict(lambda: collections.defaultdict(int))\n",
    "msbe = module_sizes_by_extension"
   ]
  },
  {
   "cell_type": "code",
   "execution_count": 18,
   "metadata": {},
   "outputs": [],
   "source": [
    "for path in stdlib_files:\n",
    "    pkg = file_pkgs[path]\n",
    "    libdir = '/usr/lib64/python3.8/'\n",
    "    _path = path[len(libdir):]\n",
    "    if _path.startswith('lib-dynload/'):\n",
    "        _path = _path[len('lib-dynload/'):]\n",
    "    elif _path.startswith('__pycache__/'):\n",
    "        _path = _path[len('__pycache__/'):]\n",
    "\n",
    "    if '/' in _path:\n",
    "        modname = _path.partition('/')[0]\n",
    "    else:\n",
    "        modname = _path.partition('.')[0]\n",
    "\n",
    "    msbe[(modname, pkg)][ext(path)] += file_sizes[path]"
   ]
  },
  {
   "cell_type": "code",
   "execution_count": 19,
   "metadata": {},
   "outputs": [
    {
     "data": {
      "text/plain": [
       "[(('test', 'python3-test'), 58359936),\n",
       " (('idlelib', 'python3-idle'), 4406246),\n",
       " (('encodings', 'python3-libs'), 2598516),\n",
       " (('unittest', 'python3-test'), 2437651),\n",
       " (('pydoc_data', 'python3-libs'), 1934377),\n",
       " (('distutils', 'python3-libs'), 1870804),\n",
       " (('asyncio', 'python3-libs'), 1505039)]"
      ]
     },
     "execution_count": 19,
     "metadata": {},
     "output_type": "execute_result"
    }
   ],
   "source": [
    "by_total = collections.Counter({m: sum(e.values()) for m, e in msbe.items()})\n",
    "by_total.most_common()[:7]"
   ]
  },
  {
   "cell_type": "code",
   "execution_count": 20,
   "metadata": {},
   "outputs": [],
   "source": [
    "def ns(num):\n",
    "    if num:\n",
    "        return humanize.naturalsize(num, binary=True)\n",
    "    return '-'"
   ]
  },
  {
   "cell_type": "code",
   "execution_count": 21,
   "metadata": {},
   "outputs": [],
   "source": [
    "sizes = [\n",
    "    [\n",
    "        m[0],\n",
    "        m[1][len(\"python3-\"):],\n",
    "        ns(msbe[m]['.py']),\n",
    "        ns(msbe[m]['.pyc']),\n",
    "        ns(msbe[m]['.opt-1.pyc']),\n",
    "        ns(msbe[m]['.opt-2.pyc']),\n",
    "        ns(msbe[m]['.so']),\n",
    "        ns(msbe[m][None]),\n",
    "        ns(sum(s for s in msbe[m].values())),\n",
    "    ]\n",
    "    for m, _ in by_total.most_common()]"
   ]
  },
  {
   "cell_type": "code",
   "execution_count": 22,
   "metadata": {},
   "outputs": [
    {
     "data": {
      "text/html": [
       "<table>\n",
       "<tbody>\n",
       "<tr><td>module                                </td><td>pkg    </td><td>.py       </td><td>.pyc      </td><td>.opt-1.pyc</td><td>.opt-2.pyc</td><td>.so      </td><td>other    </td><td>total     </td></tr>\n",
       "<tr><td>test                                  </td><td>test   </td><td>13.3 MiB  </td><td>12.2 MiB  </td><td>12.1 MiB  </td><td>11.8 MiB  </td><td>-        </td><td>560.1 KiB</td><td>55.7 MiB  </td></tr>\n",
       "<tr><td>idlelib                               </td><td>idle   </td><td>1.1 MiB   </td><td>977.9 KiB </td><td>976.6 KiB </td><td>839.9 KiB </td><td>-        </td><td>95.0 KiB </td><td>4.2 MiB   </td></tr>\n",
       "<tr><td>encodings                             </td><td>libs   </td><td>1.4 MiB   </td><td>378.4 KiB </td><td>377.9 KiB </td><td>362.4 KiB </td><td>-        </td><td>24.0 KiB </td><td>2.5 MiB   </td></tr>\n",
       "<tr><td>unittest                              </td><td>test   </td><td>552.8 KiB </td><td>605.0 KiB </td><td>605.0 KiB </td><td>601.8 KiB </td><td>-        </td><td>16.0 KiB </td><td>2.3 MiB   </td></tr>\n",
       "<tr><td>pydoc_data                            </td><td>libs   </td><td>656.1 KiB </td><td>408.3 KiB </td><td>408.3 KiB </td><td>408.3 KiB </td><td>-        </td><td>8.0 KiB  </td><td>1.8 MiB   </td></tr>\n",
       "<tr><td>distutils                             </td><td>libs   </td><td>647.1 KiB </td><td>421.3 KiB </td><td>420.5 KiB </td><td>321.1 KiB </td><td>-        </td><td>16.9 KiB </td><td>1.8 MiB   </td></tr>\n",
       "<tr><td>asyncio                               </td><td>libs   </td><td>441.2 KiB </td><td>365.8 KiB </td><td>363.6 KiB </td><td>291.2 KiB </td><td>-        </td><td>8.0 KiB  </td><td>1.4 MiB   </td></tr>\n",
       "<tr><td>lib2to3                               </td><td>test   </td><td>353.0 KiB </td><td>333.0 KiB </td><td>322.9 KiB </td><td>321.1 KiB </td><td>-        </td><td>32.4 KiB </td><td>1.3 MiB   </td></tr>\n",
       "<tr><td>tkinter                               </td><td>tkinter</td><td>350.5 KiB </td><td>354.9 KiB </td><td>354.9 KiB </td><td>225.3 KiB </td><td>-        </td><td>8.0 KiB  </td><td>1.3 MiB   </td></tr>\n",
       "<tr><td>email                                 </td><td>libs   </td><td>364.8 KiB </td><td>283.1 KiB </td><td>282.8 KiB </td><td>188.7 KiB </td><td>-        </td><td>16.0 KiB </td><td>1.1 MiB   </td></tr>\n",
       "<tr><td>unicodedata                           </td><td>libs   </td><td>-         </td><td>-         </td><td>-         </td><td>-         </td><td>1.0 MiB  </td><td>-        </td><td>1.0 MiB   </td></tr>\n",
       "<tr><td>xml                                   </td><td>libs   </td><td>288.5 KiB </td><td>242.8 KiB </td><td>241.8 KiB </td><td>196.4 KiB </td><td>-        </td><td>40.0 KiB </td><td>1009.5 KiB</td></tr>\n",
       "<tr><td>lib2to3                               </td><td>libs   </td><td>281.1 KiB </td><td>237.3 KiB </td><td>234.2 KiB </td><td>185.9 KiB </td><td>-        </td><td>32.0 KiB </td><td>993.4 KiB </td></tr>\n",
       "<tr><td>ctypes                                </td><td>test   </td><td>230.1 KiB </td><td>235.6 KiB </td><td>235.6 KiB </td><td>233.9 KiB </td><td>-        </td><td>16.0 KiB </td><td>951.3 KiB </td></tr>\n",
       "<tr><td>multiprocessing                       </td><td>libs   </td><td>262.9 KiB </td><td>222.7 KiB </td><td>220.4 KiB </td><td>203.1 KiB </td><td>-        </td><td>16.0 KiB </td><td>925.1 KiB </td></tr>\n",
       "<tr><td>tkinter                               </td><td>test   </td><td>247.3 KiB </td><td>211.8 KiB </td><td>211.8 KiB </td><td>211.1 KiB </td><td>-        </td><td>24.6 KiB </td><td>906.6 KiB </td></tr>\n",
       "<tr><td>distutils                             </td><td>test   </td><td>241.7 KiB </td><td>203.3 KiB </td><td>203.3 KiB </td><td>197.9 KiB </td><td>-        </td><td>16.0 KiB </td><td>877.0 KiB </td></tr>\n",
       "<tr><td>unittest                              </td><td>libs   </td><td>231.7 KiB </td><td>184.2 KiB </td><td>183.9 KiB </td><td>142.1 KiB </td><td>-        </td><td>8.0 KiB  </td><td>749.9 KiB </td></tr>\n",
       "<tr><td>_pydecimal                            </td><td>libs   </td><td>223.2 KiB </td><td>156.9 KiB </td><td>156.9 KiB </td><td>77.2 KiB  </td><td>-        </td><td>-        </td><td>614.3 KiB </td></tr>\n",
       "<tr><td>http                                  </td><td>libs   </td><td>200.1 KiB </td><td>139.6 KiB </td><td>139.2 KiB </td><td>98.7 KiB  </td><td>-        </td><td>8.0 KiB  </td><td>585.6 KiB </td></tr>\n",
       "<tr><td>sqlite3                               </td><td>test   </td><td>119.4 KiB </td><td>136.1 KiB </td><td>136.1 KiB </td><td>131.7 KiB </td><td>-        </td><td>8.0 KiB  </td><td>531.3 KiB </td></tr>\n",
       "<tr><td>logging                               </td><td>libs   </td><td>167.7 KiB </td><td>128.1 KiB </td><td>128.1 KiB </td><td>78.0 KiB  </td><td>-        </td><td>8.0 KiB  </td><td>509.9 KiB </td></tr>\n",
       "<tr><td>importlib                             </td><td>libs   </td><td>155.7 KiB </td><td>123.3 KiB </td><td>122.9 KiB </td><td>88.4 KiB  </td><td>-        </td><td>8.0 KiB  </td><td>498.3 KiB </td></tr>\n",
       "<tr><td>urllib                                </td><td>libs   </td><td>151.7 KiB </td><td>116.6 KiB </td><td>116.5 KiB </td><td>92.8 KiB  </td><td>-        </td><td>8.0 KiB  </td><td>485.6 KiB </td></tr>\n",
       "<tr><td>turtle                                </td><td>tkinter</td><td>140.2 KiB </td><td>126.9 KiB </td><td>126.9 KiB </td><td>66.8 KiB  </td><td>-        </td><td>-        </td><td>460.8 KiB </td></tr>\n",
       "<tr><td>pydoc                                 </td><td>libs   </td><td>104.9 KiB </td><td>82.1 KiB  </td><td>82.1 KiB  </td><td>72.7 KiB  </td><td>-        </td><td>-        </td><td>341.8 KiB </td></tr>\n",
       "<tr><td>inspect                               </td><td>libs   </td><td>115.3 KiB </td><td>78.5 KiB  </td><td>78.2 KiB  </td><td>53.7 KiB  </td><td>-        </td><td>-        </td><td>325.7 KiB </td></tr>\n",
       "<tr><td>_decimal                              </td><td>libs   </td><td>-         </td><td>-         </td><td>-         </td><td>-         </td><td>316.6 KiB</td><td>-        </td><td>316.6 KiB </td></tr>\n",
       "<tr><td>html                                  </td><td>libs   </td><td>95.5 KiB  </td><td>63.8 KiB  </td><td>63.4 KiB  </td><td>61.4 KiB  </td><td>-        </td><td>8.0 KiB  </td><td>292.1 KiB </td></tr>\n",
       "<tr><td>doctest                               </td><td>libs   </td><td>101.9 KiB </td><td>74.1 KiB  </td><td>73.8 KiB  </td><td>39.3 KiB  </td><td>-        </td><td>-        </td><td>289.1 KiB </td></tr>\n",
       "<tr><td>_pyio                                 </td><td>libs   </td><td>91.0 KiB  </td><td>72.3 KiB  </td><td>72.3 KiB  </td><td>50.0 KiB  </td><td>-        </td><td>-        </td><td>285.6 KiB </td></tr>\n",
       "<tr><td>pickletools                           </td><td>libs   </td><td>91.3 KiB  </td><td>65.6 KiB  </td><td>64.8 KiB  </td><td>55.9 KiB  </td><td>-        </td><td>-        </td><td>277.6 KiB </td></tr>\n",
       "<tr><td>_codecs_jp                            </td><td>libs   </td><td>-         </td><td>-         </td><td>-         </td><td>-         </td><td>267.3 KiB</td><td>-        </td><td>267.3 KiB </td></tr>\n",
       "<tr><td>argparse                              </td><td>libs   </td><td>93.8 KiB  </td><td>60.8 KiB  </td><td>60.7 KiB  </td><td>51.7 KiB  </td><td>-        </td><td>-        </td><td>267.0 KiB </td></tr>\n",
       "<tr><td>xmlrpc                                </td><td>libs   </td><td>83.8 KiB  </td><td>62.6 KiB  </td><td>62.3 KiB  </td><td>46.3 KiB  </td><td>-        </td><td>8.0 KiB  </td><td>263.1 KiB </td></tr>\n",
       "<tr><td>tarfile                               </td><td>libs   </td><td>91.4 KiB  </td><td>61.1 KiB  </td><td>61.0 KiB  </td><td>47.5 KiB  </td><td>-        </td><td>-        </td><td>261.0 KiB </td></tr>\n",
       "<tr><td>turtledemo                            </td><td>tkinter</td><td>60.4 KiB  </td><td>67.4 KiB  </td><td>67.4 KiB  </td><td>57.3 KiB  </td><td>-        </td><td>8.0 KiB  </td><td>260.7 KiB </td></tr>\n",
       "<tr><td>mailbox                               </td><td>libs   </td><td>76.8 KiB  </td><td>58.9 KiB  </td><td>58.8 KiB  </td><td>52.3 KiB  </td><td>-        </td><td>-        </td><td>246.8 KiB </td></tr>\n",
       "<tr><td>zipfile                               </td><td>libs   </td><td>84.5 KiB  </td><td>55.5 KiB  </td><td>55.5 KiB  </td><td>47.4 KiB  </td><td>-        </td><td>-        </td><td>242.8 KiB </td></tr>\n",
       "<tr><td>datetime                              </td><td>libs   </td><td>86.0 KiB  </td><td>55.6 KiB  </td><td>54.4 KiB  </td><td>46.4 KiB  </td><td>-        </td><td>-        </td><td>242.5 KiB </td></tr>\n",
       "<tr><td>typing                                </td><td>libs   </td><td>66.8 KiB  </td><td>60.4 KiB  </td><td>60.4 KiB  </td><td>44.5 KiB  </td><td>-        </td><td>-        </td><td>232.1 KiB </td></tr>\n",
       "<tr><td>difflib                               </td><td>libs   </td><td>82.1 KiB  </td><td>58.0 KiB  </td><td>58.0 KiB  </td><td>24.3 KiB  </td><td>-        </td><td>-        </td><td>222.5 KiB </td></tr>\n",
       "<tr><td>ipaddress                             </td><td>libs   </td><td>69.5 KiB  </td><td>58.2 KiB  </td><td>58.2 KiB  </td><td>34.9 KiB  </td><td>-        </td><td>-        </td><td>220.7 KiB </td></tr>\n",
       "<tr><td>ctypes                                </td><td>libs   </td><td>58.9 KiB  </td><td>48.6 KiB  </td><td>47.5 KiB  </td><td>37.5 KiB  </td><td>-        </td><td>16.1 KiB </td><td>208.9 KiB </td></tr>\n",
       "<tr><td>concurrent                            </td><td>libs   </td><td>59.7 KiB  </td><td>48.1 KiB  </td><td>48.1 KiB  </td><td>33.4 KiB  </td><td>-        </td><td>16.0 KiB </td><td>205.3 KiB </td></tr>\n",
       "<tr><td>pickle                                </td><td>libs   </td><td>62.9 KiB  </td><td>45.8 KiB  </td><td>45.7 KiB  </td><td>39.9 KiB  </td><td>-        </td><td>-        </td><td>194.3 KiB </td></tr>\n",
       "<tr><td>wsgiref                               </td><td>libs   </td><td>53.9 KiB  </td><td>49.2 KiB  </td><td>48.7 KiB  </td><td>33.8 KiB  </td><td>-        </td><td>8.0 KiB  </td><td>193.5 KiB </td></tr>\n",
       "<tr><td>optparse                              </td><td>libs   </td><td>59.0 KiB  </td><td>46.9 KiB  </td><td>46.9 KiB  </td><td>34.8 KiB  </td><td>-        </td><td>-        </td><td>187.6 KiB </td></tr>\n",
       "<tr><td>subprocess                            </td><td>libs   </td><td>75.4 KiB  </td><td>40.9 KiB  </td><td>40.8 KiB  </td><td>29.2 KiB  </td><td>-        </td><td>-        </td><td>186.4 KiB </td></tr>\n",
       "<tr><td>pdb                                   </td><td>libs   </td><td>61.2 KiB  </td><td>46.1 KiB  </td><td>46.0 KiB  </td><td>32.3 KiB  </td><td>-        </td><td>-        </td><td>185.5 KiB </td></tr>\n",
       "<tr><td>collections                           </td><td>libs   </td><td>46.5 KiB  </td><td>45.5 KiB  </td><td>45.5 KiB  </td><td>35.2 KiB  </td><td>-        </td><td>8.0 KiB  </td><td>180.7 KiB </td></tr>\n",
       "<tr><td>locale                                </td><td>libs   </td><td>76.4 KiB  </td><td>33.9 KiB  </td><td>33.9 KiB  </td><td>29.4 KiB  </td><td>-        </td><td>-        </td><td>173.5 KiB </td></tr>\n",
       "<tr><td>configparser                          </td><td>libs   </td><td>53.1 KiB  </td><td>44.6 KiB  </td><td>44.6 KiB  </td><td>30.1 KiB  </td><td>-        </td><td>-        </td><td>172.5 KiB </td></tr>\n",
       "<tr><td>pathlib                               </td><td>libs   </td><td>50.4 KiB  </td><td>42.5 KiB  </td><td>42.5 KiB  </td><td>34.6 KiB  </td><td>-        </td><td>-        </td><td>170.1 KiB </td></tr>\n",
       "<tr><td>ssl                                   </td><td>libs   </td><td>49.6 KiB  </td><td>43.6 KiB  </td><td>43.6 KiB  </td><td>32.8 KiB  </td><td>-        </td><td>-        </td><td>169.5 KiB </td></tr>\n",
       "<tr><td>_codecs_hk                            </td><td>libs   </td><td>-         </td><td>-         </td><td>-         </td><td>-         </td><td>159.1 KiB</td><td>-        </td><td>159.1 KiB </td></tr>\n",
       "<tr><td>imaplib                               </td><td>libs   </td><td>52.3 KiB  </td><td>40.4 KiB  </td><td>38.2 KiB  </td><td>26.5 KiB  </td><td>-        </td><td>-        </td><td>157.5 KiB </td></tr>\n",
       "<tr><td>config-3.8-x86_64-linux-gnu           </td><td>devel  </td><td>2.1 KiB   </td><td>1.9 KiB   </td><td>1.9 KiB   </td><td>1.9 KiB   </td><td>-        </td><td>41.1 KiB </td><td>156.9 KiB </td></tr>\n",
       "<tr><td>_codecs_cn                            </td><td>libs   </td><td>-         </td><td>-         </td><td>-         </td><td>-         </td><td>155.2 KiB</td><td>-        </td><td>155.2 KiB </td></tr>\n",
       "<tr><td>threading                             </td><td>libs   </td><td>49.4 KiB  </td><td>39.0 KiB  </td><td>38.5 KiB  </td><td>22.3 KiB  </td><td>-        </td><td>-        </td><td>149.1 KiB </td></tr>\n",
       "<tr><td>json                                  </td><td>libs   </td><td>46.1 KiB  </td><td>36.5 KiB  </td><td>36.5 KiB  </td><td>18.9 KiB  </td><td>-        </td><td>8.0 KiB  </td><td>146.1 KiB </td></tr>\n",
       "<tr><td>_pickle                               </td><td>libs   </td><td>-         </td><td>-         </td><td>-         </td><td>-         </td><td>145.1 KiB</td><td>-        </td><td>145.1 KiB </td></tr>\n",
       "<tr><td>shutil                                </td><td>libs   </td><td>49.3 KiB  </td><td>35.5 KiB  </td><td>35.5 KiB  </td><td>24.3 KiB  </td><td>-        </td><td>-        </td><td>144.4 KiB </td></tr>\n",
       "<tr><td>_sha3                                 </td><td>libs   </td><td>-         </td><td>-         </td><td>-         </td><td>-         </td><td>142.7 KiB</td><td>-        </td><td>142.7 KiB </td></tr>\n",
       "<tr><td>_codecs_kr                            </td><td>libs   </td><td>-         </td><td>-         </td><td>-         </td><td>-         </td><td>139.2 KiB</td><td>-        </td><td>139.2 KiB </td></tr>\n",
       "<tr><td>_ctypes                               </td><td>libs   </td><td>-         </td><td>-         </td><td>-         </td><td>-         </td><td>135.3 KiB</td><td>-        </td><td>135.3 KiB </td></tr>\n",
       "<tr><td>_ssl                                  </td><td>libs   </td><td>-         </td><td>-         </td><td>-         </td><td>-         </td><td>131.3 KiB</td><td>-        </td><td>131.3 KiB </td></tr>\n",
       "<tr><td>smtplib                               </td><td>libs   </td><td>43.3 KiB  </td><td>34.5 KiB  </td><td>34.4 KiB  </td><td>18.5 KiB  </td><td>-        </td><td>-        </td><td>130.7 KiB </td></tr>\n",
       "<tr><td>nntplib                               </td><td>libs   </td><td>42.2 KiB  </td><td>33.2 KiB  </td><td>33.2 KiB  </td><td>21.0 KiB  </td><td>-        </td><td>-        </td><td>129.6 KiB </td></tr>\n",
       "<tr><td>_datetime                             </td><td>libs   </td><td>-         </td><td>-         </td><td>-         </td><td>-         </td><td>128.3 KiB</td><td>-        </td><td>128.3 KiB </td></tr>\n",
       "<tr><td>_testcapi                             </td><td>test   </td><td>-         </td><td>-         </td><td>-         </td><td>-         </td><td>127.4 KiB</td><td>-        </td><td>127.4 KiB </td></tr>\n",
       "<tr><td>_curses                               </td><td>libs   </td><td>-         </td><td>-         </td><td>-         </td><td>-         </td><td>126.1 KiB</td><td>-        </td><td>126.1 KiB </td></tr>\n",
       "<tr><td>_sysconfigdata__linux_x86_64-linux-gnu</td><td>libs   </td><td>37.8 KiB  </td><td>28.5 KiB  </td><td>28.5 KiB  </td><td>28.5 KiB  </td><td>-        </td><td>-        </td><td>123.5 KiB </td></tr>\n",
       "<tr><td>statistics                            </td><td>libs   </td><td>38.7 KiB  </td><td>32.7 KiB  </td><td>32.3 KiB  </td><td>17.0 KiB  </td><td>-        </td><td>-        </td><td>120.8 KiB </td></tr>\n",
       "<tr><td>codecs                                </td><td>libs   </td><td>35.7 KiB  </td><td>33.1 KiB  </td><td>33.1 KiB  </td><td>17.9 KiB  </td><td>-        </td><td>-        </td><td>119.9 KiB </td></tr>\n",
       "<tr><td>os                                    </td><td>libs   </td><td>38.0 KiB  </td><td>30.6 KiB  </td><td>30.6 KiB  </td><td>18.7 KiB  </td><td>-        </td><td>-        </td><td>117.8 KiB </td></tr>\n",
       "<tr><td>dataclasses                           </td><td>libs   </td><td>48.8 KiB  </td><td>23.1 KiB  </td><td>23.1 KiB  </td><td>19.7 KiB  </td><td>-        </td><td>-        </td><td>114.6 KiB </td></tr>\n",
       "<tr><td>functools                             </td><td>libs   </td><td>36.5 KiB  </td><td>27.2 KiB  </td><td>27.2 KiB  </td><td>20.7 KiB  </td><td>-        </td><td>-        </td><td>111.7 KiB </td></tr>\n",
       "<tr><td>_codecs_tw                            </td><td>libs   </td><td>-         </td><td>-         </td><td>-         </td><td>-         </td><td>111.1 KiB</td><td>-        </td><td>111.1 KiB </td></tr>\n",
       "<tr><td>_sqlite3                              </td><td>libs   </td><td>-         </td><td>-         </td><td>-         </td><td>-         </td><td>110.4 KiB</td><td>-        </td><td>110.4 KiB </td></tr>\n",
       "<tr><td>smtpd                                 </td><td>libs   </td><td>33.9 KiB  </td><td>25.8 KiB  </td><td>25.8 KiB  </td><td>23.3 KiB  </td><td>-        </td><td>-        </td><td>108.9 KiB </td></tr>\n",
       "<tr><td>socket                                </td><td>libs   </td><td>34.4 KiB  </td><td>27.1 KiB  </td><td>27.1 KiB  </td><td>19.0 KiB  </td><td>-        </td><td>-        </td><td>107.6 KiB </td></tr>\n",
       "<tr><td>ftplib                                </td><td>libs   </td><td>34.0 KiB  </td><td>27.2 KiB  </td><td>27.2 KiB  </td><td>17.7 KiB  </td><td>-        </td><td>-        </td><td>106.0 KiB </td></tr>\n",
       "<tr><td>plistlib                              </td><td>libs   </td><td>30.5 KiB  </td><td>26.0 KiB  </td><td>26.0 KiB  </td><td>23.0 KiB  </td><td>-        </td><td>-        </td><td>105.5 KiB </td></tr>\n",
       "<tr><td>_collections_abc                      </td><td>libs   </td><td>25.5 KiB  </td><td>28.1 KiB  </td><td>28.1 KiB  </td><td>23.1 KiB  </td><td>-        </td><td>-        </td><td>104.8 KiB </td></tr>\n",
       "<tr><td>platform                              </td><td>libs   </td><td>39.4 KiB  </td><td>23.7 KiB  </td><td>23.7 KiB  </td><td>16.0 KiB  </td><td>-        </td><td>-        </td><td>102.6 KiB </td></tr>\n",
       "<tr><td>sre_parse                             </td><td>libs   </td><td>39.3 KiB  </td><td>21.1 KiB  </td><td>21.1 KiB  </td><td>21.0 KiB  </td><td>-        </td><td>-        </td><td>102.6 KiB </td></tr>\n",
       "<tr><td>aifc                                  </td><td>libs   </td><td>32.0 KiB  </td><td>24.9 KiB  </td><td>24.9 KiB  </td><td>19.8 KiB  </td><td>-        </td><td>-        </td><td>101.6 KiB </td></tr>\n",
       "<tr><td>cgi                                   </td><td>libs   </td><td>32.8 KiB  </td><td>25.6 KiB  </td><td>25.6 KiB  </td><td>17.5 KiB  </td><td>-        </td><td>-        </td><td>101.6 KiB </td></tr>\n",
       "<tr><td>enum                                  </td><td>libs   </td><td>33.8 KiB  </td><td>23.8 KiB  </td><td>23.8 KiB  </td><td>19.6 KiB  </td><td>-        </td><td>-        </td><td>101.1 KiB </td></tr>\n",
       "<tr><td>calendar                              </td><td>libs   </td><td>24.2 KiB  </td><td>26.4 KiB  </td><td>26.4 KiB  </td><td>21.9 KiB  </td><td>-        </td><td>-        </td><td>99.1 KiB  </td></tr>\n",
       "<tr><td>bdb                                   </td><td>libs   </td><td>31.5 KiB  </td><td>24.4 KiB  </td><td>24.4 KiB  </td><td>15.6 KiB  </td><td>-        </td><td>-        </td><td>95.9 KiB  </td></tr>\n",
       "<tr><td>_socket                               </td><td>libs   </td><td>-         </td><td>-         </td><td>-         </td><td>-         </td><td>94.8 KiB </td><td>-        </td><td>94.8 KiB  </td></tr>\n",
       "<tr><td>venv                                  </td><td>libs   </td><td>20.7 KiB  </td><td>14.4 KiB  </td><td>14.3 KiB  </td><td>10.3 KiB  </td><td>-        </td><td>22.2 KiB </td><td>93.9 KiB  </td></tr>\n",
       "<tr><td>uuid                                  </td><td>libs   </td><td>29.7 KiB  </td><td>23.1 KiB  </td><td>23.0 KiB  </td><td>16.0 KiB  </td><td>-        </td><td>-        </td><td>91.8 KiB  </td></tr>\n",
       "<tr><td>tempfile                              </td><td>libs   </td><td>26.9 KiB  </td><td>22.9 KiB  </td><td>22.9 KiB  </td><td>16.5 KiB  </td><td>-        </td><td>-        </td><td>89.2 KiB  </td></tr>\n",
       "<tr><td>_blake2                               </td><td>libs   </td><td>-         </td><td>-         </td><td>-         </td><td>-         </td><td>89.0 KiB </td><td>-        </td><td>89.0 KiB  </td></tr>\n",
       "<tr><td>pstats                                </td><td>libs   </td><td>26.7 KiB  </td><td>21.5 KiB  </td><td>21.5 KiB  </td><td>19.1 KiB  </td><td>-        </td><td>-        </td><td>88.8 KiB  </td></tr>\n",
       "<tr><td>socketserver                          </td><td>libs   </td><td>26.3 KiB  </td><td>23.4 KiB  </td><td>23.4 KiB  </td><td>13.1 KiB  </td><td>-        </td><td>-        </td><td>86.3 KiB  </td></tr>\n",
       "<tr><td>trace                                 </td><td>libs   </td><td>29.2 KiB  </td><td>19.6 KiB  </td><td>19.6 KiB  </td><td>16.7 KiB  </td><td>-        </td><td>-        </td><td>85.1 KiB  </td></tr>\n",
       "<tr><td>random                                </td><td>libs   </td><td>28.1 KiB  </td><td>19.6 KiB  </td><td>19.6 KiB  </td><td>12.8 KiB  </td><td>-        </td><td>-        </td><td>80.2 KiB  </td></tr>\n",
       "<tr><td>gettext                               </td><td>libs   </td><td>26.5 KiB  </td><td>17.5 KiB  </td><td>17.5 KiB  </td><td>16.8 KiB  </td><td>-        </td><td>-        </td><td>78.2 KiB  </td></tr>\n",
       "<tr><td>contextlib                            </td><td>libs   </td><td>24.4 KiB  </td><td>19.8 KiB  </td><td>19.7 KiB  </td><td>14.3 KiB  </td><td>-        </td><td>-        </td><td>78.1 KiB  </td></tr>\n",
       "<tr><td>zipimport                             </td><td>libs   </td><td>30.0 KiB  </td><td>16.9 KiB  </td><td>16.8 KiB  </td><td>13.4 KiB  </td><td>-        </td><td>-        </td><td>77.1 KiB  </td></tr>\n",
       "<tr><td>_elementtree                          </td><td>libs   </td><td>-         </td><td>-         </td><td>-         </td><td>-         </td><td>77.1 KiB </td><td>-        </td><td>77.1 KiB  </td></tr>\n",
       "<tr><td>config-3.8-x86_64-linux-gnu           </td><td>libs   </td><td>-         </td><td>-         </td><td>-         </td><td>-         </td><td>-        </td><td>76.5 KiB </td><td>76.5 KiB  </td></tr>\n",
       "<tr><td>weakref                               </td><td>libs   </td><td>20.9 KiB  </td><td>19.1 KiB  </td><td>19.0 KiB  </td><td>15.8 KiB  </td><td>-        </td><td>-        </td><td>74.8 KiB  </td></tr>\n",
       "<tr><td>curses                                </td><td>libs   </td><td>19.3 KiB  </td><td>16.4 KiB  </td><td>16.4 KiB  </td><td>14.2 KiB  </td><td>-        </td><td>8.0 KiB  </td><td>74.3 KiB  </td></tr>\n",
       "<tr><td>pyexpat                               </td><td>libs   </td><td>-         </td><td>-         </td><td>-         </td><td>-         </td><td>73.6 KiB </td><td>-        </td><td>73.6 KiB  </td></tr>\n",
       "<tr><td>traceback                             </td><td>libs   </td><td>22.9 KiB  </td><td>19.4 KiB  </td><td>19.4 KiB  </td><td>10.7 KiB  </td><td>-        </td><td>-        </td><td>72.5 KiB  </td></tr>\n",
       "<tr><td>tokenize                              </td><td>libs   </td><td>25.2 KiB  </td><td>16.8 KiB  </td><td>16.7 KiB  </td><td>13.0 KiB  </td><td>-        </td><td>-        </td><td>71.8 KiB  </td></tr>\n",
       "<tr><td>fractions                             </td><td>libs   </td><td>23.6 KiB  </td><td>18.3 KiB  </td><td>18.3 KiB  </td><td>11.1 KiB  </td><td>-        </td><td>-        </td><td>71.3 KiB  </td></tr>\n",
       "<tr><td>array                                 </td><td>libs   </td><td>-         </td><td>-         </td><td>-         </td><td>-         </td><td>70.4 KiB </td><td>-        </td><td>70.4 KiB  </td></tr>\n",
       "<tr><td>modulefinder                          </td><td>libs   </td><td>23.9 KiB  </td><td>15.7 KiB  </td><td>15.7 KiB  </td><td>14.8 KiB  </td><td>-        </td><td>-        </td><td>70.1 KiB  </td></tr>\n",
       "<tr><td>gzip                                  </td><td>libs   </td><td>20.7 KiB  </td><td>17.7 KiB  </td><td>17.7 KiB  </td><td>13.9 KiB  </td><td>-        </td><td>-        </td><td>70.0 KiB  </td></tr>\n",
       "<tr><td>sre_compile                           </td><td>libs   </td><td>26.1 KiB  </td><td>14.8 KiB  </td><td>14.6 KiB  </td><td>14.2 KiB  </td><td>-        </td><td>-        </td><td>69.6 KiB  </td></tr>\n",
       "<tr><td>webbrowser                            </td><td>libs   </td><td>22.9 KiB  </td><td>16.1 KiB  </td><td>16.1 KiB  </td><td>14.2 KiB  </td><td>-        </td><td>-        </td><td>69.3 KiB  </td></tr>\n",
       "<tr><td>_json                                 </td><td>libs   </td><td>-         </td><td>-         </td><td>-         </td><td>-         </td><td>69.2 KiB </td><td>-        </td><td>69.2 KiB  </td></tr>\n",
       "<tr><td>telnetlib                             </td><td>libs   </td><td>22.7 KiB  </td><td>17.8 KiB  </td><td>17.8 KiB  </td><td>10.5 KiB  </td><td>-        </td><td>-        </td><td>68.8 KiB  </td></tr>\n",
       "<tr><td>cmath                                 </td><td>libs   </td><td>-         </td><td>-         </td><td>-         </td><td>-         </td><td>68.3 KiB </td><td>-        </td><td>68.3 KiB  </td></tr>\n",
       "<tr><td>_strptime                             </td><td>libs   </td><td>24.7 KiB  </td><td>15.7 KiB  </td><td>15.7 KiB  </td><td>12.0 KiB  </td><td>-        </td><td>-        </td><td>68.0 KiB  </td></tr>\n",
       "<tr><td>ntpath                                </td><td>libs   </td><td>27.1 KiB  </td><td>14.3 KiB  </td><td>14.3 KiB  </td><td>12.3 KiB  </td><td>-        </td><td>-        </td><td>68.0 KiB  </td></tr>\n",
       "<tr><td>sysconfig                             </td><td>libs   </td><td>23.9 KiB  </td><td>15.3 KiB  </td><td>15.3 KiB  </td><td>13.0 KiB  </td><td>-        </td><td>-        </td><td>67.5 KiB  </td></tr>\n",
       "<tr><td>pprint                                </td><td>libs   </td><td>21.0 KiB  </td><td>15.9 KiB  </td><td>15.9 KiB  </td><td>13.7 KiB  </td><td>-        </td><td>-        </td><td>66.5 KiB  </td></tr>\n",
       "<tr><td>tracemalloc                           </td><td>libs   </td><td>16.7 KiB  </td><td>17.0 KiB  </td><td>17.0 KiB  </td><td>15.6 KiB  </td><td>-        </td><td>-        </td><td>66.2 KiB  </td></tr>\n",
       "<tr><td>site                                  </td><td>libs   </td><td>21.3 KiB  </td><td>16.6 KiB  </td><td>16.6 KiB  </td><td>11.1 KiB  </td><td>-        </td><td>-        </td><td>65.6 KiB  </td></tr>\n",
       "<tr><td>asyncore                              </td><td>libs   </td><td>19.6 KiB  </td><td>15.7 KiB  </td><td>15.7 KiB  </td><td>14.5 KiB  </td><td>-        </td><td>-        </td><td>65.4 KiB  </td></tr>\n",
       "<tr><td>wave                                  </td><td>libs   </td><td>17.8 KiB  </td><td>17.7 KiB  </td><td>17.7 KiB  </td><td>11.8 KiB  </td><td>-        </td><td>-        </td><td>65.0 KiB  </td></tr>\n",
       "<tr><td>base64                                </td><td>libs   </td><td>19.9 KiB  </td><td>16.7 KiB  </td><td>16.5 KiB  </td><td>11.1 KiB  </td><td>-        </td><td>-        </td><td>64.1 KiB  </td></tr>\n",
       "<tr><td>formatter                             </td><td>libs   </td><td>14.8 KiB  </td><td>17.1 KiB  </td><td>17.1 KiB  </td><td>14.8 KiB  </td><td>-        </td><td>-        </td><td>63.8 KiB  </td></tr>\n",
       "<tr><td>selectors                             </td><td>libs   </td><td>18.1 KiB  </td><td>16.5 KiB  </td><td>16.5 KiB  </td><td>12.6 KiB  </td><td>-        </td><td>-        </td><td>63.8 KiB  </td></tr>\n",
       "<tr><td>pkgutil                               </td><td>libs   </td><td>21.0 KiB  </td><td>15.9 KiB  </td><td>15.9 KiB  </td><td>10.8 KiB  </td><td>-        </td><td>-        </td><td>63.6 KiB  </td></tr>\n",
       "<tr><td>sunau                                 </td><td>libs   </td><td>17.9 KiB  </td><td>16.7 KiB  </td><td>16.7 KiB  </td><td>12.2 KiB  </td><td>-        </td><td>-        </td><td>63.5 KiB  </td></tr>\n",
       "<tr><td>dis                                   </td><td>libs   </td><td>20.1 KiB  </td><td>15.4 KiB  </td><td>15.4 KiB  </td><td>11.7 KiB  </td><td>-        </td><td>-        </td><td>62.7 KiB  </td></tr>\n",
       "<tr><td>_asyncio                              </td><td>libs   </td><td>-         </td><td>-         </td><td>-         </td><td>-         </td><td>62.5 KiB </td><td>-        </td><td>62.5 KiB  </td></tr>\n",
       "<tr><td>profile                               </td><td>libs   </td><td>22.6 KiB  </td><td>14.3 KiB  </td><td>14.1 KiB  </td><td>11.2 KiB  </td><td>-        </td><td>-        </td><td>62.1 KiB  </td></tr>\n",
       "<tr><td>mimetypes                             </td><td>libs   </td><td>21.1 KiB  </td><td>15.5 KiB  </td><td>15.5 KiB  </td><td>9.6 KiB   </td><td>-        </td><td>-        </td><td>61.7 KiB  </td></tr>\n",
       "<tr><td>math                                  </td><td>libs   </td><td>-         </td><td>-         </td><td>-         </td><td>-         </td><td>61.7 KiB </td><td>-        </td><td>61.7 KiB  </td></tr>\n",
       "<tr><td>_tkinter                              </td><td>tkinter</td><td>-         </td><td>-         </td><td>-         </td><td>-         </td><td>61.6 KiB </td><td>-        </td><td>61.6 KiB  </td></tr>\n",
       "<tr><td>heapq                                 </td><td>libs   </td><td>22.3 KiB  </td><td>13.7 KiB  </td><td>13.7 KiB  </td><td>10.8 KiB  </td><td>-        </td><td>-        </td><td>60.6 KiB  </td></tr>\n",
       "<tr><td>ast                                   </td><td>libs   </td><td>18.0 KiB  </td><td>16.0 KiB  </td><td>15.9 KiB  </td><td>9.7 KiB   </td><td>-        </td><td>-        </td><td>59.6 KiB  </td></tr>\n",
       "<tr><td>_multibytecodec                       </td><td>libs   </td><td>-         </td><td>-         </td><td>-         </td><td>-         </td><td>59.1 KiB </td><td>-        </td><td>59.1 KiB  </td></tr>\n",
       "<tr><td>dbm                                   </td><td>libs   </td><td>17.1 KiB  </td><td>12.1 KiB  </td><td>12.1 KiB  </td><td>8.8 KiB   </td><td>-        </td><td>8.0 KiB  </td><td>58.1 KiB  </td></tr>\n",
       "<tr><td>warnings                              </td><td>libs   </td><td>19.4 KiB  </td><td>13.4 KiB  </td><td>13.0 KiB  </td><td>10.8 KiB  </td><td>-        </td><td>-        </td><td>56.6 KiB  </td></tr>\n",
       "<tr><td>_struct                               </td><td>libs   </td><td>-         </td><td>-         </td><td>-         </td><td>-         </td><td>55.3 KiB </td><td>-        </td><td>55.3 KiB  </td></tr>\n",
       "<tr><td>_testbuffer                           </td><td>test   </td><td>-         </td><td>-         </td><td>-         </td><td>-         </td><td>53.9 KiB </td><td>-        </td><td>53.9 KiB  </td></tr>\n",
       "<tr><td>textwrap                              </td><td>libs   </td><td>19.0 KiB  </td><td>13.2 KiB  </td><td>13.1 KiB  </td><td>6.1 KiB   </td><td>-        </td><td>-        </td><td>51.4 KiB  </td></tr>\n",
       "<tr><td>poplib                                </td><td>libs   </td><td>14.7 KiB  </td><td>13.1 KiB  </td><td>13.1 KiB  </td><td>8.3 KiB   </td><td>-        </td><td>-        </td><td>49.3 KiB  </td></tr>\n",
       "<tr><td>re                                    </td><td>libs   </td><td>15.4 KiB  </td><td>14.0 KiB  </td><td>14.0 KiB  </td><td>5.9 KiB   </td><td>-        </td><td>-        </td><td>49.3 KiB  </td></tr>\n",
       "<tr><td>_hashlib                              </td><td>libs   </td><td>-         </td><td>-         </td><td>-         </td><td>-         </td><td>49.1 KiB </td><td>-        </td><td>49.1 KiB  </td></tr>\n",
       "<tr><td>csv                                   </td><td>libs   </td><td>15.8 KiB  </td><td>11.6 KiB  </td><td>11.6 KiB  </td><td>9.6 KiB   </td><td>-        </td><td>-        </td><td>48.7 KiB  </td></tr>\n",
       "<tr><td>binhex                                </td><td>libs   </td><td>13.6 KiB  </td><td>11.9 KiB  </td><td>11.9 KiB  </td><td>11.3 KiB  </td><td>-        </td><td>-        </td><td>48.7 KiB  </td></tr>\n",
       "<tr><td>operator                              </td><td>libs   </td><td>10.5 KiB  </td><td>13.4 KiB  </td><td>13.4 KiB  </td><td>11.1 KiB  </td><td>-        </td><td>-        </td><td>48.3 KiB  </td></tr>\n",
       "<tr><td>fileinput                             </td><td>libs   </td><td>14.4 KiB  </td><td>13.1 KiB  </td><td>13.1 KiB  </td><td>7.6 KiB   </td><td>-        </td><td>-        </td><td>48.1 KiB  </td></tr>\n",
       "<tr><td>cmd                                   </td><td>libs   </td><td>14.5 KiB  </td><td>12.3 KiB  </td><td>12.3 KiB  </td><td>7.0 KiB   </td><td>-        </td><td>-        </td><td>46.2 KiB  </td></tr>\n",
       "<tr><td>_lzma                                 </td><td>libs   </td><td>-         </td><td>-         </td><td>-         </td><td>-         </td><td>45.3 KiB </td><td>-        </td><td>45.3 KiB  </td></tr>\n",
       "<tr><td>stringprep                            </td><td>libs   </td><td>12.6 KiB  </td><td>10.8 KiB  </td><td>10.7 KiB  </td><td>10.5 KiB  </td><td>-        </td><td>-        </td><td>44.6 KiB  </td></tr>\n",
       "<tr><td>_osx_support                          </td><td>libs   </td><td>18.7 KiB  </td><td>9.4 KiB   </td><td>9.4 KiB   </td><td>7.0 KiB   </td><td>-        </td><td>-        </td><td>44.5 KiB  </td></tr>\n",
       "<tr><td>posixpath                             </td><td>libs   </td><td>15.3 KiB  </td><td>10.2 KiB  </td><td>10.2 KiB  </td><td>8.5 KiB   </td><td>-        </td><td>-        </td><td>44.1 KiB  </td></tr>\n",
       "<tr><td>audioop                               </td><td>libs   </td><td>-         </td><td>-         </td><td>-         </td><td>-         </td><td>44.1 KiB </td><td>-        </td><td>44.1 KiB  </td></tr>\n",
       "<tr><td>pyclbr                                </td><td>libs   </td><td>14.9 KiB  </td><td>10.2 KiB  </td><td>10.2 KiB  </td><td>6.7 KiB   </td><td>-        </td><td>-        </td><td>42.0 KiB  </td></tr>\n",
       "<tr><td>numbers                               </td><td>libs   </td><td>10.0 KiB  </td><td>11.9 KiB  </td><td>11.9 KiB  </td><td>8.1 KiB   </td><td>-        </td><td>-        </td><td>42.0 KiB  </td></tr>\n",
       "<tr><td>lzma                                  </td><td>libs   </td><td>12.7 KiB  </td><td>11.7 KiB  </td><td>11.7 KiB  </td><td>5.7 KiB   </td><td>-        </td><td>-        </td><td>41.9 KiB  </td></tr>\n",
       "<tr><td>timeit                                </td><td>libs   </td><td>13.1 KiB  </td><td>11.5 KiB  </td><td>11.5 KiB  </td><td>5.8 KiB   </td><td>-        </td><td>-        </td><td>41.8 KiB  </td></tr>\n",
       "<tr><td>bz2                                   </td><td>libs   </td><td>12.3 KiB  </td><td>11.2 KiB  </td><td>11.2 KiB  </td><td>6.2 KiB   </td><td>-        </td><td>-        </td><td>40.9 KiB  </td></tr>\n",
       "<tr><td>_sha512                               </td><td>libs   </td><td>-         </td><td>-         </td><td>-         </td><td>-         </td><td>40.6 KiB </td><td>-        </td><td>40.6 KiB  </td></tr>\n",
       "<tr><td>binascii                              </td><td>libs   </td><td>-         </td><td>-         </td><td>-         </td><td>-         </td><td>40.2 KiB </td><td>-        </td><td>40.2 KiB  </td></tr>\n",
       "<tr><td>cgitb                                 </td><td>libs   </td><td>11.8 KiB  </td><td>9.9 KiB   </td><td>9.9 KiB   </td><td>8.4 KiB   </td><td>-        </td><td>-        </td><td>40.0 KiB  </td></tr>\n",
       "<tr><td>symtable                              </td><td>libs   </td><td>7.4 KiB   </td><td>10.8 KiB  </td><td>10.7 KiB  </td><td>10.0 KiB  </td><td>-        </td><td>-        </td><td>39.0 KiB  </td></tr>\n",
       "<tr><td>queue                                 </td><td>libs   </td><td>11.1 KiB  </td><td>10.4 KiB  </td><td>10.4 KiB  </td><td>6.1 KiB   </td><td>-        </td><td>-        </td><td>38.0 KiB  </td></tr>\n",
       "<tr><td>compileall                            </td><td>libs   </td><td>13.2 KiB  </td><td>9.0 KiB   </td><td>9.0 KiB   </td><td>6.7 KiB   </td><td>-        </td><td>-        </td><td>37.8 KiB  </td></tr>\n",
       "<tr><td>_csv                                  </td><td>libs   </td><td>-         </td><td>-         </td><td>-         </td><td>-         </td><td>37.7 KiB </td><td>-        </td><td>37.7 KiB  </td></tr>\n",
       "<tr><td>zlib                                  </td><td>libs   </td><td>-         </td><td>-         </td><td>-         </td><td>-         </td><td>37.2 KiB </td><td>-        </td><td>37.2 KiB  </td></tr>\n",
       "<tr><td>_xxsubinterpreters                    </td><td>libs   </td><td>-         </td><td>-         </td><td>-         </td><td>-         </td><td>37.2 KiB </td><td>-        </td><td>37.2 KiB  </td></tr>\n",
       "<tr><td>select                                </td><td>libs   </td><td>-         </td><td>-         </td><td>-         </td><td>-         </td><td>37.2 KiB </td><td>-        </td><td>37.2 KiB  </td></tr>\n",
       "<tr><td>imp                                   </td><td>libs   </td><td>10.3 KiB  </td><td>9.6 KiB   </td><td>9.6 KiB   </td><td>7.3 KiB   </td><td>-        </td><td>-        </td><td>36.7 KiB  </td></tr>\n",
       "<tr><td>_sha256                               </td><td>libs   </td><td>-         </td><td>-         </td><td>-         </td><td>-         </td><td>36.6 KiB </td><td>-        </td><td>36.6 KiB  </td></tr>\n",
       "<tr><td>_markupbase                           </td><td>libs   </td><td>14.3 KiB  </td><td>7.6 KiB   </td><td>7.4 KiB   </td><td>7.1 KiB   </td><td>-        </td><td>-        </td><td>36.4 KiB  </td></tr>\n",
       "<tr><td>readline                              </td><td>libs   </td><td>-         </td><td>-         </td><td>-         </td><td>-         </td><td>36.3 KiB </td><td>-        </td><td>36.3 KiB  </td></tr>\n",
       "<tr><td>types                                 </td><td>libs   </td><td>9.5 KiB   </td><td>9.0 KiB   </td><td>9.0 KiB   </td><td>7.8 KiB   </td><td>-        </td><td>-        </td><td>35.2 KiB  </td></tr>\n",
       "<tr><td>shlex                                 </td><td>libs   </td><td>13.0 KiB  </td><td>7.4 KiB   </td><td>7.4 KiB   </td><td>6.8 KiB   </td><td>-        </td><td>-        </td><td>34.6 KiB  </td></tr>\n",
       "<tr><td>ensurepip                             </td><td>libs   </td><td>7.6 KiB   </td><td>6.5 KiB   </td><td>6.5 KiB   </td><td>5.9 KiB   </td><td>-        </td><td>8.0 KiB  </td><td>34.4 KiB  </td></tr>\n",
       "<tr><td>code                                  </td><td>libs   </td><td>10.4 KiB  </td><td>9.7 KiB   </td><td>9.7 KiB   </td><td>4.5 KiB   </td><td>-        </td><td>-        </td><td>34.3 KiB  </td></tr>\n",
       "<tr><td>runpy                                 </td><td>libs   </td><td>11.7 KiB  </td><td>7.9 KiB   </td><td>7.9 KiB   </td><td>6.4 KiB   </td><td>-        </td><td>-        </td><td>33.9 KiB  </td></tr>\n",
       "<tr><td>ossaudiodev                           </td><td>libs   </td><td>-         </td><td>-         </td><td>-         </td><td>-         </td><td>33.6 KiB </td><td>-        </td><td>33.6 KiB  </td></tr>\n",
       "<tr><td>shelve                                </td><td>libs   </td><td>8.3 KiB   </td><td>9.3 KiB   </td><td>9.3 KiB   </td><td>5.2 KiB   </td><td>-        </td><td>-        </td><td>32.1 KiB  </td></tr>\n",
       "<tr><td>__pycache__                           </td><td>libs   </td><td>-         </td><td>-         </td><td>-         </td><td>-         </td><td>-        </td><td>32.0 KiB </td><td>32.0 KiB  </td></tr>\n",
       "<tr><td>filecmp                               </td><td>libs   </td><td>9.6 KiB   </td><td>8.2 KiB   </td><td>8.2 KiB   </td><td>5.9 KiB   </td><td>-        </td><td>-        </td><td>31.9 KiB  </td></tr>\n",
       "<tr><td>_codecs_iso2022                       </td><td>libs   </td><td>-         </td><td>-         </td><td>-         </td><td>-         </td><td>31.5 KiB </td><td>-        </td><td>31.5 KiB  </td></tr>\n",
       "<tr><td>termios                               </td><td>libs   </td><td>-         </td><td>-         </td><td>-         </td><td>-         </td><td>30.9 KiB </td><td>-        </td><td>30.9 KiB  </td></tr>\n",
       "<tr><td>tabnanny                              </td><td>libs   </td><td>11.1 KiB  </td><td>6.9 KiB   </td><td>6.9 KiB   </td><td>6.0 KiB   </td><td>-        </td><td>-        </td><td>30.8 KiB  </td></tr>\n",
       "<tr><td>string                                </td><td>libs   </td><td>10.3 KiB  </td><td>7.1 KiB   </td><td>7.1 KiB   </td><td>6.1 KiB   </td><td>-        </td><td>-        </td><td>30.6 KiB  </td></tr>\n",
       "<tr><td>asynchat                              </td><td>libs   </td><td>11.1 KiB  </td><td>6.7 KiB   </td><td>6.7 KiB   </td><td>5.3 KiB   </td><td>-        </td><td>-        </td><td>29.8 KiB  </td></tr>\n",
       "<tr><td>xdrlib                                </td><td>libs   </td><td>5.8 KiB   </td><td>8.0 KiB   </td><td>8.0 KiB   </td><td>7.6 KiB   </td><td>-        </td><td>-        </td><td>29.4 KiB  </td></tr>\n",
       "<tr><td>pipes                                 </td><td>libs   </td><td>8.7 KiB   </td><td>7.6 KiB   </td><td>7.6 KiB   </td><td>4.8 KiB   </td><td>-        </td><td>-        </td><td>28.8 KiB  </td></tr>\n",
       "<tr><td>hashlib                               </td><td>libs   </td><td>9.5 KiB   </td><td>6.6 KiB   </td><td>6.6 KiB   </td><td>6.0 KiB   </td><td>-        </td><td>-        </td><td>28.7 KiB  </td></tr>\n",
       "<tr><td>mmap                                  </td><td>libs   </td><td>-         </td><td>-         </td><td>-         </td><td>-         </td><td>28.6 KiB </td><td>-        </td><td>28.6 KiB  </td></tr>\n",
       "<tr><td>parser                                </td><td>libs   </td><td>-         </td><td>-         </td><td>-         </td><td>-         </td><td>28.4 KiB </td><td>-        </td><td>28.4 KiB  </td></tr>\n",
       "<tr><td>_bz2                                  </td><td>libs   </td><td>-         </td><td>-         </td><td>-         </td><td>-         </td><td>28.4 KiB </td><td>-        </td><td>28.4 KiB  </td></tr>\n",
       "<tr><td>_lsprof                               </td><td>libs   </td><td>-         </td><td>-         </td><td>-         </td><td>-         </td><td>28.2 KiB </td><td>-        </td><td>28.2 KiB  </td></tr>\n",
       "<tr><td>_gdbm                                 </td><td>libs   </td><td>-         </td><td>-         </td><td>-         </td><td>-         </td><td>28.1 KiB </td><td>-        </td><td>28.1 KiB  </td></tr>\n",
       "<tr><td>_md5                                  </td><td>libs   </td><td>-         </td><td>-         </td><td>-         </td><td>-         </td><td>28.0 KiB </td><td>-        </td><td>28.0 KiB  </td></tr>\n",
       "<tr><td>_weakrefset                           </td><td>libs   </td><td>5.6 KiB   </td><td>7.4 KiB   </td><td>7.4 KiB   </td><td>7.4 KiB   </td><td>-        </td><td>-        </td><td>27.9 KiB  </td></tr>\n",
       "<tr><td>_ctypes_test                          </td><td>test   </td><td>-         </td><td>-         </td><td>-         </td><td>-         </td><td>27.8 KiB </td><td>-        </td><td>27.8 KiB  </td></tr>\n",
       "<tr><td>sqlite3                               </td><td>libs   </td><td>6.4 KiB   </td><td>4.5 KiB   </td><td>4.5 KiB   </td><td>4.2 KiB   </td><td>-        </td><td>8.0 KiB  </td><td>27.5 KiB  </td></tr>\n",
       "<tr><td>_heapq                                </td><td>libs   </td><td>-         </td><td>-         </td><td>-         </td><td>-         </td><td>27.2 KiB </td><td>-        </td><td>27.2 KiB  </td></tr>\n",
       "<tr><td>copy                                  </td><td>libs   </td><td>8.4 KiB   </td><td>6.8 KiB   </td><td>6.8 KiB   </td><td>4.5 KiB   </td><td>-        </td><td>-        </td><td>26.6 KiB  </td></tr>\n",
       "<tr><td>_testmultiphase                       </td><td>test   </td><td>-         </td><td>-         </td><td>-         </td><td>-         </td><td>26.4 KiB </td><td>-        </td><td>26.4 KiB  </td></tr>\n",
       "<tr><td>py_compile                            </td><td>libs   </td><td>8.1 KiB   </td><td>7.3 KiB   </td><td>7.3 KiB   </td><td>3.6 KiB   </td><td>-        </td><td>-        </td><td>26.2 KiB  </td></tr>\n",
       "<tr><td>sndhdr                                </td><td>libs   </td><td>6.9 KiB   </td><td>6.8 KiB   </td><td>6.8 KiB   </td><td>5.6 KiB   </td><td>-        </td><td>-        </td><td>26.1 KiB  </td></tr>\n",
       "<tr><td>mailcap                               </td><td>libs   </td><td>7.9 KiB   </td><td>6.3 KiB   </td><td>6.3 KiB   </td><td>4.8 KiB   </td><td>-        </td><td>-        </td><td>25.4 KiB  </td></tr>\n",
       "<tr><td>sre_constants                         </td><td>libs   </td><td>7.0 KiB   </td><td>6.2 KiB   </td><td>6.2 KiB   </td><td>5.8 KiB   </td><td>-        </td><td>-        </td><td>25.2 KiB  </td></tr>\n",
       "<tr><td>_compat_pickle                        </td><td>libs   </td><td>8.5 KiB   </td><td>5.4 KiB   </td><td>5.3 KiB   </td><td>5.3 KiB   </td><td>-        </td><td>-        </td><td>24.6 KiB  </td></tr>\n",
       "<tr><td>_sha1                                 </td><td>libs   </td><td>-         </td><td>-         </td><td>-         </td><td>-         </td><td>24.0 KiB </td><td>-        </td><td>24.0 KiB  </td></tr>\n",
       "<tr><td>_random                               </td><td>libs   </td><td>-         </td><td>-         </td><td>-         </td><td>-         </td><td>23.7 KiB </td><td>-        </td><td>23.7 KiB  </td></tr>\n",
       "<tr><td>_curses_panel                         </td><td>libs   </td><td>-         </td><td>-         </td><td>-         </td><td>-         </td><td>23.7 KiB </td><td>-        </td><td>23.7 KiB  </td></tr>\n",
       "<tr><td>zipapp                                </td><td>libs   </td><td>7.4 KiB   </td><td>5.7 KiB   </td><td>5.7 KiB   </td><td>4.6 KiB   </td><td>-        </td><td>-        </td><td>23.4 KiB  </td></tr>\n",
       "<tr><td>_posixsubprocess                      </td><td>libs   </td><td>-         </td><td>-         </td><td>-         </td><td>-         </td><td>23.2 KiB </td><td>-        </td><td>23.2 KiB  </td></tr>\n",
       "<tr><td>fcntl                                 </td><td>libs   </td><td>-         </td><td>-         </td><td>-         </td><td>-         </td><td>23.2 KiB </td><td>-        </td><td>23.2 KiB  </td></tr>\n",
       "<tr><td>getopt                                </td><td>libs   </td><td>7.3 KiB   </td><td>6.1 KiB   </td><td>6.1 KiB   </td><td>3.6 KiB   </td><td>-        </td><td>-        </td><td>23.1 KiB  </td></tr>\n",
       "<tr><td>hmac                                  </td><td>libs   </td><td>6.5 KiB   </td><td>6.2 KiB   </td><td>6.2 KiB   </td><td>3.8 KiB   </td><td>-        </td><td>-        </td><td>22.7 KiB  </td></tr>\n",
       "<tr><td>_threading_local                      </td><td>libs   </td><td>7.1 KiB   </td><td>6.3 KiB   </td><td>6.3 KiB   </td><td>3.1 KiB   </td><td>-        </td><td>-        </td><td>22.7 KiB  </td></tr>\n",
       "<tr><td>quopri                                </td><td>libs   </td><td>7.1 KiB   </td><td>5.6 KiB   </td><td>5.4 KiB   </td><td>4.4 KiB   </td><td>-        </td><td>-        </td><td>22.6 KiB  </td></tr>\n",
       "<tr><td>sched                                 </td><td>libs   </td><td>6.3 KiB   </td><td>6.4 KiB   </td><td>6.4 KiB   </td><td>3.4 KiB   </td><td>-        </td><td>-        </td><td>22.5 KiB  </td></tr>\n",
       "<tr><td>cProfile                              </td><td>libs   </td><td>6.4 KiB   </td><td>5.2 KiB   </td><td>5.2 KiB   </td><td>4.8 KiB   </td><td>-        </td><td>-        </td><td>21.6 KiB  </td></tr>\n",
       "<tr><td>opcode                                </td><td>libs   </td><td>5.7 KiB   </td><td>5.3 KiB   </td><td>5.3 KiB   </td><td>5.2 KiB   </td><td>-        </td><td>-        </td><td>21.4 KiB  </td></tr>\n",
       "<tr><td>rlcompleter                           </td><td>libs   </td><td>6.9 KiB   </td><td>5.6 KiB   </td><td>5.6 KiB   </td><td>3.0 KiB   </td><td>-        </td><td>-        </td><td>21.2 KiB  </td></tr>\n",
       "<tr><td>_dummy_thread                         </td><td>libs   </td><td>5.9 KiB   </td><td>5.9 KiB   </td><td>5.9 KiB   </td><td>3.3 KiB   </td><td>-        </td><td>-        </td><td>21.0 KiB  </td></tr>\n",
       "<tr><td>reprlib                               </td><td>libs   </td><td>5.1 KiB   </td><td>5.2 KiB   </td><td>5.2 KiB   </td><td>5.0 KiB   </td><td>-        </td><td>-        </td><td>20.5 KiB  </td></tr>\n",
       "<tr><td>codeop                                </td><td>libs   </td><td>5.9 KiB   </td><td>6.2 KiB   </td><td>6.2 KiB   </td><td>2.2 KiB   </td><td>-        </td><td>-        </td><td>20.4 KiB  </td></tr>\n",
       "<tr><td>_multiprocessing                      </td><td>libs   </td><td>-         </td><td>-         </td><td>-         </td><td>-         </td><td>20.3 KiB </td><td>-        </td><td>20.3 KiB  </td></tr>\n",
       "<tr><td>_dbm                                  </td><td>libs   </td><td>-         </td><td>-         </td><td>-         </td><td>-         </td><td>19.9 KiB </td><td>-        </td><td>19.9 KiB  </td></tr>\n",
       "<tr><td>_queue                                </td><td>libs   </td><td>-         </td><td>-         </td><td>-         </td><td>-         </td><td>19.9 KiB </td><td>-        </td><td>19.9 KiB  </td></tr>\n",
       "<tr><td>resource                              </td><td>libs   </td><td>-         </td><td>-         </td><td>-         </td><td>-         </td><td>19.5 KiB </td><td>-        </td><td>19.5 KiB  </td></tr>\n",
       "<tr><td>grp                                   </td><td>libs   </td><td>-         </td><td>-         </td><td>-         </td><td>-         </td><td>19.4 KiB </td><td>-        </td><td>19.4 KiB  </td></tr>\n",
       "<tr><td>nis                                   </td><td>libs   </td><td>-         </td><td>-         </td><td>-         </td><td>-         </td><td>19.3 KiB </td><td>-        </td><td>19.3 KiB  </td></tr>\n",
       "<tr><td>_xxtestfuzz                           </td><td>test   </td><td>-         </td><td>-         </td><td>-         </td><td>-         </td><td>19.2 KiB </td><td>-        </td><td>19.2 KiB  </td></tr>\n",
       "<tr><td>copyreg                               </td><td>libs   </td><td>7.0 KiB   </td><td>4.2 KiB   </td><td>4.2 KiB   </td><td>3.4 KiB   </td><td>-        </td><td>-        </td><td>18.8 KiB  </td></tr>\n",
       "<tr><td>_py_abc                               </td><td>libs   </td><td>6.0 KiB   </td><td>4.6 KiB   </td><td>4.5 KiB   </td><td>3.3 KiB   </td><td>-        </td><td>-        </td><td>18.5 KiB  </td></tr>\n",
       "<tr><td>abc                                   </td><td>libs   </td><td>4.4 KiB   </td><td>5.2 KiB   </td><td>5.2 KiB   </td><td>3.1 KiB   </td><td>-        </td><td>-        </td><td>17.9 KiB  </td></tr>\n",
       "<tr><td>stat                                  </td><td>libs   </td><td>5.4 KiB   </td><td>4.3 KiB   </td><td>4.3 KiB   </td><td>3.5 KiB   </td><td>-        </td><td>-        </td><td>17.4 KiB  </td></tr>\n",
       "<tr><td>chunk                                 </td><td>libs   </td><td>5.3 KiB   </td><td>4.7 KiB   </td><td>4.7 KiB   </td><td>2.6 KiB   </td><td>-        </td><td>-        </td><td>17.4 KiB  </td></tr>\n",
       "<tr><td>glob                                  </td><td>libs   </td><td>5.6 KiB   </td><td>4.2 KiB   </td><td>4.2 KiB   </td><td>3.3 KiB   </td><td>-        </td><td>-        </td><td>17.3 KiB  </td></tr>\n",
       "<tr><td>_compression                          </td><td>libs   </td><td>5.2 KiB   </td><td>4.1 KiB   </td><td>4.1 KiB   </td><td>3.8 KiB   </td><td>-        </td><td>-        </td><td>17.2 KiB  </td></tr>\n",
       "<tr><td>uu                                    </td><td>libs   </td><td>6.8 KiB   </td><td>3.5 KiB   </td><td>3.5 KiB   </td><td>3.3 KiB   </td><td>-        </td><td>-        </td><td>17.1 KiB  </td></tr>\n",
       "<tr><td>getpass                               </td><td>libs   </td><td>5.9 KiB   </td><td>4.1 KiB   </td><td>4.1 KiB   </td><td>2.9 KiB   </td><td>-        </td><td>-        </td><td>16.9 KiB  </td></tr>\n",
       "<tr><td>netrc                                 </td><td>libs   </td><td>5.4 KiB   </td><td>3.7 KiB   </td><td>3.7 KiB   </td><td>3.5 KiB   </td><td>-        </td><td>-        </td><td>16.3 KiB  </td></tr>\n",
       "<tr><td>xxlimited                             </td><td>libs   </td><td>-         </td><td>-         </td><td>-         </td><td>-         </td><td>15.6 KiB </td><td>-        </td><td>15.6 KiB  </td></tr>\n",
       "<tr><td>genericpath                           </td><td>libs   </td><td>4.9 KiB   </td><td>3.9 KiB   </td><td>3.9 KiB   </td><td>2.8 KiB   </td><td>-        </td><td>-        </td><td>15.5 KiB  </td></tr>\n",
       "<tr><td>_bisect                               </td><td>libs   </td><td>-         </td><td>-         </td><td>-         </td><td>-         </td><td>15.5 KiB </td><td>-        </td><td>15.5 KiB  </td></tr>\n",
       "<tr><td>imghdr                                </td><td>libs   </td><td>3.7 KiB   </td><td>4.0 KiB   </td><td>4.0 KiB   </td><td>3.7 KiB   </td><td>-        </td><td>-        </td><td>15.4 KiB  </td></tr>\n",
       "<tr><td>linecache                             </td><td>libs   </td><td>5.2 KiB   </td><td>3.8 KiB   </td><td>3.8 KiB   </td><td>2.7 KiB   </td><td>-        </td><td>-        </td><td>15.4 KiB  </td></tr>\n",
       "<tr><td>spwd                                  </td><td>libs   </td><td>-         </td><td>-         </td><td>-         </td><td>-         </td><td>15.3 KiB </td><td>-        </td><td>15.3 KiB  </td></tr>\n",
       "<tr><td>syslog                                </td><td>libs   </td><td>-         </td><td>-         </td><td>-         </td><td>-         </td><td>15.3 KiB </td><td>-        </td><td>15.3 KiB  </td></tr>\n",
       "<tr><td>pty                                   </td><td>libs   </td><td>4.7 KiB   </td><td>3.8 KiB   </td><td>3.8 KiB   </td><td>3.0 KiB   </td><td>-        </td><td>-        </td><td>15.3 KiB  </td></tr>\n",
       "<tr><td>_posixshmem                           </td><td>libs   </td><td>-         </td><td>-         </td><td>-         </td><td>-         </td><td>15.2 KiB </td><td>-        </td><td>15.2 KiB  </td></tr>\n",
       "<tr><td>__future__                            </td><td>libs   </td><td>5.0 KiB   </td><td>4.0 KiB   </td><td>4.0 KiB   </td><td>2.1 KiB   </td><td>-        </td><td>-        </td><td>15.2 KiB  </td></tr>\n",
       "<tr><td>_opcode                               </td><td>libs   </td><td>-         </td><td>-         </td><td>-         </td><td>-         </td><td>15.1 KiB </td><td>-        </td><td>15.1 KiB  </td></tr>\n",
       "<tr><td>_uuid                                 </td><td>libs   </td><td>-         </td><td>-         </td><td>-         </td><td>-         </td><td>15.0 KiB </td><td>-        </td><td>15.0 KiB  </td></tr>\n",
       "<tr><td>_crypt                                </td><td>libs   </td><td>-         </td><td>-         </td><td>-         </td><td>-         </td><td>15.0 KiB </td><td>-        </td><td>15.0 KiB  </td></tr>\n",
       "<tr><td>_testimportmultiple                   </td><td>test   </td><td>-         </td><td>-         </td><td>-         </td><td>-         </td><td>15.0 KiB </td><td>-        </td><td>15.0 KiB  </td></tr>\n",
       "<tr><td>_statistics                           </td><td>libs   </td><td>-         </td><td>-         </td><td>-         </td><td>-         </td><td>14.8 KiB </td><td>-        </td><td>14.8 KiB  </td></tr>\n",
       "<tr><td>_contextvars                          </td><td>libs   </td><td>-         </td><td>-         </td><td>-         </td><td>-         </td><td>14.8 KiB </td><td>-        </td><td>14.8 KiB  </td></tr>\n",
       "<tr><td>_testinternalcapi                     </td><td>test   </td><td>-         </td><td>-         </td><td>-         </td><td>-         </td><td>14.8 KiB </td><td>-        </td><td>14.8 KiB  </td></tr>\n",
       "<tr><td>colorsys                              </td><td>libs   </td><td>4.0 KiB   </td><td>3.2 KiB   </td><td>3.2 KiB   </td><td>2.6 KiB   </td><td>-        </td><td>-        </td><td>12.9 KiB  </td></tr>\n",
       "<tr><td>crypt                                 </td><td>libs   </td><td>3.5 KiB   </td><td>3.3 KiB   </td><td>3.3 KiB   </td><td>2.7 KiB   </td><td>-        </td><td>-        </td><td>12.8 KiB  </td></tr>\n",
       "<tr><td>_sitebuiltins                         </td><td>libs   </td><td>3.0 KiB   </td><td>3.4 KiB   </td><td>3.4 KiB   </td><td>2.9 KiB   </td><td>-        </td><td>-        </td><td>12.7 KiB  </td></tr>\n",
       "<tr><td>fnmatch                               </td><td>libs   </td><td>4.0 KiB   </td><td>3.3 KiB   </td><td>3.3 KiB   </td><td>2.1 KiB   </td><td>-        </td><td>-        </td><td>12.6 KiB  </td></tr>\n",
       "<tr><td>LICENSE                               </td><td>libs   </td><td>-         </td><td>-         </td><td>-         </td><td>-         </td><td>-        </td><td>-        </td><td>12.5 KiB  </td></tr>\n",
       "<tr><td>io                                    </td><td>libs   </td><td>3.5 KiB   </td><td>3.4 KiB   </td><td>3.4 KiB   </td><td>1.9 KiB   </td><td>-        </td><td>-        </td><td>12.1 KiB  </td></tr>\n",
       "<tr><td>signal                                </td><td>libs   </td><td>2.2 KiB   </td><td>2.8 KiB   </td><td>2.8 KiB   </td><td>2.6 KiB   </td><td>-        </td><td>-        </td><td>10.3 KiB  </td></tr>\n",
       "<tr><td>token                                 </td><td>libs   </td><td>2.3 KiB   </td><td>2.4 KiB   </td><td>2.4 KiB   </td><td>2.4 KiB   </td><td>-        </td><td>-        </td><td>9.6 KiB   </td></tr>\n",
       "<tr><td>symbol                                </td><td>libs   </td><td>2.1 KiB   </td><td>2.3 KiB   </td><td>2.3 KiB   </td><td>2.3 KiB   </td><td>-        </td><td>-        </td><td>9.0 KiB   </td></tr>\n",
       "<tr><td>site-packages                         </td><td>libs   </td><td>-         </td><td>-         </td><td>-         </td><td>-         </td><td>-        </td><td>8.0 KiB  </td><td>8.1 KiB   </td></tr>\n",
       "<tr><td>bisect                                </td><td>libs   </td><td>2.2 KiB   </td><td>2.3 KiB   </td><td>2.3 KiB   </td><td>1.0 KiB   </td><td>-        </td><td>-        </td><td>7.8 KiB   </td></tr>\n",
       "<tr><td>secrets                               </td><td>libs   </td><td>2.0 KiB   </td><td>2.1 KiB   </td><td>2.1 KiB   </td><td>1.1 KiB   </td><td>-        </td><td>-        </td><td>7.4 KiB   </td></tr>\n",
       "<tr><td>nturl2path                            </td><td>libs   </td><td>2.5 KiB   </td><td>1.6 KiB   </td><td>1.6 KiB   </td><td>1.2 KiB   </td><td>-        </td><td>-        </td><td>6.8 KiB   </td></tr>\n",
       "<tr><td>dummy_threading                       </td><td>libs   </td><td>2.7 KiB   </td><td>1.1 KiB   </td><td>1.1 KiB   </td><td>739 Bytes </td><td>-        </td><td>-        </td><td>5.6 KiB   </td></tr>\n",
       "<tr><td>_bootlocale                           </td><td>libs   </td><td>1.8 KiB   </td><td>1.2 KiB   </td><td>1.2 KiB   </td><td>994 Bytes </td><td>-        </td><td>-        </td><td>5.1 KiB   </td></tr>\n",
       "<tr><td>this                                  </td><td>libs   </td><td>1003 Bytes</td><td>1.2 KiB   </td><td>1.2 KiB   </td><td>1.2 KiB   </td><td>-        </td><td>-        </td><td>4.7 KiB   </td></tr>\n",
       "<tr><td>config-3                              </td><td>libs   </td><td>-         </td><td>-         </td><td>-         </td><td>-         </td><td>-        </td><td>-        </td><td>4.0 KiB   </td></tr>\n",
       "<tr><td>lib-dynload                           </td><td>libs   </td><td>-         </td><td>-         </td><td>-         </td><td>-         </td><td>-        </td><td>4.0 KiB  </td><td>4.0 KiB   </td></tr>\n",
       "<tr><td>tty                                   </td><td>libs   </td><td>879 Bytes </td><td>1.1 KiB   </td><td>1.1 KiB   </td><td>969 Bytes </td><td>-        </td><td>-        </td><td>3.9 KiB   </td></tr>\n",
       "<tr><td>keyword                               </td><td>libs   </td><td>945 Bytes </td><td>1000 Bytes</td><td>1000 Bytes</td><td>573 Bytes </td><td>-        </td><td>-        </td><td>3.4 KiB   </td></tr>\n",
       "<tr><td>antigravity                           </td><td>libs   </td><td>477 Bytes </td><td>799 Bytes </td><td>799 Bytes </td><td>655 Bytes </td><td>-        </td><td>-        </td><td>2.7 KiB   </td></tr>\n",
       "<tr><td>decimal                               </td><td>libs   </td><td>320 Bytes </td><td>361 Bytes </td><td>361 Bytes </td><td>361 Bytes </td><td>-        </td><td>-        </td><td>1.4 KiB   </td></tr>\n",
       "<tr><td>struct                                </td><td>libs   </td><td>257 Bytes </td><td>332 Bytes </td><td>332 Bytes </td><td>332 Bytes </td><td>-        </td><td>-        </td><td>1.2 KiB   </td></tr>\n",
       "<tr><td>contextvars                           </td><td>libs   </td><td>129 Bytes </td><td>245 Bytes </td><td>245 Bytes </td><td>245 Bytes </td><td>-        </td><td>-        </td><td>864 Bytes </td></tr>\n",
       "<tr><td>__phello__                            </td><td>libs   </td><td>64 Bytes  </td><td>129 Bytes </td><td>129 Bytes </td><td>129 Bytes </td><td>-        </td><td>-        </td><td>451 Bytes </td></tr>\n",
       "</tbody>\n",
       "</table>"
      ],
      "text/plain": [
       "<IPython.core.display.HTML object>"
      ]
     },
     "metadata": {},
     "output_type": "display_data"
    }
   ],
   "source": [
    "hdr = ['module', 'pkg', '.py', '.pyc', '.opt-1.pyc', '.opt-2.pyc', '.so', 'other', 'total']\n",
    "display(HTML(tabulate.tabulate([hdr] + sizes, tablefmt='html')))"
   ]
  },
  {
   "cell_type": "markdown",
   "metadata": {},
   "source": [
    "## PEP 594 -- Removing dead batteries from the standard library"
   ]
  },
  {
   "cell_type": "code",
   "execution_count": 23,
   "metadata": {},
   "outputs": [],
   "source": [
    "removed = \"\"\"aifc\n",
    "asynchat\n",
    "asyncore\n",
    "audioop\n",
    "binhex\n",
    "cgi\n",
    "cgitb\n",
    "chunk\n",
    "crypt\n",
    "formatter\n",
    "fpectl\n",
    "imghdr\n",
    "imp\n",
    "macpath\n",
    "msilib\n",
    "nntplib\n",
    "nis\n",
    "ossaudiodev\n",
    "parser\n",
    "pipes\n",
    "smtpd\n",
    "sndhdr\n",
    "spwd\n",
    "sunau\n",
    "telnetlib\n",
    "uu\n",
    "xdrlib\"\"\".splitlines()\n",
    "\n",
    "nested = \"\"\"email.message.Message\n",
    "email.mime\n",
    "email.policy.Compat32\"\"\".splitlines()"
   ]
  },
  {
   "cell_type": "code",
   "execution_count": 24,
   "metadata": {},
   "outputs": [
    {
     "name": "stdout",
     "output_type": "stream",
     "text": [
      "72\t/usr/lib64/python3.8/email/mime/__pycache__\r\n",
      "108\t/usr/lib64/python3.8/email/mime/\r\n"
     ]
    }
   ],
   "source": [
    "!du /usr/lib64/python3.8/email/mime/"
   ]
  },
  {
   "cell_type": "code",
   "execution_count": 25,
   "metadata": {},
   "outputs": [
    {
     "name": "stdout",
     "output_type": "stream",
     "text": [
      "48\t/usr/lib64/python3.8/email/message.py\r\n",
      "40\t/usr/lib64/python3.8/email/__pycache__/message.cpython-38.opt-1.pyc\r\n",
      "24\t/usr/lib64/python3.8/email/__pycache__/message.cpython-38.opt-2.pyc\r\n"
     ]
    }
   ],
   "source": [
    "!du /usr/lib64/python3.8/email/message.py /usr/lib64/python3.8/email/__pycache__/message.*.pyc"
   ]
  },
  {
   "cell_type": "code",
   "execution_count": 26,
   "metadata": {},
   "outputs": [
    {
     "name": "stdout",
     "output_type": "stream",
     "text": [
      "12\t/usr/lib64/python3.8/email/policy.py\r\n",
      "12\t/usr/lib64/python3.8/email/__pycache__/policy.cpython-38.opt-1.pyc\r\n",
      "4\t/usr/lib64/python3.8/email/__pycache__/policy.cpython-38.opt-2.pyc\r\n"
     ]
    }
   ],
   "source": [
    "!du /usr/lib64/python3.8/email/policy.py /usr/lib64/python3.8/email/__pycache__/policy.*.pyc"
   ]
  },
  {
   "cell_type": "code",
   "execution_count": 27,
   "metadata": {},
   "outputs": [
    {
     "data": {
      "text/plain": [
       "'1.4 MiB'"
      ]
     },
     "execution_count": 27,
     "metadata": {},
     "output_type": "execute_result"
    }
   ],
   "source": [
    "ns(sum(s for m in removed for s in msbe[m, 'python3-libs'].values()) + (108 + 48 + 40 + 24 + 12 + 12 + 4) * 1024)"
   ]
  },
  {
   "cell_type": "code",
   "execution_count": null,
   "metadata": {},
   "outputs": [],
   "source": []
  }
 ],
 "metadata": {
  "kernelspec": {
   "display_name": "Python 3",
   "language": "python",
   "name": "python3"
  },
  "language_info": {
   "codemirror_mode": {
    "name": "ipython",
    "version": 3
   },
   "file_extension": ".py",
   "mimetype": "text/x-python",
   "name": "python",
   "nbconvert_exporter": "python",
   "pygments_lexer": "ipython3",
   "version": "3.8.1"
  }
 },
 "nbformat": 4,
 "nbformat_minor": 2
}
