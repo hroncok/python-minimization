{
 "cells": [
  {
   "cell_type": "markdown",
   "metadata": {},
   "source": [
    "# Analyzing the filesystem footprint of Python 3 on Fedora"
   ]
  },
  {
   "cell_type": "code",
   "execution_count": 1,
   "metadata": {},
   "outputs": [],
   "source": [
    "import collections\n",
    "import pathlib\n",
    "\n",
    "import humanize\n",
    "import tabulate\n",
    "\n",
    "from IPython.display import HTML, display"
   ]
  },
  {
   "cell_type": "markdown",
   "metadata": {},
   "source": [
    "The list of Python 3 packages, `python-unversioned-command` is ommited here, as we will query Python 3.8 on Fedora 31."
   ]
  },
  {
   "cell_type": "code",
   "execution_count": 2,
   "metadata": {},
   "outputs": [],
   "source": [
    "python_pkgs = [\n",
    "    'python3',\n",
    "    'python3-libs',\n",
    "    'python3-tkinter',\n",
    "    'python3-idle',\n",
    "    'python3-test',\n",
    "    'python3-devel',\n",
    "]"
   ]
  },
  {
   "cell_type": "markdown",
   "metadata": {},
   "source": [
    "What version of Python 3.8 is installed?"
   ]
  },
  {
   "cell_type": "code",
   "execution_count": 3,
   "metadata": {},
   "outputs": [
    {
     "name": "stdout",
     "output_type": "stream",
     "text": [
      "python38-3.8.1-1.fc31.x86_64\r\n"
     ]
    }
   ],
   "source": [
    "!rpm -q python38"
   ]
  },
  {
   "cell_type": "markdown",
   "metadata": {},
   "source": [
    "We do care about all files in the `python38` package. The differences between `python38` on Fedora 31 and `python3` subpackages on Fedora 32 are not relevant in this context. The standard library is the same."
   ]
  },
  {
   "cell_type": "code",
   "execution_count": 4,
   "metadata": {},
   "outputs": [
    {
     "data": {
      "text/plain": [
       "['/usr/bin/idle3.8',\n",
       " '/usr/bin/msgfmt3.8.py',\n",
       " '/usr/bin/pydoc3.8',\n",
       " '/usr/bin/pygettext3.8.py',\n",
       " '/usr/bin/python3.8']"
      ]
     },
     "execution_count": 4,
     "metadata": {},
     "output_type": "execute_result"
    }
   ],
   "source": [
    "python38_files = !rpm -ql python38\n",
    "python38_files = [f for f in python38_files if not f.startswith('/usr/lib/.build-id')]  # avoid noise\n",
    "python38_files[:5]"
   ]
  },
  {
   "cell_type": "markdown",
   "metadata": {},
   "source": [
    "For each Fedora 32 `python3` subpackage, we get the relevant files installed from `python38` on Fedora 31:"
   ]
  },
  {
   "cell_type": "code",
   "execution_count": 5,
   "metadata": {},
   "outputs": [
    {
     "data": {
      "text/plain": [
       "['/usr/include/python3.8',\n",
       " '/usr/lib/python3.8',\n",
       " '/usr/lib/python3.8/site-packages',\n",
       " '/usr/lib/python3.8/site-packages/__pycache__',\n",
       " '/usr/include/python3.8']"
      ]
     },
     "execution_count": 5,
     "metadata": {},
     "output_type": "execute_result"
    }
   ],
   "source": [
    "pkg_files = {}\n",
    "for pkg in python_pkgs:\n",
    "    pkg_files[pkg] = !repoquery --repo=rawhide -l {pkg} 2>/dev/null\n",
    "    pkg_files[pkg] = [f for f in pkg_files[pkg] if f in python38_files]\n",
    "pkg_files['python3-libs'][:5]"
   ]
  },
  {
   "cell_type": "code",
   "execution_count": 6,
   "metadata": {},
   "outputs": [
    {
     "data": {
      "text/plain": [
       "'python3-tkinter'"
      ]
     },
     "execution_count": 6,
     "metadata": {},
     "output_type": "execute_result"
    }
   ],
   "source": [
    "file_pkgs = {path: pkg for pkg in pkg_files for path in pkg_files[pkg]}\n",
    "file_pkgs['/usr/lib64/python3.8/tkinter']"
   ]
  },
  {
   "cell_type": "markdown",
   "metadata": {},
   "source": [
    "Finally, we get the size of every file. On different archtectures or different Python versions, or even different compiler version in different Fedora release, the sizes might be different. But we don't care for little differences, we are after the big stuff and we will assume what's big here will be big everywhere. We are aiming for  along term solution, so considering the differeneces here would not be helpful anyway.\n",
    "\n",
    "Note that the `Counter.most_common()` method gives us the largest files, but we will care about directories and file types more."
   ]
  },
  {
   "cell_type": "code",
   "execution_count": 7,
   "metadata": {},
   "outputs": [
    {
     "data": {
      "text/plain": [
       "[('/usr/lib64/libpython3.8.so', 3851336),\n",
       " ('/usr/lib64/libpython3.8.so.1.0', 3851336),\n",
       " ('/usr/lib64/python3.8/lib-dynload/unicodedata.cpython-38-x86_64-linux-gnu.so',\n",
       "  1096688),\n",
       " ('/usr/lib64/python3.8/pydoc_data/topics.py', 671801),\n",
       " ('/usr/lib64/python3.8/test/testtar.tar', 435200),\n",
       " ('/usr/lib64/python3.8/pydoc_data/__pycache__/topics.cpython-38.opt-1.pyc',\n",
       "  417962),\n",
       " ('/usr/lib64/python3.8/pydoc_data/__pycache__/topics.cpython-38.opt-2.pyc',\n",
       "  417962),\n",
       " ('/usr/lib64/python3.8/pydoc_data/__pycache__/topics.cpython-38.pyc', 417962)]"
      ]
     },
     "execution_count": 7,
     "metadata": {},
     "output_type": "execute_result"
    }
   ],
   "source": [
    "file_sizes = collections.Counter({p: pathlib.Path(p).stat().st_size for p in python38_files})\n",
    "file_sizes.most_common()[:8]"
   ]
  },
  {
   "cell_type": "markdown",
   "metadata": {},
   "source": [
    "A quick check, how are directories sized:"
   ]
  },
  {
   "cell_type": "code",
   "execution_count": 8,
   "metadata": {},
   "outputs": [
    {
     "data": {
      "text/plain": [
       "'12.0 KiB'"
      ]
     },
     "execution_count": 8,
     "metadata": {},
     "output_type": "execute_result"
    }
   ],
   "source": [
    "humanize.naturalsize(file_sizes['/usr/lib64/python3.8'], binary=True)"
   ]
  },
  {
   "cell_type": "markdown",
   "metadata": {},
   "source": [
    "Clearly, not recursively. Note: When we will measure a gain by removing a file, we only factor in the removal of that file, not the possible slim down of the directory originally containing it. We assume most of the directories are 4--92 KiB and hence we ignore such changes as insignificant. Let us measure that for sure:"
   ]
  },
  {
   "cell_type": "code",
   "execution_count": 9,
   "metadata": {},
   "outputs": [
    {
     "data": {
      "text/plain": [
       "[('/usr/lib64/python3.8/test/__pycache__', 94208),\n",
       " ('/usr/lib64/python3.8/__pycache__', 32768),\n",
       " ('/usr/lib64/python3.8/test', 24576),\n",
       " ('/usr/lib64/python3.8/encodings/__pycache__', 20480),\n",
       " ('/usr/lib64/python3.8/idlelib/idle_test/__pycache__', 16384),\n",
       " ('/usr/lib64/python3.8', 12288),\n",
       " ('/usr/lib64/python3.8/ctypes/test/__pycache__', 12288),\n",
       " ('/usr/lib64/python3.8/distutils/tests/__pycache__', 12288)]"
      ]
     },
     "execution_count": 9,
     "metadata": {},
     "output_type": "execute_result"
    }
   ],
   "source": [
    "directory_sizes = collections.Counter({p: pathlib.Path(p).stat().st_size for p in python38_files if pathlib.Path(p).is_dir()})\n",
    "directory_sizes.most_common()[:8]"
   ]
  },
  {
   "cell_type": "code",
   "execution_count": 10,
   "metadata": {},
   "outputs": [
    {
     "data": {
      "text/plain": [
       "'244.0 KiB'"
      ]
     },
     "execution_count": 10,
     "metadata": {},
     "output_type": "execute_result"
    }
   ],
   "source": [
    "# Total space of directories larger than 4 KiB and hence possible to make smaller\n",
    "humanize.naturalsize(sum(v for v in directory_sizes.values() if v > 4*1024), binary=True)"
   ]
  },
  {
   "cell_type": "markdown",
   "metadata": {},
   "source": [
    "## Filesystem footprint by subpackages"
   ]
  },
  {
   "cell_type": "markdown",
   "metadata": {},
   "source": [
    "In total, this has a large footprint, although large chunks of this are already split out:"
   ]
  },
  {
   "cell_type": "code",
   "execution_count": 11,
   "metadata": {},
   "outputs": [
    {
     "data": {
      "text/plain": [
       "'111.0 MiB'"
      ]
     },
     "execution_count": 11,
     "metadata": {},
     "output_type": "execute_result"
    }
   ],
   "source": [
    "humanize.naturalsize(sum(file_sizes.values()), binary=True)"
   ]
  },
  {
   "cell_type": "code",
   "execution_count": 12,
   "metadata": {},
   "outputs": [
    {
     "data": {
      "text/plain": [
       "{'python3': '21.0 KiB',\n",
       " 'python3-libs': '37.5 MiB',\n",
       " 'python3-tkinter': '2.0 MiB',\n",
       " 'python3-idle': '4.2 MiB',\n",
       " 'python3-test': '62.8 MiB',\n",
       " 'python3-devel': '4.5 MiB'}"
      ]
     },
     "execution_count": 12,
     "metadata": {},
     "output_type": "execute_result"
    }
   ],
   "source": [
    "{pkg: humanize.naturalsize(sum(s for p, s in file_sizes.items() if p in pkg_files[pkg]), binary=True) for pkg in pkg_files}"
   ]
  },
  {
   "cell_type": "markdown",
   "metadata": {},
   "source": [
    "It can be seen that the \"main\" `python3` package is not very relevant here. The `python3-test` package is optional and pretty much only usefull to test Python itself. It contains a lot of test data and we will not try to optimize its size. The `python3-idle` packag contains an application and while we can aim to minimize anything, we will not focus on this package either.\n",
    "\n",
    "**The main problem is in the `python3-libs` package** – it is always installed when Python is installed.\n",
    "\n",
    "The `python3-tkinter` package is less problematic. It is optional and only recommended if *Tk* is installed.\n",
    "\n",
    "The `python3-devel` package is quite big as well and it is used both for builidng Python extension modules and Python RPM packages. Getting it slimmed won might be nice, but we would also consider moving stuff from `python3-libs` into it."
   ]
  },
  {
   "cell_type": "markdown",
   "metadata": {},
   "source": [
    "## Filesystem footprint by filetype"
   ]
  },
  {
   "cell_type": "markdown",
   "metadata": {},
   "source": [
    "The standrad library (`/usr/lib64/python3.8/`, mostly in `python3-libs` and `python3-test`) contains several file types:"
   ]
  },
  {
   "cell_type": "code",
   "execution_count": 13,
   "metadata": {},
   "outputs": [],
   "source": [
    "def ext(path):\n",
    "    \"\"\"Get a file extenstion, but treat .opt-?.pyc as special case\"\"\"\n",
    "    suffixes = pathlib.Path(path).suffixes\n",
    "    if not suffixes:\n",
    "        return None\n",
    "    if suffixes[-1] == '.pyc' and suffixes[-2].startswith('.opt-'):\n",
    "        return suffixes[-2] + suffixes[-1]\n",
    "    return suffixes[-1]"
   ]
  },
  {
   "cell_type": "code",
   "execution_count": 14,
   "metadata": {},
   "outputs": [],
   "source": [
    "stdlib_files = [p for p in python38_files if p.startswith('/usr/lib64/python3.8/')]\n",
    "extensions = {path: ext(path) for path in stdlib_files}"
   ]
  },
  {
   "cell_type": "code",
   "execution_count": 15,
   "metadata": {
    "scrolled": true
   },
   "outputs": [
    {
     "data": {
      "text/plain": [
       "[('.py', 1640),\n",
       " ('.opt-1.pyc', 1623),\n",
       " ('.opt-2.pyc', 1623),\n",
       " ('.pyc', 1623),\n",
       " (None, 242),\n",
       " ('.decTest', 143),\n",
       " ('.txt', 109),\n",
       " ('.so', 75),\n",
       " ('.xml', 56),\n",
       " ('.pem', 22)]"
      ]
     },
     "execution_count": 15,
     "metadata": {},
     "output_type": "execute_result"
    }
   ],
   "source": [
    "exts = collections.Counter(extensions.values())\n",
    "exts.most_common()[:10]"
   ]
  },
  {
   "cell_type": "code",
   "execution_count": 16,
   "metadata": {},
   "outputs": [
    {
     "data": {
      "text/plain": [
       "{'.py': '26.4 MiB',\n",
       " '.pyc': '22.0 MiB',\n",
       " '.opt-1.pyc': '22.0 MiB',\n",
       " '.opt-2.pyc': '19.8 MiB',\n",
       " '.so': '5.3 MiB'}"
      ]
     },
     "execution_count": 16,
     "metadata": {},
     "output_type": "execute_result"
    }
   ],
   "source": [
    "extsizes = collections.Counter({ext: sum(s for p, s in file_sizes.items()\n",
    "                                         if p in stdlib_files and extensions[p] == ext)\n",
    "                                for ext in exts})\n",
    "\n",
    "{ext: humanize.naturalsize(size, binary=True) for ext, size in extsizes.most_common()[:5]}"
   ]
  },
  {
   "cell_type": "markdown",
   "metadata": {},
   "source": [
    "Only from `python3-libs`:"
   ]
  },
  {
   "cell_type": "code",
   "execution_count": 17,
   "metadata": {
    "scrolled": true
   },
   "outputs": [
    {
     "data": {
      "text/plain": [
       "[('.py', 607),\n",
       " ('.opt-1.pyc', 607),\n",
       " ('.opt-2.pyc', 607),\n",
       " ('.pyc', 607),\n",
       " (None, 84),\n",
       " ('.so', 67)]"
      ]
     },
     "execution_count": 17,
     "metadata": {},
     "output_type": "execute_result"
    }
   ],
   "source": [
    "extensions_libs = {p: e for p, e in extensions.items() if p in pkg_files['python3-libs']}\n",
    "exts_libs = collections.Counter(extensions_libs.values())\n",
    "exts_libs.most_common()[:6]"
   ]
  },
  {
   "cell_type": "code",
   "execution_count": 18,
   "metadata": {},
   "outputs": [
    {
     "data": {
      "text/plain": [
       "{'.py': '9.8 MiB',\n",
       " '.pyc': '6.7 MiB',\n",
       " '.opt-1.pyc': '6.7 MiB',\n",
       " '.opt-2.pyc': '5.2 MiB',\n",
       " '.so': '4.9 MiB'}"
      ]
     },
     "execution_count": 18,
     "metadata": {},
     "output_type": "execute_result"
    }
   ],
   "source": [
    "extsizes_libs = collections.Counter({ext: sum(s for p, s in file_sizes.items()\n",
    "                                         if p in stdlib_files and p in pkg_files['python3-libs'] and extensions[p] == ext)\n",
    "                                for ext in exts})\n",
    "\n",
    "{ext: humanize.naturalsize(size, binary=True) for ext, size in extsizes_libs.most_common()[:5]}"
   ]
  },
  {
   "cell_type": "markdown",
   "metadata": {},
   "source": [
    "## Filesystem footprint by module (and package)"
   ]
  },
  {
   "cell_type": "code",
   "execution_count": 19,
   "metadata": {},
   "outputs": [],
   "source": [
    "module_sizes_by_extension = collections.defaultdict(lambda: collections.defaultdict(int))\n",
    "msbe = module_sizes_by_extension"
   ]
  },
  {
   "cell_type": "code",
   "execution_count": 20,
   "metadata": {},
   "outputs": [],
   "source": [
    "for path in stdlib_files:\n",
    "    pkg = file_pkgs[path]\n",
    "    libdir = '/usr/lib64/python3.8/'\n",
    "    _path = path[len(libdir):]\n",
    "    if _path.startswith('lib-dynload/'):\n",
    "        _path = _path[len('lib-dynload/'):]\n",
    "    elif _path.startswith('__pycache__/'):\n",
    "        _path = _path[len('__pycache__/'):]\n",
    "\n",
    "    if '/' in _path:\n",
    "        modname = _path.partition('/')[0]\n",
    "    else:\n",
    "        modname = _path.partition('.')[0]\n",
    "\n",
    "    msbe[(modname, pkg)][ext(path)] += file_sizes[path]"
   ]
  },
  {
   "cell_type": "code",
   "execution_count": 21,
   "metadata": {},
   "outputs": [
    {
     "data": {
      "text/plain": [
       "[(('test', 'python3-test'), 58359936),\n",
       " (('idlelib', 'python3-idle'), 4406246),\n",
       " (('encodings', 'python3-libs'), 2598516),\n",
       " (('unittest', 'python3-test'), 2437651),\n",
       " (('pydoc_data', 'python3-libs'), 1934377),\n",
       " (('distutils', 'python3-libs'), 1870804),\n",
       " (('asyncio', 'python3-libs'), 1505039)]"
      ]
     },
     "execution_count": 21,
     "metadata": {},
     "output_type": "execute_result"
    }
   ],
   "source": [
    "by_total = collections.Counter({m: sum(e.values()) for m, e in msbe.items()})\n",
    "by_total.most_common()[:7]"
   ]
  },
  {
   "cell_type": "code",
   "execution_count": 22,
   "metadata": {},
   "outputs": [],
   "source": [
    "def ns(num):\n",
    "    if num:\n",
    "        return humanize.naturalsize(num, binary=True)\n",
    "    return '-'"
   ]
  },
  {
   "cell_type": "code",
   "execution_count": 23,
   "metadata": {},
   "outputs": [],
   "source": [
    "sizes = [\n",
    "    [\n",
    "        m[0],\n",
    "        m[1][len(\"python3-\"):],\n",
    "        ns(msbe[m]['.py']),\n",
    "        ns(msbe[m]['.pyc']),\n",
    "        ns(msbe[m]['.opt-1.pyc']),\n",
    "        ns(msbe[m]['.opt-2.pyc']),\n",
    "        ns(msbe[m]['.so']),\n",
    "        ns(msbe[m][None]),\n",
    "        ns(sum(s for s in msbe[m].values())),\n",
    "    ]\n",
    "    for m, _ in by_total.most_common()]"
   ]
  },
  {
   "cell_type": "code",
   "execution_count": 24,
   "metadata": {},
   "outputs": [
    {
     "data": {
      "text/html": [
       "<table>\n",
       "<tbody>\n",
       "<tr><td>module                                </td><td>pkg    </td><td>.py       </td><td>.pyc      </td><td>.opt-1.pyc</td><td>.opt-2.pyc</td><td>.so      </td><td>other    </td><td>total     </td></tr>\n",
       "<tr><td>test                                  </td><td>test   </td><td>13.3 MiB  </td><td>12.2 MiB  </td><td>12.1 MiB  </td><td>11.8 MiB  </td><td>-        </td><td>560.1 KiB</td><td>55.7 MiB  </td></tr>\n",
       "<tr><td>idlelib                               </td><td>idle   </td><td>1.1 MiB   </td><td>977.9 KiB </td><td>976.6 KiB </td><td>839.9 KiB </td><td>-        </td><td>95.0 KiB </td><td>4.2 MiB   </td></tr>\n",
       "<tr><td>encodings                             </td><td>libs   </td><td>1.4 MiB   </td><td>378.4 KiB </td><td>377.9 KiB </td><td>362.4 KiB </td><td>-        </td><td>24.0 KiB </td><td>2.5 MiB   </td></tr>\n",
       "<tr><td>unittest                              </td><td>test   </td><td>552.8 KiB </td><td>605.0 KiB </td><td>605.0 KiB </td><td>601.8 KiB </td><td>-        </td><td>16.0 KiB </td><td>2.3 MiB   </td></tr>\n",
       "<tr><td>pydoc_data                            </td><td>libs   </td><td>656.1 KiB </td><td>408.3 KiB </td><td>408.3 KiB </td><td>408.3 KiB </td><td>-        </td><td>8.0 KiB  </td><td>1.8 MiB   </td></tr>\n",
       "<tr><td>distutils                             </td><td>libs   </td><td>647.1 KiB </td><td>421.3 KiB </td><td>420.5 KiB </td><td>321.1 KiB </td><td>-        </td><td>16.9 KiB </td><td>1.8 MiB   </td></tr>\n",
       "<tr><td>asyncio                               </td><td>libs   </td><td>441.2 KiB </td><td>365.8 KiB </td><td>363.6 KiB </td><td>291.2 KiB </td><td>-        </td><td>8.0 KiB  </td><td>1.4 MiB   </td></tr>\n",
       "<tr><td>lib2to3                               </td><td>test   </td><td>353.0 KiB </td><td>333.0 KiB </td><td>322.9 KiB </td><td>321.1 KiB </td><td>-        </td><td>32.4 KiB </td><td>1.3 MiB   </td></tr>\n",
       "<tr><td>tkinter                               </td><td>tkinter</td><td>350.5 KiB </td><td>354.9 KiB </td><td>354.9 KiB </td><td>225.3 KiB </td><td>-        </td><td>8.0 KiB  </td><td>1.3 MiB   </td></tr>\n",
       "<tr><td>email                                 </td><td>libs   </td><td>364.8 KiB </td><td>283.1 KiB </td><td>282.8 KiB </td><td>188.7 KiB </td><td>-        </td><td>16.0 KiB </td><td>1.1 MiB   </td></tr>\n",
       "<tr><td>unicodedata                           </td><td>libs   </td><td>-         </td><td>-         </td><td>-         </td><td>-         </td><td>1.0 MiB  </td><td>-        </td><td>1.0 MiB   </td></tr>\n",
       "<tr><td>xml                                   </td><td>libs   </td><td>288.5 KiB </td><td>242.8 KiB </td><td>241.8 KiB </td><td>196.4 KiB </td><td>-        </td><td>40.0 KiB </td><td>1009.5 KiB</td></tr>\n",
       "<tr><td>lib2to3                               </td><td>libs   </td><td>281.1 KiB </td><td>237.3 KiB </td><td>234.2 KiB </td><td>185.9 KiB </td><td>-        </td><td>32.0 KiB </td><td>993.4 KiB </td></tr>\n",
       "<tr><td>ctypes                                </td><td>test   </td><td>230.1 KiB </td><td>235.6 KiB </td><td>235.6 KiB </td><td>233.9 KiB </td><td>-        </td><td>16.0 KiB </td><td>951.3 KiB </td></tr>\n",
       "<tr><td>multiprocessing                       </td><td>libs   </td><td>262.9 KiB </td><td>222.7 KiB </td><td>220.4 KiB </td><td>203.1 KiB </td><td>-        </td><td>16.0 KiB </td><td>925.1 KiB </td></tr>\n",
       "<tr><td>tkinter                               </td><td>test   </td><td>247.3 KiB </td><td>211.8 KiB </td><td>211.8 KiB </td><td>211.1 KiB </td><td>-        </td><td>24.6 KiB </td><td>906.6 KiB </td></tr>\n",
       "<tr><td>distutils                             </td><td>test   </td><td>241.7 KiB </td><td>203.3 KiB </td><td>203.3 KiB </td><td>197.9 KiB </td><td>-        </td><td>16.0 KiB </td><td>877.0 KiB </td></tr>\n",
       "<tr><td>unittest                              </td><td>libs   </td><td>231.7 KiB </td><td>184.2 KiB </td><td>183.9 KiB </td><td>142.1 KiB </td><td>-        </td><td>8.0 KiB  </td><td>749.9 KiB </td></tr>\n",
       "<tr><td>_pydecimal                            </td><td>libs   </td><td>223.2 KiB </td><td>156.9 KiB </td><td>156.9 KiB </td><td>77.2 KiB  </td><td>-        </td><td>-        </td><td>614.3 KiB </td></tr>\n",
       "<tr><td>http                                  </td><td>libs   </td><td>200.1 KiB </td><td>139.6 KiB </td><td>139.2 KiB </td><td>98.7 KiB  </td><td>-        </td><td>8.0 KiB  </td><td>585.6 KiB </td></tr>\n",
       "<tr><td>sqlite3                               </td><td>test   </td><td>119.4 KiB </td><td>136.1 KiB </td><td>136.1 KiB </td><td>131.7 KiB </td><td>-        </td><td>8.0 KiB  </td><td>531.3 KiB </td></tr>\n",
       "<tr><td>logging                               </td><td>libs   </td><td>167.7 KiB </td><td>128.1 KiB </td><td>128.1 KiB </td><td>78.0 KiB  </td><td>-        </td><td>8.0 KiB  </td><td>509.9 KiB </td></tr>\n",
       "<tr><td>importlib                             </td><td>libs   </td><td>155.7 KiB </td><td>123.3 KiB </td><td>122.9 KiB </td><td>88.4 KiB  </td><td>-        </td><td>8.0 KiB  </td><td>498.3 KiB </td></tr>\n",
       "<tr><td>urllib                                </td><td>libs   </td><td>151.7 KiB </td><td>116.6 KiB </td><td>116.5 KiB </td><td>92.8 KiB  </td><td>-        </td><td>8.0 KiB  </td><td>485.6 KiB </td></tr>\n",
       "<tr><td>turtle                                </td><td>tkinter</td><td>140.2 KiB </td><td>126.9 KiB </td><td>126.9 KiB </td><td>66.8 KiB  </td><td>-        </td><td>-        </td><td>460.8 KiB </td></tr>\n",
       "<tr><td>pydoc                                 </td><td>libs   </td><td>104.9 KiB </td><td>82.1 KiB  </td><td>82.1 KiB  </td><td>72.7 KiB  </td><td>-        </td><td>-        </td><td>341.8 KiB </td></tr>\n",
       "<tr><td>inspect                               </td><td>libs   </td><td>115.3 KiB </td><td>78.5 KiB  </td><td>78.2 KiB  </td><td>53.7 KiB  </td><td>-        </td><td>-        </td><td>325.7 KiB </td></tr>\n",
       "<tr><td>_decimal                              </td><td>libs   </td><td>-         </td><td>-         </td><td>-         </td><td>-         </td><td>316.6 KiB</td><td>-        </td><td>316.6 KiB </td></tr>\n",
       "<tr><td>html                                  </td><td>libs   </td><td>95.5 KiB  </td><td>63.8 KiB  </td><td>63.4 KiB  </td><td>61.4 KiB  </td><td>-        </td><td>8.0 KiB  </td><td>292.1 KiB </td></tr>\n",
       "<tr><td>doctest                               </td><td>libs   </td><td>101.9 KiB </td><td>74.1 KiB  </td><td>73.8 KiB  </td><td>39.3 KiB  </td><td>-        </td><td>-        </td><td>289.1 KiB </td></tr>\n",
       "<tr><td>_pyio                                 </td><td>libs   </td><td>91.0 KiB  </td><td>72.3 KiB  </td><td>72.3 KiB  </td><td>50.0 KiB  </td><td>-        </td><td>-        </td><td>285.6 KiB </td></tr>\n",
       "<tr><td>pickletools                           </td><td>libs   </td><td>91.3 KiB  </td><td>65.6 KiB  </td><td>64.8 KiB  </td><td>55.9 KiB  </td><td>-        </td><td>-        </td><td>277.6 KiB </td></tr>\n",
       "<tr><td>_codecs_jp                            </td><td>libs   </td><td>-         </td><td>-         </td><td>-         </td><td>-         </td><td>267.3 KiB</td><td>-        </td><td>267.3 KiB </td></tr>\n",
       "<tr><td>argparse                              </td><td>libs   </td><td>93.8 KiB  </td><td>60.8 KiB  </td><td>60.7 KiB  </td><td>51.7 KiB  </td><td>-        </td><td>-        </td><td>267.0 KiB </td></tr>\n",
       "<tr><td>xmlrpc                                </td><td>libs   </td><td>83.8 KiB  </td><td>62.6 KiB  </td><td>62.3 KiB  </td><td>46.3 KiB  </td><td>-        </td><td>8.0 KiB  </td><td>263.1 KiB </td></tr>\n",
       "<tr><td>tarfile                               </td><td>libs   </td><td>91.4 KiB  </td><td>61.1 KiB  </td><td>61.0 KiB  </td><td>47.5 KiB  </td><td>-        </td><td>-        </td><td>261.0 KiB </td></tr>\n",
       "<tr><td>turtledemo                            </td><td>tkinter</td><td>60.4 KiB  </td><td>67.4 KiB  </td><td>67.4 KiB  </td><td>57.3 KiB  </td><td>-        </td><td>8.0 KiB  </td><td>260.7 KiB </td></tr>\n",
       "<tr><td>mailbox                               </td><td>libs   </td><td>76.8 KiB  </td><td>58.9 KiB  </td><td>58.8 KiB  </td><td>52.3 KiB  </td><td>-        </td><td>-        </td><td>246.8 KiB </td></tr>\n",
       "<tr><td>zipfile                               </td><td>libs   </td><td>84.5 KiB  </td><td>55.5 KiB  </td><td>55.5 KiB  </td><td>47.4 KiB  </td><td>-        </td><td>-        </td><td>242.8 KiB </td></tr>\n",
       "<tr><td>datetime                              </td><td>libs   </td><td>86.0 KiB  </td><td>55.6 KiB  </td><td>54.4 KiB  </td><td>46.4 KiB  </td><td>-        </td><td>-        </td><td>242.5 KiB </td></tr>\n",
       "<tr><td>typing                                </td><td>libs   </td><td>66.8 KiB  </td><td>60.4 KiB  </td><td>60.4 KiB  </td><td>44.5 KiB  </td><td>-        </td><td>-        </td><td>232.1 KiB </td></tr>\n",
       "<tr><td>difflib                               </td><td>libs   </td><td>82.1 KiB  </td><td>58.0 KiB  </td><td>58.0 KiB  </td><td>24.3 KiB  </td><td>-        </td><td>-        </td><td>222.5 KiB </td></tr>\n",
       "<tr><td>ipaddress                             </td><td>libs   </td><td>69.5 KiB  </td><td>58.2 KiB  </td><td>58.2 KiB  </td><td>34.9 KiB  </td><td>-        </td><td>-        </td><td>220.7 KiB </td></tr>\n",
       "<tr><td>ctypes                                </td><td>libs   </td><td>58.9 KiB  </td><td>48.6 KiB  </td><td>47.5 KiB  </td><td>37.5 KiB  </td><td>-        </td><td>16.1 KiB </td><td>208.9 KiB </td></tr>\n",
       "<tr><td>concurrent                            </td><td>libs   </td><td>59.7 KiB  </td><td>48.1 KiB  </td><td>48.1 KiB  </td><td>33.4 KiB  </td><td>-        </td><td>16.0 KiB </td><td>205.3 KiB </td></tr>\n",
       "<tr><td>pickle                                </td><td>libs   </td><td>62.9 KiB  </td><td>45.8 KiB  </td><td>45.7 KiB  </td><td>39.9 KiB  </td><td>-        </td><td>-        </td><td>194.3 KiB </td></tr>\n",
       "<tr><td>wsgiref                               </td><td>libs   </td><td>53.9 KiB  </td><td>49.2 KiB  </td><td>48.7 KiB  </td><td>33.8 KiB  </td><td>-        </td><td>8.0 KiB  </td><td>193.5 KiB </td></tr>\n",
       "<tr><td>optparse                              </td><td>libs   </td><td>59.0 KiB  </td><td>46.9 KiB  </td><td>46.9 KiB  </td><td>34.8 KiB  </td><td>-        </td><td>-        </td><td>187.6 KiB </td></tr>\n",
       "<tr><td>subprocess                            </td><td>libs   </td><td>75.4 KiB  </td><td>40.9 KiB  </td><td>40.8 KiB  </td><td>29.2 KiB  </td><td>-        </td><td>-        </td><td>186.4 KiB </td></tr>\n",
       "<tr><td>pdb                                   </td><td>libs   </td><td>61.2 KiB  </td><td>46.1 KiB  </td><td>46.0 KiB  </td><td>32.3 KiB  </td><td>-        </td><td>-        </td><td>185.5 KiB </td></tr>\n",
       "<tr><td>collections                           </td><td>libs   </td><td>46.5 KiB  </td><td>45.5 KiB  </td><td>45.5 KiB  </td><td>35.2 KiB  </td><td>-        </td><td>8.0 KiB  </td><td>180.7 KiB </td></tr>\n",
       "<tr><td>locale                                </td><td>libs   </td><td>76.4 KiB  </td><td>33.9 KiB  </td><td>33.9 KiB  </td><td>29.4 KiB  </td><td>-        </td><td>-        </td><td>173.5 KiB </td></tr>\n",
       "<tr><td>configparser                          </td><td>libs   </td><td>53.1 KiB  </td><td>44.6 KiB  </td><td>44.6 KiB  </td><td>30.1 KiB  </td><td>-        </td><td>-        </td><td>172.5 KiB </td></tr>\n",
       "<tr><td>pathlib                               </td><td>libs   </td><td>50.4 KiB  </td><td>42.5 KiB  </td><td>42.5 KiB  </td><td>34.6 KiB  </td><td>-        </td><td>-        </td><td>170.1 KiB </td></tr>\n",
       "<tr><td>ssl                                   </td><td>libs   </td><td>49.6 KiB  </td><td>43.6 KiB  </td><td>43.6 KiB  </td><td>32.8 KiB  </td><td>-        </td><td>-        </td><td>169.5 KiB </td></tr>\n",
       "<tr><td>_codecs_hk                            </td><td>libs   </td><td>-         </td><td>-         </td><td>-         </td><td>-         </td><td>159.1 KiB</td><td>-        </td><td>159.1 KiB </td></tr>\n",
       "<tr><td>imaplib                               </td><td>libs   </td><td>52.3 KiB  </td><td>40.4 KiB  </td><td>38.2 KiB  </td><td>26.5 KiB  </td><td>-        </td><td>-        </td><td>157.5 KiB </td></tr>\n",
       "<tr><td>config-3.8-x86_64-linux-gnu           </td><td>devel  </td><td>2.1 KiB   </td><td>1.9 KiB   </td><td>1.9 KiB   </td><td>1.9 KiB   </td><td>-        </td><td>41.1 KiB </td><td>156.9 KiB </td></tr>\n",
       "<tr><td>_codecs_cn                            </td><td>libs   </td><td>-         </td><td>-         </td><td>-         </td><td>-         </td><td>155.2 KiB</td><td>-        </td><td>155.2 KiB </td></tr>\n",
       "<tr><td>threading                             </td><td>libs   </td><td>49.4 KiB  </td><td>39.0 KiB  </td><td>38.5 KiB  </td><td>22.3 KiB  </td><td>-        </td><td>-        </td><td>149.1 KiB </td></tr>\n",
       "<tr><td>json                                  </td><td>libs   </td><td>46.1 KiB  </td><td>36.5 KiB  </td><td>36.5 KiB  </td><td>18.9 KiB  </td><td>-        </td><td>8.0 KiB  </td><td>146.1 KiB </td></tr>\n",
       "<tr><td>_pickle                               </td><td>libs   </td><td>-         </td><td>-         </td><td>-         </td><td>-         </td><td>145.1 KiB</td><td>-        </td><td>145.1 KiB </td></tr>\n",
       "<tr><td>shutil                                </td><td>libs   </td><td>49.3 KiB  </td><td>35.5 KiB  </td><td>35.5 KiB  </td><td>24.3 KiB  </td><td>-        </td><td>-        </td><td>144.4 KiB </td></tr>\n",
       "<tr><td>_sha3                                 </td><td>libs   </td><td>-         </td><td>-         </td><td>-         </td><td>-         </td><td>142.7 KiB</td><td>-        </td><td>142.7 KiB </td></tr>\n",
       "<tr><td>_codecs_kr                            </td><td>libs   </td><td>-         </td><td>-         </td><td>-         </td><td>-         </td><td>139.2 KiB</td><td>-        </td><td>139.2 KiB </td></tr>\n",
       "<tr><td>_ctypes                               </td><td>libs   </td><td>-         </td><td>-         </td><td>-         </td><td>-         </td><td>135.3 KiB</td><td>-        </td><td>135.3 KiB </td></tr>\n",
       "<tr><td>_ssl                                  </td><td>libs   </td><td>-         </td><td>-         </td><td>-         </td><td>-         </td><td>131.3 KiB</td><td>-        </td><td>131.3 KiB </td></tr>\n",
       "<tr><td>smtplib                               </td><td>libs   </td><td>43.3 KiB  </td><td>34.5 KiB  </td><td>34.4 KiB  </td><td>18.5 KiB  </td><td>-        </td><td>-        </td><td>130.7 KiB </td></tr>\n",
       "<tr><td>nntplib                               </td><td>libs   </td><td>42.2 KiB  </td><td>33.2 KiB  </td><td>33.2 KiB  </td><td>21.0 KiB  </td><td>-        </td><td>-        </td><td>129.6 KiB </td></tr>\n",
       "<tr><td>_datetime                             </td><td>libs   </td><td>-         </td><td>-         </td><td>-         </td><td>-         </td><td>128.3 KiB</td><td>-        </td><td>128.3 KiB </td></tr>\n",
       "<tr><td>_testcapi                             </td><td>test   </td><td>-         </td><td>-         </td><td>-         </td><td>-         </td><td>127.4 KiB</td><td>-        </td><td>127.4 KiB </td></tr>\n",
       "<tr><td>_curses                               </td><td>libs   </td><td>-         </td><td>-         </td><td>-         </td><td>-         </td><td>126.1 KiB</td><td>-        </td><td>126.1 KiB </td></tr>\n",
       "<tr><td>_sysconfigdata__linux_x86_64-linux-gnu</td><td>libs   </td><td>37.8 KiB  </td><td>28.5 KiB  </td><td>28.5 KiB  </td><td>28.5 KiB  </td><td>-        </td><td>-        </td><td>123.5 KiB </td></tr>\n",
       "<tr><td>statistics                            </td><td>libs   </td><td>38.7 KiB  </td><td>32.7 KiB  </td><td>32.3 KiB  </td><td>17.0 KiB  </td><td>-        </td><td>-        </td><td>120.8 KiB </td></tr>\n",
       "<tr><td>codecs                                </td><td>libs   </td><td>35.7 KiB  </td><td>33.1 KiB  </td><td>33.1 KiB  </td><td>17.9 KiB  </td><td>-        </td><td>-        </td><td>119.9 KiB </td></tr>\n",
       "<tr><td>os                                    </td><td>libs   </td><td>38.0 KiB  </td><td>30.6 KiB  </td><td>30.6 KiB  </td><td>18.7 KiB  </td><td>-        </td><td>-        </td><td>117.8 KiB </td></tr>\n",
       "<tr><td>dataclasses                           </td><td>libs   </td><td>48.8 KiB  </td><td>23.1 KiB  </td><td>23.1 KiB  </td><td>19.7 KiB  </td><td>-        </td><td>-        </td><td>114.6 KiB </td></tr>\n",
       "<tr><td>functools                             </td><td>libs   </td><td>36.5 KiB  </td><td>27.2 KiB  </td><td>27.2 KiB  </td><td>20.7 KiB  </td><td>-        </td><td>-        </td><td>111.7 KiB </td></tr>\n",
       "<tr><td>_codecs_tw                            </td><td>libs   </td><td>-         </td><td>-         </td><td>-         </td><td>-         </td><td>111.1 KiB</td><td>-        </td><td>111.1 KiB </td></tr>\n",
       "<tr><td>_sqlite3                              </td><td>libs   </td><td>-         </td><td>-         </td><td>-         </td><td>-         </td><td>110.4 KiB</td><td>-        </td><td>110.4 KiB </td></tr>\n",
       "<tr><td>smtpd                                 </td><td>libs   </td><td>33.9 KiB  </td><td>25.8 KiB  </td><td>25.8 KiB  </td><td>23.3 KiB  </td><td>-        </td><td>-        </td><td>108.9 KiB </td></tr>\n",
       "<tr><td>socket                                </td><td>libs   </td><td>34.4 KiB  </td><td>27.1 KiB  </td><td>27.1 KiB  </td><td>19.0 KiB  </td><td>-        </td><td>-        </td><td>107.6 KiB </td></tr>\n",
       "<tr><td>ftplib                                </td><td>libs   </td><td>34.0 KiB  </td><td>27.2 KiB  </td><td>27.2 KiB  </td><td>17.7 KiB  </td><td>-        </td><td>-        </td><td>106.0 KiB </td></tr>\n",
       "<tr><td>plistlib                              </td><td>libs   </td><td>30.5 KiB  </td><td>26.0 KiB  </td><td>26.0 KiB  </td><td>23.0 KiB  </td><td>-        </td><td>-        </td><td>105.5 KiB </td></tr>\n",
       "<tr><td>_collections_abc                      </td><td>libs   </td><td>25.5 KiB  </td><td>28.1 KiB  </td><td>28.1 KiB  </td><td>23.1 KiB  </td><td>-        </td><td>-        </td><td>104.8 KiB </td></tr>\n",
       "<tr><td>platform                              </td><td>libs   </td><td>39.4 KiB  </td><td>23.7 KiB  </td><td>23.7 KiB  </td><td>16.0 KiB  </td><td>-        </td><td>-        </td><td>102.6 KiB </td></tr>\n",
       "<tr><td>sre_parse                             </td><td>libs   </td><td>39.3 KiB  </td><td>21.1 KiB  </td><td>21.1 KiB  </td><td>21.0 KiB  </td><td>-        </td><td>-        </td><td>102.6 KiB </td></tr>\n",
       "<tr><td>aifc                                  </td><td>libs   </td><td>32.0 KiB  </td><td>24.9 KiB  </td><td>24.9 KiB  </td><td>19.8 KiB  </td><td>-        </td><td>-        </td><td>101.6 KiB </td></tr>\n",
       "<tr><td>cgi                                   </td><td>libs   </td><td>32.8 KiB  </td><td>25.6 KiB  </td><td>25.6 KiB  </td><td>17.5 KiB  </td><td>-        </td><td>-        </td><td>101.6 KiB </td></tr>\n",
       "<tr><td>enum                                  </td><td>libs   </td><td>33.8 KiB  </td><td>23.8 KiB  </td><td>23.8 KiB  </td><td>19.6 KiB  </td><td>-        </td><td>-        </td><td>101.1 KiB </td></tr>\n",
       "<tr><td>calendar                              </td><td>libs   </td><td>24.2 KiB  </td><td>26.4 KiB  </td><td>26.4 KiB  </td><td>21.9 KiB  </td><td>-        </td><td>-        </td><td>99.1 KiB  </td></tr>\n",
       "<tr><td>bdb                                   </td><td>libs   </td><td>31.5 KiB  </td><td>24.4 KiB  </td><td>24.4 KiB  </td><td>15.6 KiB  </td><td>-        </td><td>-        </td><td>95.9 KiB  </td></tr>\n",
       "<tr><td>_socket                               </td><td>libs   </td><td>-         </td><td>-         </td><td>-         </td><td>-         </td><td>94.8 KiB </td><td>-        </td><td>94.8 KiB  </td></tr>\n",
       "<tr><td>venv                                  </td><td>libs   </td><td>20.7 KiB  </td><td>14.4 KiB  </td><td>14.3 KiB  </td><td>10.3 KiB  </td><td>-        </td><td>22.2 KiB </td><td>93.9 KiB  </td></tr>\n",
       "<tr><td>uuid                                  </td><td>libs   </td><td>29.7 KiB  </td><td>23.1 KiB  </td><td>23.0 KiB  </td><td>16.0 KiB  </td><td>-        </td><td>-        </td><td>91.8 KiB  </td></tr>\n",
       "<tr><td>tempfile                              </td><td>libs   </td><td>26.9 KiB  </td><td>22.9 KiB  </td><td>22.9 KiB  </td><td>16.5 KiB  </td><td>-        </td><td>-        </td><td>89.2 KiB  </td></tr>\n",
       "<tr><td>_blake2                               </td><td>libs   </td><td>-         </td><td>-         </td><td>-         </td><td>-         </td><td>89.0 KiB </td><td>-        </td><td>89.0 KiB  </td></tr>\n",
       "<tr><td>pstats                                </td><td>libs   </td><td>26.7 KiB  </td><td>21.5 KiB  </td><td>21.5 KiB  </td><td>19.1 KiB  </td><td>-        </td><td>-        </td><td>88.8 KiB  </td></tr>\n",
       "<tr><td>socketserver                          </td><td>libs   </td><td>26.3 KiB  </td><td>23.4 KiB  </td><td>23.4 KiB  </td><td>13.1 KiB  </td><td>-        </td><td>-        </td><td>86.3 KiB  </td></tr>\n",
       "<tr><td>trace                                 </td><td>libs   </td><td>29.2 KiB  </td><td>19.6 KiB  </td><td>19.6 KiB  </td><td>16.7 KiB  </td><td>-        </td><td>-        </td><td>85.1 KiB  </td></tr>\n",
       "<tr><td>random                                </td><td>libs   </td><td>28.1 KiB  </td><td>19.6 KiB  </td><td>19.6 KiB  </td><td>12.8 KiB  </td><td>-        </td><td>-        </td><td>80.2 KiB  </td></tr>\n",
       "<tr><td>gettext                               </td><td>libs   </td><td>26.5 KiB  </td><td>17.5 KiB  </td><td>17.5 KiB  </td><td>16.8 KiB  </td><td>-        </td><td>-        </td><td>78.2 KiB  </td></tr>\n",
       "<tr><td>contextlib                            </td><td>libs   </td><td>24.4 KiB  </td><td>19.8 KiB  </td><td>19.7 KiB  </td><td>14.3 KiB  </td><td>-        </td><td>-        </td><td>78.1 KiB  </td></tr>\n",
       "<tr><td>zipimport                             </td><td>libs   </td><td>30.0 KiB  </td><td>16.9 KiB  </td><td>16.8 KiB  </td><td>13.4 KiB  </td><td>-        </td><td>-        </td><td>77.1 KiB  </td></tr>\n",
       "<tr><td>_elementtree                          </td><td>libs   </td><td>-         </td><td>-         </td><td>-         </td><td>-         </td><td>77.1 KiB </td><td>-        </td><td>77.1 KiB  </td></tr>\n",
       "<tr><td>config-3.8-x86_64-linux-gnu           </td><td>libs   </td><td>-         </td><td>-         </td><td>-         </td><td>-         </td><td>-        </td><td>76.5 KiB </td><td>76.5 KiB  </td></tr>\n",
       "<tr><td>weakref                               </td><td>libs   </td><td>20.9 KiB  </td><td>19.1 KiB  </td><td>19.0 KiB  </td><td>15.8 KiB  </td><td>-        </td><td>-        </td><td>74.8 KiB  </td></tr>\n",
       "<tr><td>curses                                </td><td>libs   </td><td>19.3 KiB  </td><td>16.4 KiB  </td><td>16.4 KiB  </td><td>14.2 KiB  </td><td>-        </td><td>8.0 KiB  </td><td>74.3 KiB  </td></tr>\n",
       "<tr><td>pyexpat                               </td><td>libs   </td><td>-         </td><td>-         </td><td>-         </td><td>-         </td><td>73.6 KiB </td><td>-        </td><td>73.6 KiB  </td></tr>\n",
       "<tr><td>traceback                             </td><td>libs   </td><td>22.9 KiB  </td><td>19.4 KiB  </td><td>19.4 KiB  </td><td>10.7 KiB  </td><td>-        </td><td>-        </td><td>72.5 KiB  </td></tr>\n",
       "<tr><td>tokenize                              </td><td>libs   </td><td>25.2 KiB  </td><td>16.8 KiB  </td><td>16.7 KiB  </td><td>13.0 KiB  </td><td>-        </td><td>-        </td><td>71.8 KiB  </td></tr>\n",
       "<tr><td>fractions                             </td><td>libs   </td><td>23.6 KiB  </td><td>18.3 KiB  </td><td>18.3 KiB  </td><td>11.1 KiB  </td><td>-        </td><td>-        </td><td>71.3 KiB  </td></tr>\n",
       "<tr><td>array                                 </td><td>libs   </td><td>-         </td><td>-         </td><td>-         </td><td>-         </td><td>70.4 KiB </td><td>-        </td><td>70.4 KiB  </td></tr>\n",
       "<tr><td>modulefinder                          </td><td>libs   </td><td>23.9 KiB  </td><td>15.7 KiB  </td><td>15.7 KiB  </td><td>14.8 KiB  </td><td>-        </td><td>-        </td><td>70.1 KiB  </td></tr>\n",
       "<tr><td>gzip                                  </td><td>libs   </td><td>20.7 KiB  </td><td>17.7 KiB  </td><td>17.7 KiB  </td><td>13.9 KiB  </td><td>-        </td><td>-        </td><td>70.0 KiB  </td></tr>\n",
       "<tr><td>sre_compile                           </td><td>libs   </td><td>26.1 KiB  </td><td>14.8 KiB  </td><td>14.6 KiB  </td><td>14.2 KiB  </td><td>-        </td><td>-        </td><td>69.6 KiB  </td></tr>\n",
       "<tr><td>webbrowser                            </td><td>libs   </td><td>22.9 KiB  </td><td>16.1 KiB  </td><td>16.1 KiB  </td><td>14.2 KiB  </td><td>-        </td><td>-        </td><td>69.3 KiB  </td></tr>\n",
       "<tr><td>_json                                 </td><td>libs   </td><td>-         </td><td>-         </td><td>-         </td><td>-         </td><td>69.2 KiB </td><td>-        </td><td>69.2 KiB  </td></tr>\n",
       "<tr><td>telnetlib                             </td><td>libs   </td><td>22.7 KiB  </td><td>17.8 KiB  </td><td>17.8 KiB  </td><td>10.5 KiB  </td><td>-        </td><td>-        </td><td>68.8 KiB  </td></tr>\n",
       "<tr><td>cmath                                 </td><td>libs   </td><td>-         </td><td>-         </td><td>-         </td><td>-         </td><td>68.3 KiB </td><td>-        </td><td>68.3 KiB  </td></tr>\n",
       "<tr><td>_strptime                             </td><td>libs   </td><td>24.7 KiB  </td><td>15.7 KiB  </td><td>15.7 KiB  </td><td>12.0 KiB  </td><td>-        </td><td>-        </td><td>68.0 KiB  </td></tr>\n",
       "<tr><td>ntpath                                </td><td>libs   </td><td>27.1 KiB  </td><td>14.3 KiB  </td><td>14.3 KiB  </td><td>12.3 KiB  </td><td>-        </td><td>-        </td><td>68.0 KiB  </td></tr>\n",
       "<tr><td>sysconfig                             </td><td>libs   </td><td>23.9 KiB  </td><td>15.3 KiB  </td><td>15.3 KiB  </td><td>13.0 KiB  </td><td>-        </td><td>-        </td><td>67.5 KiB  </td></tr>\n",
       "<tr><td>pprint                                </td><td>libs   </td><td>21.0 KiB  </td><td>15.9 KiB  </td><td>15.9 KiB  </td><td>13.7 KiB  </td><td>-        </td><td>-        </td><td>66.5 KiB  </td></tr>\n",
       "<tr><td>tracemalloc                           </td><td>libs   </td><td>16.7 KiB  </td><td>17.0 KiB  </td><td>17.0 KiB  </td><td>15.6 KiB  </td><td>-        </td><td>-        </td><td>66.2 KiB  </td></tr>\n",
       "<tr><td>site                                  </td><td>libs   </td><td>21.3 KiB  </td><td>16.6 KiB  </td><td>16.6 KiB  </td><td>11.1 KiB  </td><td>-        </td><td>-        </td><td>65.6 KiB  </td></tr>\n",
       "<tr><td>asyncore                              </td><td>libs   </td><td>19.6 KiB  </td><td>15.7 KiB  </td><td>15.7 KiB  </td><td>14.5 KiB  </td><td>-        </td><td>-        </td><td>65.4 KiB  </td></tr>\n",
       "<tr><td>wave                                  </td><td>libs   </td><td>17.8 KiB  </td><td>17.7 KiB  </td><td>17.7 KiB  </td><td>11.8 KiB  </td><td>-        </td><td>-        </td><td>65.0 KiB  </td></tr>\n",
       "<tr><td>base64                                </td><td>libs   </td><td>19.9 KiB  </td><td>16.7 KiB  </td><td>16.5 KiB  </td><td>11.1 KiB  </td><td>-        </td><td>-        </td><td>64.1 KiB  </td></tr>\n",
       "<tr><td>formatter                             </td><td>libs   </td><td>14.8 KiB  </td><td>17.1 KiB  </td><td>17.1 KiB  </td><td>14.8 KiB  </td><td>-        </td><td>-        </td><td>63.8 KiB  </td></tr>\n",
       "<tr><td>selectors                             </td><td>libs   </td><td>18.1 KiB  </td><td>16.5 KiB  </td><td>16.5 KiB  </td><td>12.6 KiB  </td><td>-        </td><td>-        </td><td>63.8 KiB  </td></tr>\n",
       "<tr><td>pkgutil                               </td><td>libs   </td><td>21.0 KiB  </td><td>15.9 KiB  </td><td>15.9 KiB  </td><td>10.8 KiB  </td><td>-        </td><td>-        </td><td>63.6 KiB  </td></tr>\n",
       "<tr><td>sunau                                 </td><td>libs   </td><td>17.9 KiB  </td><td>16.7 KiB  </td><td>16.7 KiB  </td><td>12.2 KiB  </td><td>-        </td><td>-        </td><td>63.5 KiB  </td></tr>\n",
       "<tr><td>dis                                   </td><td>libs   </td><td>20.1 KiB  </td><td>15.4 KiB  </td><td>15.4 KiB  </td><td>11.7 KiB  </td><td>-        </td><td>-        </td><td>62.7 KiB  </td></tr>\n",
       "<tr><td>_asyncio                              </td><td>libs   </td><td>-         </td><td>-         </td><td>-         </td><td>-         </td><td>62.5 KiB </td><td>-        </td><td>62.5 KiB  </td></tr>\n",
       "<tr><td>profile                               </td><td>libs   </td><td>22.6 KiB  </td><td>14.3 KiB  </td><td>14.1 KiB  </td><td>11.2 KiB  </td><td>-        </td><td>-        </td><td>62.1 KiB  </td></tr>\n",
       "<tr><td>mimetypes                             </td><td>libs   </td><td>21.1 KiB  </td><td>15.5 KiB  </td><td>15.5 KiB  </td><td>9.6 KiB   </td><td>-        </td><td>-        </td><td>61.7 KiB  </td></tr>\n",
       "<tr><td>math                                  </td><td>libs   </td><td>-         </td><td>-         </td><td>-         </td><td>-         </td><td>61.7 KiB </td><td>-        </td><td>61.7 KiB  </td></tr>\n",
       "<tr><td>_tkinter                              </td><td>tkinter</td><td>-         </td><td>-         </td><td>-         </td><td>-         </td><td>61.6 KiB </td><td>-        </td><td>61.6 KiB  </td></tr>\n",
       "<tr><td>heapq                                 </td><td>libs   </td><td>22.3 KiB  </td><td>13.7 KiB  </td><td>13.7 KiB  </td><td>10.8 KiB  </td><td>-        </td><td>-        </td><td>60.6 KiB  </td></tr>\n",
       "<tr><td>ast                                   </td><td>libs   </td><td>18.0 KiB  </td><td>16.0 KiB  </td><td>15.9 KiB  </td><td>9.7 KiB   </td><td>-        </td><td>-        </td><td>59.6 KiB  </td></tr>\n",
       "<tr><td>_multibytecodec                       </td><td>libs   </td><td>-         </td><td>-         </td><td>-         </td><td>-         </td><td>59.1 KiB </td><td>-        </td><td>59.1 KiB  </td></tr>\n",
       "<tr><td>dbm                                   </td><td>libs   </td><td>17.1 KiB  </td><td>12.1 KiB  </td><td>12.1 KiB  </td><td>8.8 KiB   </td><td>-        </td><td>8.0 KiB  </td><td>58.1 KiB  </td></tr>\n",
       "<tr><td>warnings                              </td><td>libs   </td><td>19.4 KiB  </td><td>13.4 KiB  </td><td>13.0 KiB  </td><td>10.8 KiB  </td><td>-        </td><td>-        </td><td>56.6 KiB  </td></tr>\n",
       "<tr><td>_struct                               </td><td>libs   </td><td>-         </td><td>-         </td><td>-         </td><td>-         </td><td>55.3 KiB </td><td>-        </td><td>55.3 KiB  </td></tr>\n",
       "<tr><td>_testbuffer                           </td><td>test   </td><td>-         </td><td>-         </td><td>-         </td><td>-         </td><td>53.9 KiB </td><td>-        </td><td>53.9 KiB  </td></tr>\n",
       "<tr><td>textwrap                              </td><td>libs   </td><td>19.0 KiB  </td><td>13.2 KiB  </td><td>13.1 KiB  </td><td>6.1 KiB   </td><td>-        </td><td>-        </td><td>51.4 KiB  </td></tr>\n",
       "<tr><td>poplib                                </td><td>libs   </td><td>14.7 KiB  </td><td>13.1 KiB  </td><td>13.1 KiB  </td><td>8.3 KiB   </td><td>-        </td><td>-        </td><td>49.3 KiB  </td></tr>\n",
       "<tr><td>re                                    </td><td>libs   </td><td>15.4 KiB  </td><td>14.0 KiB  </td><td>14.0 KiB  </td><td>5.9 KiB   </td><td>-        </td><td>-        </td><td>49.3 KiB  </td></tr>\n",
       "<tr><td>_hashlib                              </td><td>libs   </td><td>-         </td><td>-         </td><td>-         </td><td>-         </td><td>49.1 KiB </td><td>-        </td><td>49.1 KiB  </td></tr>\n",
       "<tr><td>csv                                   </td><td>libs   </td><td>15.8 KiB  </td><td>11.6 KiB  </td><td>11.6 KiB  </td><td>9.6 KiB   </td><td>-        </td><td>-        </td><td>48.7 KiB  </td></tr>\n",
       "<tr><td>binhex                                </td><td>libs   </td><td>13.6 KiB  </td><td>11.9 KiB  </td><td>11.9 KiB  </td><td>11.3 KiB  </td><td>-        </td><td>-        </td><td>48.7 KiB  </td></tr>\n",
       "<tr><td>operator                              </td><td>libs   </td><td>10.5 KiB  </td><td>13.4 KiB  </td><td>13.4 KiB  </td><td>11.1 KiB  </td><td>-        </td><td>-        </td><td>48.3 KiB  </td></tr>\n",
       "<tr><td>fileinput                             </td><td>libs   </td><td>14.4 KiB  </td><td>13.1 KiB  </td><td>13.1 KiB  </td><td>7.6 KiB   </td><td>-        </td><td>-        </td><td>48.1 KiB  </td></tr>\n",
       "<tr><td>cmd                                   </td><td>libs   </td><td>14.5 KiB  </td><td>12.3 KiB  </td><td>12.3 KiB  </td><td>7.0 KiB   </td><td>-        </td><td>-        </td><td>46.2 KiB  </td></tr>\n",
       "<tr><td>_lzma                                 </td><td>libs   </td><td>-         </td><td>-         </td><td>-         </td><td>-         </td><td>45.3 KiB </td><td>-        </td><td>45.3 KiB  </td></tr>\n",
       "<tr><td>stringprep                            </td><td>libs   </td><td>12.6 KiB  </td><td>10.8 KiB  </td><td>10.7 KiB  </td><td>10.5 KiB  </td><td>-        </td><td>-        </td><td>44.6 KiB  </td></tr>\n",
       "<tr><td>_osx_support                          </td><td>libs   </td><td>18.7 KiB  </td><td>9.4 KiB   </td><td>9.4 KiB   </td><td>7.0 KiB   </td><td>-        </td><td>-        </td><td>44.5 KiB  </td></tr>\n",
       "<tr><td>posixpath                             </td><td>libs   </td><td>15.3 KiB  </td><td>10.2 KiB  </td><td>10.2 KiB  </td><td>8.5 KiB   </td><td>-        </td><td>-        </td><td>44.1 KiB  </td></tr>\n",
       "<tr><td>audioop                               </td><td>libs   </td><td>-         </td><td>-         </td><td>-         </td><td>-         </td><td>44.1 KiB </td><td>-        </td><td>44.1 KiB  </td></tr>\n",
       "<tr><td>pyclbr                                </td><td>libs   </td><td>14.9 KiB  </td><td>10.2 KiB  </td><td>10.2 KiB  </td><td>6.7 KiB   </td><td>-        </td><td>-        </td><td>42.0 KiB  </td></tr>\n",
       "<tr><td>numbers                               </td><td>libs   </td><td>10.0 KiB  </td><td>11.9 KiB  </td><td>11.9 KiB  </td><td>8.1 KiB   </td><td>-        </td><td>-        </td><td>42.0 KiB  </td></tr>\n",
       "<tr><td>lzma                                  </td><td>libs   </td><td>12.7 KiB  </td><td>11.7 KiB  </td><td>11.7 KiB  </td><td>5.7 KiB   </td><td>-        </td><td>-        </td><td>41.9 KiB  </td></tr>\n",
       "<tr><td>timeit                                </td><td>libs   </td><td>13.1 KiB  </td><td>11.5 KiB  </td><td>11.5 KiB  </td><td>5.8 KiB   </td><td>-        </td><td>-        </td><td>41.8 KiB  </td></tr>\n",
       "<tr><td>bz2                                   </td><td>libs   </td><td>12.3 KiB  </td><td>11.2 KiB  </td><td>11.2 KiB  </td><td>6.2 KiB   </td><td>-        </td><td>-        </td><td>40.9 KiB  </td></tr>\n",
       "<tr><td>_sha512                               </td><td>libs   </td><td>-         </td><td>-         </td><td>-         </td><td>-         </td><td>40.6 KiB </td><td>-        </td><td>40.6 KiB  </td></tr>\n",
       "<tr><td>binascii                              </td><td>libs   </td><td>-         </td><td>-         </td><td>-         </td><td>-         </td><td>40.2 KiB </td><td>-        </td><td>40.2 KiB  </td></tr>\n",
       "<tr><td>cgitb                                 </td><td>libs   </td><td>11.8 KiB  </td><td>9.9 KiB   </td><td>9.9 KiB   </td><td>8.4 KiB   </td><td>-        </td><td>-        </td><td>40.0 KiB  </td></tr>\n",
       "<tr><td>symtable                              </td><td>libs   </td><td>7.4 KiB   </td><td>10.8 KiB  </td><td>10.7 KiB  </td><td>10.0 KiB  </td><td>-        </td><td>-        </td><td>39.0 KiB  </td></tr>\n",
       "<tr><td>queue                                 </td><td>libs   </td><td>11.1 KiB  </td><td>10.4 KiB  </td><td>10.4 KiB  </td><td>6.1 KiB   </td><td>-        </td><td>-        </td><td>38.0 KiB  </td></tr>\n",
       "<tr><td>compileall                            </td><td>libs   </td><td>13.2 KiB  </td><td>9.0 KiB   </td><td>9.0 KiB   </td><td>6.7 KiB   </td><td>-        </td><td>-        </td><td>37.8 KiB  </td></tr>\n",
       "<tr><td>_csv                                  </td><td>libs   </td><td>-         </td><td>-         </td><td>-         </td><td>-         </td><td>37.7 KiB </td><td>-        </td><td>37.7 KiB  </td></tr>\n",
       "<tr><td>zlib                                  </td><td>libs   </td><td>-         </td><td>-         </td><td>-         </td><td>-         </td><td>37.2 KiB </td><td>-        </td><td>37.2 KiB  </td></tr>\n",
       "<tr><td>_xxsubinterpreters                    </td><td>libs   </td><td>-         </td><td>-         </td><td>-         </td><td>-         </td><td>37.2 KiB </td><td>-        </td><td>37.2 KiB  </td></tr>\n",
       "<tr><td>select                                </td><td>libs   </td><td>-         </td><td>-         </td><td>-         </td><td>-         </td><td>37.2 KiB </td><td>-        </td><td>37.2 KiB  </td></tr>\n",
       "<tr><td>imp                                   </td><td>libs   </td><td>10.3 KiB  </td><td>9.6 KiB   </td><td>9.6 KiB   </td><td>7.3 KiB   </td><td>-        </td><td>-        </td><td>36.7 KiB  </td></tr>\n",
       "<tr><td>_sha256                               </td><td>libs   </td><td>-         </td><td>-         </td><td>-         </td><td>-         </td><td>36.6 KiB </td><td>-        </td><td>36.6 KiB  </td></tr>\n",
       "<tr><td>_markupbase                           </td><td>libs   </td><td>14.3 KiB  </td><td>7.6 KiB   </td><td>7.4 KiB   </td><td>7.1 KiB   </td><td>-        </td><td>-        </td><td>36.4 KiB  </td></tr>\n",
       "<tr><td>readline                              </td><td>libs   </td><td>-         </td><td>-         </td><td>-         </td><td>-         </td><td>36.3 KiB </td><td>-        </td><td>36.3 KiB  </td></tr>\n",
       "<tr><td>types                                 </td><td>libs   </td><td>9.5 KiB   </td><td>9.0 KiB   </td><td>9.0 KiB   </td><td>7.8 KiB   </td><td>-        </td><td>-        </td><td>35.2 KiB  </td></tr>\n",
       "<tr><td>shlex                                 </td><td>libs   </td><td>13.0 KiB  </td><td>7.4 KiB   </td><td>7.4 KiB   </td><td>6.8 KiB   </td><td>-        </td><td>-        </td><td>34.6 KiB  </td></tr>\n",
       "<tr><td>ensurepip                             </td><td>libs   </td><td>7.6 KiB   </td><td>6.5 KiB   </td><td>6.5 KiB   </td><td>5.9 KiB   </td><td>-        </td><td>8.0 KiB  </td><td>34.4 KiB  </td></tr>\n",
       "<tr><td>code                                  </td><td>libs   </td><td>10.4 KiB  </td><td>9.7 KiB   </td><td>9.7 KiB   </td><td>4.5 KiB   </td><td>-        </td><td>-        </td><td>34.3 KiB  </td></tr>\n",
       "<tr><td>runpy                                 </td><td>libs   </td><td>11.7 KiB  </td><td>7.9 KiB   </td><td>7.9 KiB   </td><td>6.4 KiB   </td><td>-        </td><td>-        </td><td>33.9 KiB  </td></tr>\n",
       "<tr><td>ossaudiodev                           </td><td>libs   </td><td>-         </td><td>-         </td><td>-         </td><td>-         </td><td>33.6 KiB </td><td>-        </td><td>33.6 KiB  </td></tr>\n",
       "<tr><td>shelve                                </td><td>libs   </td><td>8.3 KiB   </td><td>9.3 KiB   </td><td>9.3 KiB   </td><td>5.2 KiB   </td><td>-        </td><td>-        </td><td>32.1 KiB  </td></tr>\n",
       "<tr><td>__pycache__                           </td><td>libs   </td><td>-         </td><td>-         </td><td>-         </td><td>-         </td><td>-        </td><td>32.0 KiB </td><td>32.0 KiB  </td></tr>\n",
       "<tr><td>filecmp                               </td><td>libs   </td><td>9.6 KiB   </td><td>8.2 KiB   </td><td>8.2 KiB   </td><td>5.9 KiB   </td><td>-        </td><td>-        </td><td>31.9 KiB  </td></tr>\n",
       "<tr><td>_codecs_iso2022                       </td><td>libs   </td><td>-         </td><td>-         </td><td>-         </td><td>-         </td><td>31.5 KiB </td><td>-        </td><td>31.5 KiB  </td></tr>\n",
       "<tr><td>termios                               </td><td>libs   </td><td>-         </td><td>-         </td><td>-         </td><td>-         </td><td>30.9 KiB </td><td>-        </td><td>30.9 KiB  </td></tr>\n",
       "<tr><td>tabnanny                              </td><td>libs   </td><td>11.1 KiB  </td><td>6.9 KiB   </td><td>6.9 KiB   </td><td>6.0 KiB   </td><td>-        </td><td>-        </td><td>30.8 KiB  </td></tr>\n",
       "<tr><td>string                                </td><td>libs   </td><td>10.3 KiB  </td><td>7.1 KiB   </td><td>7.1 KiB   </td><td>6.1 KiB   </td><td>-        </td><td>-        </td><td>30.6 KiB  </td></tr>\n",
       "<tr><td>asynchat                              </td><td>libs   </td><td>11.1 KiB  </td><td>6.7 KiB   </td><td>6.7 KiB   </td><td>5.3 KiB   </td><td>-        </td><td>-        </td><td>29.8 KiB  </td></tr>\n",
       "<tr><td>xdrlib                                </td><td>libs   </td><td>5.8 KiB   </td><td>8.0 KiB   </td><td>8.0 KiB   </td><td>7.6 KiB   </td><td>-        </td><td>-        </td><td>29.4 KiB  </td></tr>\n",
       "<tr><td>pipes                                 </td><td>libs   </td><td>8.7 KiB   </td><td>7.6 KiB   </td><td>7.6 KiB   </td><td>4.8 KiB   </td><td>-        </td><td>-        </td><td>28.8 KiB  </td></tr>\n",
       "<tr><td>hashlib                               </td><td>libs   </td><td>9.5 KiB   </td><td>6.6 KiB   </td><td>6.6 KiB   </td><td>6.0 KiB   </td><td>-        </td><td>-        </td><td>28.7 KiB  </td></tr>\n",
       "<tr><td>mmap                                  </td><td>libs   </td><td>-         </td><td>-         </td><td>-         </td><td>-         </td><td>28.6 KiB </td><td>-        </td><td>28.6 KiB  </td></tr>\n",
       "<tr><td>parser                                </td><td>libs   </td><td>-         </td><td>-         </td><td>-         </td><td>-         </td><td>28.4 KiB </td><td>-        </td><td>28.4 KiB  </td></tr>\n",
       "<tr><td>_bz2                                  </td><td>libs   </td><td>-         </td><td>-         </td><td>-         </td><td>-         </td><td>28.4 KiB </td><td>-        </td><td>28.4 KiB  </td></tr>\n",
       "<tr><td>_lsprof                               </td><td>libs   </td><td>-         </td><td>-         </td><td>-         </td><td>-         </td><td>28.2 KiB </td><td>-        </td><td>28.2 KiB  </td></tr>\n",
       "<tr><td>_gdbm                                 </td><td>libs   </td><td>-         </td><td>-         </td><td>-         </td><td>-         </td><td>28.1 KiB </td><td>-        </td><td>28.1 KiB  </td></tr>\n",
       "<tr><td>_md5                                  </td><td>libs   </td><td>-         </td><td>-         </td><td>-         </td><td>-         </td><td>28.0 KiB </td><td>-        </td><td>28.0 KiB  </td></tr>\n",
       "<tr><td>_weakrefset                           </td><td>libs   </td><td>5.6 KiB   </td><td>7.4 KiB   </td><td>7.4 KiB   </td><td>7.4 KiB   </td><td>-        </td><td>-        </td><td>27.9 KiB  </td></tr>\n",
       "<tr><td>_ctypes_test                          </td><td>test   </td><td>-         </td><td>-         </td><td>-         </td><td>-         </td><td>27.8 KiB </td><td>-        </td><td>27.8 KiB  </td></tr>\n",
       "<tr><td>sqlite3                               </td><td>libs   </td><td>6.4 KiB   </td><td>4.5 KiB   </td><td>4.5 KiB   </td><td>4.2 KiB   </td><td>-        </td><td>8.0 KiB  </td><td>27.5 KiB  </td></tr>\n",
       "<tr><td>_heapq                                </td><td>libs   </td><td>-         </td><td>-         </td><td>-         </td><td>-         </td><td>27.2 KiB </td><td>-        </td><td>27.2 KiB  </td></tr>\n",
       "<tr><td>copy                                  </td><td>libs   </td><td>8.4 KiB   </td><td>6.8 KiB   </td><td>6.8 KiB   </td><td>4.5 KiB   </td><td>-        </td><td>-        </td><td>26.6 KiB  </td></tr>\n",
       "<tr><td>_testmultiphase                       </td><td>test   </td><td>-         </td><td>-         </td><td>-         </td><td>-         </td><td>26.4 KiB </td><td>-        </td><td>26.4 KiB  </td></tr>\n",
       "<tr><td>py_compile                            </td><td>libs   </td><td>8.1 KiB   </td><td>7.3 KiB   </td><td>7.3 KiB   </td><td>3.6 KiB   </td><td>-        </td><td>-        </td><td>26.2 KiB  </td></tr>\n",
       "<tr><td>sndhdr                                </td><td>libs   </td><td>6.9 KiB   </td><td>6.8 KiB   </td><td>6.8 KiB   </td><td>5.6 KiB   </td><td>-        </td><td>-        </td><td>26.1 KiB  </td></tr>\n",
       "<tr><td>mailcap                               </td><td>libs   </td><td>7.9 KiB   </td><td>6.3 KiB   </td><td>6.3 KiB   </td><td>4.8 KiB   </td><td>-        </td><td>-        </td><td>25.4 KiB  </td></tr>\n",
       "<tr><td>sre_constants                         </td><td>libs   </td><td>7.0 KiB   </td><td>6.2 KiB   </td><td>6.2 KiB   </td><td>5.8 KiB   </td><td>-        </td><td>-        </td><td>25.2 KiB  </td></tr>\n",
       "<tr><td>_compat_pickle                        </td><td>libs   </td><td>8.5 KiB   </td><td>5.4 KiB   </td><td>5.3 KiB   </td><td>5.3 KiB   </td><td>-        </td><td>-        </td><td>24.6 KiB  </td></tr>\n",
       "<tr><td>_sha1                                 </td><td>libs   </td><td>-         </td><td>-         </td><td>-         </td><td>-         </td><td>24.0 KiB </td><td>-        </td><td>24.0 KiB  </td></tr>\n",
       "<tr><td>_random                               </td><td>libs   </td><td>-         </td><td>-         </td><td>-         </td><td>-         </td><td>23.7 KiB </td><td>-        </td><td>23.7 KiB  </td></tr>\n",
       "<tr><td>_curses_panel                         </td><td>libs   </td><td>-         </td><td>-         </td><td>-         </td><td>-         </td><td>23.7 KiB </td><td>-        </td><td>23.7 KiB  </td></tr>\n",
       "<tr><td>zipapp                                </td><td>libs   </td><td>7.4 KiB   </td><td>5.7 KiB   </td><td>5.7 KiB   </td><td>4.6 KiB   </td><td>-        </td><td>-        </td><td>23.4 KiB  </td></tr>\n",
       "<tr><td>_posixsubprocess                      </td><td>libs   </td><td>-         </td><td>-         </td><td>-         </td><td>-         </td><td>23.2 KiB </td><td>-        </td><td>23.2 KiB  </td></tr>\n",
       "<tr><td>fcntl                                 </td><td>libs   </td><td>-         </td><td>-         </td><td>-         </td><td>-         </td><td>23.2 KiB </td><td>-        </td><td>23.2 KiB  </td></tr>\n",
       "<tr><td>getopt                                </td><td>libs   </td><td>7.3 KiB   </td><td>6.1 KiB   </td><td>6.1 KiB   </td><td>3.6 KiB   </td><td>-        </td><td>-        </td><td>23.1 KiB  </td></tr>\n",
       "<tr><td>hmac                                  </td><td>libs   </td><td>6.5 KiB   </td><td>6.2 KiB   </td><td>6.2 KiB   </td><td>3.8 KiB   </td><td>-        </td><td>-        </td><td>22.7 KiB  </td></tr>\n",
       "<tr><td>_threading_local                      </td><td>libs   </td><td>7.1 KiB   </td><td>6.3 KiB   </td><td>6.3 KiB   </td><td>3.1 KiB   </td><td>-        </td><td>-        </td><td>22.7 KiB  </td></tr>\n",
       "<tr><td>quopri                                </td><td>libs   </td><td>7.1 KiB   </td><td>5.6 KiB   </td><td>5.4 KiB   </td><td>4.4 KiB   </td><td>-        </td><td>-        </td><td>22.6 KiB  </td></tr>\n",
       "<tr><td>sched                                 </td><td>libs   </td><td>6.3 KiB   </td><td>6.4 KiB   </td><td>6.4 KiB   </td><td>3.4 KiB   </td><td>-        </td><td>-        </td><td>22.5 KiB  </td></tr>\n",
       "<tr><td>cProfile                              </td><td>libs   </td><td>6.4 KiB   </td><td>5.2 KiB   </td><td>5.2 KiB   </td><td>4.8 KiB   </td><td>-        </td><td>-        </td><td>21.6 KiB  </td></tr>\n",
       "<tr><td>opcode                                </td><td>libs   </td><td>5.7 KiB   </td><td>5.3 KiB   </td><td>5.3 KiB   </td><td>5.2 KiB   </td><td>-        </td><td>-        </td><td>21.4 KiB  </td></tr>\n",
       "<tr><td>rlcompleter                           </td><td>libs   </td><td>6.9 KiB   </td><td>5.6 KiB   </td><td>5.6 KiB   </td><td>3.0 KiB   </td><td>-        </td><td>-        </td><td>21.2 KiB  </td></tr>\n",
       "<tr><td>_dummy_thread                         </td><td>libs   </td><td>5.9 KiB   </td><td>5.9 KiB   </td><td>5.9 KiB   </td><td>3.3 KiB   </td><td>-        </td><td>-        </td><td>21.0 KiB  </td></tr>\n",
       "<tr><td>reprlib                               </td><td>libs   </td><td>5.1 KiB   </td><td>5.2 KiB   </td><td>5.2 KiB   </td><td>5.0 KiB   </td><td>-        </td><td>-        </td><td>20.5 KiB  </td></tr>\n",
       "<tr><td>codeop                                </td><td>libs   </td><td>5.9 KiB   </td><td>6.2 KiB   </td><td>6.2 KiB   </td><td>2.2 KiB   </td><td>-        </td><td>-        </td><td>20.4 KiB  </td></tr>\n",
       "<tr><td>_multiprocessing                      </td><td>libs   </td><td>-         </td><td>-         </td><td>-         </td><td>-         </td><td>20.3 KiB </td><td>-        </td><td>20.3 KiB  </td></tr>\n",
       "<tr><td>_dbm                                  </td><td>libs   </td><td>-         </td><td>-         </td><td>-         </td><td>-         </td><td>19.9 KiB </td><td>-        </td><td>19.9 KiB  </td></tr>\n",
       "<tr><td>_queue                                </td><td>libs   </td><td>-         </td><td>-         </td><td>-         </td><td>-         </td><td>19.9 KiB </td><td>-        </td><td>19.9 KiB  </td></tr>\n",
       "<tr><td>resource                              </td><td>libs   </td><td>-         </td><td>-         </td><td>-         </td><td>-         </td><td>19.5 KiB </td><td>-        </td><td>19.5 KiB  </td></tr>\n",
       "<tr><td>grp                                   </td><td>libs   </td><td>-         </td><td>-         </td><td>-         </td><td>-         </td><td>19.4 KiB </td><td>-        </td><td>19.4 KiB  </td></tr>\n",
       "<tr><td>nis                                   </td><td>libs   </td><td>-         </td><td>-         </td><td>-         </td><td>-         </td><td>19.3 KiB </td><td>-        </td><td>19.3 KiB  </td></tr>\n",
       "<tr><td>_xxtestfuzz                           </td><td>test   </td><td>-         </td><td>-         </td><td>-         </td><td>-         </td><td>19.2 KiB </td><td>-        </td><td>19.2 KiB  </td></tr>\n",
       "<tr><td>copyreg                               </td><td>libs   </td><td>7.0 KiB   </td><td>4.2 KiB   </td><td>4.2 KiB   </td><td>3.4 KiB   </td><td>-        </td><td>-        </td><td>18.8 KiB  </td></tr>\n",
       "<tr><td>_py_abc                               </td><td>libs   </td><td>6.0 KiB   </td><td>4.6 KiB   </td><td>4.5 KiB   </td><td>3.3 KiB   </td><td>-        </td><td>-        </td><td>18.5 KiB  </td></tr>\n",
       "<tr><td>abc                                   </td><td>libs   </td><td>4.4 KiB   </td><td>5.2 KiB   </td><td>5.2 KiB   </td><td>3.1 KiB   </td><td>-        </td><td>-        </td><td>17.9 KiB  </td></tr>\n",
       "<tr><td>stat                                  </td><td>libs   </td><td>5.4 KiB   </td><td>4.3 KiB   </td><td>4.3 KiB   </td><td>3.5 KiB   </td><td>-        </td><td>-        </td><td>17.4 KiB  </td></tr>\n",
       "<tr><td>chunk                                 </td><td>libs   </td><td>5.3 KiB   </td><td>4.7 KiB   </td><td>4.7 KiB   </td><td>2.6 KiB   </td><td>-        </td><td>-        </td><td>17.4 KiB  </td></tr>\n",
       "<tr><td>glob                                  </td><td>libs   </td><td>5.6 KiB   </td><td>4.2 KiB   </td><td>4.2 KiB   </td><td>3.3 KiB   </td><td>-        </td><td>-        </td><td>17.3 KiB  </td></tr>\n",
       "<tr><td>_compression                          </td><td>libs   </td><td>5.2 KiB   </td><td>4.1 KiB   </td><td>4.1 KiB   </td><td>3.8 KiB   </td><td>-        </td><td>-        </td><td>17.2 KiB  </td></tr>\n",
       "<tr><td>uu                                    </td><td>libs   </td><td>6.8 KiB   </td><td>3.5 KiB   </td><td>3.5 KiB   </td><td>3.3 KiB   </td><td>-        </td><td>-        </td><td>17.1 KiB  </td></tr>\n",
       "<tr><td>getpass                               </td><td>libs   </td><td>5.9 KiB   </td><td>4.1 KiB   </td><td>4.1 KiB   </td><td>2.9 KiB   </td><td>-        </td><td>-        </td><td>16.9 KiB  </td></tr>\n",
       "<tr><td>netrc                                 </td><td>libs   </td><td>5.4 KiB   </td><td>3.7 KiB   </td><td>3.7 KiB   </td><td>3.5 KiB   </td><td>-        </td><td>-        </td><td>16.3 KiB  </td></tr>\n",
       "<tr><td>xxlimited                             </td><td>libs   </td><td>-         </td><td>-         </td><td>-         </td><td>-         </td><td>15.6 KiB </td><td>-        </td><td>15.6 KiB  </td></tr>\n",
       "<tr><td>genericpath                           </td><td>libs   </td><td>4.9 KiB   </td><td>3.9 KiB   </td><td>3.9 KiB   </td><td>2.8 KiB   </td><td>-        </td><td>-        </td><td>15.5 KiB  </td></tr>\n",
       "<tr><td>_bisect                               </td><td>libs   </td><td>-         </td><td>-         </td><td>-         </td><td>-         </td><td>15.5 KiB </td><td>-        </td><td>15.5 KiB  </td></tr>\n",
       "<tr><td>imghdr                                </td><td>libs   </td><td>3.7 KiB   </td><td>4.0 KiB   </td><td>4.0 KiB   </td><td>3.7 KiB   </td><td>-        </td><td>-        </td><td>15.4 KiB  </td></tr>\n",
       "<tr><td>linecache                             </td><td>libs   </td><td>5.2 KiB   </td><td>3.8 KiB   </td><td>3.8 KiB   </td><td>2.7 KiB   </td><td>-        </td><td>-        </td><td>15.4 KiB  </td></tr>\n",
       "<tr><td>spwd                                  </td><td>libs   </td><td>-         </td><td>-         </td><td>-         </td><td>-         </td><td>15.3 KiB </td><td>-        </td><td>15.3 KiB  </td></tr>\n",
       "<tr><td>syslog                                </td><td>libs   </td><td>-         </td><td>-         </td><td>-         </td><td>-         </td><td>15.3 KiB </td><td>-        </td><td>15.3 KiB  </td></tr>\n",
       "<tr><td>pty                                   </td><td>libs   </td><td>4.7 KiB   </td><td>3.8 KiB   </td><td>3.8 KiB   </td><td>3.0 KiB   </td><td>-        </td><td>-        </td><td>15.3 KiB  </td></tr>\n",
       "<tr><td>_posixshmem                           </td><td>libs   </td><td>-         </td><td>-         </td><td>-         </td><td>-         </td><td>15.2 KiB </td><td>-        </td><td>15.2 KiB  </td></tr>\n",
       "<tr><td>__future__                            </td><td>libs   </td><td>5.0 KiB   </td><td>4.0 KiB   </td><td>4.0 KiB   </td><td>2.1 KiB   </td><td>-        </td><td>-        </td><td>15.2 KiB  </td></tr>\n",
       "<tr><td>_opcode                               </td><td>libs   </td><td>-         </td><td>-         </td><td>-         </td><td>-         </td><td>15.1 KiB </td><td>-        </td><td>15.1 KiB  </td></tr>\n",
       "<tr><td>_uuid                                 </td><td>libs   </td><td>-         </td><td>-         </td><td>-         </td><td>-         </td><td>15.0 KiB </td><td>-        </td><td>15.0 KiB  </td></tr>\n",
       "<tr><td>_crypt                                </td><td>libs   </td><td>-         </td><td>-         </td><td>-         </td><td>-         </td><td>15.0 KiB </td><td>-        </td><td>15.0 KiB  </td></tr>\n",
       "<tr><td>_testimportmultiple                   </td><td>test   </td><td>-         </td><td>-         </td><td>-         </td><td>-         </td><td>15.0 KiB </td><td>-        </td><td>15.0 KiB  </td></tr>\n",
       "<tr><td>_statistics                           </td><td>libs   </td><td>-         </td><td>-         </td><td>-         </td><td>-         </td><td>14.8 KiB </td><td>-        </td><td>14.8 KiB  </td></tr>\n",
       "<tr><td>_contextvars                          </td><td>libs   </td><td>-         </td><td>-         </td><td>-         </td><td>-         </td><td>14.8 KiB </td><td>-        </td><td>14.8 KiB  </td></tr>\n",
       "<tr><td>_testinternalcapi                     </td><td>test   </td><td>-         </td><td>-         </td><td>-         </td><td>-         </td><td>14.8 KiB </td><td>-        </td><td>14.8 KiB  </td></tr>\n",
       "<tr><td>colorsys                              </td><td>libs   </td><td>4.0 KiB   </td><td>3.2 KiB   </td><td>3.2 KiB   </td><td>2.6 KiB   </td><td>-        </td><td>-        </td><td>12.9 KiB  </td></tr>\n",
       "<tr><td>crypt                                 </td><td>libs   </td><td>3.5 KiB   </td><td>3.3 KiB   </td><td>3.3 KiB   </td><td>2.7 KiB   </td><td>-        </td><td>-        </td><td>12.8 KiB  </td></tr>\n",
       "<tr><td>_sitebuiltins                         </td><td>libs   </td><td>3.0 KiB   </td><td>3.4 KiB   </td><td>3.4 KiB   </td><td>2.9 KiB   </td><td>-        </td><td>-        </td><td>12.7 KiB  </td></tr>\n",
       "<tr><td>fnmatch                               </td><td>libs   </td><td>4.0 KiB   </td><td>3.3 KiB   </td><td>3.3 KiB   </td><td>2.1 KiB   </td><td>-        </td><td>-        </td><td>12.6 KiB  </td></tr>\n",
       "<tr><td>LICENSE                               </td><td>libs   </td><td>-         </td><td>-         </td><td>-         </td><td>-         </td><td>-        </td><td>-        </td><td>12.5 KiB  </td></tr>\n",
       "<tr><td>io                                    </td><td>libs   </td><td>3.5 KiB   </td><td>3.4 KiB   </td><td>3.4 KiB   </td><td>1.9 KiB   </td><td>-        </td><td>-        </td><td>12.1 KiB  </td></tr>\n",
       "<tr><td>signal                                </td><td>libs   </td><td>2.2 KiB   </td><td>2.8 KiB   </td><td>2.8 KiB   </td><td>2.6 KiB   </td><td>-        </td><td>-        </td><td>10.3 KiB  </td></tr>\n",
       "<tr><td>token                                 </td><td>libs   </td><td>2.3 KiB   </td><td>2.4 KiB   </td><td>2.4 KiB   </td><td>2.4 KiB   </td><td>-        </td><td>-        </td><td>9.6 KiB   </td></tr>\n",
       "<tr><td>symbol                                </td><td>libs   </td><td>2.1 KiB   </td><td>2.3 KiB   </td><td>2.3 KiB   </td><td>2.3 KiB   </td><td>-        </td><td>-        </td><td>9.0 KiB   </td></tr>\n",
       "<tr><td>site-packages                         </td><td>libs   </td><td>-         </td><td>-         </td><td>-         </td><td>-         </td><td>-        </td><td>8.0 KiB  </td><td>8.1 KiB   </td></tr>\n",
       "<tr><td>bisect                                </td><td>libs   </td><td>2.2 KiB   </td><td>2.3 KiB   </td><td>2.3 KiB   </td><td>1.0 KiB   </td><td>-        </td><td>-        </td><td>7.8 KiB   </td></tr>\n",
       "<tr><td>secrets                               </td><td>libs   </td><td>2.0 KiB   </td><td>2.1 KiB   </td><td>2.1 KiB   </td><td>1.1 KiB   </td><td>-        </td><td>-        </td><td>7.4 KiB   </td></tr>\n",
       "<tr><td>nturl2path                            </td><td>libs   </td><td>2.5 KiB   </td><td>1.6 KiB   </td><td>1.6 KiB   </td><td>1.2 KiB   </td><td>-        </td><td>-        </td><td>6.8 KiB   </td></tr>\n",
       "<tr><td>dummy_threading                       </td><td>libs   </td><td>2.7 KiB   </td><td>1.1 KiB   </td><td>1.1 KiB   </td><td>739 Bytes </td><td>-        </td><td>-        </td><td>5.6 KiB   </td></tr>\n",
       "<tr><td>_bootlocale                           </td><td>libs   </td><td>1.8 KiB   </td><td>1.2 KiB   </td><td>1.2 KiB   </td><td>994 Bytes </td><td>-        </td><td>-        </td><td>5.1 KiB   </td></tr>\n",
       "<tr><td>this                                  </td><td>libs   </td><td>1003 Bytes</td><td>1.2 KiB   </td><td>1.2 KiB   </td><td>1.2 KiB   </td><td>-        </td><td>-        </td><td>4.7 KiB   </td></tr>\n",
       "<tr><td>config-3                              </td><td>libs   </td><td>-         </td><td>-         </td><td>-         </td><td>-         </td><td>-        </td><td>-        </td><td>4.0 KiB   </td></tr>\n",
       "<tr><td>lib-dynload                           </td><td>libs   </td><td>-         </td><td>-         </td><td>-         </td><td>-         </td><td>-        </td><td>4.0 KiB  </td><td>4.0 KiB   </td></tr>\n",
       "<tr><td>tty                                   </td><td>libs   </td><td>879 Bytes </td><td>1.1 KiB   </td><td>1.1 KiB   </td><td>969 Bytes </td><td>-        </td><td>-        </td><td>3.9 KiB   </td></tr>\n",
       "<tr><td>keyword                               </td><td>libs   </td><td>945 Bytes </td><td>1000 Bytes</td><td>1000 Bytes</td><td>573 Bytes </td><td>-        </td><td>-        </td><td>3.4 KiB   </td></tr>\n",
       "<tr><td>antigravity                           </td><td>libs   </td><td>477 Bytes </td><td>799 Bytes </td><td>799 Bytes </td><td>655 Bytes </td><td>-        </td><td>-        </td><td>2.7 KiB   </td></tr>\n",
       "<tr><td>decimal                               </td><td>libs   </td><td>320 Bytes </td><td>361 Bytes </td><td>361 Bytes </td><td>361 Bytes </td><td>-        </td><td>-        </td><td>1.4 KiB   </td></tr>\n",
       "<tr><td>struct                                </td><td>libs   </td><td>257 Bytes </td><td>332 Bytes </td><td>332 Bytes </td><td>332 Bytes </td><td>-        </td><td>-        </td><td>1.2 KiB   </td></tr>\n",
       "<tr><td>contextvars                           </td><td>libs   </td><td>129 Bytes </td><td>245 Bytes </td><td>245 Bytes </td><td>245 Bytes </td><td>-        </td><td>-        </td><td>864 Bytes </td></tr>\n",
       "<tr><td>__phello__                            </td><td>libs   </td><td>64 Bytes  </td><td>129 Bytes </td><td>129 Bytes </td><td>129 Bytes </td><td>-        </td><td>-        </td><td>451 Bytes </td></tr>\n",
       "</tbody>\n",
       "</table>"
      ],
      "text/plain": [
       "<IPython.core.display.HTML object>"
      ]
     },
     "metadata": {},
     "output_type": "display_data"
    }
   ],
   "source": [
    "hdr = ['module', 'pkg', '.py', '.pyc', '.opt-1.pyc', '.opt-2.pyc', '.so', 'other', 'total']\n",
    "display(HTML(tabulate.tabulate([hdr] + sizes, tablefmt='html')))"
   ]
  },
  {
   "cell_type": "markdown",
   "metadata": {},
   "source": [
    "## PEP 594 -- Removing dead batteries from the standard library"
   ]
  },
  {
   "cell_type": "code",
   "execution_count": 25,
   "metadata": {},
   "outputs": [],
   "source": [
    "removed = \"\"\"aifc\n",
    "asynchat\n",
    "asyncore\n",
    "audioop\n",
    "binhex\n",
    "cgi\n",
    "cgitb\n",
    "chunk\n",
    "crypt\n",
    "formatter\n",
    "fpectl\n",
    "imghdr\n",
    "imp\n",
    "macpath\n",
    "msilib\n",
    "nntplib\n",
    "nis\n",
    "ossaudiodev\n",
    "parser\n",
    "pipes\n",
    "smtpd\n",
    "sndhdr\n",
    "spwd\n",
    "sunau\n",
    "telnetlib\n",
    "uu\n",
    "xdrlib\"\"\".splitlines()\n",
    "\n",
    "nested = \"\"\"email.message.Message\n",
    "email.mime\n",
    "email.policy.Compat32\"\"\".splitlines()"
   ]
  },
  {
   "cell_type": "code",
   "execution_count": 26,
   "metadata": {},
   "outputs": [
    {
     "name": "stdout",
     "output_type": "stream",
     "text": [
      "72\t/usr/lib64/python3.8/email/mime/__pycache__\r\n",
      "108\t/usr/lib64/python3.8/email/mime/\r\n"
     ]
    }
   ],
   "source": [
    "!du /usr/lib64/python3.8/email/mime/"
   ]
  },
  {
   "cell_type": "code",
   "execution_count": 27,
   "metadata": {},
   "outputs": [
    {
     "name": "stdout",
     "output_type": "stream",
     "text": [
      "48\t/usr/lib64/python3.8/email/message.py\r\n",
      "40\t/usr/lib64/python3.8/email/__pycache__/message.cpython-38.opt-1.pyc\r\n",
      "24\t/usr/lib64/python3.8/email/__pycache__/message.cpython-38.opt-2.pyc\r\n"
     ]
    }
   ],
   "source": [
    "!du /usr/lib64/python3.8/email/message.py /usr/lib64/python3.8/email/__pycache__/message.*.pyc"
   ]
  },
  {
   "cell_type": "code",
   "execution_count": 28,
   "metadata": {},
   "outputs": [
    {
     "name": "stdout",
     "output_type": "stream",
     "text": [
      "12\t/usr/lib64/python3.8/email/policy.py\r\n",
      "12\t/usr/lib64/python3.8/email/__pycache__/policy.cpython-38.opt-1.pyc\r\n",
      "4\t/usr/lib64/python3.8/email/__pycache__/policy.cpython-38.opt-2.pyc\r\n"
     ]
    }
   ],
   "source": [
    "!du /usr/lib64/python3.8/email/policy.py /usr/lib64/python3.8/email/__pycache__/policy.*.pyc"
   ]
  },
  {
   "cell_type": "code",
   "execution_count": 29,
   "metadata": {},
   "outputs": [
    {
     "data": {
      "text/plain": [
       "'1.4 MiB'"
      ]
     },
     "execution_count": 29,
     "metadata": {},
     "output_type": "execute_result"
    }
   ],
   "source": [
    "ns(sum(s for m in removed for s in msbe[m, 'python3-libs'].values()) + (108 + 48 + 40 + 24 + 12 + 12 + 4) * 1024)"
   ]
  },
  {
   "cell_type": "markdown",
   "metadata": {},
   "source": [
    "## Developer modules"
   ]
  },
  {
   "cell_type": "code",
   "execution_count": 30,
   "metadata": {},
   "outputs": [
    {
     "name": "stdout",
     "output_type": "stream",
     "text": [
      "1212\t/usr/share/python-wheels/pip-19.1.1-py2.py3-none-any.whl\r\n",
      "348\t/usr/share/python-wheels/setuptools-41.2.0-py2.py3-none-any.whl\r\n"
     ]
    }
   ],
   "source": [
    "!du /usr/share/python-wheels/{pip,setuptools}*"
   ]
  },
  {
   "cell_type": "code",
   "execution_count": 31,
   "metadata": {},
   "outputs": [
    {
     "data": {
      "text/plain": [
       "'1.5 MiB'"
      ]
     },
     "execution_count": 31,
     "metadata": {},
     "output_type": "execute_result"
    }
   ],
   "source": [
    " ns((1212 + 348) * 1024)"
   ]
  },
  {
   "cell_type": "code",
   "execution_count": 32,
   "metadata": {},
   "outputs": [],
   "source": [
    "devmodules = \"\"\"pydoc_data\n",
    "distutils\n",
    "ensurepip\n",
    "lib2to3\n",
    "unittest\n",
    "pydoc\n",
    "doctest\n",
    "venv\n",
    "\"\"\".splitlines()"
   ]
  },
  {
   "cell_type": "code",
   "execution_count": 33,
   "metadata": {},
   "outputs": [
    {
     "data": {
      "text/plain": [
       "'6.1 MiB'"
      ]
     },
     "execution_count": 33,
     "metadata": {},
     "output_type": "execute_result"
    }
   ],
   "source": [
    "ns(sum(s for m in devmodules for s in msbe[m, 'python3-libs'].values()))"
   ]
  },
  {
   "cell_type": "markdown",
   "metadata": {},
   "source": [
    "## Zip encodings and pydoc_data"
   ]
  },
  {
   "cell_type": "code",
   "execution_count": 34,
   "metadata": {},
   "outputs": [
    {
     "name": "stdout",
     "output_type": "stream",
     "text": [
      "1132\t/usr/lib64/python3.8/encodings/__pycache__\r\n",
      "2868\t/usr/lib64/python3.8/encodings/\r\n",
      "420\t/usr/lib64/python3.8/pydoc_data/__pycache__\r\n",
      "1088\t/usr/lib64/python3.8/pydoc_data/\r\n"
     ]
    }
   ],
   "source": [
    "!du /usr/lib64/python3.8/encodings/ /usr/lib64/python3.8/pydoc_data/"
   ]
  },
  {
   "cell_type": "code",
   "execution_count": 35,
   "metadata": {},
   "outputs": [
    {
     "name": "stdout",
     "output_type": "stream",
     "text": [
      "updating: usr/lib64/python3.8/encodings/ (stored 0%)\n",
      "updating: usr/lib64/python3.8/encodings/cp1253.py (deflated 76%)\n",
      "updating: usr/lib64/python3.8/encodings/iso8859_3.py (deflated 77%)\n",
      "updating: usr/lib64/python3.8/encodings/cp850.py (deflated 80%)\n",
      "updating: usr/lib64/python3.8/encodings/iso8859_5.py (deflated 78%)\n",
      "updating: usr/lib64/python3.8/encodings/ascii.py (deflated 61%)\n",
      "updating: usr/lib64/python3.8/encodings/shift_jis.py (deflated 65%)\n",
      "updating: usr/lib64/python3.8/encodings/koi8_u.py (deflated 77%)\n",
      "updating: usr/lib64/python3.8/encodings/cp863.py (deflated 80%)\n",
      "updating: usr/lib64/python3.8/encodings/cp864.py (deflated 80%)\n",
      "updating: usr/lib64/python3.8/encodings/gbk.py (deflated 65%)\n",
      "updating: usr/lib64/python3.8/encodings/mac_latin2.py (deflated 77%)\n",
      "updating: usr/lib64/python3.8/encodings/iso8859_11.py (deflated 76%)\n",
      "updating: usr/lib64/python3.8/encodings/cp1254.py (deflated 76%)\n",
      "updating: usr/lib64/python3.8/encodings/cp874.py (deflated 76%)\n",
      "updating: usr/lib64/python3.8/encodings/cp1006.py (deflated 78%)\n",
      "updating: usr/lib64/python3.8/encodings/cp500.py (deflated 76%)\n",
      "updating: usr/lib64/python3.8/encodings/iso8859_15.py (deflated 77%)\n",
      "updating: usr/lib64/python3.8/encodings/cp1252.py (deflated 76%)\n",
      "updating: usr/lib64/python3.8/encodings/latin_1.py (deflated 60%)\n",
      "updating: usr/lib64/python3.8/encodings/mac_farsi.py (deflated 79%)\n",
      "updating: usr/lib64/python3.8/encodings/cp737.py (deflated 81%)\n",
      "updating: usr/lib64/python3.8/encodings/iso8859_9.py (deflated 77%)\n",
      "updating: usr/lib64/python3.8/encodings/cp856.py (deflated 76%)\n",
      "updating: usr/lib64/python3.8/encodings/cp866.py (deflated 81%)\n",
      "updating: usr/lib64/python3.8/encodings/mac_turkish.py (deflated 77%)\n",
      "updating: usr/lib64/python3.8/encodings/utf_16_be.py (deflated 59%)\n",
      "updating: usr/lib64/python3.8/encodings/raw_unicode_escape.py (deflated 60%)\n",
      "updating: usr/lib64/python3.8/encodings/idna.py (deflated 75%)\n",
      "updating: usr/lib64/python3.8/encodings/hp_roman8.py (deflated 76%)\n",
      "updating: usr/lib64/python3.8/encodings/cp861.py (deflated 80%)\n",
      "updating: usr/lib64/python3.8/encodings/iso8859_13.py (deflated 77%)\n",
      "updating: usr/lib64/python3.8/encodings/gb2312.py (deflated 65%)\n",
      "updating: usr/lib64/python3.8/encodings/base64_codec.py (deflated 68%)\n",
      "updating: usr/lib64/python3.8/encodings/koi8_t.py (deflated 77%)\n",
      "updating: usr/lib64/python3.8/encodings/rot_13.py (deflated 66%)\n",
      "updating: usr/lib64/python3.8/encodings/cp1251.py (deflated 77%)\n",
      "updating: usr/lib64/python3.8/encodings/uu_codec.py (deflated 63%)\n",
      "updating: usr/lib64/python3.8/encodings/charmap.py (deflated 68%)\n",
      "updating: usr/lib64/python3.8/encodings/cp858.py (deflated 80%)\n",
      "updating: usr/lib64/python3.8/encodings/utf_8_sig.py (deflated 75%)\n",
      "updating: usr/lib64/python3.8/encodings/iso2022_jp_ext.py (deflated 65%)\n",
      "updating: usr/lib64/python3.8/encodings/cp1125.py (deflated 81%)\n",
      "updating: usr/lib64/python3.8/encodings/cp869.py (deflated 80%)\n",
      "updating: usr/lib64/python3.8/encodings/aliases.py (deflated 80%)\n",
      "updating: usr/lib64/python3.8/encodings/iso2022_jp_1.py (deflated 65%)\n",
      "updating: usr/lib64/python3.8/encodings/mac_iceland.py (deflated 77%)\n",
      "updating: usr/lib64/python3.8/encodings/euc_jisx0213.py (deflated 65%)\n",
      "updating: usr/lib64/python3.8/encodings/euc_kr.py (deflated 65%)\n",
      "updating: usr/lib64/python3.8/encodings/cp855.py (deflated 81%)\n",
      "updating: usr/lib64/python3.8/encodings/iso2022_jp_2.py (deflated 65%)\n",
      "updating: usr/lib64/python3.8/encodings/bz2_codec.py (deflated 69%)\n",
      "updating: usr/lib64/python3.8/encodings/cp875.py (deflated 76%)\n",
      "updating: usr/lib64/python3.8/encodings/mac_romanian.py (deflated 77%)\n",
      "updating: usr/lib64/python3.8/encodings/cp1257.py (deflated 77%)\n",
      "updating: usr/lib64/python3.8/encodings/ptcp154.py (deflated 77%)\n",
      "updating: usr/lib64/python3.8/encodings/cp437.py (deflated 80%)\n",
      "updating: usr/lib64/python3.8/encodings/punycode.py (deflated 68%)\n",
      "updating: usr/lib64/python3.8/encodings/mac_cyrillic.py (deflated 78%)\n",
      "updating: usr/lib64/python3.8/encodings/__pycache__/ (stored 0%)\n",
      "updating: usr/lib64/python3.8/encodings/__pycache__/cp858.cpython-38.pyc (deflated 54%)\n",
      "updating: usr/lib64/python3.8/encodings/__pycache__/iso2022_jp_3.cpython-38.pyc (deflated 56%)\n",
      "updating: usr/lib64/python3.8/encodings/__pycache__/kz1048.cpython-38.pyc (deflated 45%)\n",
      "updating: usr/lib64/python3.8/encodings/__pycache__/utf_16.cpython-38.opt-1.pyc (deflated 59%)\n",
      "updating: usr/lib64/python3.8/encodings/__pycache__/undefined.cpython-38.opt-1.pyc (deflated 55%)\n",
      "updating: usr/lib64/python3.8/encodings/__pycache__/cp866.cpython-38.opt-1.pyc (deflated 54%)\n",
      "updating: usr/lib64/python3.8/encodings/__pycache__/mac_romanian.cpython-38.opt-1.pyc (deflated 44%)\n",
      "updating: usr/lib64/python3.8/encodings/__pycache__/koi8_r.cpython-38.pyc (deflated 45%)\n",
      "updating: usr/lib64/python3.8/encodings/__pycache__/johab.cpython-38.opt-2.pyc (deflated 56%)\n",
      "updating: usr/lib64/python3.8/encodings/__pycache__/koi8_t.cpython-38.opt-1.pyc (deflated 47%)\n",
      "updating: usr/lib64/python3.8/encodings/__pycache__/iso8859_9.cpython-38.opt-2.pyc (deflated 47%)\n",
      "updating: usr/lib64/python3.8/encodings/__pycache__/mac_greek.cpython-38.opt-1.pyc (deflated 45%)\n",
      "updating: usr/lib64/python3.8/encodings/__pycache__/cp1006.cpython-38.opt-2.pyc (deflated 46%)\n",
      "updating: usr/lib64/python3.8/encodings/__pycache__/tis_620.cpython-38.opt-1.pyc (deflated 46%)\n",
      "updating: usr/lib64/python3.8/encodings/__pycache__/uu_codec.cpython-38.opt-2.pyc (deflated 51%)\n",
      "updating: usr/lib64/python3.8/encodings/__pycache__/punycode.cpython-38.opt-2.pyc (deflated 50%)\n",
      "updating: usr/lib64/python3.8/encodings/__pycache__/mac_roman.cpython-38.opt-2.pyc (deflated 46%)\n",
      "updating: usr/lib64/python3.8/encodings/__pycache__/shift_jis_2004.cpython-38.opt-1.pyc (deflated 56%)\n",
      "updating: usr/lib64/python3.8/encodings/__pycache__/cp1006.cpython-38.pyc (deflated 45%)\n",
      "updating: usr/lib64/python3.8/encodings/__pycache__/cp1026.cpython-38.opt-1.pyc (deflated 46%)\n",
      "updating: usr/lib64/python3.8/encodings/__pycache__/zlib_codec.cpython-38.opt-2.pyc (deflated 63%)\n",
      "updating: usr/lib64/python3.8/encodings/__pycache__/cp775.cpython-38.opt-2.pyc (deflated 53%)\n",
      "updating: usr/lib64/python3.8/encodings/__pycache__/cp037.cpython-38.opt-2.pyc (deflated 48%)\n",
      "updating: usr/lib64/python3.8/encodings/__pycache__/cp1258.cpython-38.pyc (deflated 45%)\n",
      "updating: usr/lib64/python3.8/encodings/__pycache__/cp950.cpython-38.opt-1.pyc (deflated 56%)\n",
      "updating: usr/lib64/python3.8/encodings/__pycache__/iso8859_6.cpython-38.opt-1.pyc (deflated 49%)\n",
      "updating: usr/lib64/python3.8/encodings/__pycache__/mac_centeuro.cpython-38.opt-1.pyc (deflated 45%)\n",
      "updating: usr/lib64/python3.8/encodings/__pycache__/cp866.cpython-38.opt-2.pyc (deflated 55%)\n",
      "updating: usr/lib64/python3.8/encodings/__pycache__/cp869.cpython-38.opt-1.pyc (deflated 53%)\n",
      "updating: usr/lib64/python3.8/encodings/__pycache__/johab.cpython-38.pyc (deflated 56%)\n",
      "updating: usr/lib64/python3.8/encodings/__pycache__/palmos.cpython-38.opt-1.pyc (deflated 45%)\n",
      "updating: usr/lib64/python3.8/encodings/__pycache__/iso8859_3.cpython-38.opt-2.pyc (deflated 47%)\n",
      "updating: usr/lib64/python3.8/encodings/__pycache__/iso8859_11.cpython-38.pyc (deflated 46%)\n",
      "updating: usr/lib64/python3.8/encodings/__pycache__/ptcp154.cpython-38.opt-2.pyc (deflated 46%)\n",
      "updating: usr/lib64/python3.8/encodings/__pycache__/tis_620.cpython-38.opt-2.pyc (deflated 47%)\n",
      "updating: usr/lib64/python3.8/encodings/__pycache__/idna.cpython-38.pyc (deflated 51%)\n",
      "updating: usr/lib64/python3.8/encodings/__pycache__/euc_jisx0213.cpython-38.opt-2.pyc (deflated 56%)\n",
      "updating: usr/lib64/python3.8/encodings/__pycache__/iso8859_5.cpython-38.pyc (deflated 46%)\n",
      "updating: usr/lib64/python3.8/encodings/__pycache__/iso2022_jp_2004.cpython-38.opt-1.pyc (deflated 56%)\n",
      "updating: usr/lib64/python3.8/encodings/__pycache__/cp1253.cpython-38.pyc (deflated 46%)\n",
      "updating: usr/lib64/python3.8/encodings/__pycache__/cp865.cpython-38.opt-1.pyc (deflated 53%)\n",
      "updating: usr/lib64/python3.8/encodings/__pycache__/iso8859_13.cpython-38.opt-1.pyc (deflated 45%)\n",
      "updating: usr/lib64/python3.8/encodings/__pycache__/cp1255.cpython-38.pyc (deflated 46%)\n",
      "updating: usr/lib64/python3.8/encodings/__pycache__/cp852.cpython-38.opt-1.pyc (deflated 52%)\n",
      "updating: usr/lib64/python3.8/encodings/__pycache__/cp1256.cpython-38.opt-1.pyc (deflated 45%)\n",
      "updating: usr/lib64/python3.8/encodings/__pycache__/latin_1.cpython-38.opt-1.pyc (deflated 55%)\n",
      "updating: usr/lib64/python3.8/encodings/__pycache__/iso8859_1.cpython-38.opt-2.pyc (deflated 48%)\n"
     ]
    },
    {
     "name": "stdout",
     "output_type": "stream",
     "text": [
      "updating: usr/lib64/python3.8/encodings/__pycache__/punycode.cpython-38.pyc (deflated 49%)\r\n",
      "updating: usr/lib64/python3.8/encodings/__pycache__/cp857.cpython-38.pyc (deflated 54%)\r\n",
      "updating: usr/lib64/python3.8/encodings/__pycache__/cp1257.cpython-38.opt-2.pyc (deflated 47%)\r\n",
      "updating: usr/lib64/python3.8/encodings/__pycache__/utf_32_le.cpython-38.pyc (deflated 54%)\r\n",
      "updating: usr/lib64/python3.8/encodings/__pycache__/base64_codec.cpython-38.opt-2.pyc (deflated 60%)\r\n",
      "updating: usr/lib64/python3.8/encodings/__pycache__/quopri_codec.cpython-38.pyc (deflated 56%)\r\n",
      "updating: usr/lib64/python3.8/encodings/__pycache__/iso8859_16.cpython-38.opt-1.pyc (deflated 45%)\r\n",
      "updating: usr/lib64/python3.8/encodings/__pycache__/utf_32.cpython-38.opt-2.pyc (deflated 60%)\r\n",
      "updating: usr/lib64/python3.8/encodings/__pycache__/palmos.cpython-38.pyc (deflated 45%)\r\n",
      "updating: usr/lib64/python3.8/encodings/__pycache__/palmos.cpython-38.opt-2.pyc (deflated 47%)\r\n",
      "updating: usr/lib64/python3.8/encodings/__pycache__/mac_centeuro.cpython-38.opt-2.pyc (deflated 46%)\r\n",
      "updating: usr/lib64/python3.8/encodings/__pycache__/cp424.cpython-38.pyc (deflated 48%)\r\n",
      "updating: usr/lib64/python3.8/encodings/__pycache__/cp950.cpython-38.pyc (deflated 56%)\r\n",
      "updating: usr/lib64/python3.8/encodings/__pycache__/cp500.cpython-38.pyc (deflated 46%)\r\n",
      "updating: usr/lib64/python3.8/encodings/__pycache__/utf_7.cpython-38.opt-2.pyc (deflated 55%)\r\n",
      "updating: usr/lib64/python3.8/encodings/__pycache__/cp437.cpython-38.opt-1.pyc (deflated 53%)\r\n",
      "updating: usr/lib64/python3.8/encodings/__pycache__/cp1258.cpython-38.opt-2.pyc (deflated 47%)\r\n",
      "updating: usr/lib64/python3.8/encodings/__pycache__/utf_16.cpython-38.opt-2.pyc (deflated 61%)\r\n",
      "updating: usr/lib64/python3.8/encodings/__pycache__/mac_croatian.cpython-38.pyc (deflated 45%)\r\n",
      "updating: usr/lib64/python3.8/encodings/__pycache__/cp855.cpython-38.pyc (deflated 53%)\r\n",
      "updating: usr/lib64/python3.8/encodings/__pycache__/utf_32_be.cpython-38.pyc (deflated 54%)\r\n",
      "updating: usr/lib64/python3.8/encodings/__pycache__/cp855.cpython-38.opt-1.pyc (deflated 53%)\r\n",
      "updating: usr/lib64/python3.8/encodings/__pycache__/raw_unicode_escape.cpython-38.opt-2.pyc (deflated 57%)\r\n",
      "updating: usr/lib64/python3.8/encodings/__pycache__/unicode_escape.cpython-38.opt-2.pyc (deflated 57%)\r\n",
      "updating: usr/lib64/python3.8/encodings/__pycache__/iso8859_9.cpython-38.opt-1.pyc (deflated 46%)\r\n",
      "updating: usr/lib64/python3.8/encodings/__pycache__/cp932.cpython-38.opt-2.pyc (deflated 56%)\r\n",
      "updating: usr/lib64/python3.8/encodings/__pycache__/cp875.cpython-38.opt-2.pyc (deflated 47%)\r\n",
      "updating: usr/lib64/python3.8/encodings/__pycache__/iso2022_jp.cpython-38.opt-2.pyc (deflated 56%)\r\n",
      "updating: usr/lib64/python3.8/encodings/__pycache__/oem.cpython-38.opt-2.pyc (deflated 54%)\r\n",
      "updating: usr/lib64/python3.8/encodings/__pycache__/koi8_u.cpython-38.pyc (deflated 45%)\r\n",
      "updating: usr/lib64/python3.8/encodings/__pycache__/cp1252.cpython-38.opt-2.pyc (deflated 47%)\r\n",
      "updating: usr/lib64/python3.8/encodings/__pycache__/__init__.cpython-38.opt-1.pyc (deflated 44%)\r\n",
      "updating: usr/lib64/python3.8/encodings/__pycache__/iso8859_13.cpython-38.pyc (deflated 45%)\r\n",
      "updating: usr/lib64/python3.8/encodings/__pycache__/mac_arabic.cpython-38.opt-2.pyc (deflated 54%)\r\n",
      "updating: usr/lib64/python3.8/encodings/__pycache__/cp1250.cpython-38.pyc (deflated 45%)\r\n",
      "updating: usr/lib64/python3.8/encodings/__pycache__/cp1257.cpython-38.pyc (deflated 46%)\r\n",
      "updating: usr/lib64/python3.8/encodings/__pycache__/euc_jisx0213.cpython-38.opt-1.pyc (deflated 56%)\r\n",
      "updating: usr/lib64/python3.8/encodings/__pycache__/cp437.cpython-38.opt-2.pyc (deflated 53%)\r\n",
      "updating: usr/lib64/python3.8/encodings/__pycache__/cp864.cpython-38.pyc (deflated 53%)\r\n",
      "updating: usr/lib64/python3.8/encodings/__pycache__/hp_roman8.cpython-38.opt-1.pyc (deflated 44%)\r\n",
      "updating: usr/lib64/python3.8/encodings/__pycache__/cp737.cpython-38.opt-1.pyc (deflated 54%)\r\n",
      "updating: usr/lib64/python3.8/encodings/__pycache__/kz1048.cpython-38.opt-2.pyc (deflated 46%)\r\n",
      "updating: usr/lib64/python3.8/encodings/__pycache__/cp869.cpython-38.pyc (deflated 53%)\r\n",
      "updating: usr/lib64/python3.8/encodings/__pycache__/mac_cyrillic.cpython-38.pyc (deflated 45%)\r\n",
      "updating: usr/lib64/python3.8/encodings/__pycache__/mac_cyrillic.cpython-38.opt-2.pyc (deflated 46%)\r\n",
      "updating: usr/lib64/python3.8/encodings/__pycache__/cp1026.cpython-38.pyc (deflated 46%)\r\n",
      "updating: usr/lib64/python3.8/encodings/__pycache__/mac_turkish.cpython-38.pyc (deflated 44%)\r\n",
      "updating: usr/lib64/python3.8/encodings/__pycache__/iso8859_1.cpython-38.pyc (deflated 46%)\r\n",
      "updating: usr/lib64/python3.8/encodings/__pycache__/cp850.cpython-38.pyc (deflated 54%)\r\n",
      "updating: usr/lib64/python3.8/encodings/__pycache__/iso2022_jp_2004.cpython-38.opt-2.pyc (deflated 56%)\r\n",
      "updating: usr/lib64/python3.8/encodings/__pycache__/cp875.cpython-38.pyc (deflated 46%)\r\n",
      "updating: usr/lib64/python3.8/encodings/__pycache__/mac_roman.cpython-38.pyc (deflated 45%)\r\n",
      "updating: usr/lib64/python3.8/encodings/__pycache__/rot_13.cpython-38.opt-1.pyc (deflated 54%)\r\n",
      "updating: usr/lib64/python3.8/encodings/__pycache__/cp861.cpython-38.opt-1.pyc (deflated 52%)\r\n",
      "updating: usr/lib64/python3.8/encodings/__pycache__/cp1254.cpython-38.opt-1.pyc (deflated 45%)\r\n",
      "updating: usr/lib64/python3.8/encodings/__pycache__/cp862.cpython-38.opt-1.pyc (deflated 53%)\r\n",
      "updating: usr/lib64/python3.8/encodings/__pycache__/oem.cpython-38.opt-1.pyc (deflated 53%)\r\n",
      "updating: usr/lib64/python3.8/encodings/__pycache__/bz2_codec.cpython-38.pyc (deflated 59%)\r\n",
      "updating: usr/lib64/python3.8/encodings/__pycache__/iso8859_2.cpython-38.opt-2.pyc (deflated 47%)\r\n",
      "updating: usr/lib64/python3.8/encodings/__pycache__/__init__.cpython-38.opt-2.pyc (deflated 39%)\r\n",
      "updating: usr/lib64/python3.8/encodings/__pycache__/iso8859_8.cpython-38.opt-1.pyc (deflated 49%)\r\n",
      "updating: usr/lib64/python3.8/encodings/__pycache__/gb18030.cpython-38.opt-2.pyc (deflated 56%)\r\n",
      "updating: usr/lib64/python3.8/encodings/__pycache__/iso2022_kr.cpython-38.opt-1.pyc (deflated 56%)\r\n",
      "updating: usr/lib64/python3.8/encodings/__pycache__/cp1256.cpython-38.opt-2.pyc (deflated 46%)\r\n",
      "updating: usr/lib64/python3.8/encodings/__pycache__/rot_13.cpython-38.pyc (deflated 54%)\r\n",
      "updating: usr/lib64/python3.8/encodings/__pycache__/iso8859_15.cpython-38.opt-1.pyc (deflated 46%)\r\n",
      "updating: usr/lib64/python3.8/encodings/__pycache__/big5hkscs.cpython-38.pyc (deflated 56%)\r\n",
      "updating: usr/lib64/python3.8/encodings/__pycache__/iso8859_7.cpython-38.opt-2.pyc (deflated 47%)\r\n",
      "updating: usr/lib64/python3.8/encodings/__pycache__/ascii.cpython-38.opt-2.pyc (deflated 59%)\r\n",
      "updating: usr/lib64/python3.8/encodings/__pycache__/cp1255.cpython-38.opt-1.pyc (deflated 46%)\r\n",
      "updating: usr/lib64/python3.8/encodings/__pycache__/ptcp154.cpython-38.pyc (deflated 44%)\r\n",
      "updating: usr/lib64/python3.8/encodings/__pycache__/cp1251.cpython-38.opt-2.pyc (deflated 47%)\r\n",
      "updating: usr/lib64/python3.8/encodings/__pycache__/iso8859_3.cpython-38.pyc (deflated 46%)\r\n",
      "updating: usr/lib64/python3.8/encodings/__pycache__/cp862.cpython-38.opt-2.pyc (deflated 53%)\r\n",
      "updating: usr/lib64/python3.8/encodings/__pycache__/utf_8.cpython-38.opt-2.pyc (deflated 55%)\r\n",
      "updating: usr/lib64/python3.8/encodings/__pycache__/cp932.cpython-38.pyc (deflated 56%)\r\n",
      "updating: usr/lib64/python3.8/encodings/__pycache__/cp1253.cpython-38.opt-2.pyc (deflated 48%)\r\n",
      "updating: usr/lib64/python3.8/encodings/__pycache__/euc_kr.cpython-38.opt-1.pyc (deflated 56%)\r\n",
      "updating: usr/lib64/python3.8/encodings/__pycache__/euc_jis_2004.cpython-38.opt-2.pyc (deflated 56%)\r\n",
      "updating: usr/lib64/python3.8/encodings/__pycache__/cp1258.cpython-38.opt-1.pyc (deflated 45%)\r\n",
      "updating: usr/lib64/python3.8/encodings/__pycache__/shift_jis_2004.cpython-38.pyc (deflated 56%)\r\n",
      "updating: usr/lib64/python3.8/encodings/__pycache__/koi8_t.cpython-38.opt-2.pyc (deflated 48%)\r\n",
      "updating: usr/lib64/python3.8/encodings/__pycache__/cp865.cpython-38.pyc (deflated 53%)\r\n",
      "updating: usr/lib64/python3.8/encodings/__pycache__/koi8_u.cpython-38.opt-2.pyc (deflated 46%)\r\n",
      "updating: usr/lib64/python3.8/encodings/__pycache__/cp775.cpython-38.pyc (deflated 52%)\r\n",
      "updating: usr/lib64/python3.8/encodings/__pycache__/shift_jisx0213.cpython-38.pyc (deflated 55%)\r\n",
      "updating: usr/lib64/python3.8/encodings/__pycache__/iso8859_3.cpython-38.opt-1.pyc (deflated 46%)\r\n",
      "updating: usr/lib64/python3.8/encodings/__pycache__/cp857.cpython-38.opt-1.pyc (deflated 54%)\r\n",
      "updating: usr/lib64/python3.8/encodings/__pycache__/cp950.cpython-38.opt-2.pyc (deflated 56%)\r\n",
      "updating: usr/lib64/python3.8/encodings/__pycache__/cp874.cpython-38.opt-2.pyc (deflated 49%)\r\n",
      "updating: usr/lib64/python3.8/encodings/__pycache__/utf_16_le.cpython-38.opt-2.pyc (deflated 55%)\r\n",
      "updating: usr/lib64/python3.8/encodings/__pycache__/cp1250.cpython-38.opt-1.pyc (deflated 45%)\r\n",
      "updating: usr/lib64/python3.8/encodings/__pycache__/mbcs.cpython-38.opt-2.pyc (deflated 54%)\r\n",
      "updating: usr/lib64/python3.8/encodings/__pycache__/iso2022_jp_3.cpython-38.opt-2.pyc (deflated 56%)\r\n",
      "updating: usr/lib64/python3.8/encodings/__pycache__/iso8859_10.cpython-38.opt-1.pyc (deflated 46%)\r\n",
      "updating: usr/lib64/python3.8/encodings/__pycache__/cp500.cpython-38.opt-2.pyc (deflated 48%)\r\n",
      "updating: usr/lib64/python3.8/encodings/__pycache__/cp1140.cpython-38.pyc (deflated 47%)\r\n",
      "updating: usr/lib64/python3.8/encodings/__pycache__/mac_farsi.cpython-38.opt-1.pyc (deflated 46%)\r\n",
      "updating: usr/lib64/python3.8/encodings/__pycache__/mac_iceland.cpython-38.opt-2.pyc (deflated 46%)\r\n",
      "updating: usr/lib64/python3.8/encodings/__pycache__/mac_latin2.cpython-38.opt-2.pyc (deflated 46%)\r\n",
      "updating: usr/lib64/python3.8/encodings/__pycache__/base64_codec.cpython-38.pyc (deflated 58%)\r\n",
      "updating: usr/lib64/python3.8/encodings/__pycache__/cp858.cpython-38.opt-2.pyc (deflated 55%)\r\n",
      "updating: usr/lib64/python3.8/encodings/__pycache__/cp866.cpython-38.pyc (deflated 54%)\r\n",
      "updating: usr/lib64/python3.8/encodings/__pycache__/iso8859_4.cpython-38.opt-2.pyc (deflated 47%)\r\n",
      "updating: usr/lib64/python3.8/encodings/__pycache__/mac_iceland.cpython-38.pyc (deflated 45%)\r\n",
      "updating: usr/lib64/python3.8/encodings/__pycache__/ascii.cpython-38.opt-1.pyc (deflated 55%)\r\n",
      "updating: usr/lib64/python3.8/encodings/__pycache__/cp861.cpython-38.pyc (deflated 52%)\r\n",
      "updating: usr/lib64/python3.8/encodings/__pycache__/euc_jp.cpython-38.opt-1.pyc (deflated 56%)\r\n",
      "updating: usr/lib64/python3.8/encodings/__pycache__/euc_jp.cpython-38.opt-2.pyc (deflated 56%)\r\n",
      "updating: usr/lib64/python3.8/encodings/__pycache__/cp273.cpython-38.pyc (deflated 47%)\r\n",
      "updating: usr/lib64/python3.8/encodings/__pycache__/iso2022_jp_3.cpython-38.opt-1.pyc (deflated 56%)\r\n",
      "updating: usr/lib64/python3.8/encodings/__pycache__/gb18030.cpython-38.pyc (deflated 56%)\r\n",
      "updating: usr/lib64/python3.8/encodings/__pycache__/cp856.cpython-38.opt-2.pyc (deflated 50%)\r\n",
      "updating: usr/lib64/python3.8/encodings/__pycache__/iso8859_10.cpython-38.pyc (deflated 46%)\r\n",
      "updating: usr/lib64/python3.8/encodings/__pycache__/hex_codec.cpython-38.opt-2.pyc (deflated 59%)\r\n",
      "updating: usr/lib64/python3.8/encodings/__pycache__/cp273.cpython-38.opt-2.pyc (deflated 48%)\r\n",
      "updating: usr/lib64/python3.8/encodings/__pycache__/cp856.cpython-38.opt-1.pyc (deflated 48%)\r\n",
      "updating: usr/lib64/python3.8/encodings/__pycache__/iso8859_14.cpython-38.opt-1.pyc (deflated 45%)\r\n",
      "updating: usr/lib64/python3.8/encodings/__pycache__/cp1256.cpython-38.pyc (deflated 45%)\r\n",
      "updating: usr/lib64/python3.8/encodings/__pycache__/cp860.cpython-38.opt-1.pyc (deflated 53%)\r\n",
      "updating: usr/lib64/python3.8/encodings/__pycache__/cp775.cpython-38.opt-1.pyc (deflated 52%)\r\n",
      "updating: usr/lib64/python3.8/encodings/__pycache__/iso8859_16.cpython-38.pyc (deflated 45%)\r\n",
      "updating: usr/lib64/python3.8/encodings/__pycache__/cp850.cpython-38.opt-2.pyc (deflated 55%)\r\n",
      "updating: usr/lib64/python3.8/encodings/__pycache__/iso2022_jp_1.cpython-38.opt-2.pyc (deflated 56%)\r\n",
      "updating: usr/lib64/python3.8/encodings/__pycache__/iso2022_jp.cpython-38.pyc (deflated 56%)\r\n",
      "updating: usr/lib64/python3.8/encodings/__pycache__/cp1254.cpython-38.opt-2.pyc (deflated 47%)\r\n",
      "updating: usr/lib64/python3.8/encodings/__pycache__/iso8859_2.cpython-38.pyc (deflated 45%)\r\n",
      "updating: usr/lib64/python3.8/encodings/__pycache__/cp1125.cpython-38.pyc (deflated 54%)\r\n",
      "updating: usr/lib64/python3.8/encodings/__pycache__/iso8859_11.cpython-38.opt-1.pyc (deflated 46%)\r\n",
      "updating: usr/lib64/python3.8/encodings/__pycache__/cp424.cpython-38.opt-1.pyc (deflated 48%)\r\n",
      "updating: usr/lib64/python3.8/encodings/__pycache__/base64_codec.cpython-38.opt-1.pyc (deflated 58%)\r\n",
      "updating: usr/lib64/python3.8/encodings/__pycache__/cp500.cpython-38.opt-1.pyc (deflated 46%)\r\n",
      "updating: usr/lib64/python3.8/encodings/__pycache__/iso2022_jp_2.cpython-38.opt-2.pyc (deflated 56%)\r\n",
      "updating: usr/lib64/python3.8/encodings/__pycache__/hp_roman8.cpython-38.opt-2.pyc (deflated 47%)\r\n",
      "updating: usr/lib64/python3.8/encodings/__pycache__/utf_32_le.cpython-38.opt-2.pyc (deflated 55%)\r\n",
      "updating: usr/lib64/python3.8/encodings/__pycache__/cp1254.cpython-38.pyc (deflated 45%)\r\n",
      "updating: usr/lib64/python3.8/encodings/__pycache__/cp1125.cpython-38.opt-2.pyc (deflated 55%)\r\n",
      "updating: usr/lib64/python3.8/encodings/__pycache__/utf_16_be.cpython-38.pyc (deflated 52%)\r\n",
      "updating: usr/lib64/python3.8/encodings/__pycache__/cp1026.cpython-38.opt-2.pyc (deflated 48%)\r\n",
      "updating: usr/lib64/python3.8/encodings/__pycache__/cp424.cpython-38.opt-2.pyc (deflated 50%)\r\n",
      "updating: usr/lib64/python3.8/encodings/__pycache__/iso8859_7.cpython-38.opt-1.pyc (deflated 46%)\r\n",
      "updating: usr/lib64/python3.8/encodings/__pycache__/zlib_codec.cpython-38.opt-1.pyc (deflated 62%)\r\n",
      "updating: usr/lib64/python3.8/encodings/__pycache__/cp850.cpython-38.opt-1.pyc (deflated 54%)\r\n",
      "updating: usr/lib64/python3.8/encodings/__pycache__/mac_greek.cpython-38.opt-2.pyc (deflated 46%)\r\n",
      "updating: usr/lib64/python3.8/encodings/__pycache__/idna.cpython-38.opt-2.pyc (deflated 51%)\r\n",
      "updating: usr/lib64/python3.8/encodings/__pycache__/utf_8.cpython-38.pyc (deflated 51%)\r\n",
      "updating: usr/lib64/python3.8/encodings/__pycache__/mac_turkish.cpython-38.opt-1.pyc (deflated 44%)\r\n",
      "updating: usr/lib64/python3.8/encodings/__pycache__/koi8_t.cpython-38.pyc (deflated 47%)\r\n",
      "updating: usr/lib64/python3.8/encodings/__pycache__/cp949.cpython-38.opt-2.pyc (deflated 56%)\r\n",
      "updating: usr/lib64/python3.8/encodings/__pycache__/iso8859_4.cpython-38.pyc (deflated 46%)\r\n",
      "updating: usr/lib64/python3.8/encodings/__pycache__/latin_1.cpython-38.pyc (deflated 55%)\r\n",
      "updating: usr/lib64/python3.8/encodings/__pycache__/utf_8.cpython-38.opt-1.pyc (deflated 51%)\r\n",
      "updating: usr/lib64/python3.8/encodings/__pycache__/euc_kr.cpython-38.pyc (deflated 56%)\r\n",
      "updating: usr/lib64/python3.8/encodings/__pycache__/big5.cpython-38.pyc (deflated 56%)\r\n",
      "updating: usr/lib64/python3.8/encodings/__pycache__/cp864.cpython-38.opt-2.pyc (deflated 53%)\r\n",
      "updating: usr/lib64/python3.8/encodings/__pycache__/cp437.cpython-38.pyc (deflated 53%)\r\n",
      "updating: usr/lib64/python3.8/encodings/__pycache__/utf_32.cpython-38.pyc (deflated 60%)\r\n",
      "updating: usr/lib64/python3.8/encodings/__pycache__/iso8859_7.cpython-38.pyc (deflated 46%)\r\n",
      "updating: usr/lib64/python3.8/encodings/__pycache__/mac_greek.cpython-38.pyc (deflated 45%)\r\n"
     ]
    },
    {
     "name": "stdout",
     "output_type": "stream",
     "text": [
      "updating: usr/lib64/python3.8/encodings/__pycache__/cp855.cpython-38.opt-2.pyc (deflated 54%)\r\n",
      "updating: usr/lib64/python3.8/encodings/__pycache__/mac_farsi.cpython-38.pyc (deflated 46%)\r\n",
      "updating: usr/lib64/python3.8/encodings/__pycache__/unicode_escape.cpython-38.pyc (deflated 54%)\r\n",
      "updating: usr/lib64/python3.8/encodings/__pycache__/iso8859_15.cpython-38.opt-2.pyc (deflated 47%)\r\n",
      "updating: usr/lib64/python3.8/encodings/__pycache__/utf_16_le.cpython-38.opt-1.pyc (deflated 52%)\r\n",
      "updating: usr/lib64/python3.8/encodings/__pycache__/mac_arabic.cpython-38.pyc (deflated 53%)\r\n",
      "updating: usr/lib64/python3.8/encodings/__pycache__/aliases.cpython-38.opt-1.pyc (deflated 61%)\r\n",
      "updating: usr/lib64/python3.8/encodings/__pycache__/iso8859_16.cpython-38.opt-2.pyc (deflated 46%)\r\n",
      "updating: usr/lib64/python3.8/encodings/__pycache__/mac_romanian.cpython-38.pyc (deflated 44%)\r\n",
      "updating: usr/lib64/python3.8/encodings/__pycache__/cp1252.cpython-38.opt-1.pyc (deflated 45%)\r\n",
      "updating: usr/lib64/python3.8/encodings/__pycache__/utf_32_le.cpython-38.opt-1.pyc (deflated 54%)\r\n",
      "updating: usr/lib64/python3.8/encodings/__pycache__/iso8859_13.cpython-38.opt-2.pyc (deflated 47%)\r\n",
      "updating: usr/lib64/python3.8/encodings/__pycache__/cp720.cpython-38.opt-2.pyc (deflated 46%)\r\n",
      "updating: usr/lib64/python3.8/encodings/__pycache__/cp862.cpython-38.pyc (deflated 53%)\r\n",
      "updating: usr/lib64/python3.8/encodings/__pycache__/iso8859_1.cpython-38.opt-1.pyc (deflated 46%)\r\n",
      "updating: usr/lib64/python3.8/encodings/__pycache__/cp720.cpython-38.opt-1.pyc (deflated 44%)\r\n",
      "updating: usr/lib64/python3.8/encodings/__pycache__/cp737.cpython-38.pyc (deflated 54%)\r\n",
      "updating: usr/lib64/python3.8/encodings/__pycache__/gbk.cpython-38.pyc (deflated 56%)\r\n",
      "updating: usr/lib64/python3.8/encodings/__pycache__/cp1250.cpython-38.opt-2.pyc (deflated 47%)\r\n",
      "updating: usr/lib64/python3.8/encodings/__pycache__/utf_7.cpython-38.pyc (deflated 53%)\r\n",
      "updating: usr/lib64/python3.8/encodings/__pycache__/gbk.cpython-38.opt-1.pyc (deflated 56%)\r\n",
      "updating: usr/lib64/python3.8/encodings/__pycache__/iso8859_8.cpython-38.opt-2.pyc (deflated 50%)\r\n",
      "updating: usr/lib64/python3.8/encodings/__pycache__/iso8859_4.cpython-38.opt-1.pyc (deflated 46%)\r\n",
      "updating: usr/lib64/python3.8/encodings/__pycache__/cp1251.cpython-38.pyc (deflated 45%)\r\n",
      "updating: usr/lib64/python3.8/encodings/__pycache__/zlib_codec.cpython-38.pyc (deflated 61%)\r\n",
      "updating: usr/lib64/python3.8/encodings/__pycache__/cp949.cpython-38.pyc (deflated 56%)\r\n",
      "updating: usr/lib64/python3.8/encodings/__pycache__/euc_jisx0213.cpython-38.pyc (deflated 56%)\r\n",
      "updating: usr/lib64/python3.8/encodings/__pycache__/charmap.cpython-38.opt-2.pyc (deflated 65%)\r\n",
      "updating: usr/lib64/python3.8/encodings/__pycache__/cp932.cpython-38.opt-1.pyc (deflated 56%)\r\n",
      "updating: usr/lib64/python3.8/encodings/__pycache__/iso8859_14.cpython-38.pyc (deflated 45%)\r\n",
      "updating: usr/lib64/python3.8/encodings/__pycache__/utf_16.cpython-38.pyc (deflated 59%)\r\n",
      "updating: usr/lib64/python3.8/encodings/__pycache__/iso2022_jp_ext.cpython-38.opt-1.pyc (deflated 56%)\r\n",
      "updating: usr/lib64/python3.8/encodings/__pycache__/kz1048.cpython-38.opt-1.pyc (deflated 45%)\r\n",
      "updating: usr/lib64/python3.8/encodings/__pycache__/__init__.cpython-38.pyc (deflated 44%)\r\n",
      "updating: usr/lib64/python3.8/encodings/__pycache__/aliases.cpython-38.opt-2.pyc (deflated 62%)\r\n",
      "updating: usr/lib64/python3.8/encodings/__pycache__/raw_unicode_escape.cpython-38.pyc (deflated 54%)\r\n",
      "updating: usr/lib64/python3.8/encodings/__pycache__/mac_latin2.cpython-38.opt-1.pyc (deflated 44%)\r\n",
      "updating: usr/lib64/python3.8/encodings/__pycache__/mac_turkish.cpython-38.opt-2.pyc (deflated 46%)\r\n",
      "updating: usr/lib64/python3.8/encodings/__pycache__/cp1006.cpython-38.opt-1.pyc (deflated 45%)\r\n",
      "updating: usr/lib64/python3.8/encodings/__pycache__/cp860.cpython-38.pyc (deflated 53%)\r\n",
      "updating: usr/lib64/python3.8/encodings/__pycache__/tis_620.cpython-38.pyc (deflated 46%)\r\n",
      "updating: usr/lib64/python3.8/encodings/__pycache__/iso2022_jp.cpython-38.opt-1.pyc (deflated 56%)\r\n",
      "updating: usr/lib64/python3.8/encodings/__pycache__/shift_jis.cpython-38.opt-1.pyc (deflated 56%)\r\n",
      "updating: usr/lib64/python3.8/encodings/__pycache__/mac_croatian.cpython-38.opt-1.pyc (deflated 45%)\r\n",
      "updating: usr/lib64/python3.8/encodings/__pycache__/utf_8_sig.cpython-38.opt-1.pyc (deflated 61%)\r\n",
      "updating: usr/lib64/python3.8/encodings/__pycache__/bz2_codec.cpython-38.opt-2.pyc (deflated 61%)\r\n",
      "updating: usr/lib64/python3.8/encodings/__pycache__/cp865.cpython-38.opt-2.pyc (deflated 53%)\r\n",
      "updating: usr/lib64/python3.8/encodings/__pycache__/cp1251.cpython-38.opt-1.pyc (deflated 45%)\r\n",
      "updating: usr/lib64/python3.8/encodings/__pycache__/utf_16_be.cpython-38.opt-1.pyc (deflated 52%)\r\n",
      "updating: usr/lib64/python3.8/encodings/__pycache__/mac_croatian.cpython-38.opt-2.pyc (deflated 46%)\r\n",
      "updating: usr/lib64/python3.8/encodings/__pycache__/cp858.cpython-38.opt-1.pyc (deflated 54%)\r\n",
      "updating: usr/lib64/python3.8/encodings/__pycache__/iso2022_jp_2004.cpython-38.pyc (deflated 56%)\r\n",
      "updating: usr/lib64/python3.8/encodings/__pycache__/unicode_escape.cpython-38.opt-1.pyc (deflated 54%)\r\n",
      "updating: usr/lib64/python3.8/encodings/__pycache__/euc_jis_2004.cpython-38.opt-1.pyc (deflated 56%)\r\n",
      "updating: usr/lib64/python3.8/encodings/__pycache__/hz.cpython-38.opt-2.pyc (deflated 56%)\r\n",
      "updating: usr/lib64/python3.8/encodings/__pycache__/uu_codec.cpython-38.opt-1.pyc (deflated 49%)\r\n",
      "updating: usr/lib64/python3.8/encodings/__pycache__/punycode.cpython-38.opt-1.pyc (deflated 49%)\r\n",
      "updating: usr/lib64/python3.8/encodings/__pycache__/cp869.cpython-38.opt-2.pyc (deflated 54%)\r\n",
      "updating: usr/lib64/python3.8/encodings/__pycache__/shift_jis.cpython-38.pyc (deflated 56%)\r\n",
      "updating: usr/lib64/python3.8/encodings/__pycache__/mbcs.cpython-38.pyc (deflated 49%)\r\n",
      "updating: usr/lib64/python3.8/encodings/__pycache__/koi8_u.cpython-38.opt-1.pyc (deflated 45%)\r\n",
      "updating: usr/lib64/python3.8/encodings/__pycache__/big5.cpython-38.opt-1.pyc (deflated 56%)\r\n",
      "updating: usr/lib64/python3.8/encodings/__pycache__/mac_iceland.cpython-38.opt-1.pyc (deflated 45%)\r\n",
      "updating: usr/lib64/python3.8/encodings/__pycache__/cp273.cpython-38.opt-1.pyc (deflated 47%)\r\n",
      "updating: usr/lib64/python3.8/encodings/__pycache__/iso2022_kr.cpython-38.opt-2.pyc (deflated 56%)\r\n",
      "updating: usr/lib64/python3.8/encodings/__pycache__/iso8859_14.cpython-38.opt-2.pyc (deflated 47%)\r\n",
      "updating: usr/lib64/python3.8/encodings/__pycache__/latin_1.cpython-38.opt-2.pyc (deflated 58%)\r\n",
      "updating: usr/lib64/python3.8/encodings/__pycache__/charmap.cpython-38.opt-1.pyc (deflated 61%)\r\n",
      "updating: usr/lib64/python3.8/encodings/__pycache__/koi8_r.cpython-38.opt-1.pyc (deflated 45%)\r\n",
      "updating: usr/lib64/python3.8/encodings/__pycache__/cp863.cpython-38.opt-2.pyc (deflated 53%)\r\n",
      "updating: usr/lib64/python3.8/encodings/__pycache__/hex_codec.cpython-38.pyc (deflated 57%)\r\n",
      "updating: usr/lib64/python3.8/encodings/__pycache__/quopri_codec.cpython-38.opt-1.pyc (deflated 57%)\r\n",
      "updating: usr/lib64/python3.8/encodings/__pycache__/iso8859_6.cpython-38.pyc (deflated 49%)\r\n",
      "updating: usr/lib64/python3.8/encodings/__pycache__/iso8859_15.cpython-38.pyc (deflated 46%)\r\n",
      "updating: usr/lib64/python3.8/encodings/__pycache__/cp857.cpython-38.opt-2.pyc (deflated 54%)\r\n",
      "updating: usr/lib64/python3.8/encodings/__pycache__/iso8859_6.cpython-38.opt-2.pyc (deflated 51%)\r\n",
      "updating: usr/lib64/python3.8/encodings/__pycache__/iso2022_jp_2.cpython-38.pyc (deflated 56%)\r\n",
      "updating: usr/lib64/python3.8/encodings/__pycache__/iso2022_jp_2.cpython-38.opt-1.pyc (deflated 56%)\r\n",
      "updating: usr/lib64/python3.8/encodings/__pycache__/utf_32_be.cpython-38.opt-1.pyc (deflated 54%)\r\n",
      "updating: usr/lib64/python3.8/encodings/__pycache__/cp863.cpython-38.opt-1.pyc (deflated 52%)\r\n",
      "updating: usr/lib64/python3.8/encodings/__pycache__/johab.cpython-38.opt-1.pyc (deflated 56%)\r\n",
      "updating: usr/lib64/python3.8/encodings/__pycache__/hz.cpython-38.opt-1.pyc (deflated 56%)\r\n",
      "updating: usr/lib64/python3.8/encodings/__pycache__/idna.cpython-38.opt-1.pyc (deflated 51%)\r\n",
      "updating: usr/lib64/python3.8/encodings/__pycache__/cp1255.cpython-38.opt-2.pyc (deflated 48%)\r\n",
      "updating: usr/lib64/python3.8/encodings/__pycache__/cp861.cpython-38.opt-2.pyc (deflated 53%)\r\n",
      "updating: usr/lib64/python3.8/encodings/__pycache__/cp1140.cpython-38.opt-2.pyc (deflated 48%)\r\n",
      "updating: usr/lib64/python3.8/encodings/__pycache__/big5.cpython-38.opt-2.pyc (deflated 56%)\r\n",
      "updating: usr/lib64/python3.8/encodings/__pycache__/cp1257.cpython-38.opt-1.pyc (deflated 46%)\r\n",
      "updating: usr/lib64/python3.8/encodings/__pycache__/cp852.cpython-38.pyc (deflated 52%)\r\n",
      "updating: usr/lib64/python3.8/encodings/__pycache__/iso8859_2.cpython-38.opt-1.pyc (deflated 45%)\r\n",
      "updating: usr/lib64/python3.8/encodings/__pycache__/iso2022_kr.cpython-38.pyc (deflated 56%)\r\n",
      "updating: usr/lib64/python3.8/encodings/__pycache__/bz2_codec.cpython-38.opt-1.pyc (deflated 59%)\r\n",
      "updating: usr/lib64/python3.8/encodings/__pycache__/hz.cpython-38.pyc (deflated 56%)\r\n",
      "updating: usr/lib64/python3.8/encodings/__pycache__/shift_jisx0213.cpython-38.opt-1.pyc (deflated 55%)\r\n",
      "updating: usr/lib64/python3.8/encodings/__pycache__/mac_arabic.cpython-38.opt-1.pyc (deflated 53%)\r\n",
      "updating: usr/lib64/python3.8/encodings/__pycache__/cp856.cpython-38.pyc (deflated 48%)\r\n",
      "updating: usr/lib64/python3.8/encodings/__pycache__/charmap.cpython-38.pyc (deflated 61%)\r\n",
      "updating: usr/lib64/python3.8/encodings/__pycache__/mbcs.cpython-38.opt-1.pyc (deflated 49%)\r\n",
      "updating: usr/lib64/python3.8/encodings/__pycache__/mac_roman.cpython-38.opt-1.pyc (deflated 45%)\r\n",
      "updating: usr/lib64/python3.8/encodings/__pycache__/cp1253.cpython-38.opt-1.pyc (deflated 46%)\r\n",
      "updating: usr/lib64/python3.8/encodings/__pycache__/gbk.cpython-38.opt-2.pyc (deflated 56%)\r\n",
      "updating: usr/lib64/python3.8/encodings/__pycache__/uu_codec.cpython-38.pyc (deflated 49%)\r\n",
      "updating: usr/lib64/python3.8/encodings/__pycache__/aliases.cpython-38.pyc (deflated 61%)\r\n",
      "updating: usr/lib64/python3.8/encodings/__pycache__/shift_jisx0213.cpython-38.opt-2.pyc (deflated 55%)\r\n",
      "updating: usr/lib64/python3.8/encodings/__pycache__/iso8859_5.cpython-38.opt-1.pyc (deflated 46%)\r\n",
      "updating: usr/lib64/python3.8/encodings/__pycache__/cp1140.cpython-38.opt-1.pyc (deflated 47%)\r\n",
      "updating: usr/lib64/python3.8/encodings/__pycache__/mac_latin2.cpython-38.pyc (deflated 44%)\r\n",
      "updating: usr/lib64/python3.8/encodings/__pycache__/utf_7.cpython-38.opt-1.pyc (deflated 53%)\r\n",
      "updating: usr/lib64/python3.8/encodings/__pycache__/cp1252.cpython-38.pyc (deflated 45%)\r\n",
      "updating: usr/lib64/python3.8/encodings/__pycache__/hp_roman8.cpython-38.pyc (deflated 44%)\r\n",
      "updating: usr/lib64/python3.8/encodings/__pycache__/raw_unicode_escape.cpython-38.opt-1.pyc (deflated 54%)\r\n",
      "updating: usr/lib64/python3.8/encodings/__pycache__/iso8859_10.cpython-38.opt-2.pyc (deflated 47%)\r\n",
      "updating: usr/lib64/python3.8/encodings/__pycache__/shift_jis_2004.cpython-38.opt-2.pyc (deflated 56%)\r\n",
      "updating: usr/lib64/python3.8/encodings/__pycache__/cp1125.cpython-38.opt-1.pyc (deflated 54%)\r\n",
      "updating: usr/lib64/python3.8/encodings/__pycache__/mac_romanian.cpython-38.opt-2.pyc (deflated 46%)\r\n",
      "updating: usr/lib64/python3.8/encodings/__pycache__/hex_codec.cpython-38.opt-1.pyc (deflated 57%)\r\n",
      "updating: usr/lib64/python3.8/encodings/__pycache__/cp737.cpython-38.opt-2.pyc (deflated 55%)\r\n",
      "updating: usr/lib64/python3.8/encodings/__pycache__/euc_jp.cpython-38.pyc (deflated 56%)\r\n",
      "updating: usr/lib64/python3.8/encodings/__pycache__/oem.cpython-38.pyc (deflated 53%)\r\n",
      "updating: usr/lib64/python3.8/encodings/__pycache__/gb2312.cpython-38.opt-2.pyc (deflated 56%)\r\n",
      "updating: usr/lib64/python3.8/encodings/__pycache__/big5hkscs.cpython-38.opt-1.pyc (deflated 56%)\r\n",
      "updating: usr/lib64/python3.8/encodings/__pycache__/euc_jis_2004.cpython-38.pyc (deflated 56%)\r\n",
      "updating: usr/lib64/python3.8/encodings/__pycache__/utf_32.cpython-38.opt-1.pyc (deflated 60%)\r\n",
      "updating: usr/lib64/python3.8/encodings/__pycache__/euc_kr.cpython-38.opt-2.pyc (deflated 56%)\r\n",
      "updating: usr/lib64/python3.8/encodings/__pycache__/shift_jis.cpython-38.opt-2.pyc (deflated 56%)\r\n",
      "updating: usr/lib64/python3.8/encodings/__pycache__/iso8859_5.cpython-38.opt-2.pyc (deflated 47%)\r\n",
      "updating: usr/lib64/python3.8/encodings/__pycache__/iso8859_8.cpython-38.pyc (deflated 49%)\r\n",
      "updating: usr/lib64/python3.8/encodings/__pycache__/iso2022_jp_1.cpython-38.pyc (deflated 56%)\r\n",
      "updating: usr/lib64/python3.8/encodings/__pycache__/mac_farsi.cpython-38.opt-2.pyc (deflated 48%)\r\n",
      "updating: usr/lib64/python3.8/encodings/__pycache__/cp874.cpython-38.pyc (deflated 47%)\r\n",
      "updating: usr/lib64/python3.8/encodings/__pycache__/gb2312.cpython-38.opt-1.pyc (deflated 56%)\r\n",
      "updating: usr/lib64/python3.8/encodings/__pycache__/iso8859_9.cpython-38.pyc (deflated 46%)\r\n",
      "updating: usr/lib64/python3.8/encodings/__pycache__/cp852.cpython-38.opt-2.pyc (deflated 52%)\r\n",
      "updating: usr/lib64/python3.8/encodings/__pycache__/iso8859_11.cpython-38.opt-2.pyc (deflated 47%)\r\n",
      "updating: usr/lib64/python3.8/encodings/__pycache__/cp037.cpython-38.pyc (deflated 46%)\r\n",
      "updating: usr/lib64/python3.8/encodings/__pycache__/utf_8_sig.cpython-38.pyc (deflated 61%)\r\n",
      "updating: usr/lib64/python3.8/encodings/__pycache__/cp037.cpython-38.opt-1.pyc (deflated 46%)\r\n",
      "updating: usr/lib64/python3.8/encodings/__pycache__/koi8_r.cpython-38.opt-2.pyc (deflated 46%)\r\n",
      "updating: usr/lib64/python3.8/encodings/__pycache__/rot_13.cpython-38.opt-2.pyc (deflated 55%)\r\n",
      "updating: usr/lib64/python3.8/encodings/__pycache__/cp860.cpython-38.opt-2.pyc (deflated 53%)\r\n",
      "updating: usr/lib64/python3.8/encodings/__pycache__/utf_32_be.cpython-38.opt-2.pyc (deflated 55%)\r\n",
      "updating: usr/lib64/python3.8/encodings/__pycache__/cp720.cpython-38.pyc (deflated 44%)\r\n",
      "updating: usr/lib64/python3.8/encodings/__pycache__/undefined.cpython-38.pyc (deflated 55%)\r\n",
      "updating: usr/lib64/python3.8/encodings/__pycache__/iso2022_jp_ext.cpython-38.opt-2.pyc (deflated 56%)\r\n",
      "updating: usr/lib64/python3.8/encodings/__pycache__/iso2022_jp_1.cpython-38.opt-1.pyc (deflated 56%)\r\n",
      "updating: usr/lib64/python3.8/encodings/__pycache__/ascii.cpython-38.pyc (deflated 55%)\r\n",
      "updating: usr/lib64/python3.8/encodings/__pycache__/gb2312.cpython-38.pyc (deflated 56%)\r\n",
      "updating: usr/lib64/python3.8/encodings/__pycache__/cp864.cpython-38.opt-1.pyc (deflated 53%)\r\n",
      "updating: usr/lib64/python3.8/encodings/__pycache__/cp874.cpython-38.opt-1.pyc (deflated 47%)\r\n",
      "updating: usr/lib64/python3.8/encodings/__pycache__/cp863.cpython-38.pyc (deflated 52%)\r\n",
      "updating: usr/lib64/python3.8/encodings/__pycache__/utf_8_sig.cpython-38.opt-2.pyc (deflated 62%)\r\n",
      "updating: usr/lib64/python3.8/encodings/__pycache__/ptcp154.cpython-38.opt-1.pyc (deflated 44%)\r\n",
      "updating: usr/lib64/python3.8/encodings/__pycache__/mac_cyrillic.cpython-38.opt-1.pyc (deflated 45%)\r\n",
      "updating: usr/lib64/python3.8/encodings/__pycache__/iso2022_jp_ext.cpython-38.pyc (deflated 56%)\r\n",
      "updating: usr/lib64/python3.8/encodings/__pycache__/utf_16_be.cpython-38.opt-2.pyc (deflated 55%)\r\n",
      "updating: usr/lib64/python3.8/encodings/__pycache__/quopri_codec.cpython-38.opt-2.pyc (deflated 58%)\r\n",
      "updating: usr/lib64/python3.8/encodings/__pycache__/mac_centeuro.cpython-38.pyc (deflated 45%)\r\n",
      "updating: usr/lib64/python3.8/encodings/__pycache__/big5hkscs.cpython-38.opt-2.pyc (deflated 56%)\r\n",
      "updating: usr/lib64/python3.8/encodings/__pycache__/undefined.cpython-38.opt-2.pyc (deflated 60%)\r\n",
      "updating: usr/lib64/python3.8/encodings/__pycache__/cp875.cpython-38.opt-1.pyc (deflated 46%)\r\n",
      "updating: usr/lib64/python3.8/encodings/__pycache__/cp949.cpython-38.opt-1.pyc (deflated 56%)\r\n",
      "updating: usr/lib64/python3.8/encodings/__pycache__/utf_16_le.cpython-38.pyc (deflated 52%)\r\n",
      "updating: usr/lib64/python3.8/encodings/__pycache__/gb18030.cpython-38.opt-1.pyc (deflated 56%)\r\n",
      "updating: usr/lib64/python3.8/encodings/iso8859_6.py (deflated 76%)\r\n",
      "updating: usr/lib64/python3.8/encodings/big5.py (deflated 65%)\r\n",
      "updating: usr/lib64/python3.8/encodings/iso8859_7.py (deflated 77%)\r\n",
      "updating: usr/lib64/python3.8/encodings/mac_croatian.py (deflated 77%)\r\n",
      "updating: usr/lib64/python3.8/encodings/cp1255.py (deflated 75%)\r\n",
      "updating: usr/lib64/python3.8/encodings/unicode_escape.py (deflated 60%)\r\n",
      "updating: usr/lib64/python3.8/encodings/mac_centeuro.py (deflated 79%)\r\n",
      "updating: usr/lib64/python3.8/encodings/undefined.py (deflated 61%)\r\n",
      "updating: usr/lib64/python3.8/encodings/cp932.py (deflated 65%)\r\n",
      "updating: usr/lib64/python3.8/encodings/iso2022_jp_3.py (deflated 65%)\r\n",
      "updating: usr/lib64/python3.8/encodings/cp1250.py (deflated 77%)\r\n",
      "updating: usr/lib64/python3.8/encodings/cp950.py (deflated 65%)\r\n",
      "updating: usr/lib64/python3.8/encodings/cp424.py (deflated 75%)\r\n",
      "updating: usr/lib64/python3.8/encodings/iso8859_14.py (deflated 78%)\r\n"
     ]
    },
    {
     "name": "stdout",
     "output_type": "stream",
     "text": [
      "updating: usr/lib64/python3.8/encodings/kz1048.py (deflated 77%)\r\n",
      "updating: usr/lib64/python3.8/encodings/iso2022_jp_2004.py (deflated 66%)\r\n",
      "updating: usr/lib64/python3.8/encodings/cp037.py (deflated 76%)\r\n",
      "updating: usr/lib64/python3.8/encodings/hz.py (deflated 65%)\r\n",
      "updating: usr/lib64/python3.8/encodings/iso2022_jp.py (deflated 65%)\r\n",
      "updating: usr/lib64/python3.8/encodings/koi8_r.py (deflated 78%)\r\n",
      "updating: usr/lib64/python3.8/encodings/gb18030.py (deflated 65%)\r\n",
      "updating: usr/lib64/python3.8/encodings/shift_jis_2004.py (deflated 65%)\r\n",
      "updating: usr/lib64/python3.8/encodings/cp865.py (deflated 80%)\r\n",
      "updating: usr/lib64/python3.8/encodings/__init__.py (deflated 65%)\r\n",
      "updating: usr/lib64/python3.8/encodings/cp852.py (deflated 81%)\r\n",
      "updating: usr/lib64/python3.8/encodings/utf_32_be.py (deflated 63%)\r\n",
      "updating: usr/lib64/python3.8/encodings/cp857.py (deflated 80%)\r\n",
      "updating: usr/lib64/python3.8/encodings/iso8859_2.py (deflated 78%)\r\n",
      "updating: usr/lib64/python3.8/encodings/iso8859_8.py (deflated 75%)\r\n",
      "updating: usr/lib64/python3.8/encodings/utf_16_le.py (deflated 59%)\r\n",
      "updating: usr/lib64/python3.8/encodings/mac_roman.py (deflated 77%)\r\n",
      "updating: usr/lib64/python3.8/encodings/hex_codec.py (deflated 67%)\r\n",
      "updating: usr/lib64/python3.8/encodings/cp1258.py (deflated 76%)\r\n",
      "updating: usr/lib64/python3.8/encodings/utf_16.py (deflated 77%)\r\n",
      "updating: usr/lib64/python3.8/encodings/cp720.py (deflated 78%)\r\n",
      "updating: usr/lib64/python3.8/encodings/cp949.py (deflated 65%)\r\n",
      "updating: usr/lib64/python3.8/encodings/johab.py (deflated 65%)\r\n",
      "updating: usr/lib64/python3.8/encodings/utf_32_le.py (deflated 63%)\r\n",
      "updating: usr/lib64/python3.8/encodings/mbcs.py (deflated 56%)\r\n",
      "updating: usr/lib64/python3.8/encodings/oem.py (deflated 60%)\r\n",
      "updating: usr/lib64/python3.8/encodings/palmos.py (deflated 76%)\r\n",
      "updating: usr/lib64/python3.8/encodings/utf_8.py (deflated 59%)\r\n",
      "updating: usr/lib64/python3.8/encodings/mac_greek.py (deflated 78%)\r\n",
      "updating: usr/lib64/python3.8/encodings/iso8859_16.py (deflated 78%)\r\n",
      "updating: usr/lib64/python3.8/encodings/tis_620.py (deflated 76%)\r\n",
      "updating: usr/lib64/python3.8/encodings/zlib_codec.py (deflated 73%)\r\n",
      "updating: usr/lib64/python3.8/encodings/euc_jis_2004.py (deflated 65%)\r\n",
      "updating: usr/lib64/python3.8/encodings/utf_32.py (deflated 79%)\r\n",
      "updating: usr/lib64/python3.8/encodings/iso8859_1.py (deflated 77%)\r\n",
      "updating: usr/lib64/python3.8/encodings/cp1140.py (deflated 76%)\r\n",
      "updating: usr/lib64/python3.8/encodings/shift_jisx0213.py (deflated 65%)\r\n",
      "updating: usr/lib64/python3.8/encodings/big5hkscs.py (deflated 65%)\r\n",
      "updating: usr/lib64/python3.8/encodings/utf_7.py (deflated 61%)\r\n",
      "updating: usr/lib64/python3.8/encodings/iso8859_10.py (deflated 78%)\r\n",
      "updating: usr/lib64/python3.8/encodings/iso8859_4.py (deflated 78%)\r\n",
      "updating: usr/lib64/python3.8/encodings/cp862.py (deflated 80%)\r\n",
      "updating: usr/lib64/python3.8/encodings/iso2022_kr.py (deflated 65%)\r\n",
      "updating: usr/lib64/python3.8/encodings/cp1026.py (deflated 76%)\r\n",
      "updating: usr/lib64/python3.8/encodings/cp1256.py (deflated 74%)\r\n",
      "updating: usr/lib64/python3.8/encodings/mac_arabic.py (deflated 83%)\r\n",
      "updating: usr/lib64/python3.8/encodings/cp273.py (deflated 75%)\r\n",
      "updating: usr/lib64/python3.8/encodings/euc_jp.py (deflated 65%)\r\n",
      "updating: usr/lib64/python3.8/encodings/quopri_codec.py (deflated 69%)\r\n",
      "updating: usr/lib64/python3.8/encodings/cp860.py (deflated 81%)\r\n",
      "updating: usr/lib64/python3.8/encodings/cp775.py (deflated 80%)\r\n"
     ]
    }
   ],
   "source": [
    "!zip -9 /tmp/encodings.zip -r /usr/lib64/python3.8/encodings/"
   ]
  },
  {
   "cell_type": "code",
   "execution_count": 36,
   "metadata": {},
   "outputs": [
    {
     "name": "stdout",
     "output_type": "stream",
     "text": [
      "updating: usr/lib64/python3.8/pydoc_data/ (stored 0%)\n",
      "updating: usr/lib64/python3.8/pydoc_data/__pycache__/ (stored 0%)\n",
      "updating: usr/lib64/python3.8/pydoc_data/__pycache__/topics.cpython-38.opt-2.pyc (deflated 71%)\n",
      "updating: usr/lib64/python3.8/pydoc_data/__pycache__/topics.cpython-38.pyc (deflated 71%)\n",
      "updating: usr/lib64/python3.8/pydoc_data/__pycache__/__init__.cpython-38.opt-1.pyc (deflated 26%)\n",
      "updating: usr/lib64/python3.8/pydoc_data/__pycache__/__init__.cpython-38.opt-2.pyc (deflated 26%)\n",
      "updating: usr/lib64/python3.8/pydoc_data/__pycache__/topics.cpython-38.opt-1.pyc (deflated 71%)\n",
      "updating: usr/lib64/python3.8/pydoc_data/__pycache__/__init__.cpython-38.pyc (deflated 26%)\n",
      "updating: usr/lib64/python3.8/pydoc_data/__init__.py (stored 0%)\n",
      "updating: usr/lib64/python3.8/pydoc_data/_pydoc.css (deflated 15%)\n",
      "updating: usr/lib64/python3.8/pydoc_data/topics.py (deflated 79%)\n"
     ]
    }
   ],
   "source": [
    "!zip -9 /tmp/pydoc_data.zip -r /usr/lib64/python3.8/pydoc_data/"
   ]
  },
  {
   "cell_type": "code",
   "execution_count": 37,
   "metadata": {},
   "outputs": [
    {
     "name": "stdout",
     "output_type": "stream",
     "text": [
      "972\t/tmp/encodings.zip\r\n",
      "500\t/tmp/pydoc_data.zip\r\n"
     ]
    }
   ],
   "source": [
    "!du /tmp/encodings.zip /tmp/pydoc_data.zip"
   ]
  },
  {
   "cell_type": "code",
   "execution_count": 38,
   "metadata": {},
   "outputs": [
    {
     "data": {
      "text/plain": [
       "'3.9 MiB'"
      ]
     },
     "execution_count": 38,
     "metadata": {},
     "output_type": "execute_result"
    }
   ],
   "source": [
    "ns((2868+1088)*1024)"
   ]
  },
  {
   "cell_type": "code",
   "execution_count": 39,
   "metadata": {},
   "outputs": [
    {
     "data": {
      "text/plain": [
       "'472.0 KiB'"
      ]
     },
     "execution_count": 39,
     "metadata": {},
     "output_type": "execute_result"
    }
   ],
   "source": [
    "ns((972-500)*1024)"
   ]
  },
  {
   "cell_type": "code",
   "execution_count": 40,
   "metadata": {},
   "outputs": [
    {
     "data": {
      "text/plain": [
       "'3.4 MiB'"
      ]
     },
     "execution_count": 40,
     "metadata": {},
     "output_type": "execute_result"
    }
   ],
   "source": [
    "ns(((2868+1088)-(972-500))*1024)"
   ]
  },
  {
   "cell_type": "code",
   "execution_count": 41,
   "metadata": {},
   "outputs": [
    {
     "data": {
      "text/plain": [
       "['/usr/lib64/python3.8/LICENSE.txt',\n",
       " '/usr/lib64/python3.8/__future__.py',\n",
       " '/usr/lib64/python3.8/__phello__.foo.py',\n",
       " '/usr/lib64/python3.8/__pycache__',\n",
       " '/usr/lib64/python3.8/__pycache__/__future__.cpython-38.opt-1.pyc',\n",
       " '/usr/lib64/python3.8/__pycache__/__future__.cpython-38.opt-2.pyc',\n",
       " '/usr/lib64/python3.8/__pycache__/__future__.cpython-38.pyc',\n",
       " '/usr/lib64/python3.8/__pycache__/__phello__.foo.cpython-38.opt-1.pyc',\n",
       " '/usr/lib64/python3.8/__pycache__/__phello__.foo.cpython-38.opt-2.pyc',\n",
       " '/usr/lib64/python3.8/__pycache__/__phello__.foo.cpython-38.pyc']"
      ]
     },
     "execution_count": 41,
     "metadata": {},
     "output_type": "execute_result"
    }
   ],
   "source": [
    "allzipfiles = [p for p in pkg_files['python3-libs'] if p.startswith('/usr/lib64/python3.8/') and not p.endswith('.so')]\n",
    "allzipfiles[:10]"
   ]
  },
  {
   "cell_type": "code",
   "execution_count": 42,
   "metadata": {},
   "outputs": [
    {
     "data": {
      "text/plain": [
       "'28.8 MiB'"
      ]
     },
     "execution_count": 42,
     "metadata": {},
     "output_type": "execute_result"
    }
   ],
   "source": [
    "uncompressed = sum(file_sizes[p] for p in allzipfiles)\n",
    "ns(uncompressed)"
   ]
  },
  {
   "cell_type": "code",
   "execution_count": 43,
   "metadata": {},
   "outputs": [
    {
     "data": {
      "text/plain": [
       "2525"
      ]
     },
     "execution_count": 43,
     "metadata": {},
     "output_type": "execute_result"
    }
   ],
   "source": [
    "len(allzipfiles)"
   ]
  },
  {
   "cell_type": "code",
   "execution_count": 44,
   "metadata": {},
   "outputs": [
    {
     "name": "stdout",
     "output_type": "stream",
     "text": [
      "updating: usr/lib64/python3.8/LICENSE.txt (deflated 68%)\n",
      "updating: usr/lib64/python3.8/__future__.py (deflated 67%)\n",
      "updating: usr/lib64/python3.8/__phello__.foo.py (deflated 3%)\n",
      "updating: usr/lib64/python3.8/__pycache__/ (stored 0%)\n",
      "updating: usr/lib64/python3.8/__pycache__/__future__.cpython-38.opt-1.pyc (deflated 54%)\n",
      "updating: usr/lib64/python3.8/__pycache__/__future__.cpython-38.opt-2.pyc (deflated 51%)\n",
      "updating: usr/lib64/python3.8/__pycache__/__future__.cpython-38.pyc (deflated 54%)\n",
      "updating: usr/lib64/python3.8/__pycache__/__phello__.foo.cpython-38.opt-1.pyc (deflated 26%)\n",
      "updating: usr/lib64/python3.8/__pycache__/__phello__.foo.cpython-38.opt-2.pyc (deflated 26%)\n",
      "updating: usr/lib64/python3.8/__pycache__/__phello__.foo.cpython-38.pyc (deflated 26%)\n",
      "updating: usr/lib64/python3.8/__pycache__/_bootlocale.cpython-38.opt-1.pyc (deflated 41%)\n",
      "updating: usr/lib64/python3.8/__pycache__/_bootlocale.cpython-38.opt-2.pyc (deflated 42%)\n",
      "updating: usr/lib64/python3.8/__pycache__/_bootlocale.cpython-38.pyc (deflated 40%)\n",
      "updating: usr/lib64/python3.8/__pycache__/_collections_abc.cpython-38.opt-1.pyc (deflated 68%)\n",
      "updating: usr/lib64/python3.8/__pycache__/_collections_abc.cpython-38.opt-2.pyc (deflated 69%)\n",
      "updating: usr/lib64/python3.8/__pycache__/_collections_abc.cpython-38.pyc (deflated 68%)\n",
      "updating: usr/lib64/python3.8/__pycache__/_compat_pickle.cpython-38.opt-1.pyc (deflated 52%)\n",
      "updating: usr/lib64/python3.8/__pycache__/_compat_pickle.cpython-38.opt-2.pyc (deflated 52%)\n",
      "updating: usr/lib64/python3.8/__pycache__/_compat_pickle.cpython-38.pyc (deflated 52%)\n",
      "updating: usr/lib64/python3.8/__pycache__/_compression.cpython-38.opt-1.pyc (deflated 51%)\n",
      "updating: usr/lib64/python3.8/__pycache__/_compression.cpython-38.opt-2.pyc (deflated 51%)\n",
      "updating: usr/lib64/python3.8/__pycache__/_compression.cpython-38.pyc (deflated 51%)\n",
      "updating: usr/lib64/python3.8/__pycache__/_dummy_thread.cpython-38.opt-1.pyc (deflated 54%)\n",
      "updating: usr/lib64/python3.8/__pycache__/_dummy_thread.cpython-38.opt-2.pyc (deflated 51%)\n",
      "updating: usr/lib64/python3.8/__pycache__/_dummy_thread.cpython-38.pyc (deflated 54%)\n",
      "updating: usr/lib64/python3.8/__pycache__/_markupbase.cpython-38.opt-1.pyc (deflated 53%)\n",
      "updating: usr/lib64/python3.8/__pycache__/_markupbase.cpython-38.opt-2.pyc (deflated 54%)\n",
      "updating: usr/lib64/python3.8/__pycache__/_markupbase.cpython-38.pyc (deflated 54%)\n",
      "updating: usr/lib64/python3.8/__pycache__/_osx_support.cpython-38.opt-1.pyc (deflated 47%)\n",
      "updating: usr/lib64/python3.8/__pycache__/_osx_support.cpython-38.opt-2.pyc (deflated 44%)\n",
      "updating: usr/lib64/python3.8/__pycache__/_osx_support.cpython-38.pyc (deflated 47%)\n",
      "updating: usr/lib64/python3.8/__pycache__/_py_abc.cpython-38.opt-1.pyc (deflated 48%)\n",
      "updating: usr/lib64/python3.8/__pycache__/_py_abc.cpython-38.opt-2.pyc (deflated 47%)\n",
      "updating: usr/lib64/python3.8/__pycache__/_py_abc.cpython-38.pyc (deflated 48%)\n",
      "updating: usr/lib64/python3.8/__pycache__/_pydecimal.cpython-38.opt-1.pyc (deflated 69%)\n",
      "updating: usr/lib64/python3.8/__pycache__/_pydecimal.cpython-38.opt-2.pyc (deflated 61%)\n",
      "updating: usr/lib64/python3.8/__pycache__/_pydecimal.cpython-38.pyc (deflated 69%)\n",
      "updating: usr/lib64/python3.8/__pycache__/_pyio.cpython-38.opt-1.pyc (deflated 63%)\n",
      "updating: usr/lib64/python3.8/__pycache__/_pyio.cpython-38.opt-2.pyc (deflated 62%)\n",
      "updating: usr/lib64/python3.8/__pycache__/_pyio.cpython-38.pyc (deflated 63%)\n",
      "updating: usr/lib64/python3.8/__pycache__/_sitebuiltins.cpython-38.opt-1.pyc (deflated 49%)\n",
      "updating: usr/lib64/python3.8/__pycache__/_sitebuiltins.cpython-38.opt-2.pyc (deflated 49%)\n",
      "updating: usr/lib64/python3.8/__pycache__/_sitebuiltins.cpython-38.pyc (deflated 49%)\n",
      "updating: usr/lib64/python3.8/__pycache__/_strptime.cpython-38.opt-1.pyc (deflated 52%)\n",
      "updating: usr/lib64/python3.8/__pycache__/_strptime.cpython-38.opt-2.pyc (deflated 50%)\n",
      "updating: usr/lib64/python3.8/__pycache__/_strptime.cpython-38.pyc (deflated 52%)\n",
      "updating: usr/lib64/python3.8/__pycache__/_sysconfigdata__linux_x86_64-linux-gnu.cpython-38.opt-1.pyc (deflated 75%)\n",
      "updating: usr/lib64/python3.8/__pycache__/_sysconfigdata__linux_x86_64-linux-gnu.cpython-38.opt-2.pyc (deflated 75%)\n",
      "updating: usr/lib64/python3.8/__pycache__/_sysconfigdata__linux_x86_64-linux-gnu.cpython-38.pyc (deflated 75%)\n",
      "updating: usr/lib64/python3.8/__pycache__/_threading_local.cpython-38.opt-1.pyc (deflated 56%)\n",
      "updating: usr/lib64/python3.8/__pycache__/_threading_local.cpython-38.opt-2.pyc (deflated 50%)\n",
      "updating: usr/lib64/python3.8/__pycache__/_threading_local.cpython-38.pyc (deflated 56%)\n",
      "updating: usr/lib64/python3.8/__pycache__/_weakrefset.cpython-38.opt-1.pyc (deflated 65%)\n",
      "updating: usr/lib64/python3.8/__pycache__/_weakrefset.cpython-38.opt-2.pyc (deflated 65%)\n",
      "updating: usr/lib64/python3.8/__pycache__/_weakrefset.cpython-38.pyc (deflated 65%)\n",
      "updating: usr/lib64/python3.8/__pycache__/abc.cpython-38.opt-1.pyc (deflated 58%)\n",
      "updating: usr/lib64/python3.8/__pycache__/abc.cpython-38.opt-2.pyc (deflated 57%)\n",
      "updating: usr/lib64/python3.8/__pycache__/abc.cpython-38.pyc (deflated 58%)\n",
      "updating: usr/lib64/python3.8/__pycache__/aifc.cpython-38.opt-1.pyc (deflated 62%)\n",
      "updating: usr/lib64/python3.8/__pycache__/aifc.cpython-38.opt-2.pyc (deflated 60%)\n",
      "updating: usr/lib64/python3.8/__pycache__/aifc.cpython-38.pyc (deflated 62%)\n",
      "updating: usr/lib64/python3.8/__pycache__/antigravity.cpython-38.opt-1.pyc (deflated 29%)\n",
      "updating: usr/lib64/python3.8/__pycache__/antigravity.cpython-38.opt-2.pyc (deflated 30%)\n",
      "updating: usr/lib64/python3.8/__pycache__/antigravity.cpython-38.pyc (deflated 29%)\n",
      "updating: usr/lib64/python3.8/__pycache__/argparse.cpython-38.opt-1.pyc (deflated 61%)\n",
      "updating: usr/lib64/python3.8/__pycache__/argparse.cpython-38.opt-2.pyc (deflated 60%)\n",
      "updating: usr/lib64/python3.8/__pycache__/argparse.cpython-38.pyc (deflated 61%)\n",
      "updating: usr/lib64/python3.8/__pycache__/ast.cpython-38.opt-1.pyc (deflated 53%)\n",
      "updating: usr/lib64/python3.8/__pycache__/ast.cpython-38.opt-2.pyc (deflated 51%)\n",
      "updating: usr/lib64/python3.8/__pycache__/ast.cpython-38.pyc (deflated 53%)\n",
      "updating: usr/lib64/python3.8/__pycache__/asynchat.cpython-38.opt-1.pyc (deflated 53%)\n",
      "updating: usr/lib64/python3.8/__pycache__/asynchat.cpython-38.opt-2.pyc (deflated 54%)\n",
      "updating: usr/lib64/python3.8/__pycache__/asynchat.cpython-38.pyc (deflated 53%)\n",
      "updating: usr/lib64/python3.8/__pycache__/asyncore.cpython-38.opt-1.pyc (deflated 55%)\n",
      "updating: usr/lib64/python3.8/__pycache__/asyncore.cpython-38.opt-2.pyc (deflated 56%)\n",
      "updating: usr/lib64/python3.8/__pycache__/asyncore.cpython-38.pyc (deflated 55%)\n",
      "updating: usr/lib64/python3.8/__pycache__/base64.cpython-38.opt-1.pyc (deflated 56%)\n",
      "updating: usr/lib64/python3.8/__pycache__/base64.cpython-38.opt-2.pyc (deflated 49%)\n",
      "updating: usr/lib64/python3.8/__pycache__/base64.cpython-38.pyc (deflated 56%)\n",
      "updating: usr/lib64/python3.8/__pycache__/bdb.cpython-38.opt-1.pyc (deflated 59%)\n",
      "updating: usr/lib64/python3.8/__pycache__/bdb.cpython-38.opt-2.pyc (deflated 56%)\n",
      "updating: usr/lib64/python3.8/__pycache__/bdb.cpython-38.pyc (deflated 59%)\n",
      "updating: usr/lib64/python3.8/__pycache__/binhex.cpython-38.opt-1.pyc (deflated 59%)\n",
      "updating: usr/lib64/python3.8/__pycache__/binhex.cpython-38.opt-2.pyc (deflated 59%)\n",
      "updating: usr/lib64/python3.8/__pycache__/binhex.cpython-38.pyc (deflated 59%)\n",
      "updating: usr/lib64/python3.8/__pycache__/bisect.cpython-38.opt-1.pyc (deflated 62%)\n",
      "updating: usr/lib64/python3.8/__pycache__/bisect.cpython-38.opt-2.pyc (deflated 47%)\n",
      "updating: usr/lib64/python3.8/__pycache__/bisect.cpython-38.pyc (deflated 62%)\n",
      "updating: usr/lib64/python3.8/__pycache__/bz2.cpython-38.opt-1.pyc (deflated 57%)\n",
      "updating: usr/lib64/python3.8/__pycache__/bz2.cpython-38.opt-2.pyc (deflated 54%)\n",
      "updating: usr/lib64/python3.8/__pycache__/bz2.cpython-38.pyc (deflated 57%)\n",
      "updating: usr/lib64/python3.8/__pycache__/cProfile.cpython-38.opt-1.pyc (deflated 45%)\n",
      "updating: usr/lib64/python3.8/__pycache__/cProfile.cpython-38.opt-2.pyc (deflated 45%)\n",
      "updating: usr/lib64/python3.8/__pycache__/cProfile.cpython-38.pyc (deflated 45%)\n",
      "updating: usr/lib64/python3.8/__pycache__/calendar.cpython-38.opt-1.pyc (deflated 63%)\n",
      "updating: usr/lib64/python3.8/__pycache__/calendar.cpython-38.opt-2.pyc (deflated 62%)\n",
      "updating: usr/lib64/python3.8/__pycache__/calendar.cpython-38.pyc (deflated 63%)\n",
      "updating: usr/lib64/python3.8/__pycache__/cgi.cpython-38.opt-1.pyc (deflated 55%)\n",
      "updating: usr/lib64/python3.8/__pycache__/cgi.cpython-38.opt-2.pyc (deflated 52%)\n",
      "updating: usr/lib64/python3.8/__pycache__/cgi.cpython-38.pyc (deflated 55%)\n",
      "updating: usr/lib64/python3.8/__pycache__/cgitb.cpython-38.opt-1.pyc (deflated 48%)\n",
      "updating: usr/lib64/python3.8/__pycache__/cgitb.cpython-38.opt-2.pyc (deflated 48%)\n",
      "updating: usr/lib64/python3.8/__pycache__/cgitb.cpython-38.pyc (deflated 48%)\n",
      "updating: usr/lib64/python3.8/__pycache__/chunk.cpython-38.opt-1.pyc (deflated 51%)\n",
      "updating: usr/lib64/python3.8/__pycache__/chunk.cpython-38.opt-2.pyc (deflated 48%)\n",
      "updating: usr/lib64/python3.8/__pycache__/chunk.cpython-38.pyc (deflated 51%)\n",
      "updating: usr/lib64/python3.8/__pycache__/cmd.cpython-38.opt-1.pyc (deflated 52%)\n",
      "updating: usr/lib64/python3.8/__pycache__/cmd.cpython-38.opt-2.pyc (deflated 48%)\n",
      "updating: usr/lib64/python3.8/__pycache__/cmd.cpython-38.pyc (deflated 52%)\n",
      "updating: usr/lib64/python3.8/__pycache__/code.cpython-38.opt-1.pyc (deflated 55%)\n",
      "updating: usr/lib64/python3.8/__pycache__/code.cpython-38.opt-2.pyc (deflated 47%)\n",
      "updating: usr/lib64/python3.8/__pycache__/code.cpython-38.pyc (deflated 55%)\n",
      "updating: usr/lib64/python3.8/__pycache__/codecs.cpython-38.opt-1.pyc (deflated 68%)\n",
      "updating: usr/lib64/python3.8/__pycache__/codecs.cpython-38.opt-2.pyc (deflated 66%)\n"
     ]
    },
    {
     "name": "stdout",
     "output_type": "stream",
     "text": [
      "updating: usr/lib64/python3.8/__pycache__/codecs.cpython-38.pyc (deflated 68%)\n",
      "updating: usr/lib64/python3.8/__pycache__/codeop.cpython-38.opt-1.pyc (deflated 59%)\n",
      "updating: usr/lib64/python3.8/__pycache__/codeop.cpython-38.opt-2.pyc (deflated 48%)\n",
      "updating: usr/lib64/python3.8/__pycache__/codeop.cpython-38.pyc (deflated 59%)\n",
      "updating: usr/lib64/python3.8/__pycache__/colorsys.cpython-38.opt-1.pyc (deflated 47%)\n",
      "updating: usr/lib64/python3.8/__pycache__/colorsys.cpython-38.opt-2.pyc (deflated 49%)\n",
      "updating: usr/lib64/python3.8/__pycache__/colorsys.cpython-38.pyc (deflated 47%)\n",
      "updating: usr/lib64/python3.8/__pycache__/compileall.cpython-38.opt-1.pyc (deflated 49%)\n",
      "updating: usr/lib64/python3.8/__pycache__/compileall.cpython-38.opt-2.pyc (deflated 42%)\n",
      "updating: usr/lib64/python3.8/__pycache__/compileall.cpython-38.pyc (deflated 49%)\n",
      "updating: usr/lib64/python3.8/__pycache__/configparser.cpython-38.opt-1.pyc (deflated 62%)\n",
      "updating: usr/lib64/python3.8/__pycache__/configparser.cpython-38.opt-2.pyc (deflated 60%)\n",
      "updating: usr/lib64/python3.8/__pycache__/configparser.cpython-38.pyc (deflated 62%)\n",
      "updating: usr/lib64/python3.8/__pycache__/contextlib.cpython-38.opt-1.pyc (deflated 65%)\n",
      "updating: usr/lib64/python3.8/__pycache__/contextlib.cpython-38.opt-2.pyc (deflated 65%)\n",
      "updating: usr/lib64/python3.8/__pycache__/contextlib.cpython-38.pyc (deflated 65%)\n",
      "updating: usr/lib64/python3.8/__pycache__/contextvars.cpython-38.opt-1.pyc (deflated 25%)\n",
      "updating: usr/lib64/python3.8/__pycache__/contextvars.cpython-38.opt-2.pyc (deflated 25%)\n",
      "updating: usr/lib64/python3.8/__pycache__/contextvars.cpython-38.pyc (deflated 25%)\n",
      "updating: usr/lib64/python3.8/__pycache__/copy.cpython-38.opt-1.pyc (deflated 49%)\n",
      "updating: usr/lib64/python3.8/__pycache__/copy.cpython-38.opt-2.pyc (deflated 46%)\n",
      "updating: usr/lib64/python3.8/__pycache__/copy.cpython-38.pyc (deflated 49%)\n",
      "updating: usr/lib64/python3.8/__pycache__/copyreg.cpython-38.opt-1.pyc (deflated 45%)\n",
      "updating: usr/lib64/python3.8/__pycache__/copyreg.cpython-38.opt-2.pyc (deflated 45%)\n",
      "updating: usr/lib64/python3.8/__pycache__/copyreg.cpython-38.pyc (deflated 45%)\n",
      "updating: usr/lib64/python3.8/__pycache__/crypt.cpython-38.opt-1.pyc (deflated 39%)\n",
      "updating: usr/lib64/python3.8/__pycache__/crypt.cpython-38.opt-2.pyc (deflated 37%)\n",
      "updating: usr/lib64/python3.8/__pycache__/crypt.cpython-38.pyc (deflated 39%)\n",
      "updating: usr/lib64/python3.8/__pycache__/csv.cpython-38.opt-1.pyc (deflated 52%)\n",
      "updating: usr/lib64/python3.8/__pycache__/csv.cpython-38.opt-2.pyc (deflated 52%)\n",
      "updating: usr/lib64/python3.8/__pycache__/csv.cpython-38.pyc (deflated 52%)\n",
      "updating: usr/lib64/python3.8/__pycache__/dataclasses.cpython-38.opt-1.pyc (deflated 56%)\n",
      "updating: usr/lib64/python3.8/__pycache__/dataclasses.cpython-38.opt-2.pyc (deflated 55%)\n",
      "updating: usr/lib64/python3.8/__pycache__/dataclasses.cpython-38.pyc (deflated 56%)\n",
      "updating: usr/lib64/python3.8/__pycache__/datetime.cpython-38.opt-1.pyc (deflated 61%)\n",
      "updating: usr/lib64/python3.8/__pycache__/datetime.cpython-38.opt-2.pyc (deflated 61%)\n",
      "updating: usr/lib64/python3.8/__pycache__/datetime.cpython-38.pyc (deflated 61%)\n",
      "updating: usr/lib64/python3.8/__pycache__/decimal.cpython-38.opt-1.pyc (deflated 31%)\n",
      "updating: usr/lib64/python3.8/__pycache__/decimal.cpython-38.opt-2.pyc (deflated 31%)\n",
      "updating: usr/lib64/python3.8/__pycache__/decimal.cpython-38.pyc (deflated 31%)\n",
      "updating: usr/lib64/python3.8/__pycache__/difflib.cpython-38.opt-1.pyc (deflated 62%)\n",
      "updating: usr/lib64/python3.8/__pycache__/difflib.cpython-38.opt-2.pyc (deflated 53%)\n",
      "updating: usr/lib64/python3.8/__pycache__/difflib.cpython-38.pyc (deflated 62%)\n",
      "updating: usr/lib64/python3.8/__pycache__/dis.cpython-38.opt-1.pyc (deflated 51%)\n",
      "updating: usr/lib64/python3.8/__pycache__/dis.cpython-38.opt-2.pyc (deflated 48%)\n",
      "updating: usr/lib64/python3.8/__pycache__/dis.cpython-38.pyc (deflated 51%)\n",
      "updating: usr/lib64/python3.8/__pycache__/doctest.cpython-38.opt-1.pyc (deflated 63%)\n",
      "updating: usr/lib64/python3.8/__pycache__/doctest.cpython-38.opt-2.pyc (deflated 55%)\n",
      "updating: usr/lib64/python3.8/__pycache__/doctest.cpython-38.pyc (deflated 63%)\n",
      "updating: usr/lib64/python3.8/__pycache__/dummy_threading.cpython-38.opt-1.pyc (deflated 44%)\n",
      "updating: usr/lib64/python3.8/__pycache__/dummy_threading.cpython-38.opt-2.pyc (deflated 42%)\n",
      "updating: usr/lib64/python3.8/__pycache__/dummy_threading.cpython-38.pyc (deflated 44%)\n",
      "updating: usr/lib64/python3.8/__pycache__/enum.cpython-38.opt-1.pyc (deflated 56%)\n",
      "updating: usr/lib64/python3.8/__pycache__/enum.cpython-38.opt-2.pyc (deflated 56%)\n",
      "updating: usr/lib64/python3.8/__pycache__/enum.cpython-38.pyc (deflated 56%)\n",
      "updating: usr/lib64/python3.8/__pycache__/filecmp.cpython-38.opt-1.pyc (deflated 53%)\n",
      "updating: usr/lib64/python3.8/__pycache__/filecmp.cpython-38.opt-2.pyc (deflated 51%)\n",
      "updating: usr/lib64/python3.8/__pycache__/filecmp.cpython-38.pyc (deflated 53%)\n",
      "updating: usr/lib64/python3.8/__pycache__/fileinput.cpython-38.opt-1.pyc (deflated 58%)\n",
      "updating: usr/lib64/python3.8/__pycache__/fileinput.cpython-38.opt-2.pyc (deflated 54%)\n",
      "updating: usr/lib64/python3.8/__pycache__/fileinput.cpython-38.pyc (deflated 58%)\n",
      "updating: usr/lib64/python3.8/__pycache__/fnmatch.cpython-38.opt-1.pyc (deflated 44%)\n",
      "updating: usr/lib64/python3.8/__pycache__/fnmatch.cpython-38.opt-2.pyc (deflated 40%)\n",
      "updating: usr/lib64/python3.8/__pycache__/fnmatch.cpython-38.pyc (deflated 44%)\n",
      "updating: usr/lib64/python3.8/__pycache__/formatter.cpython-38.opt-1.pyc (deflated 65%)\n",
      "updating: usr/lib64/python3.8/__pycache__/formatter.cpython-38.opt-2.pyc (deflated 68%)\n",
      "updating: usr/lib64/python3.8/__pycache__/formatter.cpython-38.pyc (deflated 65%)\n",
      "updating: usr/lib64/python3.8/__pycache__/fractions.cpython-38.opt-1.pyc (deflated 59%)\n",
      "updating: usr/lib64/python3.8/__pycache__/fractions.cpython-38.opt-2.pyc (deflated 56%)\n",
      "updating: usr/lib64/python3.8/__pycache__/fractions.cpython-38.pyc (deflated 59%)\n",
      "updating: usr/lib64/python3.8/__pycache__/ftplib.cpython-38.opt-1.pyc (deflated 57%)\n",
      "updating: usr/lib64/python3.8/__pycache__/ftplib.cpython-38.opt-2.pyc (deflated 53%)\n",
      "updating: usr/lib64/python3.8/__pycache__/ftplib.cpython-38.pyc (deflated 57%)\n",
      "updating: usr/lib64/python3.8/__pycache__/functools.cpython-38.opt-1.pyc (deflated 57%)\n",
      "updating: usr/lib64/python3.8/__pycache__/functools.cpython-38.opt-2.pyc (deflated 56%)\n",
      "updating: usr/lib64/python3.8/__pycache__/functools.cpython-38.pyc (deflated 57%)\n",
      "updating: usr/lib64/python3.8/__pycache__/genericpath.cpython-38.opt-1.pyc (deflated 52%)\n",
      "updating: usr/lib64/python3.8/__pycache__/genericpath.cpython-38.opt-2.pyc (deflated 52%)\n",
      "updating: usr/lib64/python3.8/__pycache__/genericpath.cpython-38.pyc (deflated 52%)\n",
      "updating: usr/lib64/python3.8/__pycache__/getopt.cpython-38.opt-1.pyc (deflated 50%)\n",
      "updating: usr/lib64/python3.8/__pycache__/getopt.cpython-38.opt-2.pyc (deflated 46%)\n",
      "updating: usr/lib64/python3.8/__pycache__/getopt.cpython-38.pyc (deflated 50%)\n",
      "updating: usr/lib64/python3.8/__pycache__/getpass.cpython-38.opt-1.pyc (deflated 43%)\n",
      "updating: usr/lib64/python3.8/__pycache__/getpass.cpython-38.opt-2.pyc (deflated 39%)\n",
      "updating: usr/lib64/python3.8/__pycache__/getpass.cpython-38.pyc (deflated 43%)\n",
      "updating: usr/lib64/python3.8/__pycache__/gettext.cpython-38.opt-1.pyc (deflated 55%)\n",
      "updating: usr/lib64/python3.8/__pycache__/gettext.cpython-38.opt-2.pyc (deflated 55%)\n",
      "updating: usr/lib64/python3.8/__pycache__/gettext.cpython-38.pyc (deflated 55%)\n",
      "updating: usr/lib64/python3.8/__pycache__/glob.cpython-38.opt-1.pyc (deflated 52%)\n",
      "updating: usr/lib64/python3.8/__pycache__/glob.cpython-38.opt-2.pyc (deflated 49%)\n",
      "updating: usr/lib64/python3.8/__pycache__/glob.cpython-38.pyc (deflated 51%)\n",
      "updating: usr/lib64/python3.8/__pycache__/gzip.cpython-38.opt-1.pyc (deflated 56%)\n",
      "updating: usr/lib64/python3.8/__pycache__/gzip.cpython-38.opt-2.pyc (deflated 55%)\n",
      "updating: usr/lib64/python3.8/__pycache__/gzip.cpython-38.pyc (deflated 56%)\n",
      "updating: usr/lib64/python3.8/__pycache__/hashlib.cpython-38.opt-1.pyc (deflated 49%)\n",
      "updating: usr/lib64/python3.8/__pycache__/hashlib.cpython-38.opt-2.pyc (deflated 48%)\n",
      "updating: usr/lib64/python3.8/__pycache__/hashlib.cpython-38.pyc (deflated 49%)\n",
      "updating: usr/lib64/python3.8/__pycache__/heapq.cpython-38.opt-1.pyc (deflated 57%)\n",
      "updating: usr/lib64/python3.8/__pycache__/heapq.cpython-38.opt-2.pyc (deflated 55%)\n",
      "updating: usr/lib64/python3.8/__pycache__/heapq.cpython-38.pyc (deflated 57%)\n",
      "updating: usr/lib64/python3.8/__pycache__/hmac.cpython-38.opt-1.pyc (deflated 55%)\n",
      "updating: usr/lib64/python3.8/__pycache__/hmac.cpython-38.opt-2.pyc (deflated 50%)\n",
      "updating: usr/lib64/python3.8/__pycache__/hmac.cpython-38.pyc (deflated 55%)\n",
      "updating: usr/lib64/python3.8/__pycache__/imaplib.cpython-38.opt-1.pyc (deflated 58%)\n",
      "updating: usr/lib64/python3.8/__pycache__/imaplib.cpython-38.opt-2.pyc (deflated 54%)\n",
      "updating: usr/lib64/python3.8/__pycache__/imaplib.cpython-38.pyc (deflated 58%)\n",
      "updating: usr/lib64/python3.8/__pycache__/imghdr.cpython-38.opt-1.pyc (deflated 53%)\n",
      "updating: usr/lib64/python3.8/__pycache__/imghdr.cpython-38.opt-2.pyc (deflated 55%)\n",
      "updating: usr/lib64/python3.8/__pycache__/imghdr.cpython-38.pyc (deflated 53%)\n",
      "updating: usr/lib64/python3.8/__pycache__/imp.cpython-38.opt-1.pyc (deflated 52%)\n",
      "updating: usr/lib64/python3.8/__pycache__/imp.cpython-38.opt-2.pyc (deflated 49%)\n",
      "updating: usr/lib64/python3.8/__pycache__/imp.cpython-38.pyc (deflated 52%)\n",
      "updating: usr/lib64/python3.8/__pycache__/inspect.cpython-38.opt-1.pyc (deflated 59%)\n"
     ]
    },
    {
     "name": "stdout",
     "output_type": "stream",
     "text": [
      "updating: usr/lib64/python3.8/__pycache__/inspect.cpython-38.opt-2.pyc (deflated 54%)\n",
      "updating: usr/lib64/python3.8/__pycache__/inspect.cpython-38.pyc (deflated 59%)\n",
      "updating: usr/lib64/python3.8/__pycache__/io.cpython-38.opt-1.pyc (deflated 49%)\n",
      "updating: usr/lib64/python3.8/__pycache__/io.cpython-38.opt-2.pyc (deflated 46%)\n",
      "updating: usr/lib64/python3.8/__pycache__/io.cpython-38.pyc (deflated 49%)\n",
      "updating: usr/lib64/python3.8/__pycache__/ipaddress.cpython-38.opt-1.pyc (deflated 69%)\n",
      "updating: usr/lib64/python3.8/__pycache__/ipaddress.cpython-38.opt-2.pyc (deflated 65%)\n",
      "updating: usr/lib64/python3.8/__pycache__/ipaddress.cpython-38.pyc (deflated 69%)\n",
      "updating: usr/lib64/python3.8/__pycache__/keyword.cpython-38.opt-1.pyc (deflated 39%)\n",
      "updating: usr/lib64/python3.8/__pycache__/keyword.cpython-38.opt-2.pyc (deflated 31%)\n",
      "updating: usr/lib64/python3.8/__pycache__/keyword.cpython-38.pyc (deflated 39%)\n",
      "updating: usr/lib64/python3.8/__pycache__/linecache.cpython-38.opt-1.pyc (deflated 44%)\n",
      "updating: usr/lib64/python3.8/__pycache__/linecache.cpython-38.opt-2.pyc (deflated 43%)\n",
      "updating: usr/lib64/python3.8/__pycache__/linecache.cpython-38.pyc (deflated 44%)\n",
      "updating: usr/lib64/python3.8/__pycache__/locale.cpython-38.opt-1.pyc (deflated 55%)\n",
      "updating: usr/lib64/python3.8/__pycache__/locale.cpython-38.opt-2.pyc (deflated 54%)\n",
      "updating: usr/lib64/python3.8/__pycache__/locale.cpython-38.pyc (deflated 55%)\n",
      "updating: usr/lib64/python3.8/__pycache__/lzma.cpython-38.opt-1.pyc (deflated 57%)\n",
      "updating: usr/lib64/python3.8/__pycache__/lzma.cpython-38.opt-2.pyc (deflated 51%)\n",
      "updating: usr/lib64/python3.8/__pycache__/lzma.cpython-38.pyc (deflated 57%)\n",
      "updating: usr/lib64/python3.8/__pycache__/mailbox.cpython-38.opt-1.pyc (deflated 63%)\n",
      "updating: usr/lib64/python3.8/__pycache__/mailbox.cpython-38.opt-2.pyc (deflated 63%)\n",
      "updating: usr/lib64/python3.8/__pycache__/mailbox.cpython-38.pyc (deflated 63%)\n",
      "updating: usr/lib64/python3.8/__pycache__/mailcap.cpython-38.opt-1.pyc (deflated 48%)\n",
      "updating: usr/lib64/python3.8/__pycache__/mailcap.cpython-38.opt-2.pyc (deflated 45%)\n",
      "updating: usr/lib64/python3.8/__pycache__/mailcap.cpython-38.pyc (deflated 48%)\n",
      "updating: usr/lib64/python3.8/__pycache__/mimetypes.cpython-38.opt-1.pyc (deflated 60%)\n",
      "updating: usr/lib64/python3.8/__pycache__/mimetypes.cpython-38.opt-2.pyc (deflated 52%)\n",
      "updating: usr/lib64/python3.8/__pycache__/mimetypes.cpython-38.pyc (deflated 60%)\n",
      "updating: usr/lib64/python3.8/__pycache__/modulefinder.cpython-38.opt-1.pyc (deflated 51%)\n",
      "updating: usr/lib64/python3.8/__pycache__/modulefinder.cpython-38.opt-2.pyc (deflated 51%)\n",
      "updating: usr/lib64/python3.8/__pycache__/modulefinder.cpython-38.pyc (deflated 51%)\n",
      "updating: usr/lib64/python3.8/__pycache__/netrc.cpython-38.opt-1.pyc (deflated 42%)\n",
      "updating: usr/lib64/python3.8/__pycache__/netrc.cpython-38.opt-2.pyc (deflated 43%)\n",
      "updating: usr/lib64/python3.8/__pycache__/netrc.cpython-38.pyc (deflated 42%)\n",
      "updating: usr/lib64/python3.8/__pycache__/nntplib.cpython-38.opt-1.pyc (deflated 60%)\n",
      "updating: usr/lib64/python3.8/__pycache__/nntplib.cpython-38.opt-2.pyc (deflated 53%)\n",
      "updating: usr/lib64/python3.8/__pycache__/nntplib.cpython-38.pyc (deflated 60%)\n",
      "updating: usr/lib64/python3.8/__pycache__/ntpath.cpython-38.opt-1.pyc (deflated 52%)\n",
      "updating: usr/lib64/python3.8/__pycache__/ntpath.cpython-38.opt-2.pyc (deflated 51%)\n",
      "updating: usr/lib64/python3.8/__pycache__/ntpath.cpython-38.pyc (deflated 52%)\n",
      "updating: usr/lib64/python3.8/__pycache__/nturl2path.cpython-38.opt-1.pyc (deflated 39%)\n",
      "updating: usr/lib64/python3.8/__pycache__/nturl2path.cpython-38.opt-2.pyc (deflated 36%)\n",
      "updating: usr/lib64/python3.8/__pycache__/nturl2path.cpython-38.pyc (deflated 39%)\n",
      "updating: usr/lib64/python3.8/__pycache__/numbers.cpython-38.opt-1.pyc (deflated 68%)\n",
      "updating: usr/lib64/python3.8/__pycache__/numbers.cpython-38.opt-2.pyc (deflated 75%)\n",
      "updating: usr/lib64/python3.8/__pycache__/numbers.cpython-38.pyc (deflated 68%)\n",
      "updating: usr/lib64/python3.8/__pycache__/opcode.cpython-38.opt-1.pyc (deflated 52%)\n",
      "updating: usr/lib64/python3.8/__pycache__/opcode.cpython-38.opt-2.pyc (deflated 53%)\n",
      "updating: usr/lib64/python3.8/__pycache__/opcode.cpython-38.pyc (deflated 52%)\n",
      "updating: usr/lib64/python3.8/__pycache__/operator.cpython-38.opt-1.pyc (deflated 64%)\n",
      "updating: usr/lib64/python3.8/__pycache__/operator.cpython-38.opt-2.pyc (deflated 65%)\n",
      "updating: usr/lib64/python3.8/__pycache__/operator.cpython-38.pyc (deflated 64%)\n",
      "updating: usr/lib64/python3.8/__pycache__/optparse.cpython-38.opt-1.pyc (deflated 61%)\n",
      "updating: usr/lib64/python3.8/__pycache__/optparse.cpython-38.opt-2.pyc (deflated 60%)\n",
      "updating: usr/lib64/python3.8/__pycache__/optparse.cpython-38.pyc (deflated 61%)\n",
      "updating: usr/lib64/python3.8/__pycache__/os.cpython-38.opt-1.pyc (deflated 60%)\n",
      "updating: usr/lib64/python3.8/__pycache__/os.cpython-38.opt-2.pyc (deflated 54%)\n",
      "updating: usr/lib64/python3.8/__pycache__/os.cpython-38.pyc (deflated 60%)\n",
      "updating: usr/lib64/python3.8/__pycache__/pathlib.cpython-38.opt-1.pyc (deflated 61%)\n",
      "updating: usr/lib64/python3.8/__pycache__/pathlib.cpython-38.opt-2.pyc (deflated 60%)\n",
      "updating: usr/lib64/python3.8/__pycache__/pathlib.cpython-38.pyc (deflated 61%)\n",
      "updating: usr/lib64/python3.8/__pycache__/pdb.cpython-38.opt-1.pyc (deflated 56%)\n",
      "updating: usr/lib64/python3.8/__pycache__/pdb.cpython-38.opt-2.pyc (deflated 54%)\n",
      "updating: usr/lib64/python3.8/__pycache__/pdb.cpython-38.pyc (deflated 56%)\n",
      "updating: usr/lib64/python3.8/__pycache__/pickle.cpython-38.opt-1.pyc (deflated 60%)\n",
      "updating: usr/lib64/python3.8/__pycache__/pickle.cpython-38.opt-2.pyc (deflated 59%)\n",
      "updating: usr/lib64/python3.8/__pycache__/pickle.cpython-38.pyc (deflated 60%)\n",
      "updating: usr/lib64/python3.8/__pycache__/pickletools.cpython-38.opt-1.pyc (deflated 69%)\n",
      "updating: usr/lib64/python3.8/__pycache__/pickletools.cpython-38.opt-2.pyc (deflated 67%)\n",
      "updating: usr/lib64/python3.8/__pycache__/pickletools.cpython-38.pyc (deflated 68%)\n",
      "updating: usr/lib64/python3.8/__pycache__/pipes.cpython-38.opt-1.pyc (deflated 54%)\n",
      "updating: usr/lib64/python3.8/__pycache__/pipes.cpython-38.opt-2.pyc (deflated 54%)\n",
      "updating: usr/lib64/python3.8/__pycache__/pipes.cpython-38.pyc (deflated 54%)\n",
      "updating: usr/lib64/python3.8/__pycache__/pkgutil.cpython-38.opt-1.pyc (deflated 53%)\n",
      "updating: usr/lib64/python3.8/__pycache__/pkgutil.cpython-38.opt-2.pyc (deflated 50%)\n",
      "updating: usr/lib64/python3.8/__pycache__/pkgutil.cpython-38.pyc (deflated 53%)\n",
      "updating: usr/lib64/python3.8/__pycache__/platform.cpython-38.opt-1.pyc (deflated 54%)\n",
      "updating: usr/lib64/python3.8/__pycache__/platform.cpython-38.opt-2.pyc (deflated 47%)\n",
      "updating: usr/lib64/python3.8/__pycache__/platform.cpython-38.pyc (deflated 54%)\n",
      "updating: usr/lib64/python3.8/__pycache__/plistlib.cpython-38.opt-1.pyc (deflated 56%)\n",
      "updating: usr/lib64/python3.8/__pycache__/plistlib.cpython-38.opt-2.pyc (deflated 56%)\n",
      "updating: usr/lib64/python3.8/__pycache__/plistlib.cpython-38.pyc (deflated 56%)\n",
      "updating: usr/lib64/python3.8/__pycache__/poplib.cpython-38.opt-1.pyc (deflated 55%)\n",
      "updating: usr/lib64/python3.8/__pycache__/poplib.cpython-38.opt-2.pyc (deflated 52%)\n",
      "updating: usr/lib64/python3.8/__pycache__/poplib.cpython-38.pyc (deflated 55%)\n",
      "updating: usr/lib64/python3.8/__pycache__/posixpath.cpython-38.opt-1.pyc (deflated 50%)\n",
      "updating: usr/lib64/python3.8/__pycache__/posixpath.cpython-38.opt-2.pyc (deflated 51%)\n",
      "updating: usr/lib64/python3.8/__pycache__/posixpath.cpython-38.pyc (deflated 50%)\n",
      "updating: usr/lib64/python3.8/__pycache__/pprint.cpython-38.opt-1.pyc (deflated 56%)\n",
      "updating: usr/lib64/python3.8/__pycache__/pprint.cpython-38.opt-2.pyc (deflated 56%)\n",
      "updating: usr/lib64/python3.8/__pycache__/pprint.cpython-38.pyc (deflated 56%)\n",
      "updating: usr/lib64/python3.8/__pycache__/profile.cpython-38.opt-1.pyc (deflated 55%)\n",
      "updating: usr/lib64/python3.8/__pycache__/profile.cpython-38.opt-2.pyc (deflated 54%)\n",
      "updating: usr/lib64/python3.8/__pycache__/profile.cpython-38.pyc (deflated 54%)\n",
      "updating: usr/lib64/python3.8/__pycache__/pstats.cpython-38.opt-1.pyc (deflated 55%)\n",
      "updating: usr/lib64/python3.8/__pycache__/pstats.cpython-38.opt-2.pyc (deflated 55%)\n",
      "updating: usr/lib64/python3.8/__pycache__/pstats.cpython-38.pyc (deflated 55%)\n",
      "updating: usr/lib64/python3.8/__pycache__/pty.cpython-38.opt-1.pyc (deflated 47%)\n",
      "updating: usr/lib64/python3.8/__pycache__/pty.cpython-38.opt-2.pyc (deflated 45%)\n",
      "updating: usr/lib64/python3.8/__pycache__/pty.cpython-38.pyc (deflated 47%)\n",
      "updating: usr/lib64/python3.8/__pycache__/py_compile.cpython-38.opt-1.pyc (deflated 51%)\n",
      "updating: usr/lib64/python3.8/__pycache__/py_compile.cpython-38.opt-2.pyc (deflated 43%)\n",
      "updating: usr/lib64/python3.8/__pycache__/py_compile.cpython-38.pyc (deflated 51%)\n",
      "updating: usr/lib64/python3.8/__pycache__/pyclbr.cpython-38.opt-1.pyc (deflated 50%)\n",
      "updating: usr/lib64/python3.8/__pycache__/pyclbr.cpython-38.opt-2.pyc (deflated 46%)\n",
      "updating: usr/lib64/python3.8/__pycache__/pyclbr.cpython-38.pyc (deflated 50%)\n",
      "updating: usr/lib64/python3.8/__pycache__/pydoc.cpython-38.opt-1.pyc (deflated 55%)\n"
     ]
    },
    {
     "name": "stdout",
     "output_type": "stream",
     "text": [
      "updating: usr/lib64/python3.8/__pycache__/pydoc.cpython-38.opt-2.pyc (deflated 55%)\n",
      "updating: usr/lib64/python3.8/__pycache__/pydoc.cpython-38.pyc (deflated 55%)\n",
      "updating: usr/lib64/python3.8/__pycache__/queue.cpython-38.opt-1.pyc (deflated 63%)\n",
      "updating: usr/lib64/python3.8/__pycache__/queue.cpython-38.opt-2.pyc (deflated 61%)\n",
      "updating: usr/lib64/python3.8/__pycache__/queue.cpython-38.pyc (deflated 63%)\n",
      "updating: usr/lib64/python3.8/__pycache__/quopri.cpython-38.opt-1.pyc (deflated 46%)\n",
      "updating: usr/lib64/python3.8/__pycache__/quopri.cpython-38.opt-2.pyc (deflated 44%)\n",
      "updating: usr/lib64/python3.8/__pycache__/quopri.cpython-38.pyc (deflated 46%)\n",
      "updating: usr/lib64/python3.8/__pycache__/random.cpython-38.opt-1.pyc (deflated 53%)\n",
      "updating: usr/lib64/python3.8/__pycache__/random.cpython-38.opt-2.pyc (deflated 49%)\n",
      "updating: usr/lib64/python3.8/__pycache__/random.cpython-38.pyc (deflated 53%)\n",
      "updating: usr/lib64/python3.8/__pycache__/re.cpython-38.opt-1.pyc (deflated 59%)\n",
      "updating: usr/lib64/python3.8/__pycache__/re.cpython-38.opt-2.pyc (deflated 49%)\n",
      "updating: usr/lib64/python3.8/__pycache__/re.cpython-38.pyc (deflated 59%)\n",
      "updating: usr/lib64/python3.8/__pycache__/reprlib.cpython-38.opt-1.pyc (deflated 52%)\n",
      "updating: usr/lib64/python3.8/__pycache__/reprlib.cpython-38.opt-2.pyc (deflated 53%)\n",
      "updating: usr/lib64/python3.8/__pycache__/reprlib.cpython-38.pyc (deflated 52%)\n",
      "updating: usr/lib64/python3.8/__pycache__/rlcompleter.cpython-38.opt-1.pyc (deflated 47%)\n",
      "updating: usr/lib64/python3.8/__pycache__/rlcompleter.cpython-38.opt-2.pyc (deflated 41%)\n",
      "updating: usr/lib64/python3.8/__pycache__/rlcompleter.cpython-38.pyc (deflated 47%)\n",
      "updating: usr/lib64/python3.8/__pycache__/runpy.cpython-38.opt-1.pyc (deflated 49%)\n",
      "updating: usr/lib64/python3.8/__pycache__/runpy.cpython-38.opt-2.pyc (deflated 48%)\n",
      "updating: usr/lib64/python3.8/__pycache__/runpy.cpython-38.pyc (deflated 49%)\n",
      "updating: usr/lib64/python3.8/__pycache__/sched.cpython-38.opt-1.pyc (deflated 54%)\n",
      "updating: usr/lib64/python3.8/__pycache__/sched.cpython-38.opt-2.pyc (deflated 53%)\n",
      "updating: usr/lib64/python3.8/__pycache__/sched.cpython-38.pyc (deflated 54%)\n",
      "updating: usr/lib64/python3.8/__pycache__/secrets.cpython-38.opt-1.pyc (deflated 45%)\n",
      "updating: usr/lib64/python3.8/__pycache__/secrets.cpython-38.opt-2.pyc (deflated 38%)\n",
      "updating: usr/lib64/python3.8/__pycache__/secrets.cpython-38.pyc (deflated 45%)\n",
      "updating: usr/lib64/python3.8/__pycache__/selectors.cpython-38.opt-1.pyc (deflated 62%)\n",
      "updating: usr/lib64/python3.8/__pycache__/selectors.cpython-38.opt-2.pyc (deflated 60%)\n",
      "updating: usr/lib64/python3.8/__pycache__/selectors.cpython-38.pyc (deflated 62%)\n",
      "updating: usr/lib64/python3.8/__pycache__/shelve.cpython-38.opt-1.pyc (deflated 58%)\n",
      "updating: usr/lib64/python3.8/__pycache__/shelve.cpython-38.opt-2.pyc (deflated 59%)\n",
      "updating: usr/lib64/python3.8/__pycache__/shelve.cpython-38.pyc (deflated 58%)\n",
      "updating: usr/lib64/python3.8/__pycache__/shlex.cpython-38.opt-1.pyc (deflated 49%)\n",
      "updating: usr/lib64/python3.8/__pycache__/shlex.cpython-38.opt-2.pyc (deflated 49%)\n",
      "updating: usr/lib64/python3.8/__pycache__/shlex.cpython-38.pyc (deflated 49%)\n",
      "updating: usr/lib64/python3.8/__pycache__/shutil.cpython-38.opt-1.pyc (deflated 55%)\n",
      "updating: usr/lib64/python3.8/__pycache__/shutil.cpython-38.opt-2.pyc (deflated 52%)\n",
      "updating: usr/lib64/python3.8/__pycache__/shutil.cpython-38.pyc (deflated 55%)\n",
      "updating: usr/lib64/python3.8/__pycache__/signal.cpython-38.opt-1.pyc (deflated 54%)\n",
      "updating: usr/lib64/python3.8/__pycache__/signal.cpython-38.opt-2.pyc (deflated 54%)\n",
      "updating: usr/lib64/python3.8/__pycache__/signal.cpython-38.pyc (deflated 54%)\n",
      "updating: usr/lib64/python3.8/__pycache__/site.cpython-38.opt-1.pyc (deflated 53%)\n",
      "updating: usr/lib64/python3.8/__pycache__/site.cpython-38.opt-2.pyc (deflated 49%)\n",
      "updating: usr/lib64/python3.8/__pycache__/site.cpython-38.pyc (deflated 53%)\n",
      "updating: usr/lib64/python3.8/__pycache__/smtpd.cpython-38.opt-1.pyc (deflated 58%)\n",
      "updating: usr/lib64/python3.8/__pycache__/smtpd.cpython-38.opt-2.pyc (deflated 58%)\n",
      "updating: usr/lib64/python3.8/__pycache__/smtpd.cpython-38.pyc (deflated 58%)\n",
      "updating: usr/lib64/python3.8/__pycache__/smtplib.cpython-38.opt-1.pyc (deflated 59%)\n",
      "updating: usr/lib64/python3.8/__pycache__/smtplib.cpython-38.opt-2.pyc (deflated 52%)\n",
      "updating: usr/lib64/python3.8/__pycache__/smtplib.cpython-38.pyc (deflated 59%)\n",
      "updating: usr/lib64/python3.8/__pycache__/sndhdr.cpython-38.opt-1.pyc (deflated 51%)\n",
      "updating: usr/lib64/python3.8/__pycache__/sndhdr.cpython-38.opt-2.pyc (deflated 50%)\n",
      "updating: usr/lib64/python3.8/__pycache__/sndhdr.cpython-38.pyc (deflated 51%)\n",
      "updating: usr/lib64/python3.8/__pycache__/socket.cpython-38.opt-1.pyc (deflated 55%)\n",
      "updating: usr/lib64/python3.8/__pycache__/socket.cpython-38.opt-2.pyc (deflated 52%)\n",
      "updating: usr/lib64/python3.8/__pycache__/socket.cpython-38.pyc (deflated 55%)\n",
      "updating: usr/lib64/python3.8/__pycache__/socketserver.cpython-38.opt-1.pyc (deflated 63%)\n",
      "updating: usr/lib64/python3.8/__pycache__/socketserver.cpython-38.opt-2.pyc (deflated 62%)\n",
      "updating: usr/lib64/python3.8/__pycache__/socketserver.cpython-38.pyc (deflated 63%)\n",
      "updating: usr/lib64/python3.8/__pycache__/sre_compile.cpython-38.opt-1.pyc (deflated 50%)\n",
      "updating: usr/lib64/python3.8/__pycache__/sre_compile.cpython-38.opt-2.pyc (deflated 51%)\n",
      "updating: usr/lib64/python3.8/__pycache__/sre_compile.cpython-38.pyc (deflated 50%)\n",
      "updating: usr/lib64/python3.8/__pycache__/sre_constants.cpython-38.opt-1.pyc (deflated 56%)\n",
      "updating: usr/lib64/python3.8/__pycache__/sre_constants.cpython-38.opt-2.pyc (deflated 56%)\n",
      "updating: usr/lib64/python3.8/__pycache__/sre_constants.cpython-38.pyc (deflated 56%)\n",
      "updating: usr/lib64/python3.8/__pycache__/sre_parse.cpython-38.opt-1.pyc (deflated 52%)\n",
      "updating: usr/lib64/python3.8/__pycache__/sre_parse.cpython-38.opt-2.pyc (deflated 52%)\n",
      "updating: usr/lib64/python3.8/__pycache__/sre_parse.cpython-38.pyc (deflated 52%)\n",
      "updating: usr/lib64/python3.8/__pycache__/ssl.cpython-38.opt-1.pyc (deflated 59%)\n",
      "updating: usr/lib64/python3.8/__pycache__/ssl.cpython-38.opt-2.pyc (deflated 58%)\n",
      "updating: usr/lib64/python3.8/__pycache__/ssl.cpython-38.pyc (deflated 59%)\n",
      "updating: usr/lib64/python3.8/__pycache__/stat.cpython-38.opt-1.pyc (deflated 56%)\n",
      "updating: usr/lib64/python3.8/__pycache__/stat.cpython-38.opt-2.pyc (deflated 57%)\n",
      "updating: usr/lib64/python3.8/__pycache__/stat.cpython-38.pyc (deflated 56%)\n",
      "updating: usr/lib64/python3.8/__pycache__/statistics.cpython-38.opt-1.pyc (deflated 61%)\n",
      "updating: usr/lib64/python3.8/__pycache__/statistics.cpython-38.opt-2.pyc (deflated 55%)\n",
      "updating: usr/lib64/python3.8/__pycache__/statistics.cpython-38.pyc (deflated 61%)\n",
      "updating: usr/lib64/python3.8/__pycache__/string.cpython-38.opt-1.pyc (deflated 51%)\n",
      "updating: usr/lib64/python3.8/__pycache__/string.cpython-38.opt-2.pyc (deflated 49%)\n",
      "updating: usr/lib64/python3.8/__pycache__/string.cpython-38.pyc (deflated 51%)\n",
      "updating: usr/lib64/python3.8/__pycache__/stringprep.cpython-38.opt-1.pyc (deflated 64%)\n",
      "updating: usr/lib64/python3.8/__pycache__/stringprep.cpython-38.opt-2.pyc (deflated 65%)\n",
      "updating: usr/lib64/python3.8/__pycache__/stringprep.cpython-38.pyc (deflated 64%)\n",
      "updating: usr/lib64/python3.8/__pycache__/struct.cpython-38.opt-1.pyc (deflated 25%)\n",
      "updating: usr/lib64/python3.8/__pycache__/struct.cpython-38.opt-2.pyc (deflated 25%)\n",
      "updating: usr/lib64/python3.8/__pycache__/struct.cpython-38.pyc (deflated 25%)\n",
      "updating: usr/lib64/python3.8/__pycache__/subprocess.cpython-38.opt-1.pyc (deflated 55%)\n",
      "updating: usr/lib64/python3.8/__pycache__/subprocess.cpython-38.opt-2.pyc (deflated 51%)\n",
      "updating: usr/lib64/python3.8/__pycache__/subprocess.cpython-38.pyc (deflated 55%)\n",
      "updating: usr/lib64/python3.8/__pycache__/sunau.cpython-38.opt-1.pyc (deflated 63%)\n",
      "updating: usr/lib64/python3.8/__pycache__/sunau.cpython-38.opt-2.pyc (deflated 61%)\n",
      "updating: usr/lib64/python3.8/__pycache__/sunau.cpython-38.pyc (deflated 63%)\n",
      "updating: usr/lib64/python3.8/__pycache__/symbol.cpython-38.opt-1.pyc (deflated 47%)\n",
      "updating: usr/lib64/python3.8/__pycache__/symbol.cpython-38.opt-2.pyc (deflated 48%)\n",
      "updating: usr/lib64/python3.8/__pycache__/symbol.cpython-38.pyc (deflated 47%)\n",
      "updating: usr/lib64/python3.8/__pycache__/symtable.cpython-38.opt-1.pyc (deflated 63%)\n",
      "updating: usr/lib64/python3.8/__pycache__/symtable.cpython-38.opt-2.pyc (deflated 64%)\n",
      "updating: usr/lib64/python3.8/__pycache__/symtable.cpython-38.pyc (deflated 63%)\n",
      "updating: usr/lib64/python3.8/__pycache__/sysconfig.cpython-38.opt-1.pyc (deflated 50%)\n",
      "updating: usr/lib64/python3.8/__pycache__/sysconfig.cpython-38.opt-2.pyc (deflated 49%)\n",
      "updating: usr/lib64/python3.8/__pycache__/sysconfig.cpython-38.pyc (deflated 50%)\n",
      "updating: usr/lib64/python3.8/__pycache__/tabnanny.cpython-38.opt-1.pyc (deflated 48%)\n",
      "updating: usr/lib64/python3.8/__pycache__/tabnanny.cpython-38.opt-2.pyc (deflated 48%)\n",
      "updating: usr/lib64/python3.8/__pycache__/tabnanny.cpython-38.pyc (deflated 48%)\n",
      "updating: usr/lib64/python3.8/__pycache__/tarfile.cpython-38.opt-1.pyc (deflated 57%)\n",
      "updating: usr/lib64/python3.8/__pycache__/tarfile.cpython-38.opt-2.pyc (deflated 55%)\n",
      "updating: usr/lib64/python3.8/__pycache__/tarfile.cpython-38.pyc (deflated 57%)\n",
      "updating: usr/lib64/python3.8/__pycache__/telnetlib.cpython-38.opt-1.pyc (deflated 56%)\n",
      "updating: usr/lib64/python3.8/__pycache__/telnetlib.cpython-38.opt-2.pyc (deflated 52%)\n"
     ]
    },
    {
     "name": "stdout",
     "output_type": "stream",
     "text": [
      "updating: usr/lib64/python3.8/__pycache__/telnetlib.cpython-38.pyc (deflated 56%)\n",
      "updating: usr/lib64/python3.8/__pycache__/tempfile.cpython-38.opt-1.pyc (deflated 59%)\n",
      "updating: usr/lib64/python3.8/__pycache__/tempfile.cpython-38.opt-2.pyc (deflated 58%)\n",
      "updating: usr/lib64/python3.8/__pycache__/tempfile.cpython-38.pyc (deflated 59%)\n",
      "updating: usr/lib64/python3.8/__pycache__/textwrap.cpython-38.opt-1.pyc (deflated 56%)\n",
      "updating: usr/lib64/python3.8/__pycache__/textwrap.cpython-38.opt-2.pyc (deflated 48%)\n",
      "updating: usr/lib64/python3.8/__pycache__/textwrap.cpython-38.pyc (deflated 56%)\n",
      "updating: usr/lib64/python3.8/__pycache__/this.cpython-38.opt-1.pyc (deflated 40%)\n",
      "updating: usr/lib64/python3.8/__pycache__/this.cpython-38.opt-2.pyc (deflated 40%)\n",
      "updating: usr/lib64/python3.8/__pycache__/this.cpython-38.pyc (deflated 40%)\n",
      "updating: usr/lib64/python3.8/__pycache__/threading.cpython-38.opt-1.pyc (deflated 63%)\n",
      "updating: usr/lib64/python3.8/__pycache__/threading.cpython-38.opt-2.pyc (deflated 60%)\n",
      "updating: usr/lib64/python3.8/__pycache__/threading.cpython-38.pyc (deflated 63%)\n",
      "updating: usr/lib64/python3.8/__pycache__/timeit.cpython-38.opt-1.pyc (deflated 50%)\n",
      "updating: usr/lib64/python3.8/__pycache__/timeit.cpython-38.opt-2.pyc (deflated 42%)\n",
      "updating: usr/lib64/python3.8/__pycache__/timeit.cpython-38.pyc (deflated 50%)\n",
      "updating: usr/lib64/python3.8/__pycache__/token.cpython-38.opt-1.pyc (deflated 43%)\n",
      "updating: usr/lib64/python3.8/__pycache__/token.cpython-38.opt-2.pyc (deflated 43%)\n",
      "updating: usr/lib64/python3.8/__pycache__/token.cpython-38.pyc (deflated 43%)\n",
      "updating: usr/lib64/python3.8/__pycache__/tokenize.cpython-38.opt-1.pyc (deflated 48%)\n",
      "updating: usr/lib64/python3.8/__pycache__/tokenize.cpython-38.opt-2.pyc (deflated 45%)\n",
      "updating: usr/lib64/python3.8/__pycache__/tokenize.cpython-38.pyc (deflated 48%)\n",
      "updating: usr/lib64/python3.8/__pycache__/trace.cpython-38.opt-1.pyc (deflated 52%)\n",
      "updating: usr/lib64/python3.8/__pycache__/trace.cpython-38.opt-2.pyc (deflated 50%)\n",
      "updating: usr/lib64/python3.8/__pycache__/trace.cpython-38.pyc (deflated 52%)\n",
      "updating: usr/lib64/python3.8/__pycache__/traceback.cpython-38.opt-1.pyc (deflated 59%)\n",
      "updating: usr/lib64/python3.8/__pycache__/traceback.cpython-38.opt-2.pyc (deflated 53%)\n",
      "updating: usr/lib64/python3.8/__pycache__/traceback.cpython-38.pyc (deflated 59%)\n",
      "updating: usr/lib64/python3.8/__pycache__/tracemalloc.cpython-38.opt-1.pyc (deflated 63%)\n",
      "updating: usr/lib64/python3.8/__pycache__/tracemalloc.cpython-38.opt-2.pyc (deflated 63%)\n",
      "updating: usr/lib64/python3.8/__pycache__/tracemalloc.cpython-38.pyc (deflated 63%)\n",
      "updating: usr/lib64/python3.8/__pycache__/tty.cpython-38.opt-1.pyc (deflated 40%)\n",
      "updating: usr/lib64/python3.8/__pycache__/tty.cpython-38.opt-2.pyc (deflated 39%)\n",
      "updating: usr/lib64/python3.8/__pycache__/tty.cpython-38.pyc (deflated 40%)\n",
      "updating: usr/lib64/python3.8/__pycache__/types.cpython-38.opt-1.pyc (deflated 54%)\n",
      "updating: usr/lib64/python3.8/__pycache__/types.cpython-38.opt-2.pyc (deflated 55%)\n",
      "updating: usr/lib64/python3.8/__pycache__/types.cpython-38.pyc (deflated 54%)\n",
      "updating: usr/lib64/python3.8/__pycache__/typing.cpython-38.opt-1.pyc (deflated 60%)\n",
      "updating: usr/lib64/python3.8/__pycache__/typing.cpython-38.opt-2.pyc (deflated 59%)\n",
      "updating: usr/lib64/python3.8/__pycache__/typing.cpython-38.pyc (deflated 60%)\n",
      "updating: usr/lib64/python3.8/__pycache__/uu.cpython-38.opt-1.pyc (deflated 39%)\n",
      "updating: usr/lib64/python3.8/__pycache__/uu.cpython-38.opt-2.pyc (deflated 39%)\n",
      "updating: usr/lib64/python3.8/__pycache__/uu.cpython-38.pyc (deflated 39%)\n",
      "updating: usr/lib64/python3.8/__pycache__/uuid.cpython-38.opt-1.pyc (deflated 57%)\n",
      "updating: usr/lib64/python3.8/__pycache__/uuid.cpython-38.opt-2.pyc (deflated 53%)\n",
      "updating: usr/lib64/python3.8/__pycache__/uuid.cpython-38.pyc (deflated 57%)\n",
      "updating: usr/lib64/python3.8/__pycache__/warnings.cpython-38.opt-1.pyc (deflated 51%)\n",
      "updating: usr/lib64/python3.8/__pycache__/warnings.cpython-38.opt-2.pyc (deflated 49%)\n",
      "updating: usr/lib64/python3.8/__pycache__/warnings.cpython-38.pyc (deflated 51%)\n",
      "updating: usr/lib64/python3.8/__pycache__/wave.cpython-38.opt-1.pyc (deflated 65%)\n",
      "updating: usr/lib64/python3.8/__pycache__/wave.cpython-38.opt-2.pyc (deflated 61%)\n",
      "updating: usr/lib64/python3.8/__pycache__/wave.cpython-38.pyc (deflated 65%)\n",
      "updating: usr/lib64/python3.8/__pycache__/weakref.cpython-38.opt-1.pyc (deflated 62%)\n",
      "updating: usr/lib64/python3.8/__pycache__/weakref.cpython-38.opt-2.pyc (deflated 61%)\n",
      "updating: usr/lib64/python3.8/__pycache__/weakref.cpython-38.pyc (deflated 62%)\n",
      "updating: usr/lib64/python3.8/__pycache__/webbrowser.cpython-38.opt-1.pyc (deflated 54%)\n",
      "updating: usr/lib64/python3.8/__pycache__/webbrowser.cpython-38.opt-2.pyc (deflated 54%)\n",
      "updating: usr/lib64/python3.8/__pycache__/webbrowser.cpython-38.pyc (deflated 54%)\n",
      "updating: usr/lib64/python3.8/__pycache__/xdrlib.cpython-38.opt-1.pyc (deflated 62%)\n",
      "updating: usr/lib64/python3.8/__pycache__/xdrlib.cpython-38.opt-2.pyc (deflated 63%)\n",
      "updating: usr/lib64/python3.8/__pycache__/xdrlib.cpython-38.pyc (deflated 62%)\n",
      "updating: usr/lib64/python3.8/__pycache__/zipapp.cpython-38.opt-1.pyc (deflated 46%)\n",
      "updating: usr/lib64/python3.8/__pycache__/zipapp.cpython-38.opt-2.pyc (deflated 42%)\n",
      "updating: usr/lib64/python3.8/__pycache__/zipapp.cpython-38.pyc (deflated 46%)\n",
      "updating: usr/lib64/python3.8/__pycache__/zipfile.cpython-38.opt-1.pyc (deflated 55%)\n",
      "updating: usr/lib64/python3.8/__pycache__/zipfile.cpython-38.opt-2.pyc (deflated 54%)\n",
      "updating: usr/lib64/python3.8/__pycache__/zipfile.cpython-38.pyc (deflated 55%)\n",
      "updating: usr/lib64/python3.8/__pycache__/zipimport.cpython-38.opt-1.pyc (deflated 52%)\n",
      "updating: usr/lib64/python3.8/__pycache__/zipimport.cpython-38.opt-2.pyc (deflated 49%)\n",
      "updating: usr/lib64/python3.8/__pycache__/zipimport.cpython-38.pyc (deflated 52%)\n",
      "updating: usr/lib64/python3.8/_bootlocale.py (deflated 63%)\n",
      "updating: usr/lib64/python3.8/_collections_abc.py (deflated 79%)\n",
      "updating: usr/lib64/python3.8/_compat_pickle.py (deflated 72%)\n",
      "updating: usr/lib64/python3.8/_compression.py (deflated 69%)\n",
      "updating: usr/lib64/python3.8/_dummy_thread.py (deflated 64%)\n",
      "updating: usr/lib64/python3.8/_markupbase.py (deflated 76%)\n",
      "updating: usr/lib64/python3.8/_osx_support.py (deflated 69%)\n",
      "updating: usr/lib64/python3.8/_py_abc.py (deflated 70%)\n",
      "updating: usr/lib64/python3.8/_pydecimal.py (deflated 79%)\n",
      "updating: usr/lib64/python3.8/_pyio.py (deflated 76%)\n",
      "updating: usr/lib64/python3.8/_sitebuiltins.py (deflated 64%)\n",
      "updating: usr/lib64/python3.8/_strptime.py (deflated 71%)\n",
      "updating: usr/lib64/python3.8/_sysconfigdata__linux_x86_64-linux-gnu.py (deflated 82%)\n",
      "updating: usr/lib64/python3.8/_threading_local.py (deflated 66%)\n",
      "updating: usr/lib64/python3.8/_weakrefset.py (deflated 76%)\n",
      "updating: usr/lib64/python3.8/abc.py (deflated 68%)\n",
      "updating: usr/lib64/python3.8/aifc.py (deflated 78%)\n",
      "updating: usr/lib64/python3.8/antigravity.py (deflated 36%)\n",
      "updating: usr/lib64/python3.8/argparse.py (deflated 79%)\n",
      "updating: usr/lib64/python3.8/ast.py (deflated 71%)\n",
      "updating: usr/lib64/python3.8/asynchat.py (deflated 68%)\n",
      "updating: usr/lib64/python3.8/asyncio/ (stored 0%)\n",
      "updating: usr/lib64/python3.8/asyncio/__init__.py (deflated 64%)\n",
      "updating: usr/lib64/python3.8/asyncio/__main__.py (deflated 67%)\n",
      "updating: usr/lib64/python3.8/asyncio/__pycache__/ (stored 0%)\n",
      "updating: usr/lib64/python3.8/asyncio/__pycache__/__init__.cpython-38.opt-1.pyc (deflated 34%)\n",
      "updating: usr/lib64/python3.8/asyncio/__pycache__/__init__.cpython-38.opt-2.pyc (deflated 36%)\n",
      "updating: usr/lib64/python3.8/asyncio/__pycache__/__init__.cpython-38.pyc (deflated 34%)\n",
      "updating: usr/lib64/python3.8/asyncio/__pycache__/__main__.cpython-38.opt-1.pyc (deflated 41%)\n",
      "updating: usr/lib64/python3.8/asyncio/__pycache__/__main__.cpython-38.opt-2.pyc (deflated 41%)\n",
      "updating: usr/lib64/python3.8/asyncio/__pycache__/__main__.cpython-38.pyc (deflated 41%)\n",
      "updating: usr/lib64/python3.8/asyncio/__pycache__/base_events.cpython-38.opt-1.pyc (deflated 57%)\n",
      "updating: usr/lib64/python3.8/asyncio/__pycache__/base_events.cpython-38.opt-2.pyc (deflated 56%)\n",
      "updating: usr/lib64/python3.8/asyncio/__pycache__/base_events.cpython-38.pyc (deflated 57%)\n",
      "updating: usr/lib64/python3.8/asyncio/__pycache__/base_futures.cpython-38.opt-1.pyc (deflated 40%)\n",
      "updating: usr/lib64/python3.8/asyncio/__pycache__/base_futures.cpython-38.opt-2.pyc (deflated 40%)\n",
      "updating: usr/lib64/python3.8/asyncio/__pycache__/base_futures.cpython-38.pyc (deflated 40%)\n",
      "updating: usr/lib64/python3.8/asyncio/__pycache__/base_subprocess.cpython-38.opt-1.pyc (deflated 59%)\n",
      "updating: usr/lib64/python3.8/asyncio/__pycache__/base_subprocess.cpython-38.opt-2.pyc (deflated 59%)\n",
      "updating: usr/lib64/python3.8/asyncio/__pycache__/base_subprocess.cpython-38.pyc (deflated 58%)\n",
      "updating: usr/lib64/python3.8/asyncio/__pycache__/base_tasks.cpython-38.opt-1.pyc (deflated 39%)\n",
      "updating: usr/lib64/python3.8/asyncio/__pycache__/base_tasks.cpython-38.opt-2.pyc (deflated 39%)\n",
      "updating: usr/lib64/python3.8/asyncio/__pycache__/base_tasks.cpython-38.pyc (deflated 39%)\n",
      "updating: usr/lib64/python3.8/asyncio/__pycache__/constants.cpython-38.opt-1.pyc (deflated 27%)\n",
      "updating: usr/lib64/python3.8/asyncio/__pycache__/constants.cpython-38.opt-2.pyc (deflated 27%)\n",
      "updating: usr/lib64/python3.8/asyncio/__pycache__/constants.cpython-38.pyc (deflated 27%)\n",
      "updating: usr/lib64/python3.8/asyncio/__pycache__/coroutines.cpython-38.opt-1.pyc (deflated 51%)\n",
      "updating: usr/lib64/python3.8/asyncio/__pycache__/coroutines.cpython-38.opt-2.pyc (deflated 51%)\n",
      "updating: usr/lib64/python3.8/asyncio/__pycache__/coroutines.cpython-38.pyc (deflated 51%)\n",
      "updating: usr/lib64/python3.8/asyncio/__pycache__/events.cpython-38.opt-1.pyc (deflated 68%)\n",
      "updating: usr/lib64/python3.8/asyncio/__pycache__/events.cpython-38.opt-2.pyc (deflated 67%)\n",
      "updating: usr/lib64/python3.8/asyncio/__pycache__/events.cpython-38.pyc (deflated 68%)\n",
      "updating: usr/lib64/python3.8/asyncio/__pycache__/exceptions.cpython-38.opt-1.pyc (deflated 54%)\n",
      "updating: usr/lib64/python3.8/asyncio/__pycache__/exceptions.cpython-38.opt-2.pyc (deflated 56%)\n",
      "updating: usr/lib64/python3.8/asyncio/__pycache__/exceptions.cpython-38.pyc (deflated 54%)\n",
      "updating: usr/lib64/python3.8/asyncio/__pycache__/format_helpers.cpython-38.opt-1.pyc (deflated 42%)\n",
      "updating: usr/lib64/python3.8/asyncio/__pycache__/format_helpers.cpython-38.opt-2.pyc (deflated 42%)\n",
      "updating: usr/lib64/python3.8/asyncio/__pycache__/format_helpers.cpython-38.pyc (deflated 42%)\n",
      "updating: usr/lib64/python3.8/asyncio/__pycache__/futures.cpython-38.opt-1.pyc (deflated 57%)\n",
      "updating: usr/lib64/python3.8/asyncio/__pycache__/futures.cpython-38.opt-2.pyc (deflated 54%)\n",
      "updating: usr/lib64/python3.8/asyncio/__pycache__/futures.cpython-38.pyc (deflated 57%)\n",
      "updating: usr/lib64/python3.8/asyncio/__pycache__/locks.cpython-38.opt-1.pyc (deflated 63%)\n",
      "updating: usr/lib64/python3.8/asyncio/__pycache__/locks.cpython-38.opt-2.pyc (deflated 61%)\n",
      "updating: usr/lib64/python3.8/asyncio/__pycache__/locks.cpython-38.pyc (deflated 63%)\n",
      "updating: usr/lib64/python3.8/asyncio/__pycache__/log.cpython-38.opt-1.pyc (deflated 17%)\n",
      "updating: usr/lib64/python3.8/asyncio/__pycache__/log.cpython-38.opt-2.pyc (deflated 18%)\n",
      "updating: usr/lib64/python3.8/asyncio/__pycache__/log.cpython-38.pyc (deflated 17%)\n",
      "updating: usr/lib64/python3.8/asyncio/__pycache__/proactor_events.cpython-38.opt-1.pyc (deflated 60%)\n",
      "updating: usr/lib64/python3.8/asyncio/__pycache__/proactor_events.cpython-38.opt-2.pyc (deflated 60%)\n",
      "updating: usr/lib64/python3.8/asyncio/__pycache__/proactor_events.cpython-38.pyc (deflated 60%)\n",
      "updating: usr/lib64/python3.8/asyncio/__pycache__/protocols.cpython-38.opt-1.pyc (deflated 64%)\n",
      "updating: usr/lib64/python3.8/asyncio/__pycache__/protocols.cpython-38.opt-2.pyc (deflated 67%)\n",
      "updating: usr/lib64/python3.8/asyncio/__pycache__/protocols.cpython-38.pyc (deflated 64%)\n",
      "updating: usr/lib64/python3.8/asyncio/__pycache__/queues.cpython-38.opt-1.pyc (deflated 57%)\n",
      "updating: usr/lib64/python3.8/asyncio/__pycache__/queues.cpython-38.opt-2.pyc (deflated 57%)\n",
      "updating: usr/lib64/python3.8/asyncio/__pycache__/queues.cpython-38.pyc (deflated 57%)\n",
      "updating: usr/lib64/python3.8/asyncio/__pycache__/runners.cpython-38.opt-1.pyc (deflated 43%)\n",
      "updating: usr/lib64/python3.8/asyncio/__pycache__/runners.cpython-38.opt-2.pyc (deflated 37%)\n",
      "updating: usr/lib64/python3.8/asyncio/__pycache__/runners.cpython-38.pyc (deflated 43%)\n"
     ]
    },
    {
     "name": "stdout",
     "output_type": "stream",
     "text": [
      "updating: usr/lib64/python3.8/asyncio/__pycache__/selector_events.cpython-38.opt-1.pyc (deflated 60%)\n",
      "updating: usr/lib64/python3.8/asyncio/__pycache__/selector_events.cpython-38.opt-2.pyc (deflated 60%)\n",
      "updating: usr/lib64/python3.8/asyncio/__pycache__/selector_events.cpython-38.pyc (deflated 60%)\n",
      "updating: usr/lib64/python3.8/asyncio/__pycache__/sslproto.cpython-38.opt-1.pyc (deflated 58%)\n",
      "updating: usr/lib64/python3.8/asyncio/__pycache__/sslproto.cpython-38.opt-2.pyc (deflated 56%)\n",
      "updating: usr/lib64/python3.8/asyncio/__pycache__/sslproto.cpython-38.pyc (deflated 58%)\n",
      "updating: usr/lib64/python3.8/asyncio/__pycache__/staggered.cpython-38.opt-1.pyc (deflated 46%)\n",
      "updating: usr/lib64/python3.8/asyncio/__pycache__/staggered.cpython-38.opt-2.pyc (deflated 34%)\n",
      "updating: usr/lib64/python3.8/asyncio/__pycache__/staggered.cpython-38.pyc (deflated 46%)\n",
      "updating: usr/lib64/python3.8/asyncio/__pycache__/streams.cpython-38.opt-1.pyc (deflated 60%)\n",
      "updating: usr/lib64/python3.8/asyncio/__pycache__/streams.cpython-38.opt-2.pyc (deflated 58%)\n",
      "updating: usr/lib64/python3.8/asyncio/__pycache__/streams.cpython-38.pyc (deflated 60%)\n",
      "updating: usr/lib64/python3.8/asyncio/__pycache__/subprocess.cpython-38.opt-1.pyc (deflated 55%)\n",
      "updating: usr/lib64/python3.8/asyncio/__pycache__/subprocess.cpython-38.opt-2.pyc (deflated 55%)\n",
      "updating: usr/lib64/python3.8/asyncio/__pycache__/subprocess.cpython-38.pyc (deflated 55%)\n",
      "updating: usr/lib64/python3.8/asyncio/__pycache__/tasks.cpython-38.opt-1.pyc (deflated 56%)\n",
      "updating: usr/lib64/python3.8/asyncio/__pycache__/tasks.cpython-38.opt-2.pyc (deflated 54%)\n",
      "updating: usr/lib64/python3.8/asyncio/__pycache__/tasks.cpython-38.pyc (deflated 56%)\n",
      "updating: usr/lib64/python3.8/asyncio/__pycache__/transports.cpython-38.opt-1.pyc (deflated 66%)\n",
      "updating: usr/lib64/python3.8/asyncio/__pycache__/transports.cpython-38.opt-2.pyc (deflated 67%)\n",
      "updating: usr/lib64/python3.8/asyncio/__pycache__/transports.cpython-38.pyc (deflated 66%)\n",
      "updating: usr/lib64/python3.8/asyncio/__pycache__/trsock.cpython-38.opt-1.pyc (deflated 70%)\n",
      "updating: usr/lib64/python3.8/asyncio/__pycache__/trsock.cpython-38.opt-2.pyc (deflated 70%)\n",
      "updating: usr/lib64/python3.8/asyncio/__pycache__/trsock.cpython-38.pyc (deflated 70%)\n",
      "updating: usr/lib64/python3.8/asyncio/__pycache__/unix_events.cpython-38.opt-1.pyc (deflated 61%)\n",
      "updating: usr/lib64/python3.8/asyncio/__pycache__/unix_events.cpython-38.opt-2.pyc (deflated 61%)\n",
      "updating: usr/lib64/python3.8/asyncio/__pycache__/unix_events.cpython-38.pyc (deflated 61%)\n",
      "updating: usr/lib64/python3.8/asyncio/__pycache__/windows_events.cpython-38.opt-1.pyc (deflated 59%)\n",
      "updating: usr/lib64/python3.8/asyncio/__pycache__/windows_events.cpython-38.opt-2.pyc (deflated 59%)\n",
      "updating: usr/lib64/python3.8/asyncio/__pycache__/windows_events.cpython-38.pyc (deflated 59%)\n",
      "updating: usr/lib64/python3.8/asyncio/__pycache__/windows_utils.cpython-38.opt-1.pyc (deflated 44%)\n",
      "updating: usr/lib64/python3.8/asyncio/__pycache__/windows_utils.cpython-38.opt-2.pyc (deflated 44%)\n",
      "updating: usr/lib64/python3.8/asyncio/__pycache__/windows_utils.cpython-38.pyc (deflated 43%)\n",
      "updating: usr/lib64/python3.8/asyncio/base_events.py (deflated 77%)\n",
      "updating: usr/lib64/python3.8/asyncio/base_futures.py (deflated 61%)\n",
      "updating: usr/lib64/python3.8/asyncio/base_subprocess.py (deflated 75%)\n",
      "updating: usr/lib64/python3.8/asyncio/base_tasks.py (deflated 67%)\n",
      "updating: usr/lib64/python3.8/asyncio/constants.py (deflated 38%)\n",
      "updating: usr/lib64/python3.8/asyncio/coroutines.py (deflated 69%)\n",
      "updating: usr/lib64/python3.8/asyncio/events.py (deflated 77%)\n",
      "updating: usr/lib64/python3.8/asyncio/exceptions.py (deflated 61%)\n",
      "updating: usr/lib64/python3.8/asyncio/format_helpers.py (deflated 64%)\n",
      "updating: usr/lib64/python3.8/asyncio/futures.py (deflated 73%)\n",
      "updating: usr/lib64/python3.8/asyncio/locks.py (deflated 76%)\n",
      "updating: usr/lib64/python3.8/asyncio/log.py (deflated 25%)\n",
      "updating: usr/lib64/python3.8/asyncio/proactor_events.py (deflated 79%)\n",
      "updating: usr/lib64/python3.8/asyncio/protocols.py (deflated 68%)\n",
      "updating: usr/lib64/python3.8/asyncio/queues.py (deflated 71%)\n",
      "updating: usr/lib64/python3.8/asyncio/runners.py (deflated 62%)\n",
      "updating: usr/lib64/python3.8/asyncio/selector_events.py (deflated 80%)\n",
      "updating: usr/lib64/python3.8/asyncio/sslproto.py (deflated 75%)\n",
      "updating: usr/lib64/python3.8/asyncio/staggered.py (deflated 63%)\n",
      "updating: usr/lib64/python3.8/asyncio/streams.py (deflated 75%)\n",
      "updating: usr/lib64/python3.8/asyncio/subprocess.py (deflated 78%)\n",
      "updating: usr/lib64/python3.8/asyncio/tasks.py (deflated 75%)\n",
      "updating: usr/lib64/python3.8/asyncio/transports.py (deflated 74%)\n",
      "updating: usr/lib64/python3.8/asyncio/trsock.py (deflated 79%)\n",
      "updating: usr/lib64/python3.8/asyncio/unix_events.py (deflated 79%)\n",
      "updating: usr/lib64/python3.8/asyncio/windows_events.py (deflated 78%)\n",
      "updating: usr/lib64/python3.8/asyncio/windows_utils.py (deflated 68%)\n",
      "updating: usr/lib64/python3.8/asyncore.py (deflated 71%)\n",
      "updating: usr/lib64/python3.8/base64.py (deflated 71%)\n",
      "updating: usr/lib64/python3.8/bdb.py (deflated 75%)\n",
      "updating: usr/lib64/python3.8/binhex.py (deflated 73%)\n",
      "updating: usr/lib64/python3.8/bisect.py (deflated 72%)\n",
      "updating: usr/lib64/python3.8/bz2.py (deflated 72%)\n",
      "updating: usr/lib64/python3.8/cProfile.py (deflated 67%)\n",
      "updating: usr/lib64/python3.8/calendar.py (deflated 76%)\n",
      "updating: usr/lib64/python3.8/cgi.py (deflated 73%)\n",
      "updating: usr/lib64/python3.8/cgitb.py (deflated 71%)\n",
      "updating: usr/lib64/python3.8/chunk.py (deflated 69%)\n",
      "updating: usr/lib64/python3.8/cmd.py (deflated 70%)\n",
      "updating: usr/lib64/python3.8/code.py (deflated 68%)\n",
      "updating: usr/lib64/python3.8/codecs.py (deflated 77%)\n",
      "updating: usr/lib64/python3.8/codeop.py (deflated 68%)\n",
      "updating: usr/lib64/python3.8/collections/ (stored 0%)\n",
      "updating: usr/lib64/python3.8/collections/__init__.py (deflated 76%)\n",
      "updating: usr/lib64/python3.8/collections/__pycache__/ (stored 0%)\n",
      "updating: usr/lib64/python3.8/collections/__pycache__/__init__.cpython-38.opt-1.pyc (deflated 65%)\n",
      "updating: usr/lib64/python3.8/collections/__pycache__/__init__.cpython-38.opt-2.pyc (deflated 65%)\n",
      "updating: usr/lib64/python3.8/collections/__pycache__/__init__.cpython-38.pyc (deflated 65%)\n",
      "updating: usr/lib64/python3.8/collections/__pycache__/abc.cpython-38.opt-1.pyc (deflated 22%)\n",
      "updating: usr/lib64/python3.8/collections/__pycache__/abc.cpython-38.opt-2.pyc (deflated 22%)\n",
      "updating: usr/lib64/python3.8/collections/__pycache__/abc.cpython-38.pyc (deflated 22%)\n",
      "updating: usr/lib64/python3.8/collections/abc.py (deflated 35%)\n",
      "updating: usr/lib64/python3.8/colorsys.py (deflated 63%)\n",
      "updating: usr/lib64/python3.8/compileall.py (deflated 73%)\n",
      "updating: usr/lib64/python3.8/concurrent/ (stored 0%)\n",
      "updating: usr/lib64/python3.8/concurrent/__init__.py (stored 0%)\n",
      "updating: usr/lib64/python3.8/concurrent/__pycache__/ (stored 0%)\n",
      "updating: usr/lib64/python3.8/concurrent/__pycache__/__init__.cpython-38.opt-1.pyc (deflated 25%)\n",
      "updating: usr/lib64/python3.8/concurrent/__pycache__/__init__.cpython-38.opt-2.pyc (deflated 25%)\n",
      "updating: usr/lib64/python3.8/concurrent/__pycache__/__init__.cpython-38.pyc (deflated 25%)\n",
      "updating: usr/lib64/python3.8/concurrent/futures/ (stored 0%)\n",
      "updating: usr/lib64/python3.8/concurrent/futures/__init__.py (deflated 66%)\n",
      "updating: usr/lib64/python3.8/concurrent/futures/__pycache__/ (stored 0%)\n",
      "updating: usr/lib64/python3.8/concurrent/futures/__pycache__/__init__.cpython-38.opt-1.pyc (deflated 38%)\n",
      "updating: usr/lib64/python3.8/concurrent/futures/__pycache__/__init__.cpython-38.opt-2.pyc (deflated 38%)\n",
      "updating: usr/lib64/python3.8/concurrent/futures/__pycache__/__init__.cpython-38.pyc (deflated 38%)\n",
      "updating: usr/lib64/python3.8/concurrent/futures/__pycache__/_base.cpython-38.opt-1.pyc (deflated 64%)\n",
      "updating: usr/lib64/python3.8/concurrent/futures/__pycache__/_base.cpython-38.opt-2.pyc (deflated 62%)\n",
      "updating: usr/lib64/python3.8/concurrent/futures/__pycache__/_base.cpython-38.pyc (deflated 64%)\n",
      "updating: usr/lib64/python3.8/concurrent/futures/__pycache__/process.cpython-38.opt-1.pyc (deflated 57%)\n",
      "updating: usr/lib64/python3.8/concurrent/futures/__pycache__/process.cpython-38.opt-2.pyc (deflated 52%)\n",
      "updating: usr/lib64/python3.8/concurrent/futures/__pycache__/process.cpython-38.pyc (deflated 57%)\n",
      "updating: usr/lib64/python3.8/concurrent/futures/__pycache__/thread.cpython-38.opt-1.pyc (deflated 47%)\n",
      "updating: usr/lib64/python3.8/concurrent/futures/__pycache__/thread.cpython-38.opt-2.pyc (deflated 46%)\n",
      "updating: usr/lib64/python3.8/concurrent/futures/__pycache__/thread.cpython-38.pyc (deflated 47%)\n",
      "updating: usr/lib64/python3.8/concurrent/futures/_base.py (deflated 77%)\n",
      "updating: usr/lib64/python3.8/concurrent/futures/process.py (deflated 73%)\n",
      "updating: usr/lib64/python3.8/concurrent/futures/thread.py (deflated 68%)\n",
      "updating: usr/lib64/python3.8/config-3.8-x86_64-linux-gnu/ (stored 0%)\n"
     ]
    },
    {
     "name": "stdout",
     "output_type": "stream",
     "text": [
      "updating: usr/lib64/python3.8/config-3.8-x86_64-linux-gnu/Makefile (deflated 76%)\n",
      "updating: usr/lib64/python3.8/configparser.py (deflated 78%)\n",
      "updating: usr/lib64/python3.8/contextlib.py (deflated 78%)\n",
      "updating: usr/lib64/python3.8/contextvars.py (deflated 35%)\n",
      "updating: usr/lib64/python3.8/copy.py (deflated 70%)\n",
      "updating: usr/lib64/python3.8/copyreg.py (deflated 65%)\n",
      "updating: usr/lib64/python3.8/crypt.py (deflated 58%)\n",
      "updating: usr/lib64/python3.8/csv.py (deflated 71%)\n",
      "updating: usr/lib64/python3.8/ctypes/ (stored 0%)\n",
      "updating: usr/lib64/python3.8/ctypes/__init__.py (deflated 72%)\n",
      "updating: usr/lib64/python3.8/ctypes/__pycache__/ (stored 0%)\n",
      "updating: usr/lib64/python3.8/ctypes/__pycache__/__init__.cpython-38.opt-1.pyc (deflated 57%)\n",
      "updating: usr/lib64/python3.8/ctypes/__pycache__/__init__.cpython-38.opt-2.pyc (deflated 55%)\n",
      "updating: usr/lib64/python3.8/ctypes/__pycache__/__init__.cpython-38.pyc (deflated 57%)\n",
      "updating: usr/lib64/python3.8/ctypes/__pycache__/_aix.cpython-38.opt-1.pyc (deflated 50%)\n",
      "updating: usr/lib64/python3.8/ctypes/__pycache__/_aix.cpython-38.opt-2.pyc (deflated 44%)\n",
      "updating: usr/lib64/python3.8/ctypes/__pycache__/_aix.cpython-38.pyc (deflated 50%)\n",
      "updating: usr/lib64/python3.8/ctypes/__pycache__/_endian.cpython-38.opt-1.pyc (deflated 44%)\n",
      "updating: usr/lib64/python3.8/ctypes/__pycache__/_endian.cpython-38.opt-2.pyc (deflated 42%)\n",
      "updating: usr/lib64/python3.8/ctypes/__pycache__/_endian.cpython-38.pyc (deflated 44%)\n",
      "updating: usr/lib64/python3.8/ctypes/__pycache__/util.cpython-38.opt-1.pyc (deflated 44%)\n",
      "updating: usr/lib64/python3.8/ctypes/__pycache__/util.cpython-38.opt-2.pyc (deflated 44%)\n",
      "updating: usr/lib64/python3.8/ctypes/__pycache__/util.cpython-38.pyc (deflated 44%)\n",
      "updating: usr/lib64/python3.8/ctypes/__pycache__/wintypes.cpython-38.opt-1.pyc (deflated 54%)\n",
      "updating: usr/lib64/python3.8/ctypes/__pycache__/wintypes.cpython-38.opt-2.pyc (deflated 54%)\n",
      "updating: usr/lib64/python3.8/ctypes/__pycache__/wintypes.cpython-38.pyc (deflated 54%)\n",
      "updating: usr/lib64/python3.8/ctypes/_aix.py (deflated 63%)\n",
      "updating: usr/lib64/python3.8/ctypes/_endian.py (deflated 63%)\n",
      "updating: usr/lib64/python3.8/ctypes/macholib/ (stored 0%)\n",
      "updating: usr/lib64/python3.8/ctypes/macholib/README.ctypes (deflated 27%)\n",
      "updating: usr/lib64/python3.8/ctypes/macholib/__init__.py (deflated 15%)\n",
      "updating: usr/lib64/python3.8/ctypes/macholib/__pycache__/ (stored 0%)\n",
      "updating: usr/lib64/python3.8/ctypes/macholib/__pycache__/__init__.cpython-38.opt-1.pyc (deflated 18%)\n",
      "updating: usr/lib64/python3.8/ctypes/macholib/__pycache__/__init__.cpython-38.opt-2.pyc (deflated 16%)\n",
      "updating: usr/lib64/python3.8/ctypes/macholib/__pycache__/__init__.cpython-38.pyc (deflated 18%)\n",
      "updating: usr/lib64/python3.8/ctypes/macholib/__pycache__/dyld.cpython-38.opt-1.pyc (deflated 53%)\n",
      "updating: usr/lib64/python3.8/ctypes/macholib/__pycache__/dyld.cpython-38.opt-2.pyc (deflated 53%)\n",
      "updating: usr/lib64/python3.8/ctypes/macholib/__pycache__/dyld.cpython-38.pyc (deflated 53%)\n",
      "updating: usr/lib64/python3.8/ctypes/macholib/__pycache__/dylib.cpython-38.opt-1.pyc (deflated 47%)\n",
      "updating: usr/lib64/python3.8/ctypes/macholib/__pycache__/dylib.cpython-38.opt-2.pyc (deflated 37%)\n",
      "updating: usr/lib64/python3.8/ctypes/macholib/__pycache__/dylib.cpython-38.pyc (deflated 48%)\n",
      "updating: usr/lib64/python3.8/ctypes/macholib/__pycache__/framework.cpython-38.opt-1.pyc (deflated 49%)\n",
      "updating: usr/lib64/python3.8/ctypes/macholib/__pycache__/framework.cpython-38.opt-2.pyc (deflated 37%)\n",
      "updating: usr/lib64/python3.8/ctypes/macholib/__pycache__/framework.cpython-38.pyc (deflated 52%)\n",
      "updating: usr/lib64/python3.8/ctypes/macholib/dyld.py (deflated 72%)\n",
      "updating: usr/lib64/python3.8/ctypes/macholib/dylib.py (deflated 66%)\n",
      "updating: usr/lib64/python3.8/ctypes/macholib/fetch_macholib (deflated 14%)\n",
      "updating: usr/lib64/python3.8/ctypes/macholib/framework.py (deflated 70%)\n",
      "updating: usr/lib64/python3.8/ctypes/util.py (deflated 73%)\n",
      "updating: usr/lib64/python3.8/ctypes/wintypes.py (deflated 74%)\n",
      "updating: usr/lib64/python3.8/curses/ (stored 0%)\n",
      "updating: usr/lib64/python3.8/curses/__init__.py (deflated 57%)\n",
      "updating: usr/lib64/python3.8/curses/__pycache__/ (stored 0%)\n",
      "updating: usr/lib64/python3.8/curses/__pycache__/__init__.cpython-38.opt-1.pyc (deflated 37%)\n",
      "updating: usr/lib64/python3.8/curses/__pycache__/__init__.cpython-38.opt-2.pyc (deflated 34%)\n",
      "updating: usr/lib64/python3.8/curses/__pycache__/__init__.cpython-38.pyc (deflated 37%)\n",
      "updating: usr/lib64/python3.8/curses/__pycache__/ascii.cpython-38.opt-1.pyc (deflated 62%)\n",
      "updating: usr/lib64/python3.8/curses/__pycache__/ascii.cpython-38.opt-2.pyc (deflated 63%)\n",
      "updating: usr/lib64/python3.8/curses/__pycache__/ascii.cpython-38.pyc (deflated 62%)\n",
      "updating: usr/lib64/python3.8/curses/__pycache__/has_key.cpython-38.opt-1.pyc (deflated 54%)\n",
      "updating: usr/lib64/python3.8/curses/__pycache__/has_key.cpython-38.opt-2.pyc (deflated 54%)\n",
      "updating: usr/lib64/python3.8/curses/__pycache__/has_key.cpython-38.pyc (deflated 54%)\n",
      "updating: usr/lib64/python3.8/curses/__pycache__/panel.cpython-38.opt-1.pyc (deflated 24%)\n",
      "updating: usr/lib64/python3.8/curses/__pycache__/panel.cpython-38.opt-2.pyc (deflated 22%)\n",
      "updating: usr/lib64/python3.8/curses/__pycache__/panel.cpython-38.pyc (deflated 24%)\n",
      "updating: usr/lib64/python3.8/curses/__pycache__/textpad.cpython-38.opt-1.pyc (deflated 50%)\n",
      "updating: usr/lib64/python3.8/curses/__pycache__/textpad.cpython-38.opt-2.pyc (deflated 48%)\n",
      "updating: usr/lib64/python3.8/curses/__pycache__/textpad.cpython-38.pyc (deflated 50%)\n",
      "updating: usr/lib64/python3.8/curses/ascii.py (deflated 66%)\n",
      "updating: usr/lib64/python3.8/curses/has_key.py (deflated 74%)\n",
      "updating: usr/lib64/python3.8/curses/panel.py (deflated 16%)\n",
      "updating: usr/lib64/python3.8/curses/textpad.py (deflated 72%)\n",
      "updating: usr/lib64/python3.8/dataclasses.py (deflated 73%)\n",
      "updating: usr/lib64/python3.8/datetime.py (deflated 76%)\n",
      "updating: usr/lib64/python3.8/dbm/ (stored 0%)\n",
      "updating: usr/lib64/python3.8/dbm/__init__.py (deflated 63%)\n",
      "updating: usr/lib64/python3.8/dbm/__pycache__/ (stored 0%)\n",
      "updating: usr/lib64/python3.8/dbm/__pycache__/__init__.cpython-38.opt-1.pyc (deflated 45%)\n",
      "updating: usr/lib64/python3.8/dbm/__pycache__/__init__.cpython-38.opt-2.pyc (deflated 37%)\n",
      "updating: usr/lib64/python3.8/dbm/__pycache__/__init__.cpython-38.pyc (deflated 45%)\n",
      "updating: usr/lib64/python3.8/dbm/__pycache__/dumb.cpython-38.opt-1.pyc (deflated 53%)\n",
      "updating: usr/lib64/python3.8/dbm/__pycache__/dumb.cpython-38.opt-2.pyc (deflated 53%)\n",
      "updating: usr/lib64/python3.8/dbm/__pycache__/dumb.cpython-38.pyc (deflated 53%)\n",
      "updating: usr/lib64/python3.8/dbm/__pycache__/gnu.cpython-38.opt-1.pyc (deflated 20%)\n",
      "updating: usr/lib64/python3.8/dbm/__pycache__/gnu.cpython-38.opt-2.pyc (deflated 20%)\n",
      "updating: usr/lib64/python3.8/dbm/__pycache__/gnu.cpython-38.pyc (deflated 20%)\n",
      "updating: usr/lib64/python3.8/dbm/__pycache__/ndbm.cpython-38.opt-1.pyc (deflated 21%)\n",
      "updating: usr/lib64/python3.8/dbm/__pycache__/ndbm.cpython-38.opt-2.pyc (deflated 22%)\n",
      "updating: usr/lib64/python3.8/dbm/__pycache__/ndbm.cpython-38.pyc (deflated 21%)\n",
      "updating: usr/lib64/python3.8/dbm/dumb.py (deflated 70%)\n",
      "updating: usr/lib64/python3.8/dbm/gnu.py (deflated 14%)\n",
      "updating: usr/lib64/python3.8/dbm/ndbm.py (deflated 13%)\n",
      "updating: usr/lib64/python3.8/decimal.py (deflated 69%)\n",
      "updating: usr/lib64/python3.8/difflib.py (deflated 73%)\n",
      "updating: usr/lib64/python3.8/dis.py (deflated 73%)\n",
      "updating: usr/lib64/python3.8/distutils/ (stored 0%)\n",
      "updating: usr/lib64/python3.8/distutils/README (deflated 34%)\n",
      "updating: usr/lib64/python3.8/distutils/__init__.py (deflated 30%)\n",
      "updating: usr/lib64/python3.8/distutils/__pycache__/ (stored 0%)\n",
      "updating: usr/lib64/python3.8/distutils/__pycache__/__init__.cpython-38.opt-1.pyc (deflated 24%)\n",
      "updating: usr/lib64/python3.8/distutils/__pycache__/__init__.cpython-38.opt-2.pyc (deflated 17%)\n",
      "updating: usr/lib64/python3.8/distutils/__pycache__/__init__.cpython-38.pyc (deflated 24%)\n",
      "updating: usr/lib64/python3.8/distutils/__pycache__/_msvccompiler.cpython-38.opt-1.pyc (deflated 47%)\n",
      "updating: usr/lib64/python3.8/distutils/__pycache__/_msvccompiler.cpython-38.opt-2.pyc (deflated 46%)\n",
      "updating: usr/lib64/python3.8/distutils/__pycache__/_msvccompiler.cpython-38.pyc (deflated 46%)\n",
      "updating: usr/lib64/python3.8/distutils/__pycache__/archive_util.cpython-38.opt-1.pyc (deflated 48%)\n",
      "updating: usr/lib64/python3.8/distutils/__pycache__/archive_util.cpython-38.opt-2.pyc (deflated 43%)\n",
      "updating: usr/lib64/python3.8/distutils/__pycache__/archive_util.cpython-38.pyc (deflated 48%)\n",
      "updating: usr/lib64/python3.8/distutils/__pycache__/bcppcompiler.cpython-38.opt-1.pyc (deflated 44%)\n",
      "updating: usr/lib64/python3.8/distutils/__pycache__/bcppcompiler.cpython-38.opt-2.pyc (deflated 44%)\n",
      "updating: usr/lib64/python3.8/distutils/__pycache__/bcppcompiler.cpython-38.pyc (deflated 44%)\n",
      "updating: usr/lib64/python3.8/distutils/__pycache__/ccompiler.cpython-38.opt-1.pyc (deflated 62%)\n",
      "updating: usr/lib64/python3.8/distutils/__pycache__/ccompiler.cpython-38.opt-2.pyc (deflated 57%)\n",
      "updating: usr/lib64/python3.8/distutils/__pycache__/ccompiler.cpython-38.pyc (deflated 62%)\n",
      "updating: usr/lib64/python3.8/distutils/__pycache__/cmd.cpython-38.opt-1.pyc (deflated 57%)\n",
      "updating: usr/lib64/python3.8/distutils/__pycache__/cmd.cpython-38.opt-2.pyc (deflated 55%)\n",
      "updating: usr/lib64/python3.8/distutils/__pycache__/cmd.cpython-38.pyc (deflated 57%)\n",
      "updating: usr/lib64/python3.8/distutils/__pycache__/config.cpython-38.opt-1.pyc (deflated 45%)\n",
      "updating: usr/lib64/python3.8/distutils/__pycache__/config.cpython-38.opt-2.pyc (deflated 44%)\n",
      "updating: usr/lib64/python3.8/distutils/__pycache__/config.cpython-38.pyc (deflated 45%)\n",
      "updating: usr/lib64/python3.8/distutils/__pycache__/core.cpython-38.opt-1.pyc (deflated 52%)\n",
      "updating: usr/lib64/python3.8/distutils/__pycache__/core.cpython-38.opt-2.pyc (deflated 41%)\n",
      "updating: usr/lib64/python3.8/distutils/__pycache__/core.cpython-38.pyc (deflated 52%)\n",
      "updating: usr/lib64/python3.8/distutils/__pycache__/cygwinccompiler.cpython-38.opt-1.pyc (deflated 46%)\n",
      "updating: usr/lib64/python3.8/distutils/__pycache__/cygwinccompiler.cpython-38.opt-2.pyc (deflated 44%)\n",
      "updating: usr/lib64/python3.8/distutils/__pycache__/cygwinccompiler.cpython-38.pyc (deflated 46%)\n",
      "updating: usr/lib64/python3.8/distutils/__pycache__/debug.cpython-38.opt-1.pyc (deflated 15%)\n",
      "updating: usr/lib64/python3.8/distutils/__pycache__/debug.cpython-38.opt-2.pyc (deflated 15%)\n",
      "updating: usr/lib64/python3.8/distutils/__pycache__/debug.cpython-38.pyc (deflated 15%)\n",
      "updating: usr/lib64/python3.8/distutils/__pycache__/dep_util.cpython-38.opt-1.pyc (deflated 46%)\n",
      "updating: usr/lib64/python3.8/distutils/__pycache__/dep_util.cpython-38.opt-2.pyc (deflated 40%)\n",
      "updating: usr/lib64/python3.8/distutils/__pycache__/dep_util.cpython-38.pyc (deflated 46%)\n",
      "updating: usr/lib64/python3.8/distutils/__pycache__/dir_util.cpython-38.opt-1.pyc (deflated 47%)\n",
      "updating: usr/lib64/python3.8/distutils/__pycache__/dir_util.cpython-38.opt-2.pyc (deflated 41%)\n",
      "updating: usr/lib64/python3.8/distutils/__pycache__/dir_util.cpython-38.pyc (deflated 47%)\n",
      "updating: usr/lib64/python3.8/distutils/__pycache__/dist.cpython-38.opt-1.pyc (deflated 59%)\n"
     ]
    },
    {
     "name": "stdout",
     "output_type": "stream",
     "text": [
      "updating: usr/lib64/python3.8/distutils/__pycache__/dist.cpython-38.opt-2.pyc (deflated 58%)\n",
      "updating: usr/lib64/python3.8/distutils/__pycache__/dist.cpython-38.pyc (deflated 59%)\n",
      "updating: usr/lib64/python3.8/distutils/__pycache__/errors.cpython-38.opt-1.pyc (deflated 62%)\n",
      "updating: usr/lib64/python3.8/distutils/__pycache__/errors.cpython-38.opt-2.pyc (deflated 73%)\n",
      "updating: usr/lib64/python3.8/distutils/__pycache__/errors.cpython-38.pyc (deflated 62%)\n",
      "updating: usr/lib64/python3.8/distutils/__pycache__/extension.cpython-38.opt-1.pyc (deflated 53%)\n",
      "updating: usr/lib64/python3.8/distutils/__pycache__/extension.cpython-38.opt-2.pyc (deflated 43%)\n",
      "updating: usr/lib64/python3.8/distutils/__pycache__/extension.cpython-38.pyc (deflated 53%)\n",
      "updating: usr/lib64/python3.8/distutils/__pycache__/fancy_getopt.cpython-38.opt-1.pyc (deflated 51%)\n",
      "updating: usr/lib64/python3.8/distutils/__pycache__/fancy_getopt.cpython-38.opt-2.pyc (deflated 49%)\n",
      "updating: usr/lib64/python3.8/distutils/__pycache__/fancy_getopt.cpython-38.pyc (deflated 51%)\n",
      "updating: usr/lib64/python3.8/distutils/__pycache__/file_util.cpython-38.opt-1.pyc (deflated 49%)\n",
      "updating: usr/lib64/python3.8/distutils/__pycache__/file_util.cpython-38.opt-2.pyc (deflated 47%)\n",
      "updating: usr/lib64/python3.8/distutils/__pycache__/file_util.cpython-38.pyc (deflated 49%)\n",
      "updating: usr/lib64/python3.8/distutils/__pycache__/filelist.cpython-38.opt-1.pyc (deflated 54%)\n",
      "updating: usr/lib64/python3.8/distutils/__pycache__/filelist.cpython-38.opt-2.pyc (deflated 54%)\n",
      "updating: usr/lib64/python3.8/distutils/__pycache__/filelist.cpython-38.pyc (deflated 54%)\n",
      "updating: usr/lib64/python3.8/distutils/__pycache__/log.cpython-38.opt-1.pyc (deflated 52%)\n",
      "updating: usr/lib64/python3.8/distutils/__pycache__/log.cpython-38.opt-2.pyc (deflated 53%)\n",
      "updating: usr/lib64/python3.8/distutils/__pycache__/log.cpython-38.pyc (deflated 52%)\n",
      "updating: usr/lib64/python3.8/distutils/__pycache__/msvc9compiler.cpython-38.opt-1.pyc (deflated 49%)\n",
      "updating: usr/lib64/python3.8/distutils/__pycache__/msvc9compiler.cpython-38.opt-2.pyc (deflated 48%)\n",
      "updating: usr/lib64/python3.8/distutils/__pycache__/msvc9compiler.cpython-38.pyc (deflated 49%)\n",
      "updating: usr/lib64/python3.8/distutils/__pycache__/msvccompiler.cpython-38.opt-1.pyc (deflated 49%)\n",
      "updating: usr/lib64/python3.8/distutils/__pycache__/msvccompiler.cpython-38.opt-2.pyc (deflated 49%)\n",
      "updating: usr/lib64/python3.8/distutils/__pycache__/msvccompiler.cpython-38.pyc (deflated 49%)\n",
      "updating: usr/lib64/python3.8/distutils/__pycache__/spawn.cpython-38.opt-1.pyc (deflated 44%)\n",
      "updating: usr/lib64/python3.8/distutils/__pycache__/spawn.cpython-38.opt-2.pyc (deflated 42%)\n",
      "updating: usr/lib64/python3.8/distutils/__pycache__/spawn.cpython-38.pyc (deflated 44%)\n",
      "updating: usr/lib64/python3.8/distutils/__pycache__/sysconfig.cpython-38.opt-1.pyc (deflated 48%)\n",
      "updating: usr/lib64/python3.8/distutils/__pycache__/sysconfig.cpython-38.opt-2.pyc (deflated 44%)\n",
      "updating: usr/lib64/python3.8/distutils/__pycache__/sysconfig.cpython-38.pyc (deflated 48%)\n",
      "updating: usr/lib64/python3.8/distutils/__pycache__/text_file.cpython-38.opt-1.pyc (deflated 55%)\n",
      "updating: usr/lib64/python3.8/distutils/__pycache__/text_file.cpython-38.opt-2.pyc (deflated 46%)\n",
      "updating: usr/lib64/python3.8/distutils/__pycache__/text_file.cpython-38.pyc (deflated 55%)\n",
      "updating: usr/lib64/python3.8/distutils/__pycache__/unixccompiler.cpython-38.opt-1.pyc (deflated 47%)\n",
      "updating: usr/lib64/python3.8/distutils/__pycache__/unixccompiler.cpython-38.opt-2.pyc (deflated 47%)\n",
      "updating: usr/lib64/python3.8/distutils/__pycache__/unixccompiler.cpython-38.pyc (deflated 47%)\n",
      "updating: usr/lib64/python3.8/distutils/__pycache__/util.cpython-38.opt-1.pyc (deflated 49%)\n",
      "updating: usr/lib64/python3.8/distutils/__pycache__/util.cpython-38.opt-2.pyc (deflated 46%)\n",
      "updating: usr/lib64/python3.8/distutils/__pycache__/util.cpython-38.pyc (deflated 49%)\n",
      "updating: usr/lib64/python3.8/distutils/__pycache__/version.cpython-38.opt-1.pyc (deflated 57%)\n",
      "updating: usr/lib64/python3.8/distutils/__pycache__/version.cpython-38.opt-2.pyc (deflated 56%)\n",
      "updating: usr/lib64/python3.8/distutils/__pycache__/version.cpython-38.pyc (deflated 57%)\n",
      "updating: usr/lib64/python3.8/distutils/__pycache__/versionpredicate.cpython-38.opt-1.pyc (deflated 53%)\n",
      "updating: usr/lib64/python3.8/distutils/__pycache__/versionpredicate.cpython-38.opt-2.pyc (deflated 45%)\n",
      "updating: usr/lib64/python3.8/distutils/__pycache__/versionpredicate.cpython-38.pyc (deflated 53%)\n",
      "updating: usr/lib64/python3.8/distutils/_msvccompiler.py (deflated 71%)\n",
      "updating: usr/lib64/python3.8/distutils/archive_util.py (deflated 69%)\n",
      "updating: usr/lib64/python3.8/distutils/bcppcompiler.py (deflated 71%)\n",
      "updating: usr/lib64/python3.8/distutils/ccompiler.py (deflated 73%)\n",
      "updating: usr/lib64/python3.8/distutils/cmd.py (deflated 70%)\n",
      "updating: usr/lib64/python3.8/distutils/command/ (stored 0%)\n",
      "updating: usr/lib64/python3.8/distutils/command/__init__.py (deflated 63%)\n",
      "updating: usr/lib64/python3.8/distutils/command/__pycache__/ (stored 0%)\n",
      "updating: usr/lib64/python3.8/distutils/command/__pycache__/__init__.cpython-38.opt-1.pyc (deflated 36%)\n",
      "updating: usr/lib64/python3.8/distutils/command/__pycache__/__init__.cpython-38.opt-2.pyc (deflated 35%)\n",
      "updating: usr/lib64/python3.8/distutils/command/__pycache__/__init__.cpython-38.pyc (deflated 36%)\n",
      "updating: usr/lib64/python3.8/distutils/command/__pycache__/bdist.cpython-38.opt-1.pyc (deflated 45%)\n",
      "updating: usr/lib64/python3.8/distutils/command/__pycache__/bdist.cpython-38.opt-2.pyc (deflated 45%)\n",
      "updating: usr/lib64/python3.8/distutils/command/__pycache__/bdist.cpython-38.pyc (deflated 45%)\n",
      "updating: usr/lib64/python3.8/distutils/command/__pycache__/bdist_dumb.cpython-38.opt-1.pyc (deflated 46%)\n",
      "updating: usr/lib64/python3.8/distutils/command/__pycache__/bdist_dumb.cpython-38.opt-2.pyc (deflated 46%)\n",
      "updating: usr/lib64/python3.8/distutils/command/__pycache__/bdist_dumb.cpython-38.pyc (deflated 46%)\n",
      "updating: usr/lib64/python3.8/distutils/command/__pycache__/bdist_msi.cpython-38.opt-1.pyc (deflated 51%)\n",
      "updating: usr/lib64/python3.8/distutils/command/__pycache__/bdist_msi.cpython-38.opt-2.pyc (deflated 50%)\n",
      "updating: usr/lib64/python3.8/distutils/command/__pycache__/bdist_msi.cpython-38.pyc (deflated 51%)\n",
      "updating: usr/lib64/python3.8/distutils/command/__pycache__/bdist_rpm.cpython-38.opt-1.pyc (deflated 50%)\n",
      "updating: usr/lib64/python3.8/distutils/command/__pycache__/bdist_rpm.cpython-38.opt-2.pyc (deflated 50%)\n",
      "updating: usr/lib64/python3.8/distutils/command/__pycache__/bdist_rpm.cpython-38.pyc (deflated 50%)\n",
      "updating: usr/lib64/python3.8/distutils/command/__pycache__/bdist_wininst.cpython-38.opt-1.pyc (deflated 46%)\n",
      "updating: usr/lib64/python3.8/distutils/command/__pycache__/bdist_wininst.cpython-38.opt-2.pyc (deflated 46%)\n",
      "updating: usr/lib64/python3.8/distutils/command/__pycache__/bdist_wininst.cpython-38.pyc (deflated 46%)\n",
      "updating: usr/lib64/python3.8/distutils/command/__pycache__/build.cpython-38.opt-1.pyc (deflated 51%)\n",
      "updating: usr/lib64/python3.8/distutils/command/__pycache__/build.cpython-38.opt-2.pyc (deflated 51%)\n",
      "updating: usr/lib64/python3.8/distutils/command/__pycache__/build.cpython-38.pyc (deflated 51%)\n",
      "updating: usr/lib64/python3.8/distutils/command/__pycache__/build_clib.cpython-38.opt-1.pyc (deflated 50%)\n",
      "updating: usr/lib64/python3.8/distutils/command/__pycache__/build_clib.cpython-38.opt-2.pyc (deflated 50%)\n",
      "updating: usr/lib64/python3.8/distutils/command/__pycache__/build_clib.cpython-38.pyc (deflated 50%)\n",
      "updating: usr/lib64/python3.8/distutils/command/__pycache__/build_ext.cpython-38.opt-1.pyc (deflated 50%)\n",
      "updating: usr/lib64/python3.8/distutils/command/__pycache__/build_ext.cpython-38.opt-2.pyc (deflated 49%)\n",
      "updating: usr/lib64/python3.8/distutils/command/__pycache__/build_ext.cpython-38.pyc (deflated 50%)\n",
      "updating: usr/lib64/python3.8/distutils/command/__pycache__/build_py.cpython-38.opt-1.pyc (deflated 52%)\n",
      "updating: usr/lib64/python3.8/distutils/command/__pycache__/build_py.cpython-38.opt-2.pyc (deflated 52%)\n",
      "updating: usr/lib64/python3.8/distutils/command/__pycache__/build_py.cpython-38.pyc (deflated 52%)\n",
      "updating: usr/lib64/python3.8/distutils/command/__pycache__/build_scripts.cpython-38.opt-1.pyc (deflated 44%)\n",
      "updating: usr/lib64/python3.8/distutils/command/__pycache__/build_scripts.cpython-38.opt-2.pyc (deflated 44%)\n",
      "updating: usr/lib64/python3.8/distutils/command/__pycache__/build_scripts.cpython-38.pyc (deflated 44%)\n",
      "updating: usr/lib64/python3.8/distutils/command/__pycache__/check.cpython-38.opt-1.pyc (deflated 48%)\n",
      "updating: usr/lib64/python3.8/distutils/command/__pycache__/check.cpython-38.opt-2.pyc (deflated 46%)\n",
      "updating: usr/lib64/python3.8/distutils/command/__pycache__/check.cpython-38.pyc (deflated 48%)\n",
      "updating: usr/lib64/python3.8/distutils/command/__pycache__/clean.cpython-38.opt-1.pyc (deflated 47%)\n",
      "updating: usr/lib64/python3.8/distutils/command/__pycache__/clean.cpython-38.opt-2.pyc (deflated 47%)\n",
      "updating: usr/lib64/python3.8/distutils/command/__pycache__/clean.cpython-38.pyc (deflated 47%)\n",
      "updating: usr/lib64/python3.8/distutils/command/__pycache__/config.cpython-38.opt-1.pyc (deflated 54%)\n",
      "updating: usr/lib64/python3.8/distutils/command/__pycache__/config.cpython-38.opt-2.pyc (deflated 52%)\n",
      "updating: usr/lib64/python3.8/distutils/command/__pycache__/config.cpython-38.pyc (deflated 54%)\n",
      "updating: usr/lib64/python3.8/distutils/command/__pycache__/install.cpython-38.opt-1.pyc (deflated 54%)\n",
      "updating: usr/lib64/python3.8/distutils/command/__pycache__/install.cpython-38.opt-2.pyc (deflated 53%)\n",
      "updating: usr/lib64/python3.8/distutils/command/__pycache__/install.cpython-38.pyc (deflated 54%)\n",
      "updating: usr/lib64/python3.8/distutils/command/__pycache__/install_data.cpython-38.opt-1.pyc (deflated 47%)\n",
      "updating: usr/lib64/python3.8/distutils/command/__pycache__/install_data.cpython-38.opt-2.pyc (deflated 47%)\n",
      "updating: usr/lib64/python3.8/distutils/command/__pycache__/install_data.cpython-38.pyc (deflated 47%)\n",
      "updating: usr/lib64/python3.8/distutils/command/__pycache__/install_egg_info.cpython-38.opt-1.pyc (deflated 47%)\n",
      "updating: usr/lib64/python3.8/distutils/command/__pycache__/install_egg_info.cpython-38.opt-2.pyc (deflated 45%)\n",
      "updating: usr/lib64/python3.8/distutils/command/__pycache__/install_egg_info.cpython-38.pyc (deflated 47%)\n",
      "updating: usr/lib64/python3.8/distutils/command/__pycache__/install_headers.cpython-38.opt-1.pyc (deflated 49%)\n",
      "updating: usr/lib64/python3.8/distutils/command/__pycache__/install_headers.cpython-38.opt-2.pyc (deflated 49%)\n",
      "updating: usr/lib64/python3.8/distutils/command/__pycache__/install_headers.cpython-38.pyc (deflated 49%)\n",
      "updating: usr/lib64/python3.8/distutils/command/__pycache__/install_lib.cpython-38.opt-1.pyc (deflated 49%)\n",
      "updating: usr/lib64/python3.8/distutils/command/__pycache__/install_lib.cpython-38.opt-2.pyc (deflated 48%)\n",
      "updating: usr/lib64/python3.8/distutils/command/__pycache__/install_lib.cpython-38.pyc (deflated 49%)\n",
      "updating: usr/lib64/python3.8/distutils/command/__pycache__/install_scripts.cpython-38.opt-1.pyc (deflated 48%)\n",
      "updating: usr/lib64/python3.8/distutils/command/__pycache__/install_scripts.cpython-38.opt-2.pyc (deflated 47%)\n",
      "updating: usr/lib64/python3.8/distutils/command/__pycache__/install_scripts.cpython-38.pyc (deflated 48%)\n",
      "updating: usr/lib64/python3.8/distutils/command/__pycache__/register.cpython-38.opt-1.pyc (deflated 49%)\n",
      "updating: usr/lib64/python3.8/distutils/command/__pycache__/register.cpython-38.opt-2.pyc (deflated 46%)\n",
      "updating: usr/lib64/python3.8/distutils/command/__pycache__/register.cpython-38.pyc (deflated 49%)\n",
      "updating: usr/lib64/python3.8/distutils/command/__pycache__/sdist.cpython-38.opt-1.pyc (deflated 55%)\n",
      "updating: usr/lib64/python3.8/distutils/command/__pycache__/sdist.cpython-38.opt-2.pyc (deflated 53%)\n",
      "updating: usr/lib64/python3.8/distutils/command/__pycache__/sdist.cpython-38.pyc (deflated 55%)\n",
      "updating: usr/lib64/python3.8/distutils/command/__pycache__/upload.cpython-38.opt-1.pyc (deflated 41%)\n",
      "updating: usr/lib64/python3.8/distutils/command/__pycache__/upload.cpython-38.opt-2.pyc (deflated 41%)\n",
      "updating: usr/lib64/python3.8/distutils/command/__pycache__/upload.cpython-38.pyc (deflated 41%)\n",
      "updating: usr/lib64/python3.8/distutils/command/bdist.py (deflated 69%)\n",
      "updating: usr/lib64/python3.8/distutils/command/bdist_dumb.py (deflated 72%)\n",
      "updating: usr/lib64/python3.8/distutils/command/bdist_msi.py (deflated 75%)\n",
      "updating: usr/lib64/python3.8/distutils/command/bdist_rpm.py (deflated 73%)\n",
      "updating: usr/lib64/python3.8/distutils/command/bdist_wininst.py (deflated 71%)\n",
      "updating: usr/lib64/python3.8/distutils/command/build.py (deflated 70%)\n",
      "updating: usr/lib64/python3.8/distutils/command/build_clib.py (deflated 72%)\n",
      "updating: usr/lib64/python3.8/distutils/command/build_ext.py (deflated 72%)\n",
      "updating: usr/lib64/python3.8/distutils/command/build_py.py (deflated 72%)\n",
      "updating: usr/lib64/python3.8/distutils/command/build_scripts.py (deflated 70%)\n",
      "updating: usr/lib64/python3.8/distutils/command/check.py (deflated 68%)\n",
      "updating: usr/lib64/python3.8/distutils/command/clean.py (deflated 69%)\n",
      "updating: usr/lib64/python3.8/distutils/command/command_template (deflated 51%)\n",
      "updating: usr/lib64/python3.8/distutils/command/config.py (deflated 72%)\n",
      "updating: usr/lib64/python3.8/distutils/command/install.py (deflated 74%)\n",
      "updating: usr/lib64/python3.8/distutils/command/install_data.py (deflated 68%)\n",
      "updating: usr/lib64/python3.8/distutils/command/install_egg_info.py (deflated 60%)\n",
      "updating: usr/lib64/python3.8/distutils/command/install_headers.py (deflated 64%)\n",
      "updating: usr/lib64/python3.8/distutils/command/install_lib.py (deflated 71%)\n",
      "updating: usr/lib64/python3.8/distutils/command/install_scripts.py (deflated 64%)\n",
      "updating: usr/lib64/python3.8/distutils/command/register.py (deflated 71%)\n",
      "updating: usr/lib64/python3.8/distutils/command/sdist.py (deflated 71%)\n",
      "updating: usr/lib64/python3.8/distutils/command/upload.py (deflated 67%)\n",
      "updating: usr/lib64/python3.8/distutils/config.py (deflated 70%)\n",
      "updating: usr/lib64/python3.8/distutils/core.py (deflated 66%)\n",
      "updating: usr/lib64/python3.8/distutils/cygwinccompiler.py (deflated 68%)\n",
      "updating: usr/lib64/python3.8/distutils/debug.py (deflated 16%)\n",
      "updating: usr/lib64/python3.8/distutils/dep_util.py (deflated 63%)\n",
      "updating: usr/lib64/python3.8/distutils/dir_util.py (deflated 65%)\n",
      "updating: usr/lib64/python3.8/distutils/dist.py (deflated 74%)\n"
     ]
    },
    {
     "name": "stdout",
     "output_type": "stream",
     "text": [
      "updating: usr/lib64/python3.8/distutils/errors.py (deflated 64%)\r\n",
      "updating: usr/lib64/python3.8/distutils/extension.py (deflated 68%)\r\n",
      "updating: usr/lib64/python3.8/distutils/fancy_getopt.py (deflated 69%)\r\n",
      "updating: usr/lib64/python3.8/distutils/file_util.py (deflated 67%)\r\n",
      "updating: usr/lib64/python3.8/distutils/filelist.py (deflated 72%)\r\n",
      "updating: usr/lib64/python3.8/distutils/log.py (deflated 65%)\r\n",
      "updating: usr/lib64/python3.8/distutils/msvc9compiler.py (deflated 72%)\r\n",
      "updating: usr/lib64/python3.8/distutils/msvccompiler.py (deflated 72%)\r\n",
      "updating: usr/lib64/python3.8/distutils/spawn.py (deflated 67%)\r\n",
      "updating: usr/lib64/python3.8/distutils/sysconfig.py (deflated 70%)\r\n",
      "updating: usr/lib64/python3.8/distutils/text_file.py (deflated 69%)\r\n",
      "updating: usr/lib64/python3.8/distutils/unixccompiler.py (deflated 69%)\r\n",
      "updating: usr/lib64/python3.8/distutils/util.py (deflated 64%)\r\n",
      "updating: usr/lib64/python3.8/distutils/version.py (deflated 66%)\r\n",
      "updating: usr/lib64/python3.8/distutils/versionpredicate.py (deflated 66%)\r\n",
      "updating: usr/lib64/python3.8/doctest.py (deflated 75%)\r\n",
      "updating: usr/lib64/python3.8/dummy_threading.py (deflated 71%)\r\n",
      "updating: usr/lib64/python3.8/email/ (stored 0%)\r\n",
      "updating: usr/lib64/python3.8/email/__init__.py (deflated 69%)\r\n",
      "updating: usr/lib64/python3.8/email/__pycache__/ (stored 0%)\r\n",
      "updating: usr/lib64/python3.8/email/__pycache__/__init__.cpython-38.opt-1.pyc (deflated 60%)\r\n",
      "updating: usr/lib64/python3.8/email/__pycache__/__init__.cpython-38.opt-2.pyc (deflated 52%)\r\n",
      "updating: usr/lib64/python3.8/email/__pycache__/__init__.cpython-38.pyc (deflated 60%)\r\n",
      "updating: usr/lib64/python3.8/email/__pycache__/_encoded_words.cpython-38.opt-1.pyc (deflated 48%)\r\n",
      "updating: usr/lib64/python3.8/email/__pycache__/_encoded_words.cpython-38.opt-2.pyc (deflated 45%)\r\n",
      "updating: usr/lib64/python3.8/email/__pycache__/_encoded_words.cpython-38.pyc (deflated 48%)\r\n"
     ]
    }
   ],
   "source": [
    "!zip -9 /tmp/pylib.zip {' '.join(allzipfiles[:1024])}"
   ]
  },
  {
   "cell_type": "code",
   "execution_count": 45,
   "metadata": {},
   "outputs": [],
   "source": [
    "!zip -9 /tmp/pylib.zip -u {' '.join(allzipfiles[1024:])}"
   ]
  },
  {
   "cell_type": "code",
   "execution_count": 46,
   "metadata": {},
   "outputs": [
    {
     "name": "stdout",
     "output_type": "stream",
     "text": [
      "11260\t/tmp/pylib.zip\r\n"
     ]
    }
   ],
   "source": [
    "!du /tmp/pylib.zip"
   ]
  },
  {
   "cell_type": "code",
   "execution_count": 47,
   "metadata": {},
   "outputs": [
    {
     "data": {
      "text/plain": [
       "'11.0 MiB'"
      ]
     },
     "execution_count": 47,
     "metadata": {},
     "output_type": "execute_result"
    }
   ],
   "source": [
    "ns(11260*1024)"
   ]
  },
  {
   "cell_type": "code",
   "execution_count": 48,
   "metadata": {},
   "outputs": [
    {
     "data": {
      "text/plain": [
       "'17.8 MiB'"
      ]
     },
     "execution_count": 48,
     "metadata": {},
     "output_type": "execute_result"
    }
   ],
   "source": [
    "ns(uncompressed-11260*1024)"
   ]
  },
  {
   "cell_type": "markdown",
   "metadata": {},
   "source": [
    "## How many lines?"
   ]
  },
  {
   "cell_type": "code",
   "execution_count": 49,
   "metadata": {},
   "outputs": [
    {
     "name": "stdout",
     "output_type": "stream",
     "text": [
      "    2005 text files.\n",
      "    1975 unique files.                                          \n",
      "     342 files ignored.\n",
      "\n",
      "github.com/AlDanial/cloc v 1.82  T=5.79 s (291.3 files/s, 131184.4 lines/s)\n",
      "---------------------------------------------------------------------------------------\n",
      "Language                             files          blank        comment           code\n",
      "---------------------------------------------------------------------------------------\n",
      "Python                                1602         110542         133457         509412\n",
      "HTML                                     3             70             11           1628\n",
      "make                                     1            213            266           1431\n",
      "Bourne Shell                             4             90            164            599\n",
      "Windows Module Definition                4             22              0            547\n",
      "C                                        2             77             72            376\n",
      "XML                                     56             72              7            333\n",
      "reStructuredText                         2             51              0            166\n",
      "PowerShell                               1             46             82            103\n",
      "D                                        4              6              0             55\n",
      "Fish Shell                               1             13             15             47\n",
      "Bourne Again Shell                       2              8              2             46\n",
      "Markdown                                 1             11              0             24\n",
      "C Shell                                  1              9              7             21\n",
      "XSLT                                     1              0              0              5\n",
      "DTD                                      1              4              0              2\n",
      "Visual Basic                             1              0              1              0\n",
      "CSS                                      1              2              4              0\n",
      "---------------------------------------------------------------------------------------\n",
      "SUM:                                  1688         111236         134088         514795\n",
      "---------------------------------------------------------------------------------------\n"
     ]
    }
   ],
   "source": [
    "!cloc /usr/lib64/python3.8/"
   ]
  },
  {
   "cell_type": "markdown",
   "metadata": {},
   "source": [
    "## Do bytecodes differ?"
   ]
  },
  {
   "cell_type": "code",
   "execution_count": 50,
   "metadata": {},
   "outputs": [],
   "source": [
    "import filecmp\n",
    "\n",
    "pairs = []\n",
    "saved = 0\n",
    "same_counts = collections.Counter()\n",
    "\n",
    "for path in stdlib_files:\n",
    "    if ext(path) == '.pyc' and path in pkg_files['python3-libs']:\n",
    "        opt1 = path[:-3] + 'opt-1.pyc'\n",
    "        opt2 = path[:-3] + 'opt-2.pyc'\n",
    "        matches = 0\n",
    "        if filecmp.cmp(path, opt1, shallow=False):\n",
    "            pairs.append((path, opt1))\n",
    "            matches += 1\n",
    "            same_counts[0, 1] += 1\n",
    "            saved += file_sizes[path]\n",
    "        if filecmp.cmp(path, opt2, shallow=False):\n",
    "            pairs.append((path, opt2))\n",
    "            same_counts[0, 2] += 1\n",
    "            matches += 1\n",
    "            saved += file_sizes[path]\n",
    "        if filecmp.cmp(opt1, opt2, shallow=False):\n",
    "            pairs.append((opt1, opt2))\n",
    "            same_counts[1, 2] += 1\n",
    "            matches += 1\n",
    "            saved += file_sizes[opt1]\n",
    "        if matches == 3:\n",
    "            saved -= file_sizes[path]\n",
    "            same_counts[0, 1, 2] += 1"
   ]
  },
  {
   "cell_type": "code",
   "execution_count": 51,
   "metadata": {},
   "outputs": [
    {
     "data": {
      "text/plain": [
       "584"
      ]
     },
     "execution_count": 51,
     "metadata": {},
     "output_type": "execute_result"
    }
   ],
   "source": [
    "len(pairs)"
   ]
  },
  {
   "cell_type": "code",
   "execution_count": 52,
   "metadata": {},
   "outputs": [
    {
     "data": {
      "text/plain": [
       "'4.0 MiB'"
      ]
     },
     "execution_count": 52,
     "metadata": {},
     "output_type": "execute_result"
    }
   ],
   "source": [
    "ns(saved)"
   ]
  },
  {
   "cell_type": "code",
   "execution_count": 53,
   "metadata": {},
   "outputs": [
    {
     "data": {
      "text/plain": [
       "[((0, 1), 454), ((1, 2), 68), ((0, 2), 62), ((0, 1, 2), 62)]"
      ]
     },
     "execution_count": 53,
     "metadata": {},
     "output_type": "execute_result"
    }
   ],
   "source": [
    "same_counts.most_common()"
   ]
  },
  {
   "cell_type": "markdown",
   "metadata": {},
   "source": [
    "### On my workstation with Pyhon 3.7"
   ]
  },
  {
   "cell_type": "code",
   "execution_count": 54,
   "metadata": {},
   "outputs": [],
   "source": [
    "all_my_37_pycs = !locate .cpython-37.pyc | grep ^/usr/lib"
   ]
  },
  {
   "cell_type": "code",
   "execution_count": 55,
   "metadata": {},
   "outputs": [
    {
     "data": {
      "text/plain": [
       "['/usr/lib/cura/plugins/3MFReader/__pycache__/ThreeMFReader.cpython-37.pyc',\n",
       " '/usr/lib/cura/plugins/3MFReader/__pycache__/ThreeMFWorkspaceReader.cpython-37.pyc',\n",
       " '/usr/lib/cura/plugins/3MFReader/__pycache__/WorkspaceDialog.cpython-37.pyc',\n",
       " '/usr/lib/cura/plugins/3MFReader/__pycache__/__init__.cpython-37.pyc',\n",
       " '/usr/lib/cura/plugins/3MFWriter/__pycache__/ThreeMFWorkspaceWriter.cpython-37.pyc',\n",
       " '/usr/lib/cura/plugins/3MFWriter/__pycache__/ThreeMFWriter.cpython-37.pyc',\n",
       " '/usr/lib/cura/plugins/3MFWriter/__pycache__/__init__.cpython-37.pyc',\n",
       " '/usr/lib/cura/plugins/CuraDrive/__pycache__/__init__.cpython-37.pyc',\n",
       " '/usr/lib/cura/plugins/CuraDrive/src/__pycache__/DriveApiService.cpython-37.pyc',\n",
       " '/usr/lib/cura/plugins/CuraDrive/src/__pycache__/DrivePluginExtension.cpython-37.pyc']"
      ]
     },
     "execution_count": 55,
     "metadata": {},
     "output_type": "execute_result"
    }
   ],
   "source": [
    "all_my_37_pycs[:10]"
   ]
  },
  {
   "cell_type": "code",
   "execution_count": 60,
   "metadata": {},
   "outputs": [],
   "source": [
    "my_saved = 0\n",
    "total = 0\n",
    "my_same_counts = collections.Counter()\n",
    "\n",
    "for path in all_my_37_pycs:\n",
    "    size = pathlib.Path(path).stat().st_size\n",
    "    total += size\n",
    "    opt1 = path[:-3] + 'opt-1.pyc'\n",
    "    opt2 = path[:-3] + 'opt-2.pyc'\n",
    "    matches = 0\n",
    "    try:\n",
    "        if filecmp.cmp(path, opt1, shallow=False):\n",
    "            my_same_counts[0, 1] += 1\n",
    "            matches += 1\n",
    "            my_saved += size\n",
    "        total += size\n",
    "    except FileNotFoundError:\n",
    "        pass\n",
    "    try:\n",
    "        if filecmp.cmp(path, opt2, shallow=False):\n",
    "            my_same_counts[0, 2] += 1\n",
    "            matches += 1\n",
    "            my_saved += size\n",
    "        total += size\n",
    "    except FileNotFoundError:\n",
    "        pass\n",
    "    try:\n",
    "        size = pathlib.Path(opt1).stat().st_size\n",
    "        if filecmp.cmp(opt1, opt2, shallow=False):\n",
    "            my_same_counts[1, 2] += 1\n",
    "            matches += 1\n",
    "            my_saved += size\n",
    "        total += size\n",
    "    except FileNotFoundError:\n",
    "        pass\n",
    "    if matches == 3:\n",
    "        my_saved -= pathlib.Path(path).stat().st_size\n",
    "        my_same_counts[0, 1, 2] += 1"
   ]
  },
  {
   "cell_type": "code",
   "execution_count": 61,
   "metadata": {},
   "outputs": [
    {
     "data": {
      "text/plain": [
       "'107.5 MiB'"
      ]
     },
     "execution_count": 61,
     "metadata": {},
     "output_type": "execute_result"
    }
   ],
   "source": [
    "ns(my_saved)"
   ]
  },
  {
   "cell_type": "code",
   "execution_count": 63,
   "metadata": {},
   "outputs": [
    {
     "data": {
      "text/plain": [
       "'360.4 MiB'"
      ]
     },
     "execution_count": 63,
     "metadata": {},
     "output_type": "execute_result"
    }
   ],
   "source": [
    "ns(total)"
   ]
  },
  {
   "cell_type": "code",
   "execution_count": 62,
   "metadata": {},
   "outputs": [
    {
     "data": {
      "text/plain": [
       "[((0, 1), 13622), ((1, 2), 492), ((0, 2), 466), ((0, 1, 2), 466)]"
      ]
     },
     "execution_count": 62,
     "metadata": {},
     "output_type": "execute_result"
    }
   ],
   "source": [
    "my_same_counts.most_common()"
   ]
  },
  {
   "cell_type": "code",
   "execution_count": null,
   "metadata": {},
   "outputs": [],
   "source": []
  }
 ],
 "metadata": {
  "kernelspec": {
   "display_name": "Python 3",
   "language": "python",
   "name": "python3"
  },
  "language_info": {
   "codemirror_mode": {
    "name": "ipython",
    "version": 3
   },
   "file_extension": ".py",
   "mimetype": "text/x-python",
   "name": "python",
   "nbconvert_exporter": "python",
   "pygments_lexer": "ipython3",
   "version": "3.8.1"
  }
 },
 "nbformat": 4,
 "nbformat_minor": 2
}
