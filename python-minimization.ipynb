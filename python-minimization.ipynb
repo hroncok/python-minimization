{
 "cells": [
  {
   "cell_type": "markdown",
   "metadata": {},
   "source": [
    "# Analyzing the filesystem footprint of Python 3 on Fedora"
   ]
  },
  {
   "cell_type": "code",
   "execution_count": 1,
   "metadata": {},
   "outputs": [],
   "source": [
    "import collections\n",
    "import pathlib\n",
    "\n",
    "import humanize\n",
    "import tabulate\n",
    "\n",
    "from IPython.display import HTML, display"
   ]
  },
  {
   "cell_type": "markdown",
   "metadata": {},
   "source": [
    "The list of Python 3 packages, `python-unversioned-command` is ommited here, as we will query Python 3.8 on Fedora 31."
   ]
  },
  {
   "cell_type": "code",
   "execution_count": 2,
   "metadata": {},
   "outputs": [],
   "source": [
    "python_pkgs = [\n",
    "    'python3',\n",
    "    'python3-libs',\n",
    "    'python3-tkinter',\n",
    "    'python3-idle',\n",
    "    'python3-test',\n",
    "    'python3-devel',\n",
    "]"
   ]
  },
  {
   "cell_type": "markdown",
   "metadata": {},
   "source": [
    "What version of Python 3.8 is installed?"
   ]
  },
  {
   "cell_type": "code",
   "execution_count": 3,
   "metadata": {},
   "outputs": [
    {
     "name": "stdout",
     "output_type": "stream",
     "text": [
      "python38-3.8.0-1.fc31.x86_64\r\n"
     ]
    }
   ],
   "source": [
    "!rpm -q python38"
   ]
  },
  {
   "cell_type": "markdown",
   "metadata": {},
   "source": [
    "We do care about all files in the `python38` package. The differences between `python38` on Fedora 31 and `python3` subpackages on Fedora 32 are not relevant in this context. The standard library is the same."
   ]
  },
  {
   "cell_type": "code",
   "execution_count": 4,
   "metadata": {},
   "outputs": [
    {
     "data": {
      "text/plain": [
       "['/usr/bin/idle3.8',\n",
       " '/usr/bin/msgfmt3.8.py',\n",
       " '/usr/bin/pydoc3.8',\n",
       " '/usr/bin/pygettext3.8.py',\n",
       " '/usr/bin/python3.8']"
      ]
     },
     "execution_count": 4,
     "metadata": {},
     "output_type": "execute_result"
    }
   ],
   "source": [
    "python38_files = !rpm -ql python38\n",
    "python38_files = [f for f in python38_files if not f.startswith('/usr/lib/.build-id')]  # avoid noise\n",
    "python38_files[:5]"
   ]
  },
  {
   "cell_type": "markdown",
   "metadata": {},
   "source": [
    "For each Fedora 32 `python3` subpackage, we get the relevant files installed from `python38` on Fedora 31:"
   ]
  },
  {
   "cell_type": "code",
   "execution_count": 5,
   "metadata": {},
   "outputs": [
    {
     "data": {
      "text/plain": [
       "['/usr/include/python3.8',\n",
       " '/usr/lib/python3.8',\n",
       " '/usr/lib/python3.8/site-packages',\n",
       " '/usr/lib/python3.8/site-packages/__pycache__',\n",
       " '/usr/include/python3.8']"
      ]
     },
     "execution_count": 5,
     "metadata": {},
     "output_type": "execute_result"
    }
   ],
   "source": [
    "pkg_files = {}\n",
    "for pkg in python_pkgs:\n",
    "    pkg_files[pkg] = !repoquery --repo=rawhide -l {pkg} 2>/dev/null\n",
    "    pkg_files[pkg] = [f for f in pkg_files[pkg] if f in python38_files]\n",
    "pkg_files['python3-libs'][:5]"
   ]
  },
  {
   "cell_type": "code",
   "execution_count": 6,
   "metadata": {},
   "outputs": [
    {
     "data": {
      "text/plain": [
       "'python3-tkinter'"
      ]
     },
     "execution_count": 6,
     "metadata": {},
     "output_type": "execute_result"
    }
   ],
   "source": [
    "file_pkgs = {path: pkg for pkg in pkg_files for path in pkg_files[pkg]}\n",
    "file_pkgs['/usr/lib64/python3.8/tkinter']"
   ]
  },
  {
   "cell_type": "markdown",
   "metadata": {},
   "source": [
    "Finally, we get the size of every file. On different archtectures or different Python versions, or even different compiler version in different Fedora release, the sizes might be different. But we don't care for little differences, we are after the big stuff and we will assume what's big here will be big everywhere. We are aiming for  along term solution, so considering the differeneces here would not be helpful anyway.\n",
    "\n",
    "Note that the `Counter.most_common()` method gives us the largest files, but we will care about directories and file types more."
   ]
  },
  {
   "cell_type": "code",
   "execution_count": 7,
   "metadata": {},
   "outputs": [
    {
     "data": {
      "text/plain": [
       "[('/usr/lib64/libpython3.8.so', 3534768),\n",
       " ('/usr/lib64/libpython3.8.so.1.0', 3534768),\n",
       " ('/usr/lib64/python3.8/lib-dynload/unicodedata.cpython-38-x86_64-linux-gnu.so',\n",
       "  1096792),\n",
       " ('/usr/lib64/python3.8/pydoc_data/topics.py', 668784),\n",
       " ('/usr/lib64/python3.8/test/testtar.tar', 435200),\n",
       " ('/usr/lib64/python3.8/pydoc_data/__pycache__/topics.cpython-38.opt-1.pyc',\n",
       "  416327),\n",
       " ('/usr/lib64/python3.8/pydoc_data/__pycache__/topics.cpython-38.opt-2.pyc',\n",
       "  416327),\n",
       " ('/usr/lib64/python3.8/pydoc_data/__pycache__/topics.cpython-38.pyc', 416327)]"
      ]
     },
     "execution_count": 7,
     "metadata": {},
     "output_type": "execute_result"
    }
   ],
   "source": [
    "file_sizes = collections.Counter({p: pathlib.Path(p).stat().st_size for p in python38_files})\n",
    "file_sizes.most_common()[:8]"
   ]
  },
  {
   "cell_type": "markdown",
   "metadata": {},
   "source": [
    "A quick check, how are directories sized:"
   ]
  },
  {
   "cell_type": "code",
   "execution_count": 8,
   "metadata": {},
   "outputs": [
    {
     "data": {
      "text/plain": [
       "'12.3 kB'"
      ]
     },
     "execution_count": 8,
     "metadata": {},
     "output_type": "execute_result"
    }
   ],
   "source": [
    "humanize.naturalsize(file_sizes['/usr/lib64/python3.8'])"
   ]
  },
  {
   "cell_type": "markdown",
   "metadata": {},
   "source": [
    "Clearly, not recursively."
   ]
  },
  {
   "cell_type": "markdown",
   "metadata": {},
   "source": [
    "## Filesystem footprint by subpackages"
   ]
  },
  {
   "cell_type": "markdown",
   "metadata": {},
   "source": [
    "In total, this has a large footprint, although large chunks of this are already split out:"
   ]
  },
  {
   "cell_type": "code",
   "execution_count": 9,
   "metadata": {},
   "outputs": [
    {
     "data": {
      "text/plain": [
       "'115.5 MB'"
      ]
     },
     "execution_count": 9,
     "metadata": {},
     "output_type": "execute_result"
    }
   ],
   "source": [
    "humanize.naturalsize(sum(file_sizes.values()))"
   ]
  },
  {
   "cell_type": "code",
   "execution_count": 10,
   "metadata": {},
   "outputs": [
    {
     "data": {
      "text/plain": [
       "{'python3': '21.6 kB',\n",
       " 'python3-libs': '38.9 MB',\n",
       " 'python3-tkinter': '2.1 MB',\n",
       " 'python3-idle': '4.4 MB',\n",
       " 'python3-test': '65.7 MB',\n",
       " 'python3-devel': '4.4 MB'}"
      ]
     },
     "execution_count": 10,
     "metadata": {},
     "output_type": "execute_result"
    }
   ],
   "source": [
    "{pkg: humanize.naturalsize(sum(s for p, s in file_sizes.items() if p in pkg_files[pkg])) for pkg in pkg_files}"
   ]
  },
  {
   "cell_type": "markdown",
   "metadata": {},
   "source": [
    "It can be seen that the \"main\" `python3` package is not very relevant here. The `python3-test` package is optional and pretty much only usefull to test Python itself. It contains a lot of test data and we will not try to optimize its size. The `python3-idle` packag contains an application and while we can aim to minimize anything, we will not focus on this package either.\n",
    "\n",
    "**The main problem is in the `python3-libs` package** – it is always installed when Python is installed.\n",
    "\n",
    "The `python3-tkinter` package is less problematic. It is optional and only recommended if *Tk* is installed.\n",
    "\n",
    "The `python3-devel` package is quite big as well and it is used both for builidng Python extension modules and Python RPM packages. Getting it slimmed won might be nice, but we would also consider moving stuff from `python3-libs` into it."
   ]
  },
  {
   "cell_type": "markdown",
   "metadata": {},
   "source": [
    "## Filesystem footprint by filetype"
   ]
  },
  {
   "cell_type": "markdown",
   "metadata": {},
   "source": [
    "The standrad library (`/usr/lib64/python3.8/`, mostly in `python3-libs` and `python3-test`) contains several file types:"
   ]
  },
  {
   "cell_type": "code",
   "execution_count": 11,
   "metadata": {},
   "outputs": [],
   "source": [
    "def ext(path):\n",
    "    \"\"\"Get a file extenstion, but treat .opt-?.pyc as special case\"\"\"\n",
    "    suffixes = pathlib.Path(path).suffixes\n",
    "    if not suffixes:\n",
    "        return None\n",
    "    if suffixes[-1] == '.pyc' and suffixes[-2].startswith('.opt-'):\n",
    "        return suffixes[-2] + suffixes[-1]\n",
    "    return suffixes[-1]"
   ]
  },
  {
   "cell_type": "code",
   "execution_count": 12,
   "metadata": {},
   "outputs": [],
   "source": [
    "stdlib_files = [p for p in python38_files if p.startswith('/usr/lib64/python3.8/')]\n",
    "extensions = {path: ext(path) for path in stdlib_files}"
   ]
  },
  {
   "cell_type": "code",
   "execution_count": 13,
   "metadata": {
    "scrolled": true
   },
   "outputs": [
    {
     "data": {
      "text/plain": [
       "[('.py', 1639),\n",
       " ('.opt-1.pyc', 1622),\n",
       " ('.opt-2.pyc', 1622),\n",
       " ('.pyc', 1622),\n",
       " (None, 242),\n",
       " ('.decTest', 143),\n",
       " ('.txt', 109),\n",
       " ('.so', 75),\n",
       " ('.xml', 56),\n",
       " ('.pem', 22)]"
      ]
     },
     "execution_count": 13,
     "metadata": {},
     "output_type": "execute_result"
    }
   ],
   "source": [
    "exts = collections.Counter(extensions.values())\n",
    "exts.most_common()[:10]"
   ]
  },
  {
   "cell_type": "code",
   "execution_count": 14,
   "metadata": {},
   "outputs": [
    {
     "data": {
      "text/plain": [
       "{'.py': '27.7 MB',\n",
       " '.pyc': '23.1 MB',\n",
       " '.opt-1.pyc': '23.0 MB',\n",
       " '.opt-2.pyc': '20.7 MB',\n",
       " '.so': '5.5 MB'}"
      ]
     },
     "execution_count": 14,
     "metadata": {},
     "output_type": "execute_result"
    }
   ],
   "source": [
    "extsizes = collections.Counter({ext: sum(s for p, s in file_sizes.items()\n",
    "                                         if p in stdlib_files and extensions[p] == ext)\n",
    "                                for ext in exts})\n",
    "\n",
    "{ext: humanize.naturalsize(size) for ext, size in extsizes.most_common()[:5]}"
   ]
  },
  {
   "cell_type": "markdown",
   "metadata": {},
   "source": [
    "Only from `python3-libs`:"
   ]
  },
  {
   "cell_type": "code",
   "execution_count": 15,
   "metadata": {
    "scrolled": true
   },
   "outputs": [
    {
     "data": {
      "text/plain": [
       "[('.py', 607),\n",
       " ('.opt-1.pyc', 607),\n",
       " ('.opt-2.pyc', 607),\n",
       " ('.pyc', 607),\n",
       " (None, 84),\n",
       " ('.so', 67)]"
      ]
     },
     "execution_count": 15,
     "metadata": {},
     "output_type": "execute_result"
    }
   ],
   "source": [
    "extensions_libs = {p: e for p, e in extensions.items() if p in pkg_files['python3-libs']}\n",
    "exts_libs = collections.Counter(extensions_libs.values())\n",
    "exts_libs.most_common()[:6]"
   ]
  },
  {
   "cell_type": "code",
   "execution_count": 16,
   "metadata": {},
   "outputs": [
    {
     "data": {
      "text/plain": [
       "{'.py': '10.2 MB',\n",
       " '.pyc': '7.0 MB',\n",
       " '.opt-1.pyc': '7.0 MB',\n",
       " '.opt-2.pyc': '5.4 MB',\n",
       " '.so': '5.1 MB'}"
      ]
     },
     "execution_count": 16,
     "metadata": {},
     "output_type": "execute_result"
    }
   ],
   "source": [
    "extsizes_libs = collections.Counter({ext: sum(s for p, s in file_sizes.items()\n",
    "                                         if p in stdlib_files and p in pkg_files['python3-libs'] and extensions[p] == ext)\n",
    "                                for ext in exts})\n",
    "\n",
    "{ext: humanize.naturalsize(size) for ext, size in extsizes_libs.most_common()[:5]}"
   ]
  },
  {
   "cell_type": "markdown",
   "metadata": {},
   "source": [
    "## Filesystem footprint by module"
   ]
  },
  {
   "cell_type": "code",
   "execution_count": 17,
   "metadata": {},
   "outputs": [],
   "source": [
    "module_sizes_by_extension = collections.defaultdict(lambda: collections.defaultdict(int))\n",
    "msbe = module_sizes_by_extension"
   ]
  },
  {
   "cell_type": "code",
   "execution_count": 18,
   "metadata": {},
   "outputs": [],
   "source": [
    "modules_packages = collections.defaultdict(set)"
   ]
  },
  {
   "cell_type": "code",
   "execution_count": 19,
   "metadata": {},
   "outputs": [],
   "source": [
    "for path in stdlib_files:\n",
    "    libdir = '/usr/lib64/python3.8/'\n",
    "    _path = path[len(libdir):]\n",
    "    if _path.endswith(('.pyc', '.py', '.so')):\n",
    "        if _path.startswith('lib-dynload/'):\n",
    "            _path = _path[len('lib-dynload/'):]\n",
    "        elif _path.startswith('__pycache__/'):\n",
    "            _path = _path[len('__pycache__/'):]\n",
    "\n",
    "        if '/' in _path:\n",
    "            modname = _path.partition('/')[0]\n",
    "        else:\n",
    "            modname = _path.partition('.')[0]\n",
    "\n",
    "        msbe[modname][ext(path)] += file_sizes[path]\n",
    "        modules_packages[modname].add(file_pkgs[path])"
   ]
  },
  {
   "cell_type": "code",
   "execution_count": 20,
   "metadata": {},
   "outputs": [
    {
     "data": {
      "text/plain": [
       "[('test', 51690932),\n",
       " ('idlelib', 4004920),\n",
       " ('unittest', 3173550),\n",
       " ('distutils', 2720049),\n",
       " ('encodings', 2573657),\n",
       " ('lib2to3', 2321923),\n",
       " ('tkinter', 2219606)]"
      ]
     },
     "execution_count": 20,
     "metadata": {},
     "output_type": "execute_result"
    }
   ],
   "source": [
    "by_total = collections.Counter({m: sum(e.values()) for m, e in msbe.items()})\n",
    "by_total.most_common()[:7]"
   ]
  },
  {
   "cell_type": "code",
   "execution_count": 21,
   "metadata": {},
   "outputs": [],
   "source": [
    "def ns(num):\n",
    "    if num:\n",
    "        return humanize.naturalsize(num)\n",
    "    return ''"
   ]
  },
  {
   "cell_type": "code",
   "execution_count": 26,
   "metadata": {},
   "outputs": [],
   "source": [
    "sizes = [\n",
    "    [\n",
    "        m,\n",
    "        ns(msbe[m]['.py']),\n",
    "        ns(msbe[m]['.pyc']),\n",
    "        ns(msbe[m]['.opt-1.pyc']),\n",
    "        ns(msbe[m]['.opt-2.pyc']),\n",
    "        ns(msbe[m]['.so']),\n",
    "        ' / '.join(sorted(p[len('python3-'):] for p in modules_packages[m])),\n",
    "        ns(sum(s for s in msbe[m].values())),\n",
    "    ]\n",
    "    for m, _ in by_total.most_common()]"
   ]
  },
  {
   "cell_type": "code",
   "execution_count": 27,
   "metadata": {},
   "outputs": [
    {
     "data": {
      "text/html": [
       "<table>\n",
       "<tbody>\n",
       "<tr><td>                                      </td><td>.py      </td><td>.pyc     </td><td>.opt-1.pyc</td><td>.opt-2.pyc</td><td>.so     </td><td>package       </td><td>total    </td></tr>\n",
       "<tr><td>test                                  </td><td>13.9 MB  </td><td>12.7 MB  </td><td>12.7 MB   </td><td>12.3 MB   </td><td>        </td><td>test          </td><td>51.7 MB  </td></tr>\n",
       "<tr><td>idlelib                               </td><td>1.2 MB   </td><td>997.9 kB </td><td>996.5 kB  </td><td>856.7 kB  </td><td>        </td><td>idle          </td><td>4.0 MB   </td></tr>\n",
       "<tr><td>unittest                              </td><td>801.1 kB </td><td>806.4 kB </td><td>806.1 kB  </td><td>760.0 kB  </td><td>        </td><td>libs / test   </td><td>3.2 MB   </td></tr>\n",
       "<tr><td>distutils                             </td><td>910.1 kB </td><td>639.6 kB </td><td>638.8 kB  </td><td>531.4 kB  </td><td>        </td><td>libs / test   </td><td>2.7 MB   </td></tr>\n",
       "<tr><td>encodings                             </td><td>1.4 MB   </td><td>387.4 kB </td><td>386.9 kB  </td><td>371.1 kB  </td><td>        </td><td>libs          </td><td>2.6 MB   </td></tr>\n",
       "<tr><td>lib2to3                               </td><td>649.4 kB </td><td>583.6 kB </td><td>570.2 kB  </td><td>518.8 kB  </td><td>        </td><td>libs / test   </td><td>2.3 MB   </td></tr>\n",
       "<tr><td>tkinter                               </td><td>612.1 kB </td><td>580.3 kB </td><td>580.3 kB  </td><td>446.8 kB  </td><td>        </td><td>test / tkinter</td><td>2.2 MB   </td></tr>\n",
       "<tr><td>pydoc_data                            </td><td>668.8 kB </td><td>416.5 kB </td><td>416.5 kB  </td><td>416.5 kB  </td><td>        </td><td>libs          </td><td>1.9 MB   </td></tr>\n",
       "<tr><td>asyncio                               </td><td>451.5 kB </td><td>374.4 kB </td><td>372.1 kB  </td><td>298.0 kB  </td><td>        </td><td>libs          </td><td>1.5 MB   </td></tr>\n",
       "<tr><td>email                                 </td><td>373.1 kB </td><td>289.7 kB </td><td>289.4 kB  </td><td>192.9 kB  </td><td>        </td><td>libs          </td><td>1.1 MB   </td></tr>\n",
       "<tr><td>ctypes                                </td><td>290.1 kB </td><td>287.2 kB </td><td>285.9 kB  </td><td>273.9 kB  </td><td>        </td><td>libs / test   </td><td>1.1 MB   </td></tr>\n",
       "<tr><td>unicodedata                           </td><td>         </td><td>         </td><td>          </td><td>          </td><td>1.1 MB  </td><td>libs          </td><td>1.1 MB   </td></tr>\n",
       "<tr><td>xml                                   </td><td>295.4 kB </td><td>248.6 kB </td><td>247.6 kB  </td><td>201.2 kB  </td><td>        </td><td>libs          </td><td>992.8 kB </td></tr>\n",
       "<tr><td>multiprocessing                       </td><td>268.1 kB </td><td>227.2 kB </td><td>225.0 kB  </td><td>207.3 kB  </td><td>        </td><td>libs          </td><td>927.5 kB </td></tr>\n",
       "<tr><td>_pydecimal                            </td><td>228.5 kB </td><td>160.7 kB </td><td>160.7 kB  </td><td>79.1 kB   </td><td>        </td><td>libs          </td><td>629.0 kB </td></tr>\n",
       "<tr><td>http                                  </td><td>204.9 kB </td><td>142.9 kB </td><td>142.5 kB  </td><td>101.0 kB  </td><td>        </td><td>libs          </td><td>591.3 kB </td></tr>\n",
       "<tr><td>sqlite3                               </td><td>128.8 kB </td><td>144.0 kB </td><td>143.9 kB  </td><td>139.1 kB  </td><td>        </td><td>libs / test   </td><td>555.8 kB </td></tr>\n",
       "<tr><td>logging                               </td><td>171.7 kB </td><td>131.2 kB </td><td>131.1 kB  </td><td>79.8 kB   </td><td>        </td><td>libs          </td><td>513.9 kB </td></tr>\n",
       "<tr><td>importlib                             </td><td>158.7 kB </td><td>125.5 kB </td><td>125.2 kB  </td><td>90.4 kB   </td><td>        </td><td>libs          </td><td>499.8 kB </td></tr>\n",
       "<tr><td>urllib                                </td><td>156.1 kB </td><td>119.9 kB </td><td>119.8 kB  </td><td>95.4 kB   </td><td>        </td><td>libs          </td><td>491.1 kB </td></tr>\n",
       "<tr><td>turtle                                </td><td>143.6 kB </td><td>129.9 kB </td><td>129.9 kB  </td><td>68.4 kB   </td><td>        </td><td>tkinter       </td><td>471.8 kB </td></tr>\n",
       "<tr><td>pydoc                                 </td><td>107.4 kB </td><td>84.1 kB  </td><td>84.1 kB   </td><td>74.5 kB   </td><td>        </td><td>libs          </td><td>350.0 kB </td></tr>\n",
       "<tr><td>inspect                               </td><td>118.0 kB </td><td>80.4 kB  </td><td>80.1 kB   </td><td>55.0 kB   </td><td>        </td><td>libs          </td><td>333.4 kB </td></tr>\n",
       "<tr><td>_decimal                              </td><td>         </td><td>         </td><td>          </td><td>          </td><td>328.4 kB</td><td>libs          </td><td>328.4 kB </td></tr>\n",
       "<tr><td>doctest                               </td><td>104.3 kB </td><td>75.8 kB  </td><td>75.6 kB   </td><td>40.3 kB   </td><td>        </td><td>libs          </td><td>296.0 kB </td></tr>\n",
       "<tr><td>_pyio                                 </td><td>93.0 kB  </td><td>74.0 kB  </td><td>74.0 kB   </td><td>51.1 kB   </td><td>        </td><td>libs          </td><td>292.1 kB </td></tr>\n",
       "<tr><td>html                                  </td><td>97.8 kB  </td><td>65.4 kB  </td><td>64.9 kB   </td><td>62.9 kB   </td><td>        </td><td>libs          </td><td>290.9 kB </td></tr>\n",
       "<tr><td>pickletools                           </td><td>93.5 kB  </td><td>67.2 kB  </td><td>66.3 kB   </td><td>57.2 kB   </td><td>        </td><td>libs          </td><td>284.2 kB </td></tr>\n",
       "<tr><td>_codecs_jp                            </td><td>         </td><td>         </td><td>          </td><td>          </td><td>273.8 kB</td><td>libs          </td><td>273.8 kB </td></tr>\n",
       "<tr><td>argparse                              </td><td>96.0 kB  </td><td>62.3 kB  </td><td>62.2 kB   </td><td>52.9 kB   </td><td>        </td><td>libs          </td><td>273.4 kB </td></tr>\n",
       "<tr><td>tarfile                               </td><td>93.6 kB  </td><td>62.5 kB  </td><td>62.5 kB   </td><td>48.6 kB   </td><td>        </td><td>libs          </td><td>267.3 kB </td></tr>\n",
       "<tr><td>xmlrpc                                </td><td>85.9 kB  </td><td>64.1 kB  </td><td>63.8 kB   </td><td>47.4 kB   </td><td>        </td><td>libs          </td><td>261.2 kB </td></tr>\n",
       "<tr><td>turtledemo                            </td><td>61.8 kB  </td><td>69.1 kB  </td><td>69.1 kB   </td><td>58.7 kB   </td><td>        </td><td>tkinter       </td><td>258.6 kB </td></tr>\n",
       "<tr><td>mailbox                               </td><td>78.7 kB  </td><td>60.3 kB  </td><td>60.2 kB   </td><td>53.6 kB   </td><td>        </td><td>libs          </td><td>252.7 kB </td></tr>\n",
       "<tr><td>datetime                              </td><td>88.1 kB  </td><td>57.0 kB  </td><td>55.7 kB   </td><td>47.5 kB   </td><td>        </td><td>libs          </td><td>248.3 kB </td></tr>\n",
       "<tr><td>zipfile                               </td><td>85.9 kB  </td><td>56.4 kB  </td><td>56.3 kB   </td><td>48.1 kB   </td><td>        </td><td>libs          </td><td>246.7 kB </td></tr>\n",
       "<tr><td>typing                                </td><td>68.2 kB  </td><td>61.8 kB  </td><td>61.8 kB   </td><td>45.5 kB   </td><td>        </td><td>libs          </td><td>237.3 kB </td></tr>\n",
       "<tr><td>difflib                               </td><td>84.1 kB  </td><td>59.4 kB  </td><td>59.4 kB   </td><td>24.9 kB   </td><td>        </td><td>libs          </td><td>227.8 kB </td></tr>\n",
       "<tr><td>ipaddress                             </td><td>71.2 kB  </td><td>59.6 kB  </td><td>59.6 kB   </td><td>35.7 kB   </td><td>        </td><td>libs          </td><td>226.0 kB </td></tr>\n",
       "<tr><td>pickle                                </td><td>64.4 kB  </td><td>46.9 kB  </td><td>46.8 kB   </td><td>40.9 kB   </td><td>        </td><td>libs          </td><td>198.9 kB </td></tr>\n",
       "<tr><td>concurrent                            </td><td>61.1 kB  </td><td>49.3 kB  </td><td>49.2 kB   </td><td>34.2 kB   </td><td>        </td><td>libs          </td><td>193.8 kB </td></tr>\n",
       "<tr><td>optparse                              </td><td>60.4 kB  </td><td>48.1 kB  </td><td>48.0 kB   </td><td>35.7 kB   </td><td>        </td><td>libs          </td><td>192.1 kB </td></tr>\n",
       "<tr><td>subprocess                            </td><td>77.2 kB  </td><td>41.9 kB  </td><td>41.8 kB   </td><td>29.9 kB   </td><td>        </td><td>libs          </td><td>190.9 kB </td></tr>\n",
       "<tr><td>wsgiref                               </td><td>55.1 kB  </td><td>50.4 kB  </td><td>49.8 kB   </td><td>34.6 kB   </td><td>        </td><td>libs          </td><td>190.0 kB </td></tr>\n",
       "<tr><td>pdb                                   </td><td>62.6 kB  </td><td>47.1 kB  </td><td>47.1 kB   </td><td>33.0 kB   </td><td>        </td><td>libs          </td><td>189.8 kB </td></tr>\n",
       "<tr><td>locale                                </td><td>78.2 kB  </td><td>34.7 kB  </td><td>34.7 kB   </td><td>30.1 kB   </td><td>        </td><td>libs          </td><td>177.6 kB </td></tr>\n",
       "<tr><td>collections                           </td><td>47.6 kB  </td><td>46.6 kB  </td><td>46.6 kB   </td><td>36.0 kB   </td><td>        </td><td>libs          </td><td>176.9 kB </td></tr>\n",
       "<tr><td>configparser                          </td><td>54.4 kB  </td><td>45.7 kB  </td><td>45.7 kB   </td><td>30.8 kB   </td><td>        </td><td>libs          </td><td>176.6 kB </td></tr>\n",
       "<tr><td>ssl                                   </td><td>50.8 kB  </td><td>44.6 kB  </td><td>44.6 kB   </td><td>33.6 kB   </td><td>        </td><td>libs          </td><td>173.6 kB </td></tr>\n",
       "<tr><td>pathlib                               </td><td>51.1 kB  </td><td>42.9 kB  </td><td>42.9 kB   </td><td>35.0 kB   </td><td>        </td><td>libs          </td><td>171.9 kB </td></tr>\n",
       "<tr><td>_codecs_hk                            </td><td>         </td><td>         </td><td>          </td><td>          </td><td>163.0 kB</td><td>libs          </td><td>163.0 kB </td></tr>\n",
       "<tr><td>imaplib                               </td><td>53.6 kB  </td><td>41.3 kB  </td><td>39.2 kB   </td><td>27.2 kB   </td><td>        </td><td>libs          </td><td>161.3 kB </td></tr>\n",
       "<tr><td>_codecs_cn                            </td><td>         </td><td>         </td><td>          </td><td>          </td><td>159.1 kB</td><td>libs          </td><td>159.1 kB </td></tr>\n",
       "<tr><td>threading                             </td><td>50.6 kB  </td><td>39.9 kB  </td><td>39.4 kB   </td><td>22.8 kB   </td><td>        </td><td>libs          </td><td>152.7 kB </td></tr>\n",
       "<tr><td>_pickle                               </td><td>         </td><td>         </td><td>          </td><td>          </td><td>148.7 kB</td><td>libs          </td><td>148.7 kB </td></tr>\n",
       "<tr><td>shutil                                </td><td>50.4 kB  </td><td>36.2 kB  </td><td>36.2 kB   </td><td>24.7 kB   </td><td>        </td><td>libs          </td><td>147.5 kB </td></tr>\n",
       "<tr><td>_codecs_kr                            </td><td>         </td><td>         </td><td>          </td><td>          </td><td>142.6 kB</td><td>libs          </td><td>142.6 kB </td></tr>\n",
       "<tr><td>json                                  </td><td>47.2 kB  </td><td>37.4 kB  </td><td>37.4 kB   </td><td>19.3 kB   </td><td>        </td><td>libs          </td><td>141.2 kB </td></tr>\n",
       "<tr><td>_ssl                                  </td><td>         </td><td>         </td><td>          </td><td>          </td><td>134.6 kB</td><td>libs          </td><td>134.6 kB </td></tr>\n",
       "<tr><td>_ctypes                               </td><td>         </td><td>         </td><td>          </td><td>          </td><td>134.4 kB</td><td>libs          </td><td>134.4 kB </td></tr>\n",
       "<tr><td>smtplib                               </td><td>44.3 kB  </td><td>35.3 kB  </td><td>35.3 kB   </td><td>18.9 kB   </td><td>        </td><td>libs          </td><td>133.8 kB </td></tr>\n",
       "<tr><td>nntplib                               </td><td>43.3 kB  </td><td>34.0 kB  </td><td>34.0 kB   </td><td>21.5 kB   </td><td>        </td><td>libs          </td><td>132.7 kB </td></tr>\n",
       "<tr><td>_datetime                             </td><td>         </td><td>         </td><td>          </td><td>          </td><td>131.5 kB</td><td>libs          </td><td>131.5 kB </td></tr>\n",
       "<tr><td>_testcapi                             </td><td>         </td><td>         </td><td>          </td><td>          </td><td>130.6 kB</td><td>test          </td><td>130.6 kB </td></tr>\n",
       "<tr><td>_curses                               </td><td>         </td><td>         </td><td>          </td><td>          </td><td>129.2 kB</td><td>libs          </td><td>129.2 kB </td></tr>\n",
       "<tr><td>_sysconfigdata__linux_x86_64-linux-gnu</td><td>38.0 kB  </td><td>28.8 kB  </td><td>28.8 kB   </td><td>28.8 kB   </td><td>        </td><td>libs          </td><td>124.5 kB </td></tr>\n",
       "<tr><td>statistics                            </td><td>39.6 kB  </td><td>33.5 kB  </td><td>33.1 kB   </td><td>17.4 kB   </td><td>        </td><td>libs          </td><td>123.7 kB </td></tr>\n",
       "<tr><td>codecs                                </td><td>36.6 kB  </td><td>33.9 kB  </td><td>33.9 kB   </td><td>18.3 kB   </td><td>        </td><td>libs          </td><td>122.8 kB </td></tr>\n",
       "<tr><td>os                                    </td><td>38.9 kB  </td><td>31.3 kB  </td><td>31.3 kB   </td><td>19.1 kB   </td><td>        </td><td>libs          </td><td>120.6 kB </td></tr>\n",
       "<tr><td>dataclasses                           </td><td>49.3 kB  </td><td>23.3 kB  </td><td>23.3 kB   </td><td>19.9 kB   </td><td>        </td><td>libs          </td><td>115.8 kB </td></tr>\n",
       "<tr><td>functools                             </td><td>37.4 kB  </td><td>27.9 kB  </td><td>27.9 kB   </td><td>21.2 kB   </td><td>        </td><td>libs          </td><td>114.4 kB </td></tr>\n",
       "<tr><td>_codecs_tw                            </td><td>         </td><td>         </td><td>          </td><td>          </td><td>113.9 kB</td><td>libs          </td><td>113.9 kB </td></tr>\n",
       "<tr><td>smtpd                                 </td><td>34.7 kB  </td><td>26.5 kB  </td><td>26.5 kB   </td><td>23.8 kB   </td><td>        </td><td>libs          </td><td>111.5 kB </td></tr>\n",
       "<tr><td>socket                                </td><td>35.1 kB  </td><td>27.8 kB  </td><td>27.7 kB   </td><td>19.4 kB   </td><td>        </td><td>libs          </td><td>110.1 kB </td></tr>\n",
       "<tr><td>ftplib                                </td><td>34.8 kB  </td><td>27.9 kB  </td><td>27.9 kB   </td><td>18.1 kB   </td><td>        </td><td>libs          </td><td>108.6 kB </td></tr>\n",
       "<tr><td>plistlib                              </td><td>31.3 kB  </td><td>26.7 kB  </td><td>26.6 kB   </td><td>23.5 kB   </td><td>        </td><td>libs          </td><td>108.0 kB </td></tr>\n",
       "<tr><td>_collections_abc                      </td><td>26.1 kB  </td><td>28.7 kB  </td><td>28.7 kB   </td><td>23.7 kB   </td><td>        </td><td>libs          </td><td>107.3 kB </td></tr>\n",
       "<tr><td>platform                              </td><td>40.3 kB  </td><td>24.2 kB  </td><td>24.2 kB   </td><td>16.3 kB   </td><td>        </td><td>libs          </td><td>105.1 kB </td></tr>\n",
       "<tr><td>sre_parse                             </td><td>40.2 kB  </td><td>21.6 kB  </td><td>21.6 kB   </td><td>21.6 kB   </td><td>        </td><td>libs          </td><td>105.0 kB </td></tr>\n",
       "<tr><td>aifc                                  </td><td>32.8 kB  </td><td>25.5 kB  </td><td>25.5 kB   </td><td>20.3 kB   </td><td>        </td><td>libs          </td><td>104.0 kB </td></tr>\n",
       "<tr><td>cgi                                   </td><td>33.6 kB  </td><td>26.3 kB  </td><td>26.3 kB   </td><td>17.9 kB   </td><td>        </td><td>libs          </td><td>104.0 kB </td></tr>\n",
       "<tr><td>enum                                  </td><td>34.6 kB  </td><td>24.4 kB  </td><td>24.4 kB   </td><td>20.1 kB   </td><td>        </td><td>libs          </td><td>103.5 kB </td></tr>\n",
       "<tr><td>calendar                              </td><td>24.8 kB  </td><td>27.1 kB  </td><td>27.1 kB   </td><td>22.5 kB   </td><td>        </td><td>libs          </td><td>101.4 kB </td></tr>\n",
       "<tr><td>_sha3                                 </td><td>         </td><td>         </td><td>          </td><td>          </td><td>100.9 kB</td><td>libs          </td><td>100.9 kB </td></tr>\n",
       "<tr><td>_sqlite3                              </td><td>         </td><td>         </td><td>          </td><td>          </td><td>100.7 kB</td><td>libs          </td><td>100.7 kB </td></tr>\n",
       "<tr><td>bdb                                   </td><td>32.3 kB  </td><td>25.0 kB  </td><td>25.0 kB   </td><td>16.0 kB   </td><td>        </td><td>libs          </td><td>98.2 kB  </td></tr>\n",
       "<tr><td>_socket                               </td><td>         </td><td>         </td><td>          </td><td>          </td><td>97.2 kB </td><td>libs          </td><td>97.2 kB  </td></tr>\n",
       "<tr><td>uuid                                  </td><td>30.4 kB  </td><td>23.7 kB  </td><td>23.5 kB   </td><td>16.4 kB   </td><td>        </td><td>libs          </td><td>94.0 kB  </td></tr>\n",
       "<tr><td>tempfile                              </td><td>27.5 kB  </td><td>23.4 kB  </td><td>23.4 kB   </td><td>16.8 kB   </td><td>        </td><td>libs          </td><td>91.0 kB  </td></tr>\n",
       "<tr><td>pstats                                </td><td>27.3 kB  </td><td>22.1 kB  </td><td>22.1 kB   </td><td>19.5 kB   </td><td>        </td><td>libs          </td><td>91.0 kB  </td></tr>\n",
       "<tr><td>socketserver                          </td><td>26.9 kB  </td><td>24.0 kB  </td><td>24.0 kB   </td><td>13.4 kB   </td><td>        </td><td>libs          </td><td>88.3 kB  </td></tr>\n",
       "<tr><td>trace                                 </td><td>29.9 kB  </td><td>20.1 kB  </td><td>20.1 kB   </td><td>17.1 kB   </td><td>        </td><td>libs          </td><td>87.1 kB  </td></tr>\n",
       "<tr><td>_blake2                               </td><td>         </td><td>         </td><td>          </td><td>          </td><td>87.0 kB </td><td>libs          </td><td>87.0 kB  </td></tr>\n",
       "<tr><td>random                                </td><td>28.8 kB  </td><td>20.1 kB  </td><td>20.1 kB   </td><td>13.1 kB   </td><td>        </td><td>libs          </td><td>82.2 kB  </td></tr>\n",
       "<tr><td>gettext                               </td><td>27.1 kB  </td><td>17.9 kB  </td><td>17.9 kB   </td><td>17.2 kB   </td><td>        </td><td>libs          </td><td>80.1 kB  </td></tr>\n",
       "<tr><td>contextlib                            </td><td>25.0 kB  </td><td>20.2 kB  </td><td>20.2 kB   </td><td>14.6 kB   </td><td>        </td><td>libs          </td><td>80.0 kB  </td></tr>\n",
       "<tr><td>_elementtree                          </td><td>         </td><td>         </td><td>          </td><td>          </td><td>79.0 kB </td><td>libs          </td><td>79.0 kB  </td></tr>\n",
       "<tr><td>zipimport                             </td><td>30.8 kB  </td><td>17.3 kB  </td><td>17.2 kB   </td><td>13.7 kB   </td><td>        </td><td>libs          </td><td>78.9 kB  </td></tr>\n",
       "<tr><td>weakref                               </td><td>21.4 kB  </td><td>19.5 kB  </td><td>19.5 kB   </td><td>16.2 kB   </td><td>        </td><td>libs          </td><td>76.6 kB  </td></tr>\n",
       "<tr><td>pyexpat                               </td><td>         </td><td>         </td><td>          </td><td>          </td><td>75.5 kB </td><td>libs          </td><td>75.5 kB  </td></tr>\n",
       "<tr><td>traceback                             </td><td>23.5 kB  </td><td>19.9 kB  </td><td>19.9 kB   </td><td>11.0 kB   </td><td>        </td><td>libs          </td><td>74.3 kB  </td></tr>\n",
       "<tr><td>tokenize                              </td><td>25.8 kB  </td><td>17.2 kB  </td><td>17.1 kB   </td><td>13.4 kB   </td><td>        </td><td>libs          </td><td>73.5 kB  </td></tr>\n",
       "<tr><td>fractions                             </td><td>24.2 kB  </td><td>18.7 kB  </td><td>18.7 kB   </td><td>11.3 kB   </td><td>        </td><td>libs          </td><td>73.0 kB  </td></tr>\n",
       "<tr><td>array                                 </td><td>         </td><td>         </td><td>          </td><td>          </td><td>72.2 kB </td><td>libs          </td><td>72.2 kB  </td></tr>\n",
       "<tr><td>modulefinder                          </td><td>24.5 kB  </td><td>16.1 kB  </td><td>16.1 kB   </td><td>15.1 kB   </td><td>        </td><td>libs          </td><td>71.8 kB  </td></tr>\n",
       "<tr><td>gzip                                  </td><td>21.2 kB  </td><td>18.1 kB  </td><td>18.1 kB   </td><td>14.3 kB   </td><td>        </td><td>libs          </td><td>71.7 kB  </td></tr>\n",
       "<tr><td>sre_compile                           </td><td>26.7 kB  </td><td>15.1 kB  </td><td>14.9 kB   </td><td>14.5 kB   </td><td>        </td><td>libs          </td><td>71.3 kB  </td></tr>\n",
       "<tr><td>_json                                 </td><td>         </td><td>         </td><td>          </td><td>          </td><td>71.0 kB </td><td>libs          </td><td>71.0 kB  </td></tr>\n",
       "<tr><td>webbrowser                            </td><td>23.4 kB  </td><td>16.5 kB  </td><td>16.4 kB   </td><td>14.6 kB   </td><td>        </td><td>libs          </td><td>70.9 kB  </td></tr>\n",
       "<tr><td>telnetlib                             </td><td>23.3 kB  </td><td>18.2 kB  </td><td>18.2 kB   </td><td>10.7 kB   </td><td>        </td><td>libs          </td><td>70.5 kB  </td></tr>\n",
       "<tr><td>cmath                                 </td><td>         </td><td>         </td><td>          </td><td>          </td><td>70.0 kB </td><td>libs          </td><td>70.0 kB  </td></tr>\n",
       "<tr><td>_strptime                             </td><td>25.3 kB  </td><td>16.0 kB  </td><td>16.0 kB   </td><td>12.3 kB   </td><td>        </td><td>libs          </td><td>69.7 kB  </td></tr>\n",
       "<tr><td>sysconfig                             </td><td>24.5 kB  </td><td>15.7 kB  </td><td>15.7 kB   </td><td>13.3 kB   </td><td>        </td><td>libs          </td><td>69.2 kB  </td></tr>\n",
       "<tr><td>pprint                                </td><td>21.5 kB  </td><td>16.3 kB  </td><td>16.2 kB   </td><td>14.1 kB   </td><td>        </td><td>libs          </td><td>68.1 kB  </td></tr>\n",
       "<tr><td>curses                                </td><td>19.7 kB  </td><td>16.8 kB  </td><td>16.8 kB   </td><td>14.6 kB   </td><td>        </td><td>libs          </td><td>67.9 kB  </td></tr>\n",
       "<tr><td>tracemalloc                           </td><td>17.1 kB  </td><td>17.4 kB  </td><td>17.4 kB   </td><td>16.0 kB   </td><td>        </td><td>libs          </td><td>67.8 kB  </td></tr>\n",
       "<tr><td>site                                  </td><td>21.8 kB  </td><td>17.0 kB  </td><td>17.0 kB   </td><td>11.3 kB   </td><td>        </td><td>libs          </td><td>67.2 kB  </td></tr>\n",
       "<tr><td>asyncore                              </td><td>20.1 kB  </td><td>16.0 kB  </td><td>16.0 kB   </td><td>14.8 kB   </td><td>        </td><td>libs          </td><td>67.0 kB  </td></tr>\n",
       "<tr><td>ntpath                                </td><td>26.1 kB  </td><td>14.3 kB  </td><td>14.3 kB   </td><td>12.2 kB   </td><td>        </td><td>libs          </td><td>66.9 kB  </td></tr>\n",
       "<tr><td>wave                                  </td><td>18.2 kB  </td><td>18.1 kB  </td><td>18.1 kB   </td><td>12.1 kB   </td><td>        </td><td>libs          </td><td>66.6 kB  </td></tr>\n",
       "<tr><td>base64                                </td><td>20.4 kB  </td><td>17.1 kB  </td><td>16.9 kB   </td><td>11.3 kB   </td><td>        </td><td>libs          </td><td>65.7 kB  </td></tr>\n",
       "<tr><td>formatter                             </td><td>15.1 kB  </td><td>17.5 kB  </td><td>17.5 kB   </td><td>15.1 kB   </td><td>        </td><td>libs          </td><td>65.3 kB  </td></tr>\n",
       "<tr><td>selectors                             </td><td>18.6 kB  </td><td>16.9 kB  </td><td>16.9 kB   </td><td>12.9 kB   </td><td>        </td><td>libs          </td><td>65.3 kB  </td></tr>\n",
       "<tr><td>pkgutil                               </td><td>21.5 kB  </td><td>16.3 kB  </td><td>16.3 kB   </td><td>11.1 kB   </td><td>        </td><td>libs          </td><td>65.1 kB  </td></tr>\n",
       "<tr><td>sunau                                 </td><td>18.4 kB  </td><td>17.1 kB  </td><td>17.1 kB   </td><td>12.5 kB   </td><td>        </td><td>libs          </td><td>65.0 kB  </td></tr>\n",
       "<tr><td>dis                                   </td><td>20.6 kB  </td><td>15.8 kB  </td><td>15.8 kB   </td><td>12.0 kB   </td><td>        </td><td>libs          </td><td>64.2 kB  </td></tr>\n",
       "<tr><td>_asyncio                              </td><td>         </td><td>         </td><td>          </td><td>          </td><td>63.9 kB </td><td>libs          </td><td>63.9 kB  </td></tr>\n",
       "<tr><td>profile                               </td><td>23.1 kB  </td><td>14.6 kB  </td><td>14.4 kB   </td><td>11.4 kB   </td><td>        </td><td>libs          </td><td>63.6 kB  </td></tr>\n",
       "<tr><td>math                                  </td><td>         </td><td>         </td><td>          </td><td>          </td><td>63.2 kB </td><td>libs          </td><td>63.2 kB  </td></tr>\n",
       "<tr><td>_tkinter                              </td><td>         </td><td>         </td><td>          </td><td>          </td><td>63.2 kB </td><td>tkinter       </td><td>63.2 kB  </td></tr>\n",
       "<tr><td>mimetypes                             </td><td>21.6 kB  </td><td>15.9 kB  </td><td>15.9 kB   </td><td>9.9 kB    </td><td>        </td><td>libs          </td><td>63.2 kB  </td></tr>\n",
       "<tr><td>heapq                                 </td><td>22.9 kB  </td><td>14.1 kB  </td><td>14.1 kB   </td><td>11.1 kB   </td><td>        </td><td>libs          </td><td>62.1 kB  </td></tr>\n",
       "<tr><td>venv                                  </td><td>21.2 kB  </td><td>14.8 kB  </td><td>14.7 kB   </td><td>10.5 kB   </td><td>        </td><td>libs          </td><td>61.2 kB  </td></tr>\n",
       "<tr><td>ast                                   </td><td>18.5 kB  </td><td>16.3 kB  </td><td>16.3 kB   </td><td>9.9 kB    </td><td>        </td><td>libs          </td><td>61.0 kB  </td></tr>\n",
       "<tr><td>_multibytecodec                       </td><td>         </td><td>         </td><td>          </td><td>          </td><td>60.6 kB </td><td>libs          </td><td>60.6 kB  </td></tr>\n",
       "<tr><td>warnings                              </td><td>19.9 kB  </td><td>13.8 kB  </td><td>13.3 kB   </td><td>11.0 kB   </td><td>        </td><td>libs          </td><td>57.9 kB  </td></tr>\n",
       "<tr><td>_struct                               </td><td>         </td><td>         </td><td>          </td><td>          </td><td>56.7 kB </td><td>libs          </td><td>56.7 kB  </td></tr>\n",
       "<tr><td>_testbuffer                           </td><td>         </td><td>         </td><td>          </td><td>          </td><td>55.3 kB </td><td>test          </td><td>55.3 kB  </td></tr>\n",
       "<tr><td>textwrap                              </td><td>19.4 kB  </td><td>13.5 kB  </td><td>13.4 kB   </td><td>6.2 kB    </td><td>        </td><td>libs          </td><td>52.6 kB  </td></tr>\n",
       "<tr><td>dbm                                   </td><td>17.5 kB  </td><td>12.4 kB  </td><td>12.4 kB   </td><td>9.0 kB    </td><td>        </td><td>libs          </td><td>51.3 kB  </td></tr>\n",
       "<tr><td>poplib                                </td><td>15.1 kB  </td><td>13.5 kB  </td><td>13.5 kB   </td><td>8.5 kB    </td><td>        </td><td>libs          </td><td>50.5 kB  </td></tr>\n",
       "<tr><td>re                                    </td><td>15.7 kB  </td><td>14.3 kB  </td><td>14.3 kB   </td><td>6.1 kB    </td><td>        </td><td>libs          </td><td>50.5 kB  </td></tr>\n",
       "<tr><td>_hashlib                              </td><td>         </td><td>         </td><td>          </td><td>          </td><td>50.4 kB </td><td>libs          </td><td>50.4 kB  </td></tr>\n",
       "<tr><td>csv                                   </td><td>16.1 kB  </td><td>11.9 kB  </td><td>11.9 kB   </td><td>9.9 kB    </td><td>        </td><td>libs          </td><td>49.8 kB  </td></tr>\n",
       "<tr><td>binhex                                </td><td>14.0 kB  </td><td>12.1 kB  </td><td>12.1 kB   </td><td>11.6 kB   </td><td>        </td><td>libs          </td><td>49.8 kB  </td></tr>\n",
       "<tr><td>operator                              </td><td>10.7 kB  </td><td>13.7 kB  </td><td>13.7 kB   </td><td>11.3 kB   </td><td>        </td><td>libs          </td><td>49.4 kB  </td></tr>\n",
       "<tr><td>fileinput                             </td><td>14.7 kB  </td><td>13.4 kB  </td><td>13.4 kB   </td><td>7.8 kB    </td><td>        </td><td>libs          </td><td>49.2 kB  </td></tr>\n",
       "<tr><td>cmd                                   </td><td>14.9 kB  </td><td>12.6 kB  </td><td>12.6 kB   </td><td>7.2 kB    </td><td>        </td><td>libs          </td><td>47.3 kB  </td></tr>\n",
       "<tr><td>_lzma                                 </td><td>         </td><td>         </td><td>          </td><td>          </td><td>46.5 kB </td><td>libs          </td><td>46.5 kB  </td></tr>\n",
       "<tr><td>stringprep                            </td><td>12.9 kB  </td><td>11.0 kB  </td><td>11.0 kB   </td><td>10.7 kB   </td><td>        </td><td>libs          </td><td>45.6 kB  </td></tr>\n",
       "<tr><td>_osx_support                          </td><td>19.1 kB  </td><td>9.6 kB   </td><td>9.6 kB    </td><td>7.2 kB    </td><td>        </td><td>libs          </td><td>45.6 kB  </td></tr>\n",
       "<tr><td>audioop                               </td><td>         </td><td>         </td><td>          </td><td>          </td><td>45.3 kB </td><td>libs          </td><td>45.3 kB  </td></tr>\n",
       "<tr><td>posixpath                             </td><td>15.6 kB  </td><td>10.4 kB  </td><td>10.4 kB   </td><td>8.7 kB    </td><td>        </td><td>libs          </td><td>45.2 kB  </td></tr>\n",
       "<tr><td>pyclbr                                </td><td>15.3 kB  </td><td>10.5 kB  </td><td>10.5 kB   </td><td>6.9 kB    </td><td>        </td><td>libs          </td><td>43.0 kB  </td></tr>\n",
       "<tr><td>numbers                               </td><td>10.2 kB  </td><td>12.2 kB  </td><td>12.2 kB   </td><td>8.3 kB    </td><td>        </td><td>libs          </td><td>43.0 kB  </td></tr>\n",
       "<tr><td>lzma                                  </td><td>13.0 kB  </td><td>12.0 kB  </td><td>12.0 kB   </td><td>5.9 kB    </td><td>        </td><td>libs          </td><td>42.9 kB  </td></tr>\n",
       "<tr><td>timeit                                </td><td>13.4 kB  </td><td>11.7 kB  </td><td>11.7 kB   </td><td>5.9 kB    </td><td>        </td><td>libs          </td><td>42.8 kB  </td></tr>\n",
       "<tr><td>bz2                                   </td><td>12.6 kB  </td><td>11.4 kB  </td><td>11.4 kB   </td><td>6.4 kB    </td><td>        </td><td>libs          </td><td>41.8 kB  </td></tr>\n",
       "<tr><td>_sha512                               </td><td>         </td><td>         </td><td>          </td><td>          </td><td>41.7 kB </td><td>libs          </td><td>41.7 kB  </td></tr>\n",
       "<tr><td>binascii                              </td><td>         </td><td>         </td><td>          </td><td>          </td><td>41.3 kB </td><td>libs          </td><td>41.3 kB  </td></tr>\n",
       "<tr><td>cgitb                                 </td><td>12.1 kB  </td><td>10.2 kB  </td><td>10.2 kB   </td><td>8.6 kB    </td><td>        </td><td>libs          </td><td>41.0 kB  </td></tr>\n",
       "<tr><td>symtable                              </td><td>7.6 kB   </td><td>11.1 kB  </td><td>11.0 kB   </td><td>10.3 kB   </td><td>        </td><td>libs          </td><td>39.9 kB  </td></tr>\n",
       "<tr><td>queue                                 </td><td>11.4 kB  </td><td>10.6 kB  </td><td>10.6 kB   </td><td>6.3 kB    </td><td>        </td><td>libs          </td><td>38.9 kB  </td></tr>\n",
       "<tr><td>compileall                            </td><td>13.5 kB  </td><td>9.2 kB   </td><td>9.2 kB    </td><td>6.8 kB    </td><td>        </td><td>libs          </td><td>38.7 kB  </td></tr>\n",
       "<tr><td>_csv                                  </td><td>         </td><td>         </td><td>          </td><td>          </td><td>38.7 kB </td><td>libs          </td><td>38.7 kB  </td></tr>\n",
       "<tr><td>zlib                                  </td><td>         </td><td>         </td><td>          </td><td>          </td><td>38.2 kB </td><td>libs          </td><td>38.2 kB  </td></tr>\n",
       "<tr><td>_xxsubinterpreters                    </td><td>         </td><td>         </td><td>          </td><td>          </td><td>38.2 kB </td><td>libs          </td><td>38.2 kB  </td></tr>\n",
       "<tr><td>select                                </td><td>         </td><td>         </td><td>          </td><td>          </td><td>38.1 kB </td><td>libs          </td><td>38.1 kB  </td></tr>\n",
       "<tr><td>imp                                   </td><td>10.5 kB  </td><td>9.8 kB   </td><td>9.8 kB    </td><td>7.4 kB    </td><td>        </td><td>libs          </td><td>37.6 kB  </td></tr>\n",
       "<tr><td>_sha256                               </td><td>         </td><td>         </td><td>          </td><td>          </td><td>37.6 kB </td><td>libs          </td><td>37.6 kB  </td></tr>\n",
       "<tr><td>_markupbase                           </td><td>14.6 kB  </td><td>7.8 kB   </td><td>7.6 kB    </td><td>7.2 kB    </td><td>        </td><td>libs          </td><td>37.3 kB  </td></tr>\n",
       "<tr><td>types                                 </td><td>9.7 kB   </td><td>9.2 kB   </td><td>9.2 kB    </td><td>8.0 kB    </td><td>        </td><td>libs          </td><td>36.0 kB  </td></tr>\n",
       "<tr><td>shlex                                 </td><td>13.3 kB  </td><td>7.5 kB   </td><td>7.5 kB    </td><td>7.0 kB    </td><td>        </td><td>libs          </td><td>35.2 kB  </td></tr>\n",
       "<tr><td>code                                  </td><td>10.6 kB  </td><td>9.9 kB   </td><td>9.9 kB    </td><td>4.6 kB    </td><td>        </td><td>libs          </td><td>35.1 kB  </td></tr>\n",
       "<tr><td>runpy                                 </td><td>12.0 kB  </td><td>8.1 kB   </td><td>8.1 kB    </td><td>6.5 kB    </td><td>        </td><td>libs          </td><td>34.7 kB  </td></tr>\n",
       "<tr><td>ossaudiodev                           </td><td>         </td><td>         </td><td>          </td><td>          </td><td>34.5 kB </td><td>libs          </td><td>34.5 kB  </td></tr>\n",
       "<tr><td>readline                              </td><td>         </td><td>         </td><td>          </td><td>          </td><td>33.2 kB </td><td>libs          </td><td>33.2 kB  </td></tr>\n",
       "<tr><td>shelve                                </td><td>8.5 kB   </td><td>9.5 kB   </td><td>9.5 kB    </td><td>5.3 kB    </td><td>        </td><td>libs          </td><td>32.9 kB  </td></tr>\n",
       "<tr><td>filecmp                               </td><td>9.8 kB   </td><td>8.4 kB   </td><td>8.4 kB    </td><td>6.0 kB    </td><td>        </td><td>libs          </td><td>32.7 kB  </td></tr>\n",
       "<tr><td>_codecs_iso2022                       </td><td>         </td><td>         </td><td>          </td><td>          </td><td>32.3 kB </td><td>libs          </td><td>32.3 kB  </td></tr>\n",
       "<tr><td>termios                               </td><td>         </td><td>         </td><td>          </td><td>          </td><td>31.8 kB </td><td>libs          </td><td>31.8 kB  </td></tr>\n",
       "<tr><td>tabnanny                              </td><td>11.4 kB  </td><td>7.0 kB   </td><td>7.0 kB    </td><td>6.1 kB    </td><td>        </td><td>libs          </td><td>31.6 kB  </td></tr>\n",
       "<tr><td>string                                </td><td>10.5 kB  </td><td>7.3 kB   </td><td>7.3 kB    </td><td>6.2 kB    </td><td>        </td><td>libs          </td><td>31.3 kB  </td></tr>\n",
       "<tr><td>asynchat                              </td><td>11.3 kB  </td><td>6.9 kB   </td><td>6.9 kB    </td><td>5.5 kB    </td><td>        </td><td>libs          </td><td>30.5 kB  </td></tr>\n",
       "<tr><td>xdrlib                                </td><td>5.9 kB   </td><td>8.2 kB   </td><td>8.2 kB    </td><td>7.7 kB    </td><td>        </td><td>libs          </td><td>30.1 kB  </td></tr>\n",
       "<tr><td>pipes                                 </td><td>8.9 kB   </td><td>7.8 kB   </td><td>7.8 kB    </td><td>4.9 kB    </td><td>        </td><td>libs          </td><td>29.4 kB  </td></tr>\n",
       "<tr><td>mmap                                  </td><td>         </td><td>         </td><td>          </td><td>          </td><td>29.4 kB </td><td>libs          </td><td>29.4 kB  </td></tr>\n",
       "<tr><td>hashlib                               </td><td>9.7 kB   </td><td>6.7 kB   </td><td>6.7 kB    </td><td>6.2 kB    </td><td>        </td><td>libs          </td><td>29.3 kB  </td></tr>\n",
       "<tr><td>parser                                </td><td>         </td><td>         </td><td>          </td><td>          </td><td>29.2 kB </td><td>libs          </td><td>29.2 kB  </td></tr>\n",
       "<tr><td>_bz2                                  </td><td>         </td><td>         </td><td>          </td><td>          </td><td>29.2 kB </td><td>libs          </td><td>29.2 kB  </td></tr>\n",
       "<tr><td>_lsprof                               </td><td>         </td><td>         </td><td>          </td><td>          </td><td>29.0 kB </td><td>libs          </td><td>29.0 kB  </td></tr>\n",
       "<tr><td>_gdbm                                 </td><td>         </td><td>         </td><td>          </td><td>          </td><td>28.9 kB </td><td>libs          </td><td>28.9 kB  </td></tr>\n",
       "<tr><td>_md5                                  </td><td>         </td><td>         </td><td>          </td><td>          </td><td>28.8 kB </td><td>libs          </td><td>28.8 kB  </td></tr>\n",
       "<tr><td>_weakrefset                           </td><td>5.7 kB   </td><td>7.6 kB   </td><td>7.6 kB    </td><td>7.6 kB    </td><td>        </td><td>libs          </td><td>28.5 kB  </td></tr>\n",
       "<tr><td>_heapq                                </td><td>         </td><td>         </td><td>          </td><td>          </td><td>28.0 kB </td><td>libs          </td><td>28.0 kB  </td></tr>\n",
       "<tr><td>copy                                  </td><td>8.6 kB   </td><td>7.0 kB   </td><td>7.0 kB    </td><td>4.7 kB    </td><td>        </td><td>libs          </td><td>27.2 kB  </td></tr>\n",
       "<tr><td>_testmultiphase                       </td><td>         </td><td>         </td><td>          </td><td>          </td><td>27.2 kB </td><td>test          </td><td>27.2 kB  </td></tr>\n",
       "<tr><td>ensurepip                             </td><td>7.8 kB   </td><td>6.7 kB   </td><td>6.7 kB    </td><td>6.0 kB    </td><td>        </td><td>libs          </td><td>27.1 kB  </td></tr>\n",
       "<tr><td>py_compile                            </td><td>8.3 kB   </td><td>7.4 kB   </td><td>7.4 kB    </td><td>3.7 kB    </td><td>        </td><td>libs          </td><td>26.9 kB  </td></tr>\n",
       "<tr><td>sndhdr                                </td><td>7.1 kB   </td><td>7.0 kB   </td><td>7.0 kB    </td><td>5.7 kB    </td><td>        </td><td>libs          </td><td>26.7 kB  </td></tr>\n",
       "<tr><td>mailcap                               </td><td>8.1 kB   </td><td>6.5 kB   </td><td>6.5 kB    </td><td>5.0 kB    </td><td>        </td><td>libs          </td><td>26.0 kB  </td></tr>\n",
       "<tr><td>sre_constants                         </td><td>7.2 kB   </td><td>6.4 kB   </td><td>6.4 kB    </td><td>5.9 kB    </td><td>        </td><td>libs          </td><td>25.8 kB  </td></tr>\n",
       "<tr><td>_compat_pickle                        </td><td>8.7 kB   </td><td>5.5 kB   </td><td>5.4 kB    </td><td>5.4 kB    </td><td>        </td><td>libs          </td><td>25.1 kB  </td></tr>\n",
       "<tr><td>_sha1                                 </td><td>         </td><td>         </td><td>          </td><td>          </td><td>24.7 kB </td><td>libs          </td><td>24.7 kB  </td></tr>\n",
       "<tr><td>_ctypes_test                          </td><td>         </td><td>         </td><td>          </td><td>          </td><td>24.5 kB </td><td>test          </td><td>24.5 kB  </td></tr>\n",
       "<tr><td>_random                               </td><td>         </td><td>         </td><td>          </td><td>          </td><td>24.4 kB </td><td>libs          </td><td>24.4 kB  </td></tr>\n",
       "<tr><td>_curses_panel                         </td><td>         </td><td>         </td><td>          </td><td>          </td><td>24.4 kB </td><td>libs          </td><td>24.4 kB  </td></tr>\n",
       "<tr><td>zipapp                                </td><td>7.5 kB   </td><td>5.9 kB   </td><td>5.9 kB    </td><td>4.7 kB    </td><td>        </td><td>libs          </td><td>23.9 kB  </td></tr>\n",
       "<tr><td>_posixsubprocess                      </td><td>         </td><td>         </td><td>          </td><td>          </td><td>23.8 kB </td><td>libs          </td><td>23.8 kB  </td></tr>\n",
       "<tr><td>fcntl                                 </td><td>         </td><td>         </td><td>          </td><td>          </td><td>23.8 kB </td><td>libs          </td><td>23.8 kB  </td></tr>\n",
       "<tr><td>getopt                                </td><td>7.5 kB   </td><td>6.3 kB   </td><td>6.2 kB    </td><td>3.7 kB    </td><td>        </td><td>libs          </td><td>23.7 kB  </td></tr>\n",
       "<tr><td>_threading_local                      </td><td>7.2 kB   </td><td>6.4 kB   </td><td>6.4 kB    </td><td>3.1 kB    </td><td>        </td><td>libs          </td><td>23.2 kB  </td></tr>\n",
       "<tr><td>quopri                                </td><td>7.3 kB   </td><td>5.8 kB   </td><td>5.6 kB    </td><td>4.5 kB    </td><td>        </td><td>libs          </td><td>23.1 kB  </td></tr>\n",
       "<tr><td>sched                                 </td><td>6.4 kB   </td><td>6.5 kB   </td><td>6.5 kB    </td><td>3.5 kB    </td><td>        </td><td>libs          </td><td>23.0 kB  </td></tr>\n",
       "<tr><td>cProfile                              </td><td>6.6 kB   </td><td>5.3 kB   </td><td>5.3 kB    </td><td>4.9 kB    </td><td>        </td><td>libs          </td><td>22.1 kB  </td></tr>\n",
       "<tr><td>opcode                                </td><td>5.8 kB   </td><td>5.4 kB   </td><td>5.4 kB    </td><td>5.3 kB    </td><td>        </td><td>libs          </td><td>21.9 kB  </td></tr>\n",
       "<tr><td>hmac                                  </td><td>6.1 kB   </td><td>5.9 kB   </td><td>5.9 kB    </td><td>3.9 kB    </td><td>        </td><td>libs          </td><td>21.7 kB  </td></tr>\n",
       "<tr><td>rlcompleter                           </td><td>7.1 kB   </td><td>5.8 kB   </td><td>5.8 kB    </td><td>3.1 kB    </td><td>        </td><td>libs          </td><td>21.7 kB  </td></tr>\n",
       "<tr><td>_dummy_thread                         </td><td>6.0 kB   </td><td>6.0 kB   </td><td>6.0 kB    </td><td>3.4 kB    </td><td>        </td><td>libs          </td><td>21.5 kB  </td></tr>\n",
       "<tr><td>reprlib                               </td><td>5.3 kB   </td><td>5.3 kB   </td><td>5.3 kB    </td><td>5.1 kB    </td><td>        </td><td>libs          </td><td>21.0 kB  </td></tr>\n",
       "<tr><td>_multiprocessing                      </td><td>         </td><td>         </td><td>          </td><td>          </td><td>20.9 kB </td><td>libs          </td><td>20.9 kB  </td></tr>\n",
       "<tr><td>codeop                                </td><td>6.0 kB   </td><td>6.3 kB   </td><td>6.3 kB    </td><td>2.2 kB    </td><td>        </td><td>libs          </td><td>20.8 kB  </td></tr>\n",
       "<tr><td>_dbm                                  </td><td>         </td><td>         </td><td>          </td><td>          </td><td>20.5 kB </td><td>libs          </td><td>20.5 kB  </td></tr>\n",
       "<tr><td>_queue                                </td><td>         </td><td>         </td><td>          </td><td>          </td><td>20.5 kB </td><td>libs          </td><td>20.5 kB  </td></tr>\n",
       "<tr><td>resource                              </td><td>         </td><td>         </td><td>          </td><td>          </td><td>20.1 kB </td><td>libs          </td><td>20.1 kB  </td></tr>\n",
       "<tr><td>grp                                   </td><td>         </td><td>         </td><td>          </td><td>          </td><td>20.0 kB </td><td>libs          </td><td>20.0 kB  </td></tr>\n",
       "<tr><td>nis                                   </td><td>         </td><td>         </td><td>          </td><td>          </td><td>19.9 kB </td><td>libs          </td><td>19.9 kB  </td></tr>\n",
       "<tr><td>_xxtestfuzz                           </td><td>         </td><td>         </td><td>          </td><td>          </td><td>19.7 kB </td><td>test          </td><td>19.7 kB  </td></tr>\n",
       "<tr><td>copyreg                               </td><td>7.1 kB   </td><td>4.3 kB   </td><td>4.3 kB    </td><td>3.5 kB    </td><td>        </td><td>libs          </td><td>19.2 kB  </td></tr>\n",
       "<tr><td>_py_abc                               </td><td>6.2 kB   </td><td>4.7 kB   </td><td>4.6 kB    </td><td>3.4 kB    </td><td>        </td><td>libs          </td><td>18.9 kB  </td></tr>\n",
       "<tr><td>abc                                   </td><td>4.5 kB   </td><td>5.3 kB   </td><td>5.3 kB    </td><td>3.2 kB    </td><td>        </td><td>libs          </td><td>18.4 kB  </td></tr>\n",
       "<tr><td>stat                                  </td><td>5.5 kB   </td><td>4.4 kB   </td><td>4.4 kB    </td><td>3.6 kB    </td><td>        </td><td>libs          </td><td>17.8 kB  </td></tr>\n",
       "<tr><td>chunk                                 </td><td>5.4 kB   </td><td>4.8 kB   </td><td>4.8 kB    </td><td>2.7 kB    </td><td>        </td><td>libs          </td><td>17.8 kB  </td></tr>\n",
       "<tr><td>glob                                  </td><td>5.7 kB   </td><td>4.3 kB   </td><td>4.3 kB    </td><td>3.4 kB    </td><td>        </td><td>libs          </td><td>17.7 kB  </td></tr>\n",
       "<tr><td>_compression                          </td><td>5.3 kB   </td><td>4.1 kB   </td><td>4.1 kB    </td><td>3.9 kB    </td><td>        </td><td>libs          </td><td>17.6 kB  </td></tr>\n",
       "<tr><td>getpass                               </td><td>6.0 kB   </td><td>4.2 kB   </td><td>4.2 kB    </td><td>3.0 kB    </td><td>        </td><td>libs          </td><td>17.3 kB  </td></tr>\n",
       "<tr><td>uu                                    </td><td>6.8 kB   </td><td>3.6 kB   </td><td>3.6 kB    </td><td>3.3 kB    </td><td>        </td><td>libs          </td><td>17.2 kB  </td></tr>\n",
       "<tr><td>netrc                                 </td><td>5.6 kB   </td><td>3.8 kB   </td><td>3.8 kB    </td><td>3.5 kB    </td><td>        </td><td>libs          </td><td>16.7 kB  </td></tr>\n",
       "<tr><td>xxlimited                             </td><td>         </td><td>         </td><td>          </td><td>          </td><td>16.1 kB </td><td>libs          </td><td>16.1 kB  </td></tr>\n",
       "<tr><td>_bisect                               </td><td>         </td><td>         </td><td>          </td><td>          </td><td>15.9 kB </td><td>libs          </td><td>15.9 kB  </td></tr>\n",
       "<tr><td>imghdr                                </td><td>3.8 kB   </td><td>4.1 kB   </td><td>4.1 kB    </td><td>3.8 kB    </td><td>        </td><td>libs          </td><td>15.8 kB  </td></tr>\n",
       "<tr><td>genericpath                           </td><td>5.0 kB   </td><td>4.0 kB   </td><td>4.0 kB    </td><td>2.9 kB    </td><td>        </td><td>libs          </td><td>15.8 kB  </td></tr>\n",
       "<tr><td>spwd                                  </td><td>         </td><td>         </td><td>          </td><td>          </td><td>15.8 kB </td><td>libs          </td><td>15.8 kB  </td></tr>\n",
       "<tr><td>syslog                                </td><td>         </td><td>         </td><td>          </td><td>          </td><td>15.8 kB </td><td>libs          </td><td>15.8 kB  </td></tr>\n",
       "<tr><td>linecache                             </td><td>5.3 kB   </td><td>3.8 kB   </td><td>3.8 kB    </td><td>2.7 kB    </td><td>        </td><td>libs          </td><td>15.7 kB  </td></tr>\n",
       "<tr><td>_posixshmem                           </td><td>         </td><td>         </td><td>          </td><td>          </td><td>15.7 kB </td><td>libs          </td><td>15.7 kB  </td></tr>\n",
       "<tr><td>pty                                   </td><td>4.8 kB   </td><td>3.9 kB   </td><td>3.9 kB    </td><td>3.1 kB    </td><td>        </td><td>libs          </td><td>15.6 kB  </td></tr>\n",
       "<tr><td>_opcode                               </td><td>         </td><td>         </td><td>          </td><td>          </td><td>15.6 kB </td><td>libs          </td><td>15.6 kB  </td></tr>\n",
       "<tr><td>__future__                            </td><td>5.1 kB   </td><td>4.1 kB   </td><td>4.1 kB    </td><td>2.2 kB    </td><td>        </td><td>libs          </td><td>15.5 kB  </td></tr>\n",
       "<tr><td>_crypt                                </td><td>         </td><td>         </td><td>          </td><td>          </td><td>15.5 kB </td><td>libs          </td><td>15.5 kB  </td></tr>\n",
       "<tr><td>_uuid                                 </td><td>         </td><td>         </td><td>          </td><td>          </td><td>15.5 kB </td><td>libs          </td><td>15.5 kB  </td></tr>\n",
       "<tr><td>_testimportmultiple                   </td><td>         </td><td>         </td><td>          </td><td>          </td><td>15.4 kB </td><td>test          </td><td>15.4 kB  </td></tr>\n",
       "<tr><td>_statistics                           </td><td>         </td><td>         </td><td>          </td><td>          </td><td>15.3 kB </td><td>libs          </td><td>15.3 kB  </td></tr>\n",
       "<tr><td>_contextvars                          </td><td>         </td><td>         </td><td>          </td><td>          </td><td>15.3 kB </td><td>libs          </td><td>15.3 kB  </td></tr>\n",
       "<tr><td>_testinternalcapi                     </td><td>         </td><td>         </td><td>          </td><td>          </td><td>15.3 kB </td><td>test          </td><td>15.3 kB  </td></tr>\n",
       "<tr><td>colorsys                              </td><td>4.1 kB   </td><td>3.2 kB   </td><td>3.2 kB    </td><td>2.6 kB    </td><td>        </td><td>libs          </td><td>13.2 kB  </td></tr>\n",
       "<tr><td>crypt                                 </td><td>3.6 kB   </td><td>3.4 kB   </td><td>3.4 kB    </td><td>2.7 kB    </td><td>        </td><td>libs          </td><td>13.1 kB  </td></tr>\n",
       "<tr><td>_sitebuiltins                         </td><td>3.1 kB   </td><td>3.5 kB   </td><td>3.5 kB    </td><td>3.0 kB    </td><td>        </td><td>libs          </td><td>13.0 kB  </td></tr>\n",
       "<tr><td>fnmatch                               </td><td>4.1 kB   </td><td>3.3 kB   </td><td>3.3 kB    </td><td>2.1 kB    </td><td>        </td><td>libs          </td><td>12.9 kB  </td></tr>\n",
       "<tr><td>io                                    </td><td>3.5 kB   </td><td>3.5 kB   </td><td>3.5 kB    </td><td>2.0 kB    </td><td>        </td><td>libs          </td><td>12.4 kB  </td></tr>\n",
       "<tr><td>signal                                </td><td>2.3 kB   </td><td>2.8 kB   </td><td>2.8 kB    </td><td>2.6 kB    </td><td>        </td><td>libs          </td><td>10.6 kB  </td></tr>\n",
       "<tr><td>token                                 </td><td>2.4 kB   </td><td>2.5 kB   </td><td>2.5 kB    </td><td>2.5 kB    </td><td>        </td><td>libs          </td><td>9.8 kB   </td></tr>\n",
       "<tr><td>symbol                                </td><td>2.1 kB   </td><td>2.4 kB   </td><td>2.4 kB    </td><td>2.3 kB    </td><td>        </td><td>libs          </td><td>9.3 kB   </td></tr>\n",
       "<tr><td>bisect                                </td><td>2.2 kB   </td><td>2.4 kB   </td><td>2.4 kB    </td><td>1.0 kB    </td><td>        </td><td>libs          </td><td>8.0 kB   </td></tr>\n",
       "<tr><td>config-3.8-x86_64-linux-gnu           </td><td>2.1 kB   </td><td>1.9 kB   </td><td>1.9 kB    </td><td>1.9 kB    </td><td>        </td><td>devel         </td><td>7.9 kB   </td></tr>\n",
       "<tr><td>secrets                               </td><td>2.0 kB   </td><td>2.2 kB   </td><td>2.2 kB    </td><td>1.1 kB    </td><td>        </td><td>libs          </td><td>7.6 kB   </td></tr>\n",
       "<tr><td>nturl2path                            </td><td>2.6 kB   </td><td>1.6 kB   </td><td>1.6 kB    </td><td>1.2 kB    </td><td>        </td><td>libs          </td><td>7.0 kB   </td></tr>\n",
       "<tr><td>dummy_threading                       </td><td>2.8 kB   </td><td>1.1 kB   </td><td>1.1 kB    </td><td>739 Bytes </td><td>        </td><td>libs          </td><td>5.8 kB   </td></tr>\n",
       "<tr><td>_bootlocale                           </td><td>1.8 kB   </td><td>1.2 kB   </td><td>1.2 kB    </td><td>994 Bytes </td><td>        </td><td>libs          </td><td>5.3 kB   </td></tr>\n",
       "<tr><td>this                                  </td><td>1.0 kB   </td><td>1.3 kB   </td><td>1.3 kB    </td><td>1.3 kB    </td><td>        </td><td>libs          </td><td>4.8 kB   </td></tr>\n",
       "<tr><td>tty                                   </td><td>879 Bytes</td><td>1.1 kB   </td><td>1.1 kB    </td><td>969 Bytes </td><td>        </td><td>libs          </td><td>4.0 kB   </td></tr>\n",
       "<tr><td>keyword                               </td><td>945 Bytes</td><td>1.0 kB   </td><td>1.0 kB    </td><td>573 Bytes </td><td>        </td><td>libs          </td><td>3.5 kB   </td></tr>\n",
       "<tr><td>antigravity                           </td><td>477 Bytes</td><td>799 Bytes</td><td>799 Bytes </td><td>655 Bytes </td><td>        </td><td>libs          </td><td>2.7 kB   </td></tr>\n",
       "<tr><td>decimal                               </td><td>320 Bytes</td><td>361 Bytes</td><td>361 Bytes </td><td>361 Bytes </td><td>        </td><td>libs          </td><td>1.4 kB   </td></tr>\n",
       "<tr><td>struct                                </td><td>257 Bytes</td><td>332 Bytes</td><td>332 Bytes </td><td>332 Bytes </td><td>        </td><td>libs          </td><td>1.3 kB   </td></tr>\n",
       "<tr><td>contextvars                           </td><td>129 Bytes</td><td>245 Bytes</td><td>245 Bytes </td><td>245 Bytes </td><td>        </td><td>libs          </td><td>864 Bytes</td></tr>\n",
       "<tr><td>__phello__                            </td><td>64 Bytes </td><td>129 Bytes</td><td>129 Bytes </td><td>129 Bytes </td><td>        </td><td>libs          </td><td>451 Bytes</td></tr>\n",
       "</tbody>\n",
       "</table>"
      ],
      "text/plain": [
       "<IPython.core.display.HTML object>"
      ]
     },
     "metadata": {},
     "output_type": "display_data"
    }
   ],
   "source": [
    "hdr = ['', '.py', '.pyc', '.opt-1.pyc', '.opt-2.pyc', '.so', 'package', 'total']\n",
    "display(HTML(tabulate.tabulate([hdr] + sizes, tablefmt='html')))"
   ]
  },
  {
   "cell_type": "code",
   "execution_count": null,
   "metadata": {},
   "outputs": [],
   "source": []
  }
 ],
 "metadata": {
  "kernelspec": {
   "display_name": "Python 3",
   "language": "python",
   "name": "python3"
  },
  "language_info": {
   "codemirror_mode": {
    "name": "ipython",
    "version": 3
   },
   "file_extension": ".py",
   "mimetype": "text/x-python",
   "name": "python",
   "nbconvert_exporter": "python",
   "pygments_lexer": "ipython3",
   "version": "3.8.0"
  }
 },
 "nbformat": 4,
 "nbformat_minor": 2
}
